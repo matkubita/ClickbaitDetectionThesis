{
 "cells": [
  {
   "cell_type": "markdown",
   "id": "f6d5b141-a9dc-4af1-b2af-9d1f1e08a803",
   "metadata": {},
   "source": [
    "## LLM - models - Chatgpt\n",
    "\n",
    "In this notebook I use OpenAI API (batch mode) to get:\n",
    "1. Direct answer about LLM's prediction if this is clickbait or not\n",
    "2. Embeddings from llm to build model based on this.\n",
    "\n",
    "Things that may be improved:\n",
    " 1. Embeddings\n",
    "    * try different embeddings dimensions (1000?, ...)\n",
    "    * fine tuning of RF or xGboost\n",
    " 2. Direct call\n",
    "     * play with prompt\n",
    "     * play with temperature, and other parameters of models "
   ]
  },
  {
   "cell_type": "code",
   "execution_count": 29,
   "id": "7fef4b3a-1e69-496b-9b71-62c10b09f508",
   "metadata": {},
   "outputs": [],
   "source": [
    "# TODO: change prompt to nice examples from x_train\n",
    "# TODO: -> LLM Models (chat gpt api, bert?)"
   ]
  },
  {
   "cell_type": "code",
   "execution_count": 4,
   "id": "c5250d76-8e66-4f78-a6a0-a44a464b29de",
   "metadata": {},
   "outputs": [
    {
     "name": "stderr",
     "output_type": "stream",
     "text": [
      "ERROR: Could not find a version that satisfies the requirement xgb (from versions: none)\n",
      "ERROR: No matching distribution found for xgb\n",
      "\n",
      "[notice] A new release of pip is available: 24.0 -> 24.3.1\n",
      "[notice] To update, run: C:\\Users\\Mateusz\\AppData\\Local\\Microsoft\\WindowsApps\\PythonSoftwareFoundation.Python.3.11_qbz5n2kfra8p0\\python.exe -m pip install --upgrade pip\n"
     ]
    }
   ],
   "source": [
    "!pip install xgb"
   ]
  },
  {
   "cell_type": "code",
   "execution_count": 6,
   "id": "6d9311ce-3eea-4648-a82d-2849921b3977",
   "metadata": {},
   "outputs": [
    {
     "ename": "NameError",
     "evalue": "name 'xgb' is not defined",
     "output_type": "error",
     "traceback": [
      "\u001b[1;31m---------------------------------------------------------------------------\u001b[0m",
      "\u001b[1;31mNameError\u001b[0m                                 Traceback (most recent call last)",
      "Cell \u001b[1;32mIn[6], line 1\u001b[0m\n\u001b[1;32m----> 1\u001b[0m \u001b[38;5;28mprint\u001b[39m(\u001b[43mxgb\u001b[49m\u001b[38;5;241m.\u001b[39m__version__)\n",
      "\u001b[1;31mNameError\u001b[0m: name 'xgb' is not defined"
     ]
    }
   ],
   "source": [
    "print(xgb.__version__)"
   ]
  },
  {
   "cell_type": "code",
   "execution_count": 30,
   "id": "3294832a-c5c8-4616-98f2-34b2f3ec4de9",
   "metadata": {},
   "outputs": [],
   "source": [
    "# DATA PROCESSING, VISUALIZATION\n",
    "import pandas as pd\n",
    "import matplotlib.pyplot as plt\n",
    "import numpy as np\n",
    "import random\n",
    "import seaborn as sns\n",
    "import string\n",
    "import re\n",
    "\n",
    "# MODELS, MODEL EVALUATION\n",
    "from openai import OpenAI\n",
    "import xgboost as xgb\n",
    "from sklearn.ensemble import RandomForestClassifier\n",
    "from sklearn.metrics import confusion_matrix, ConfusionMatrixDisplay\n",
    "from sklearn.model_selection import train_test_split\n",
    "from sklearn.metrics import accuracy_score\n",
    "from sklearn.metrics import classification_report\n",
    "from sklearn.model_selection import GridSearchCV\n",
    "\n",
    "import os\n",
    "import json\n",
    "from typing import List\n",
    "import requests\n",
    "import time\n",
    "from tqdm import tqdm"
   ]
  },
  {
   "cell_type": "code",
   "execution_count": 31,
   "id": "958af36f-9746-431d-a44f-50a003960699",
   "metadata": {},
   "outputs": [],
   "source": [
    "df_merged = pd.read_csv(\"../data/merged_datasetes_balanced_huge.csv\")"
   ]
  },
  {
   "cell_type": "code",
   "execution_count": 32,
   "id": "0544c477-c26e-4937-8702-29326fbd50a3",
   "metadata": {},
   "outputs": [],
   "source": [
    "%run 0-Function-Helper.ipynb"
   ]
  },
  {
   "cell_type": "code",
   "execution_count": 33,
   "id": "d84b8ec8-5204-4219-91bf-95f33f3fe0e8",
   "metadata": {},
   "outputs": [],
   "source": [
    "x_train, x_test, y_train, y_test = train_test_split(\n",
    "    df_merged[\"title\"], \n",
    "    df_merged[\"clickbait\"],\n",
    "    test_size=0.2, \n",
    "    random_state=42\n",
    ")\n",
    "\n",
    "x_test, x_val, y_test, y_val = train_test_split(\n",
    "    x_test, \n",
    "    y_test,\n",
    "    test_size=0.5,  # 50% of the original x_test size for validation\n",
    "    random_state=42,\n",
    "    stratify=y_test\n",
    ")"
   ]
  },
  {
   "cell_type": "markdown",
   "id": "1b38261d-dc8f-434a-b337-68fbd04f00ad",
   "metadata": {},
   "source": [
    "### Setting OpenAI "
   ]
  },
  {
   "cell_type": "code",
   "execution_count": 34,
   "id": "f7396fff-5d46-4890-8e30-77cde2c73472",
   "metadata": {},
   "outputs": [],
   "source": [
    "with open(\"../file_path.txt\", 'r') as file:\n",
    "    file_path = file.read()\n",
    "\n",
    "with open(file_path, 'r') as file:\n",
    "    api_key = file.read()\n",
    "\n",
    "client = OpenAI(\n",
    "    api_key=api_key,\n",
    ")"
   ]
  },
  {
   "cell_type": "markdown",
   "id": "cf435c58-063e-45c7-857b-e1b2f675ebb3",
   "metadata": {},
   "source": [
    "# Direct prompt "
   ]
  },
  {
   "cell_type": "code",
   "execution_count": 12,
   "id": "b1b18178-b702-4c17-94f1-ca136d590683",
   "metadata": {},
   "outputs": [],
   "source": [
    "indices = random.sample(range(len(x_train)), 50)\n",
    "x_train_sample = [x_train.iloc[i] for i in indices]\n",
    "y_train_sample = [y_train.iloc[i] for i in indices]"
   ]
  },
  {
   "cell_type": "code",
   "execution_count": 13,
   "id": "afe131cd-df62-4e96-b4a2-fd302f9d88da",
   "metadata": {},
   "outputs": [
    {
     "name": "stdout",
     "output_type": "stream",
     "text": [
      "x_train: Blind man puts camera on guide dog to expose daily abuse from commuters, y_train: 0\n",
      "x_train: Conan Dissects Donald Trump's Habit Of Taking Credit Where It Isn't Due, y_train: 0\n",
      "x_train: Hedge funds stoop to new lows after mishandling fees, accounts, y_train: 0\n",
      "x_train: Pope Expected to Address Role of Church in Canadian Abuses, y_train: 0\n",
      "x_train: 25 Faces You'll Recognise If You've Ever Had A Period, y_train: 1\n",
      "x_train: Princeton cancels men's swim season over \"vulgar\" posts, y_train: 1\n",
      "x_train: City Plans to Make Older Buildings Refit to Save Energy, y_train: 0\n",
      "x_train: Literally 100 Really Funny \"Game Of Thrones\" Memes, y_train: 1\n",
      "x_train: Police social media frenzy threatens to prejudice alleged child killer trial, y_train: 0\n",
      "x_train: Robots might be saving the world from a demographic disaster, y_train: 1\n",
      "x_train: 10 Christmas food traditions you've never heard of, y_train: 1\n",
      "x_train: Severe morning sickness — known as HG — can leave women starving, y_train: 0\n",
      "x_train: Your Horoscope For The Week Of November 16, y_train: 1\n",
      "x_train: Will's Story: Where opioid abuse and the dark web intersect , y_train: 1\n",
      "x_train: This Is (Kind Of) What It's Like To Be A Producer At BuzzFeed Motion Pictures, y_train: 1\n",
      "x_train: Qantas to Start Australia's First Nonstop Flight to Europe in 2018, y_train: 0\n",
      "x_train: 2 Chainz Announces The Release Date For 'Pretty Girls Like Trap Music', y_train: 0\n",
      "x_train: Australia's cherry season predicted to be expensive after unseasonably cold weather, y_train: 0\n",
      "x_train: Bruins Beat Hurricanes, 4-0, and Stay Alive, y_train: 0\n",
      "x_train: Here's A Look At The Illustrations Inside Jason Segel's Children's Books, y_train: 1\n",
      "x_train: We Know Your Age Based On Your Opinions About Disney Villains, y_train: 1\n",
      "x_train: 19 Pictures Non-Bitchy People Will Never Understand, y_train: 1\n",
      "x_train: What Was The Most Ridiculous Rumour That Went Around Your School, y_train: 1\n",
      "x_train: Keeping Pitchers Under Thumb at World Baseball Classic, y_train: 0\n",
      "x_train: Watch This Adorable Emu Try To Play Fetch, y_train: 1\n",
      "x_train: After Her Dad Was Jailed & Mom Remarried, This 5YO Has Been Taking Care Of Her Grandmothers!, y_train: 1\n",
      "x_train: Someone tried to mail a box of deadly horrors to Australia, and geez it's creepy, y_train: 1\n",
      "x_train: Ted Koppel to Sean Hannity: You Are ‘Bad for America’, y_train: 1\n",
      "x_train: House speaker gets firsthand look at US-Mexico border , y_train: 0\n",
      "x_train: The trick to persuading Trump? Flattery, proximity and snappy pitches, y_train: 0\n",
      "x_train: Harrowing moments after cop shot in Oklahoma caught on audio, video, y_train: 1\n",
      "x_train: Awesome Teacher Pranks Students With Gibberish-Filled Spelling Test, y_train: 1\n",
      "x_train: Here's What The Cast Of \"High School Musical\" Looks Like Now, y_train: 1\n",
      "x_train: 'Black boxes' pulled from Air India plane wreckage, y_train: 0\n",
      "x_train: Don't ignore your bad back - it could be a warning sign you will DIE young, y_train: 1\n",
      "x_train: Georgian Leader Faces Calls to Quit, y_train: 0\n",
      "x_train: Officials Set Timetable for Getting Particle Collider Back on Track, y_train: 0\n",
      "x_train: Red colored EU passports worry Lithuanian politicians, y_train: 0\n",
      "x_train: New Ferguson Video Adds Wrinkle to Michael Brown Case , y_train: 1\n",
      "x_train: Kremlin reportedly ordered state media to tone down Trump coverage , y_train: 0\n",
      "x_train: 27 Forgotten Trends All Early-'00s Girls Were Slightly Obsessed With, y_train: 1\n",
      "x_train: 30 Under 30 2017: Sports, y_train: 1\n",
      "x_train: Wondering About Your Job Application? The Best Way To Follow Up On Your Resume, y_train: 1\n",
      "x_train: Sam Smith's Cover Of Drake's \"Hotline Bling\" Is Everything, y_train: 1\n",
      "x_train: Jennifer Garner Visits Congress, Gives Emotional Testimony for Children in Poverty [Video], y_train: 0\n",
      "x_train: Youâre using your freezer wrong â hereâs the right way to stock frozen food, y_train: 1\n",
      "x_train: Al Gore: Global Warming a ‘Principal’ Cause of the Syrian Civil War, Brexit, y_train: 1\n",
      "x_train: Gilead to Buy CV Therapeutics for $1.4 Billion, y_train: 0\n",
      "x_train: Kenya herdsmen clash with police in land conflict, y_train: 0\n",
      "x_train: Johnson ousts Livingstone in London mayoral election, y_train: 0\n"
     ]
    }
   ],
   "source": [
    "combined_samples = list(zip(x_train_sample, y_train_sample))\n",
    "\n",
    "for x, y in combined_samples:\n",
    "    print(f\"x_train: {x}, y_train: {y}\")"
   ]
  },
  {
   "cell_type": "code",
   "execution_count": 14,
   "id": "9307baeb-5cd6-4b20-a4d9-f232ccfaeeb9",
   "metadata": {},
   "outputs": [
    {
     "data": {
      "text/plain": [
       "[0, 0, 0, 0, 1]"
      ]
     },
     "execution_count": 14,
     "metadata": {},
     "output_type": "execute_result"
    }
   ],
   "source": [
    "y_train_sample[:5]"
   ]
  },
  {
   "cell_type": "markdown",
   "id": "bc356043-cadc-4b22-aef9-ae668ada85b5",
   "metadata": {},
   "source": [
    "### CREATE REQUEST FILE FOR DIRECT PROMPT"
   ]
  },
  {
   "cell_type": "code",
   "execution_count": 15,
   "id": "97f06df6-66f7-4f73-8a83-26d55403558a",
   "metadata": {},
   "outputs": [],
   "source": [
    "def create_batch_request_to_open_ai_direct_prompt(\n",
    "    list_of_prompts: List[str],\n",
    "    system_prompt: str,\n",
    "    name_of_request_file: str,\n",
    "    description_of_request: str,   \n",
    "    temperature: None = 1, #between [0,2]. Default = 1, higher temperature leads to more random, while lower to more deterministic,\n",
    "    model: str = \"gpt-4o-mini\"\n",
    "):\n",
    "\n",
    "    dictionary = [{\n",
    "        \"custom_id\": f\"request{i}\", \n",
    "        \"method\": \"POST\", \n",
    "        \"url\": \"/v1/chat/completions\", \n",
    "        \"body\": {\"model\": model, \n",
    "                 \"messages\": [\n",
    "                     {\"role\": \"system\", \"content\": f\"{system_prompt}\"},\n",
    "                     {\"role\": \"user\", \"content\": prompt__}],\n",
    "                 \"max_tokens\": 1000,\n",
    "                 \"temperature\": temperature}\n",
    "    } for i, prompt__ in enumerate(list_of_prompts)]\n",
    "    \n",
    "    with open(f\"../request_files_openai/{name_of_request_file}.jsonl\", \"w\") as outfile:\n",
    "        for request__ in dictionary:\n",
    "            json.dump(request__, outfile)\n",
    "            outfile.write('\\n')\n",
    "    \n",
    "    \n",
    "    batch_input_file = client.files.create(\n",
    "      file=open(fr\"../request_files_openai/{name_of_request_file}.jsonl\", \"rb\"),\n",
    "      purpose=\"batch\"\n",
    "    )\n",
    "    \n",
    "    return client.batches.create(\n",
    "        input_file_id=batch_input_file.id,\n",
    "        endpoint=\"/v1/chat/completions\",\n",
    "        completion_window=\"24h\",\n",
    "        metadata={\n",
    "          \"description\": description_of_request\n",
    "        }\n",
    "    )"
   ]
  },
  {
   "cell_type": "code",
   "execution_count": 16,
   "id": "af1edda0-c325-4043-8d76-2f2c6b4167ae",
   "metadata": {},
   "outputs": [],
   "source": [
    "def save_direct_prompt_to_file_and_get_predictions(\n",
    "    result_file_id: str,\n",
    "    result_file_name: str\n",
    "):\n",
    "    result = client.files.content(result_file_id).content\n",
    "    result_file_name = f\"../request_files_openai/{result_file_name}.jsonl\"\n",
    "    \n",
    "    with open(result_file_name, 'wb') as file:\n",
    "        file.write(result)\n",
    "\n",
    "    pred = []\n",
    "    with open(result_file_name, 'r') as file:\n",
    "        i = 0\n",
    "        for line in file:\n",
    "            prediction_str = json.loads(line)['response']['body']['choices'][0]['message']['content'].replace(\".\",\"\")\n",
    "            try:\n",
    "                pred.append(int(prediction_str))\n",
    "            except Exception as e:\n",
    "                print(\"there was problem with this request. Output:\")\n",
    "                print(prediction_str)\n",
    "                print()\n",
    "                pred.append(0)\n",
    "                i+=1\n",
    "    print(f\"number of errors = {i}\")\n",
    "    return pred"
   ]
  },
  {
   "cell_type": "code",
   "execution_count": 17,
   "id": "19f21f7c-3157-478a-9f62-26a9b96e0471",
   "metadata": {},
   "outputs": [],
   "source": [
    "def create_batch_request_to_open_ai_embeddings(\n",
    "    list_of_texts: List[str],\n",
    "    name_of_request_file: str,\n",
    "    description_of_request: str,\n",
    "    dimensions: int = None,\n",
    "):\n",
    "    \"\"\"Function that creates .jsonl file with appropriate format and then sends call to create embeddings using batches\"\"\"\n",
    "    \n",
    "    dictionary_req = [{\n",
    "        \"custom_id\": f\"request{i}\", \n",
    "        \"method\": \"POST\", \n",
    "        \"url\": \"/v1/embeddings\", \n",
    "        \"body\": {\"model\": \"text-embedding-3-large\",\n",
    "                 \"input\": f\"{prompt}\",\n",
    "                 **({\"dimensions\": dimensions} if dimensions is not None else {})\n",
    "                }\n",
    "    } for i, prompt in enumerate(list_of_texts)]\n",
    "    \n",
    "    with open(f\"../request_files_openai/{name_of_request_file}.jsonl\", \"w\") as outfile:\n",
    "        for request__ in dictionary_req:\n",
    "            json.dump(request__, outfile)\n",
    "            outfile.write('\\n')\n",
    "    \n",
    "    batch_input_file = client.files.create(\n",
    "      file=open(fr\"../request_files_openai/{name_of_request_file}.jsonl\", \"rb\"),\n",
    "      purpose=\"batch\"\n",
    "    )\n",
    "    \n",
    "    return client.batches.create(\n",
    "        input_file_id=batch_input_file.id,\n",
    "        endpoint=\"/v1/embeddings\",\n",
    "        completion_window=\"24h\",\n",
    "        metadata={\n",
    "          \"description\": description_of_request\n",
    "        }\n",
    "    )\n",
    "    "
   ]
  },
  {
   "cell_type": "code",
   "execution_count": 18,
   "id": "da5044a0-4c82-4876-b387-f7e2bcc4475e",
   "metadata": {},
   "outputs": [],
   "source": [
    "def save_embeddings_to_file_and_get_predictions(\n",
    "    result_file_id: str,\n",
    "    result_file_name: str\n",
    "):\n",
    "    result = client.files.content(result_file_id).content\n",
    "    result_file_name = f\"../request_files_openai/{result_file_name}.jsonl\"\n",
    "    \n",
    "    with open(result_file_name, 'wb') as file:\n",
    "        file.write(result)\n",
    "\n",
    "    embeddings_x_df = []\n",
    "    with open(result_file_name, 'r') as file:\n",
    "        for line in tqdm(file):\n",
    "            emb = json.loads(line.strip())['response']['body']['data'][0]['embedding']\n",
    "            embeddings_x_df.append(emb)\n",
    "    return embeddings_x_df"
   ]
  },
  {
   "cell_type": "code",
   "execution_count": 19,
   "id": "b8cbccfc-d8f5-46d3-81ca-675418b602ab",
   "metadata": {},
   "outputs": [],
   "source": [
    "def return_embeddings_chat(prompt):\n",
    "    res = requests.post(f\"https://api.openai.com/v1/embeddings\",\n",
    "        headers = {\n",
    "          \"Content-Type\": \"application/json\",\n",
    "          \"Authorization\": f\"Bearer {api_key}\"\n",
    "        },\n",
    "        json={\n",
    "          \"model\": \"text-embedding-3-large\",\n",
    "          \"encoding_format\": \"float\",\n",
    "          \"input\": f\"{prompt}\"\n",
    "        }).json()\n",
    "    return res[\"data\"][0][\"embedding\"]"
   ]
  },
  {
   "cell_type": "code",
   "execution_count": 20,
   "id": "17f40825-2236-4492-a2ac-c9a92324dfa8",
   "metadata": {},
   "outputs": [],
   "source": [
    "def batch_embeddings(prompts, batch_size=250):\n",
    "    url = \"https://api.openai.com/v1/embeddings\"\n",
    "    headers = {\n",
    "        \"Content-Type\": \"application/json\",\n",
    "        \"Authorization\": f\"Bearer {api_key}\"\n",
    "    }\n",
    "    embeddings = []\n",
    "    for i in tqdm(range(0, len(prompts), batch_size), desc=\"Processing Batches\"):\n",
    "        batch = prompts[i:i + batch_size]\n",
    "        response = requests.post(url, headers=headers, json={\n",
    "            \"model\": \"text-embedding-3-large\",\n",
    "            \"encoding_format\": \"float\",\n",
    "            \"input\": batch\n",
    "        }).json()\n",
    "        embeddings.extend([item[\"embedding\"] for item in response[\"data\"]])\n",
    "    return embeddings"
   ]
  },
  {
   "cell_type": "code",
   "execution_count": 21,
   "id": "768dc01f-0f2e-4ed7-92ad-03d23912734f",
   "metadata": {},
   "outputs": [],
   "source": [
    "prompt_1_system = \"\"\"You are an assistant tasked with classifying article titles as either clickbait or legitimate. \n",
    "Your response should be precise and straightforward: respond with only \"1\" if the news title appears to be clickbait, and only \"0\" if it seems legitimate. \n",
    "Do not include any additional text, explanations, or reasoning in your response.\n",
    "\n",
    "Here are some examples:\n",
    "\n",
    "Title: \"23 Pictures That Will Make You Say \"Huh.\"\"\n",
    "Response: 1\n",
    "\n",
    "Title: \"The Most Moving Personal Essays You Needed To Read In 2015\"\n",
    "Response: 1\n",
    "\n",
    "Title: \"10 Life Hacks That Will Change the Way You Live Forever\"\n",
    "Response: 1\n",
    "\n",
    "Title: \"Government Announces New Infrastructure Plan for 2024\"\n",
    "Response: 0\n",
    "\n",
    "Title: \"The Shocking Truth Behind Your Morning Coffee!\"\n",
    "Response: 1\n",
    "\n",
    "Title: \"Local School Wins National Award for Academic Excellence\"\n",
    "Response: 0\n",
    "\"\"\"\n",
    "prompt_1_task = \"Here is the title that you need to classify: \"\n"
   ]
  },
  {
   "cell_type": "code",
   "execution_count": 22,
   "id": "01a4475b-f616-4880-ac37-7dd2cac3bee1",
   "metadata": {},
   "outputs": [],
   "source": [
    "prompts_val_1 = [str(prompt_1_task + title) for title in x_val.tolist()]"
   ]
  },
  {
   "cell_type": "code",
   "execution_count": 23,
   "id": "c7ea9fca-0b65-4353-9182-7886038a7118",
   "metadata": {},
   "outputs": [
    {
     "data": {
      "text/plain": [
       "['Here is the title that you need to classify: Crucifixes can be displayed in state schools, European court rules',\n",
       " \"Here is the title that you need to classify: Can 'antacids' tackle climate change? Scientists say aerosols could cool the planet without ozone damage\",\n",
       " \"Here is the title that you need to classify: My Best Friend's Wedding Might Be Getting A TV Show Sequel\"]"
      ]
     },
     "execution_count": 23,
     "metadata": {},
     "output_type": "execute_result"
    }
   ],
   "source": [
    "prompts_val_1[:3]"
   ]
  },
  {
   "cell_type": "markdown",
   "id": "1c55ec65-b25d-4bfe-aaac-c710981db85d",
   "metadata": {},
   "source": [
    "## Prompt 1 + gpt-4o-mini"
   ]
  },
  {
   "cell_type": "code",
   "execution_count": 31,
   "id": "d02d28b5-707e-4ce7-89ac-927320822e62",
   "metadata": {},
   "outputs": [
    {
     "name": "stdout",
     "output_type": "stream",
     "text": [
      "Batch(id='batch_674b560b09508190980ea1c904701433', completion_window='24h', created_at=1732990475, endpoint='/v1/chat/completions', input_file_id='file-Ld4DhPKnBuHE6M1psYqSHZ', object='batch', status='validating', cancelled_at=None, cancelling_at=None, completed_at=None, error_file_id=None, errors=None, expired_at=None, expires_at=1733076875, failed_at=None, finalizing_at=None, in_progress_at=None, metadata={'description': 'request_direct_val_1_30_11_2024'}, output_file_id=None, request_counts=BatchRequestCounts(completed=0, failed=0, total=0))\n"
     ]
    }
   ],
   "source": [
    "request_direct = create_batch_request_to_open_ai_direct_prompt(\n",
    "    list_of_prompts=prompts_val_1,\n",
    "    system_prompt=prompt_1_system,\n",
    "    name_of_request_file=\"request_direct_val_1_30_11_2024\",\n",
    "    description_of_request=\"request_direct_val_1_30_11_2024\",\n",
    ")\n",
    "print(client.batches.retrieve(request_direct.id))"
   ]
  },
  {
   "cell_type": "code",
   "execution_count": 47,
   "id": "712e27dd-5fa5-4a6a-9be3-b67979ea8f38",
   "metadata": {},
   "outputs": [
    {
     "name": "stdout",
     "output_type": "stream",
     "text": [
      "Batch(id='batch_674b560b09508190980ea1c904701433', completion_window='24h', created_at=1732990475, endpoint='/v1/chat/completions', input_file_id='file-Ld4DhPKnBuHE6M1psYqSHZ', object='batch', status='completed', cancelled_at=None, cancelling_at=None, completed_at=1732991944, error_file_id=None, errors=None, expired_at=None, expires_at=1733076875, failed_at=None, finalizing_at=1732991670, in_progress_at=1732990476, metadata={'description': 'request_direct_val_1_30_11_2024'}, output_file_id='file-EZrzkTHUeuAX4wAeF8qziU', request_counts=BatchRequestCounts(completed=4000, failed=0, total=4000))\n"
     ]
    }
   ],
   "source": [
    "print(client.batches.retrieve(\"batch_674b560b09508190980ea1c904701433\"))"
   ]
  },
  {
   "cell_type": "code",
   "execution_count": 48,
   "id": "a4255fdc-b854-42a1-b87f-480bd34d3151",
   "metadata": {},
   "outputs": [
    {
     "name": "stdout",
     "output_type": "stream",
     "text": [
      "number of errors = 0\n"
     ]
    }
   ],
   "source": [
    "pred = save_direct_prompt_to_file_and_get_predictions(\n",
    "    result_file_id=\"file-EZrzkTHUeuAX4wAeF8qziU\",\n",
    "    result_file_name=\"batch_result_val_30_11_2024_direct_prompt\"\n",
    ")"
   ]
  },
  {
   "cell_type": "code",
   "execution_count": 49,
   "id": "6ce1ee11-5418-450b-b221-619fdf930f8b",
   "metadata": {},
   "outputs": [
    {
     "name": "stdout",
     "output_type": "stream",
     "text": [
      "0.819 & 0.841 & 0.786 & 0.813 & None \\\n",
      "{'Accuracy': 0.81925, 'Precision': 0.8406652360515021, 'Recall': 0.7862518815855494, 'F1 Score': 0.8125486129115893, 'ROC-AUC': None}\n",
      "\n",
      "              precision    recall  f1-score   support\n",
      "\n",
      "           0       0.80      0.85      0.83      2007\n",
      "           1       0.84      0.79      0.81      1993\n",
      "\n",
      "    accuracy                           0.82      4000\n",
      "   macro avg       0.82      0.82      0.82      4000\n",
      "weighted avg       0.82      0.82      0.82      4000\n",
      "\n"
     ]
    },
    {
     "data": {
      "image/png": "[encoded data removed]",
      "text/plain": [
       "<Figure size 640x480 with 2 Axes>"
      ]
     },
     "metadata": {},
     "output_type": "display_data"
    }
   ],
   "source": [
    "create_summary_for_model_metrics(y_val, pred, None)"
   ]
  },
  {
   "cell_type": "code",
   "execution_count": null,
   "id": "36721a4f-346b-48ab-934b-0d240a806964",
   "metadata": {},
   "outputs": [],
   "source": [
    "#Unfortunately for our tier usage (tier 1) in open ai there is quota on number of tokens. E.g. model gpt-4 has low quota, and we cannot use it\n",
    "# See more; https://platform.openai.com/docs/guides/rate-limits?context=tier-one"
   ]
  },
  {
   "cell_type": "markdown",
   "id": "c5a958f1-8452-4e81-bf21-d053edbaa566",
   "metadata": {},
   "source": [
    "## Prompt 1 + gpt-3.5-turbo - EXPENSIVE!!!"
   ]
  },
  {
   "cell_type": "code",
   "execution_count": 33,
   "id": "6fa5b60c-0fb3-47cb-ab4b-af4eb7c616ff",
   "metadata": {},
   "outputs": [
    {
     "name": "stdout",
     "output_type": "stream",
     "text": [
      "Batch(id='batch_674b5657316881909cc9a4a2617eff84', completion_window='24h', created_at=1732990551, endpoint='/v1/chat/completions', input_file_id='file-Q5xKJP6PwnrdzZSSUnHEBV', object='batch', status='validating', cancelled_at=None, cancelling_at=None, completed_at=None, error_file_id=None, errors=None, expired_at=None, expires_at=1733076951, failed_at=None, finalizing_at=None, in_progress_at=None, metadata={'description': 'request_direct_val_1_examples_gpt_3_5_30_11_2024'}, output_file_id=None, request_counts=BatchRequestCounts(completed=0, failed=0, total=0))\n"
     ]
    }
   ],
   "source": [
    "request_direct = create_batch_request_to_open_ai_direct_prompt(\n",
    "    list_of_prompts=prompts_val_1,\n",
    "    system_prompt=prompt_1_system,\n",
    "    name_of_request_file=\"request_direct_val_1_examples_gpt_3_5_30_11_2024\",\n",
    "    description_of_request=\"request_direct_val_1_examples_gpt_3_5_30_11_2024\",\n",
    "    model=\"gpt-3.5-turbo\"\n",
    ")\n",
    "print(client.batches.retrieve(request_direct.id))"
   ]
  },
  {
   "cell_type": "code",
   "execution_count": 121,
   "id": "af4ee55f-33c5-4780-9a20-214bed241ebe",
   "metadata": {},
   "outputs": [
    {
     "name": "stdout",
     "output_type": "stream",
     "text": [
      "Batch(id='batch_674b5657316881909cc9a4a2617eff84', completion_window='24h', created_at=1732990551, endpoint='/v1/chat/completions', input_file_id='file-Q5xKJP6PwnrdzZSSUnHEBV', object='batch', status='completed', cancelled_at=None, cancelling_at=None, completed_at=1732999267, error_file_id=None, errors=None, expired_at=None, expires_at=1733076951, failed_at=None, finalizing_at=1732996823, in_progress_at=1732990552, metadata={'description': 'request_direct_val_1_examples_gpt_3_5_30_11_2024'}, output_file_id='file-Dn2T7asa7ua7tDBMkGP9Z8', request_counts=BatchRequestCounts(completed=4000, failed=0, total=4000))\n"
     ]
    }
   ],
   "source": [
    "print(client.batches.retrieve(\"batch_674b5657316881909cc9a4a2617eff84\"))"
   ]
  },
  {
   "cell_type": "code",
   "execution_count": 122,
   "id": "e6be122d-ded4-4354-83a9-8591ff825708",
   "metadata": {},
   "outputs": [
    {
     "name": "stdout",
     "output_type": "stream",
     "text": [
      "number of errors = 0\n"
     ]
    }
   ],
   "source": [
    "pred = save_direct_prompt_to_file_and_get_predictions(\n",
    "    result_file_id=\"file-Dn2T7asa7ua7tDBMkGP9Z8\",\n",
    "    result_file_name=\"batch_result_val_10_11_2024_direct_prompt_gpt_3_5_turbo_30_11_2024\"\n",
    ")"
   ]
  },
  {
   "cell_type": "code",
   "execution_count": 123,
   "id": "5012dc90-1a03-431e-924d-ab647c23e31f",
   "metadata": {},
   "outputs": [
    {
     "name": "stdout",
     "output_type": "stream",
     "text": [
      "0.742 & 0.679 & 0.914 & 0.779 & None \\\n",
      "{'Accuracy': 0.7415, 'Precision': 0.678584729981378, 'Recall': 0.9141996989463121, 'F1 Score': 0.7789653698161607, 'ROC-AUC': None}\n",
      "\n",
      "              precision    recall  f1-score   support\n",
      "\n",
      "           0       0.87      0.57      0.69      2007\n",
      "           1       0.68      0.91      0.78      1993\n",
      "\n",
      "    accuracy                           0.74      4000\n",
      "   macro avg       0.77      0.74      0.73      4000\n",
      "weighted avg       0.77      0.74      0.73      4000\n",
      "\n"
     ]
    },
    {
     "data": {
      "image/png": "[encoded data removed]",
      "text/plain": [
       "<Figure size 640x480 with 2 Axes>"
      ]
     },
     "metadata": {},
     "output_type": "display_data"
    }
   ],
   "source": [
    "create_summary_for_model_metrics(y_val, pred, None)"
   ]
  },
  {
   "cell_type": "markdown",
   "id": "3d0ffe30-4752-494a-8511-1399013a1387",
   "metadata": {},
   "source": [
    "## Prompt 1 + gpt-4o-mini + temperature = 0"
   ]
  },
  {
   "cell_type": "code",
   "execution_count": 35,
   "id": "7df776f0-04ed-4148-bd82-86d20a4f1158",
   "metadata": {},
   "outputs": [
    {
     "name": "stdout",
     "output_type": "stream",
     "text": [
      "Batch(id='batch_674b567d83748190b0a6813bc9f87ea6', completion_window='24h', created_at=1732990589, endpoint='/v1/chat/completions', input_file_id='file-R7yVoZtfEaqj2A4uGeUcha', object='batch', status='validating', cancelled_at=None, cancelling_at=None, completed_at=None, error_file_id=None, errors=None, expired_at=None, expires_at=1733076989, failed_at=None, finalizing_at=None, in_progress_at=None, metadata={'description': 'request_direct_val_1_temp_0_30_11_2024'}, output_file_id=None, request_counts=BatchRequestCounts(completed=0, failed=0, total=0))\n"
     ]
    }
   ],
   "source": [
    "request_direct = create_batch_request_to_open_ai_direct_prompt(\n",
    "    list_of_prompts=prompts_val_1,\n",
    "    system_prompt=prompt_1_system,\n",
    "    name_of_request_file=\"request_direct_val_1_temp_0_30_11_2024\",\n",
    "    description_of_request=\"request_direct_val_1_temp_0_30_11_2024\",\n",
    "    temperature=0\n",
    ")\n",
    "print(client.batches.retrieve(request_direct.id))"
   ]
  },
  {
   "cell_type": "code",
   "execution_count": 8,
   "id": "061a779c-d35a-4488-a21b-2e7456911501",
   "metadata": {},
   "outputs": [
    {
     "name": "stdout",
     "output_type": "stream",
     "text": [
      "Batch(id='batch_674b567d83748190b0a6813bc9f87ea6', completion_window='24h', created_at=1732990589, endpoint='/v1/chat/completions', input_file_id='file-R7yVoZtfEaqj2A4uGeUcha', object='batch', status='completed', cancelled_at=None, cancelling_at=None, completed_at=1733006681, error_file_id=None, errors=None, expired_at=None, expires_at=1733076989, failed_at=None, finalizing_at=1733006263, in_progress_at=1732990591, metadata={'description': 'request_direct_val_1_temp_0_30_11_2024'}, output_file_id='file-QFT3nXGrAfQC4E6p6VpFY6', request_counts=BatchRequestCounts(completed=4000, failed=0, total=4000))\n"
     ]
    }
   ],
   "source": [
    "print(client.batches.retrieve(\"batch_674b567d83748190b0a6813bc9f87ea6\"))"
   ]
  },
  {
   "cell_type": "code",
   "execution_count": 18,
   "id": "ad420783-cb26-4dd0-abf1-188b582ccbfa",
   "metadata": {},
   "outputs": [
    {
     "name": "stdout",
     "output_type": "stream",
     "text": [
      "number of errors = 0\n"
     ]
    }
   ],
   "source": [
    "pred = save_direct_prompt_to_file_and_get_predictions(\n",
    "    result_file_id=\"file-QFT3nXGrAfQC4E6p6VpFY6\",\n",
    "    result_file_name=\"batch_result_val_30_11_2024_direct_prompt_temperature_0\"\n",
    ")"
   ]
  },
  {
   "cell_type": "code",
   "execution_count": 44,
   "id": "4b52831c-2004-4f9a-b20c-dca39dc400b8",
   "metadata": {},
   "outputs": [
    {
     "name": "stdout",
     "output_type": "stream",
     "text": [
      "0.818 & 0.841 & 0.783 & 0.811 & None \\\n",
      "{'Accuracy': 0.81825, 'Precision': 0.8414239482200647, 'Recall': 0.7827395885599598, 'F1 Score': 0.8110215752534442, 'ROC-AUC': None}\n",
      "\n",
      "              precision    recall  f1-score   support\n",
      "\n",
      "           0       0.80      0.85      0.82      2007\n",
      "           1       0.84      0.78      0.81      1993\n",
      "\n",
      "    accuracy                           0.82      4000\n",
      "   macro avg       0.82      0.82      0.82      4000\n",
      "weighted avg       0.82      0.82      0.82      4000\n",
      "\n"
     ]
    },
    {
     "data": {
      "image/png": "[encoded data removed]",
      "text/plain": [
       "<Figure size 640x480 with 2 Axes>"
      ]
     },
     "metadata": {},
     "output_type": "display_data"
    }
   ],
   "source": [
    "create_summary_for_model_metrics(y_val, pred, None, export_matrix=\"conf_mat_direct\")"
   ]
  },
  {
   "cell_type": "code",
   "execution_count": null,
   "id": "386382b5-8401-4889-a031-063668423460",
   "metadata": {},
   "outputs": [],
   "source": [
    "#Conclusion: temperature does not influence model predictins much. \n",
    "# Very high temperature (max = 2) leads to more errors which are difficult to handle, \n",
    "# since model does not responde appropriately"
   ]
  },
  {
   "cell_type": "markdown",
   "id": "609050d3-9eb0-4ee2-b3d5-8c953cc6a7ce",
   "metadata": {},
   "source": [
    "## Prompt 1 + gpt-4o-mini + temperature = 2"
   ]
  },
  {
   "cell_type": "code",
   "execution_count": 20,
   "id": "05ac581e-5e08-4d92-8c17-dfeafa652889",
   "metadata": {},
   "outputs": [
    {
     "name": "stdout",
     "output_type": "stream",
     "text": [
      "Batch(id='batch_674c09bce334819096439f6703fa4757', completion_window='24h', created_at=1733036476, endpoint='/v1/chat/completions', input_file_id='file-PLye6wTBpSuPCGQP6xWtiL', object='batch', status='validating', cancelled_at=None, cancelling_at=None, completed_at=None, error_file_id=None, errors=None, expired_at=None, expires_at=1733122876, failed_at=None, finalizing_at=None, in_progress_at=None, metadata={'description': 'request_direct_val_1_temp_2_30_11_2024'}, output_file_id=None, request_counts=BatchRequestCounts(completed=0, failed=0, total=0))\n"
     ]
    }
   ],
   "source": [
    "request_direct = create_batch_request_to_open_ai_direct_prompt(\n",
    "    list_of_prompts=prompts_val_1,\n",
    "    system_prompt=prompt_1_system,\n",
    "    name_of_request_file=\"request_direct_val_1_temp_2_30_11_2024\",\n",
    "    description_of_request=\"request_direct_val_1_temp_2_30_11_2024\",\n",
    "    temperature=2\n",
    ")\n",
    "print(client.batches.retrieve(request_direct.id))"
   ]
  },
  {
   "cell_type": "code",
   "execution_count": 27,
   "id": "4dc955b6-8697-4221-babb-3884ade77a08",
   "metadata": {},
   "outputs": [
    {
     "name": "stdout",
     "output_type": "stream",
     "text": [
      "Batch(id='batch_674c09bce334819096439f6703fa4757', completion_window='24h', created_at=1733036476, endpoint='/v1/chat/completions', input_file_id='file-PLye6wTBpSuPCGQP6xWtiL', object='batch', status='completed', cancelled_at=None, cancelling_at=None, completed_at=1733038521, error_file_id=None, errors=None, expired_at=None, expires_at=1733122876, failed_at=None, finalizing_at=1733037967, in_progress_at=1733036478, metadata={'description': 'request_direct_val_1_temp_2_30_11_2024'}, output_file_id='file-K9NLpxLYAsQrui6REKvfRx', request_counts=BatchRequestCounts(completed=4000, failed=0, total=4000))\n"
     ]
    }
   ],
   "source": [
    "print(client.batches.retrieve(\"batch_674c09bce334819096439f6703fa4757\"))"
   ]
  },
  {
   "cell_type": "code",
   "execution_count": null,
   "id": "1392d6d2-c241-4c97-a330-e9ffcf2a3796",
   "metadata": {},
   "outputs": [],
   "source": [
    "pred = save_direct_prompt_to_file_and_get_predictions(\n",
    "    result_file_id=\"file-K9NLpxLYAsQrui6REKvfRx\",\n",
    "    result_file_name=\"batch_result_val_30_11_2024_direct_prompt_temperature_2\"\n",
    ")"
   ]
  },
  {
   "cell_type": "code",
   "execution_count": 29,
   "id": "04629647-d515-4fd3-9d51-55becaa8699e",
   "metadata": {},
   "outputs": [
    {
     "name": "stdout",
     "output_type": "stream",
     "text": [
      "0.798 & 0.841 & 0.735 & 0.784 & None \\\n",
      "{'Accuracy': 0.7985, 'Precision': 0.8408960367604825, 'Recall': 0.7345709984947315, 'F1 Score': 0.7841456882699518, 'ROC-AUC': None}\n",
      "\n",
      "              precision    recall  f1-score   support\n",
      "\n",
      "           0       0.77      0.86      0.81      2007\n",
      "           1       0.84      0.73      0.78      1993\n",
      "\n",
      "    accuracy                           0.80      4000\n",
      "   macro avg       0.80      0.80      0.80      4000\n",
      "weighted avg       0.80      0.80      0.80      4000\n",
      "\n"
     ]
    },
    {
     "data": {
      "image/png": "[encoded data removed]",
      "text/plain": [
       "<Figure size 640x480 with 2 Axes>"
      ]
     },
     "metadata": {},
     "output_type": "display_data"
    }
   ],
   "source": [
    "create_summary_for_model_metrics(y_val, pred, None)"
   ]
  },
  {
   "cell_type": "markdown",
   "id": "702d14f6-0495-4df7-8939-a48b5c3bbc90",
   "metadata": {},
   "source": [
    "## Prompt 2 (without examples)"
   ]
  },
  {
   "cell_type": "code",
   "execution_count": 37,
   "id": "529d4022-ffcb-4b29-9d3a-f410057bb9fa",
   "metadata": {},
   "outputs": [],
   "source": [
    "prompt_2_system = \"\"\"You are an assistant tasked with classifying article titles as either clickbait or legitimate. \n",
    "Your response should be precise and straightforward: respond with only \"1\" if the news title appears to be clickbait, and only \"0\" if it seems legitimate. \n",
    "Do not include any additional text, explanations, or reasoning in your response.\n",
    "\n",
    "\"\"\"\n",
    "prompt_2_task = \"Here is the title that you need to classify: \""
   ]
  },
  {
   "cell_type": "code",
   "execution_count": 38,
   "id": "9a02c139-7cc1-4bd4-a421-0a55d5a21af9",
   "metadata": {},
   "outputs": [],
   "source": [
    "prompts_val = [str(prompt_2_task + title) for title in x_val.tolist()]"
   ]
  },
  {
   "cell_type": "code",
   "execution_count": 53,
   "id": "0f888ee9-b3c2-4a6b-a5cb-a68772b18b27",
   "metadata": {},
   "outputs": [
    {
     "name": "stdout",
     "output_type": "stream",
     "text": [
      "Batch(id='batch_674b60a774f48190bdb7750e1d551f31', completion_window='24h', created_at=1732993191, endpoint='/v1/chat/completions', input_file_id='file-9td5Rq3ADCRbgfbuWoNnX9', object='batch', status='validating', cancelled_at=None, cancelling_at=None, completed_at=None, error_file_id=None, errors=None, expired_at=None, expires_at=1733079591, failed_at=None, finalizing_at=None, in_progress_at=None, metadata={'description': 'request_direct_val_1_without_examples_30_11_2024'}, output_file_id=None, request_counts=BatchRequestCounts(completed=0, failed=0, total=0))\n"
     ]
    }
   ],
   "source": [
    "request_direct = create_batch_request_to_open_ai_direct_prompt(\n",
    "    list_of_prompts=prompts_val,\n",
    "    system_prompt=prompt_2_system,\n",
    "    name_of_request_file=\"request_direct_val_1_without_examples_30_11_2024\",\n",
    "    description_of_request=\"request_direct_val_1_without_examples_30_11_2024\",\n",
    ")\n",
    "print(client.batches.retrieve(request_direct.id))"
   ]
  },
  {
   "cell_type": "code",
   "execution_count": 112,
   "id": "0c578fc8-78e7-4aca-a9b8-e19109fc36a5",
   "metadata": {},
   "outputs": [
    {
     "name": "stdout",
     "output_type": "stream",
     "text": [
      "Batch(id='batch_674b60a774f48190bdb7750e1d551f31', completion_window='24h', created_at=1732993191, endpoint='/v1/chat/completions', input_file_id='file-9td5Rq3ADCRbgfbuWoNnX9', object='batch', status='completed', cancelled_at=None, cancelling_at=None, completed_at=1733000351, error_file_id=None, errors=None, expired_at=None, expires_at=1733079591, failed_at=None, finalizing_at=1732999953, in_progress_at=1732993193, metadata={'description': 'request_direct_val_1_without_examples_30_11_2024'}, output_file_id='file-NaqMCcsdkjaXNVmN8aWzw6', request_counts=BatchRequestCounts(completed=4000, failed=0, total=4000))\n"
     ]
    }
   ],
   "source": [
    "print(client.batches.retrieve(\"batch_674b60a774f48190bdb7750e1d551f31\"))"
   ]
  },
  {
   "cell_type": "code",
   "execution_count": 113,
   "id": "6cedb7b3-9f49-4263-b0e6-80286b029a86",
   "metadata": {},
   "outputs": [
    {
     "name": "stdout",
     "output_type": "stream",
     "text": [
      "number of errors = 0\n"
     ]
    }
   ],
   "source": [
    "pred = save_direct_prompt_to_file_and_get_predictions(\n",
    "    result_file_id=\"file-NaqMCcsdkjaXNVmN8aWzw6\",\n",
    "    result_file_name=\"batch_result_train_30_11_2024_direct_prompt_without_examples\"\n",
    ")"
   ]
  },
  {
   "cell_type": "code",
   "execution_count": 114,
   "id": "5d4c6754-9a32-477b-9267-5c992a35f46d",
   "metadata": {},
   "outputs": [
    {
     "name": "stdout",
     "output_type": "stream",
     "text": [
      "0.772 & 0.849 & 0.659 & 0.742 & None \\\n",
      "{'Accuracy': 0.77175, 'Precision': 0.8492884864165589, 'Recall': 0.6588058203712995, 'F1 Score': 0.7420175190731844, 'ROC-AUC': None}\n",
      "\n",
      "              precision    recall  f1-score   support\n",
      "\n",
      "           0       0.72      0.88      0.80      2007\n",
      "           1       0.85      0.66      0.74      1993\n",
      "\n",
      "    accuracy                           0.77      4000\n",
      "   macro avg       0.79      0.77      0.77      4000\n",
      "weighted avg       0.79      0.77      0.77      4000\n",
      "\n"
     ]
    },
    {
     "data": {
      "image/png": "[encoded data removed]",
      "text/plain": [
       "<Figure size 640x480 with 2 Axes>"
      ]
     },
     "metadata": {},
     "output_type": "display_data"
    }
   ],
   "source": [
    "create_summary_for_model_metrics(y_val, pred, None)"
   ]
  },
  {
   "cell_type": "markdown",
   "id": "4f5b5911-5c74-4e1a-9fa4-014473e3d234",
   "metadata": {},
   "source": [
    "# Embeddings"
   ]
  },
  {
   "cell_type": "markdown",
   "id": "e25b0e52-08dc-4407-952d-17d2e69e99f4",
   "metadata": {},
   "source": [
    "## Getting embeddings for train"
   ]
  },
  {
   "cell_type": "code",
   "execution_count": 51,
   "id": "753a0229-ace8-4190-a545-7becc8ed08c6",
   "metadata": {},
   "outputs": [
    {
     "name": "stdout",
     "output_type": "stream",
     "text": [
      "Batch(id='batch_673084929d8481908234c51ca8a6d5c0', completion_window='24h', created_at=1731232914, endpoint='/v1/embeddings', input_file_id='file-dCIUNKzm2wEXHymP89cGc0ts', object='batch', status='validating', cancelled_at=None, cancelling_at=None, completed_at=None, error_file_id=None, errors=None, expired_at=None, expires_at=1731319314, failed_at=None, finalizing_at=None, in_progress_at=None, metadata={'description': 'request_embeddings_train_2_10_11_2024'}, output_file_id=None, request_counts=BatchRequestCounts(completed=0, failed=0, total=0))\n"
     ]
    }
   ],
   "source": [
    "batch_request_train = create_batch_request_to_open_ai_embeddings(\n",
    "    list_of_texts = x_train.tolist(),\n",
    "    name_of_request_file = \"request_embeddings_train_2_10_11_2024\",\n",
    "    description_of_request = \"request_embeddings_train_2_10_11_2024\"\n",
    ")\n",
    "print(batch_request_train)"
   ]
  },
  {
   "cell_type": "code",
   "execution_count": 89,
   "id": "923e6bbe-e226-4e77-8397-40edf3c592e3",
   "metadata": {},
   "outputs": [
    {
     "name": "stdout",
     "output_type": "stream",
     "text": [
      "Batch(id='batch_673084929d8481908234c51ca8a6d5c0', completion_window='24h', created_at=1731232914, endpoint='/v1/embeddings', input_file_id='file-dCIUNKzm2wEXHymP89cGc0ts', object='batch', status='completed', cancelled_at=None, cancelling_at=None, completed_at=1731238136, error_file_id=None, errors=None, expired_at=None, expires_at=1731319314, failed_at=None, finalizing_at=1731236163, in_progress_at=1731232921, metadata={'description': 'request_embeddings_train_2_10_11_2024'}, output_file_id='file-So6hTX0v7wtZsDLLAwxeXZ4R', request_counts=BatchRequestCounts(completed=32000, failed=0, total=32000))\n"
     ]
    }
   ],
   "source": [
    "print(client.batches.retrieve(\"batch_673084929d8481908234c51ca8a6d5c0\"))"
   ]
  },
  {
   "cell_type": "code",
   "execution_count": null,
   "id": "6fb13908-d5aa-4f0e-96f1-8eb1ec55cc63",
   "metadata": {},
   "outputs": [],
   "source": [
    "embeddings_x_train_df = save_embeddings_to_file_and_get_predictions(\n",
    "    result_file_id=\"file-So6hTX0v7wtZsDLLAwxeXZ4R\",\n",
    "    result_file_name=\"batch_result_train_10_11_2024\"\n",
    ")\n",
    "len(embeddings_x_train_df[0])"
   ]
  },
  {
   "cell_type": "code",
   "execution_count": 10,
   "id": "885071fd-cf7b-4659-852e-e0bb5fe0ba42",
   "metadata": {},
   "outputs": [
    {
     "name": "stderr",
     "output_type": "stream",
     "text": [
      "32000it [00:33, 945.60it/s] \n"
     ]
    }
   ],
   "source": [
    "result_file_name = f\"../request_files_openai/batch_result_train_10_11_2024.jsonl\"\n",
    "embeddings_x_train_df = []\n",
    "with open(result_file_name, 'r') as file:\n",
    "    for line in tqdm(file):\n",
    "        emb = json.loads(line.strip())['response']['body']['data'][0]['embedding']\n",
    "        embeddings_x_train_df.append(emb)"
   ]
  },
  {
   "cell_type": "markdown",
   "id": "2c5a506e-075b-4ed2-9598-ca3a5b1d73a1",
   "metadata": {},
   "source": [
    "## Getting embeddings for val"
   ]
  },
  {
   "cell_type": "code",
   "execution_count": 64,
   "id": "ceefc613-8661-4833-957f-40549fe91a5a",
   "metadata": {},
   "outputs": [
    {
     "name": "stdout",
     "output_type": "stream",
     "text": [
      "Batch(id='batch_672fa08e2e5c81909d6ac8306ab1c7ae', completion_window='24h', created_at=1731174542, endpoint='/v1/embeddings', input_file_id='file-P1ARKk3l9ElzZTdx8tRfa57U', object='batch', status='validating', cancelled_at=None, cancelling_at=None, completed_at=None, error_file_id=None, errors=None, expired_at=None, expires_at=1731260942, failed_at=None, finalizing_at=None, in_progress_at=None, metadata={'description': 'request_embeddings_val_1'}, output_file_id=None, request_counts=BatchRequestCounts(completed=0, failed=0, total=0))\n"
     ]
    }
   ],
   "source": [
    "batch_request_val = create_batch_request_to_open_ai_embeddings(\n",
    "    list_of_texts = x_val.tolist(),\n",
    "    name_of_request_file = \"request_embeddings_val_1\",\n",
    "    description_of_request = \"request_embeddings_val_1\"\n",
    ")\n",
    "print(batch_request_val)"
   ]
  },
  {
   "cell_type": "code",
   "execution_count": 46,
   "id": "27f4e640-51e6-4405-a907-af1b7237f1a4",
   "metadata": {},
   "outputs": [
    {
     "name": "stdout",
     "output_type": "stream",
     "text": [
      "Batch(id='batch_672fa08e2e5c81909d6ac8306ab1c7ae', completion_window='24h', created_at=1731174542, endpoint='/v1/embeddings', input_file_id='file-P1ARKk3l9ElzZTdx8tRfa57U', object='batch', status='completed', cancelled_at=None, cancelling_at=None, completed_at=1731175943, error_file_id=None, errors=None, expired_at=None, expires_at=1731260942, failed_at=None, finalizing_at=1731175703, in_progress_at=1731174543, metadata={'description': 'request_embeddings_val_1'}, output_file_id='file-Jp0FRzL4HbA1eO6SsWCHCMSc', request_counts=BatchRequestCounts(completed=4000, failed=0, total=4000))\n"
     ]
    }
   ],
   "source": [
    "print(client.batches.retrieve(\"batch_672fa08e2e5c81909d6ac8306ab1c7ae\"))"
   ]
  },
  {
   "cell_type": "code",
   "execution_count": null,
   "id": "db58b96e-19a8-4680-a49c-67491ed9b81a",
   "metadata": {},
   "outputs": [],
   "source": [
    "embeddings_x_val_df = save_embeddings_to_file_and_get_predictions(\n",
    "    result_file_id=\"file-Jp0FRzL4HbA1eO6SsWCHCMSc\",\n",
    "    result_file_name=\"batch_result_val_10_11_2024\"\n",
    ")\n",
    "len(embeddings_x_val_df[0])"
   ]
  },
  {
   "cell_type": "code",
   "execution_count": 9,
   "id": "f049f8ff-eefb-42cd-b7c3-0e60c197085e",
   "metadata": {},
   "outputs": [
    {
     "name": "stderr",
     "output_type": "stream",
     "text": [
      "4000it [00:04, 936.32it/s] \n"
     ]
    }
   ],
   "source": [
    "result_file_name = f\"../request_files_openai/batch_result_val_10_11_2024.jsonl\"\n",
    "embeddings_x_val_df = []\n",
    "with open(result_file_name, 'r') as file:\n",
    "    for line in tqdm(file):\n",
    "        emb = json.loads(line.strip())['response']['body']['data'][0]['embedding']\n",
    "        embeddings_x_val_df.append(emb)"
   ]
  },
  {
   "cell_type": "code",
   "execution_count": null,
   "id": "4922f514-cd5f-4adc-8886-8824eca3835a",
   "metadata": {},
   "outputs": [],
   "source": [
    "len(embeddings_x_train_df[0]"
   ]
  },
  {
   "cell_type": "markdown",
   "id": "ea7c7813-675f-4743-a7b0-2164a4908d18",
   "metadata": {},
   "source": [
    "# Model fitting with embeddings"
   ]
  },
  {
   "cell_type": "markdown",
   "id": "bbbe939f-a0c2-41c6-84b0-5abb473bb225",
   "metadata": {},
   "source": [
    "## RandomForest"
   ]
  },
  {
   "cell_type": "code",
   "execution_count": 11,
   "id": "1249f186-e0f4-4c0e-93a5-4ee64aec6cf0",
   "metadata": {},
   "outputs": [
    {
     "name": "stdout",
     "output_type": "stream",
     "text": [
      "0.86 & 0.881 & 0.831 & 0.855 & 0.932 \\\n",
      "{'Accuracy': 0.85975, 'Precision': 0.8808510638297873, 'Recall': 0.8309081786251882, 'F1 Score': 0.855151045701007, 'ROC-AUC': 0.9323707965422577}\n",
      "\n",
      "              precision    recall  f1-score   support\n",
      "\n",
      "           0       0.84      0.89      0.86      2007\n",
      "           1       0.88      0.83      0.86      1993\n",
      "\n",
      "    accuracy                           0.86      4000\n",
      "   macro avg       0.86      0.86      0.86      4000\n",
      "weighted avg       0.86      0.86      0.86      4000\n",
      "\n"
     ]
    },
    {
     "data": {
      "image/png": "[encoded data removed]",
      "text/plain": [
       "<Figure size 640x480 with 2 Axes>"
      ]
     },
     "metadata": {},
     "output_type": "display_data"
    }
   ],
   "source": [
    "RF = RandomForestClassifier(random_state = 0)\n",
    "RF.fit(embeddings_x_train_df, y_train)\n",
    "pred_rf = RF.predict(embeddings_x_val_df)\n",
    "pred_rf_prob = RF.predict_proba(embeddings_x_val_df)\n",
    "create_summary_for_model_metrics(y_val, pred_rf, pred_rf_prob[:,1])"
   ]
  },
  {
   "cell_type": "markdown",
   "id": "5fe8370c-9120-43eb-90a9-6fdc7421477f",
   "metadata": {},
   "source": [
    "### Xgboost"
   ]
  },
  {
   "cell_type": "code",
   "execution_count": 12,
   "id": "7a13e615-e524-4c07-adc7-cc6c12b32c5a",
   "metadata": {},
   "outputs": [
    {
     "name": "stdout",
     "output_type": "stream",
     "text": [
      "0.866 & 0.877 & 0.851 & 0.864 & 0.938 \\\n",
      "{'Accuracy': 0.8665, 'Precision': 0.8770025839793282, 'Recall': 0.8514801806322128, 'F1 Score': 0.8640529531568228, 'ROC-AUC': 0.9375123595264041}\n",
      "\n",
      "              precision    recall  f1-score   support\n",
      "\n",
      "           0       0.86      0.88      0.87      2007\n",
      "           1       0.88      0.85      0.86      1993\n",
      "\n",
      "    accuracy                           0.87      4000\n",
      "   macro avg       0.87      0.87      0.87      4000\n",
      "weighted avg       0.87      0.87      0.87      4000\n",
      "\n"
     ]
    },
    {
     "data": {
      "image/png": "[encoded data removed]",
      "text/plain": [
       "<Figure size 640x480 with 2 Axes>"
      ]
     },
     "metadata": {},
     "output_type": "display_data"
    }
   ],
   "source": [
    "xgb_model = xgb.XGBClassifier(random_state = 0)\n",
    "xgb_model.fit(embeddings_x_train_df, y_train)\n",
    "pred_xgb = xgb_model.predict(embeddings_x_val_df)\n",
    "pred_xgb_prob = xgb_model.predict_proba(embeddings_x_val_df)\n",
    "create_summary_for_model_metrics(y_val, pred_xgb, pred_xgb_prob[:,1])"
   ]
  },
  {
   "cell_type": "markdown",
   "id": "e652c95a-7b29-48c8-9123-70542eb72a5b",
   "metadata": {},
   "source": [
    "## Embeddings - 1000 dimensions "
   ]
  },
  {
   "cell_type": "markdown",
   "id": "d0a8c9d6-c7fe-4112-882d-825c1173f8b9",
   "metadata": {},
   "source": [
    "## TRAIN"
   ]
  },
  {
   "cell_type": "code",
   "execution_count": 99,
   "id": "ffae0e50-bfed-4b83-a205-bc2a05533c3c",
   "metadata": {},
   "outputs": [
    {
     "name": "stdout",
     "output_type": "stream",
     "text": [
      "Batch(id='batch_6730a5575a048190a3491725d79c96b6', completion_window='24h', created_at=1731241303, endpoint='/v1/embeddings', input_file_id='file-Zfyf4wRSxtr4kzxwkXkKQT4A', object='batch', status='validating', cancelled_at=None, cancelling_at=None, completed_at=None, error_file_id=None, errors=None, expired_at=None, expires_at=1731327703, failed_at=None, finalizing_at=None, in_progress_at=None, metadata={'description': 'request_embeddings_train_2_10_11_2024_1000_dimensions'}, output_file_id=None, request_counts=BatchRequestCounts(completed=0, failed=0, total=0))\n"
     ]
    }
   ],
   "source": [
    "batch_request_train = create_batch_request_to_open_ai_embeddings(\n",
    "    list_of_texts = x_train.tolist(),\n",
    "    name_of_request_file = \"request_embeddings_train_2_10_11_2024_1000_dimensions\",\n",
    "    description_of_request = \"request_embeddings_train_2_10_11_2024_1000_dimensions\",\n",
    "    dimensions = 1000\n",
    ")\n",
    "print(batch_request_train)"
   ]
  },
  {
   "cell_type": "code",
   "execution_count": 156,
   "id": "7302d37c-99bb-47d2-bf0b-b7faf711c123",
   "metadata": {},
   "outputs": [
    {
     "name": "stdout",
     "output_type": "stream",
     "text": [
      "Batch(id='batch_6730a5575a048190a3491725d79c96b6', completion_window='24h', created_at=1731241303, endpoint='/v1/embeddings', input_file_id='file-Zfyf4wRSxtr4kzxwkXkKQT4A', object='batch', status='completed', cancelled_at=None, cancelling_at=None, completed_at=1731246542, error_file_id=None, errors=None, expired_at=None, expires_at=1731327703, failed_at=None, finalizing_at=1731244607, in_progress_at=1731241310, metadata={'description': 'request_embeddings_train_2_10_11_2024_1000_dimensions'}, output_file_id='file-PhgvSwKsX7R3ab5TDFagIsdh', request_counts=BatchRequestCounts(completed=32000, failed=0, total=32000))\n"
     ]
    }
   ],
   "source": [
    "print(client.batches.retrieve(\"batch_6730a5575a048190a3491725d79c96b6\"))"
   ]
  },
  {
   "cell_type": "code",
   "execution_count": 21,
   "id": "cdd32642-215f-47cd-8080-4bbad03bd1bc",
   "metadata": {},
   "outputs": [
    {
     "ename": "NameError",
     "evalue": "name 'save_embeddings_to_file_and_get_predictions' is not defined",
     "output_type": "error",
     "traceback": [
      "\u001b[1;31m---------------------------------------------------------------------------\u001b[0m",
      "\u001b[1;31mNameError\u001b[0m                                 Traceback (most recent call last)",
      "Cell \u001b[1;32mIn[21], line 1\u001b[0m\n\u001b[1;32m----> 1\u001b[0m embeddings_x_train_df \u001b[38;5;241m=\u001b[39m \u001b[43msave_embeddings_to_file_and_get_predictions\u001b[49m(\n\u001b[0;32m      2\u001b[0m     result_file_id\u001b[38;5;241m=\u001b[39m\u001b[38;5;124m\"\u001b[39m\u001b[38;5;124mfile-PhgvSwKsX7R3ab5TDFagIsdh\u001b[39m\u001b[38;5;124m\"\u001b[39m,\n\u001b[0;32m      3\u001b[0m     result_file_name\u001b[38;5;241m=\u001b[39m\u001b[38;5;124m\"\u001b[39m\u001b[38;5;124mbatch_result_train_10_11_2024_1000_dimensions\u001b[39m\u001b[38;5;124m\"\u001b[39m\n\u001b[0;32m      4\u001b[0m )\n\u001b[0;32m      5\u001b[0m \u001b[38;5;28mlen\u001b[39m(embeddings_x_train_df[\u001b[38;5;241m0\u001b[39m])\n",
      "\u001b[1;31mNameError\u001b[0m: name 'save_embeddings_to_file_and_get_predictions' is not defined"
     ]
    }
   ],
   "source": [
    "embeddings_x_train_df = save_embeddings_to_file_and_get_predictions(\n",
    "    result_file_id=\"file-PhgvSwKsX7R3ab5TDFagIsdh\",\n",
    "    result_file_name=\"batch_result_train_10_11_2024_1000_dimensions\"\n",
    ")\n",
    "len(embeddings_x_train_df[0])"
   ]
  },
  {
   "cell_type": "code",
   "execution_count": 9,
   "id": "af599830-0083-4755-a8c1-9d1a4ef2ce92",
   "metadata": {},
   "outputs": [
    {
     "name": "stderr",
     "output_type": "stream",
     "text": [
      "32000it [00:11, 2734.11it/s]\n"
     ]
    }
   ],
   "source": [
    "result_file_name = f\"../request_files_openai/batch_result_train_10_11_2024_1000_dimensions.jsonl\"\n",
    "embeddings_x_train_df = []\n",
    "with open(result_file_name, 'r') as file:\n",
    "    for line in tqdm(file):\n",
    "        emb = json.loads(line.strip())['response']['body']['data'][0]['embedding']\n",
    "        embeddings_x_train_df.append(emb)"
   ]
  },
  {
   "cell_type": "markdown",
   "id": "489df14d-d998-450c-9350-e6dc579506be",
   "metadata": {},
   "source": [
    "## VAL"
   ]
  },
  {
   "cell_type": "code",
   "execution_count": 135,
   "id": "f0704807-d7ed-4846-bd17-32abfd772fef",
   "metadata": {},
   "outputs": [
    {
     "name": "stdout",
     "output_type": "stream",
     "text": [
      "Batch(id='batch_6730b41df5548190b56067c0d0f5070b', completion_window='24h', created_at=1731245086, endpoint='/v1/embeddings', input_file_id='file-1jNDZSvLYA5qhyy4Q9sIFkDh', object='batch', status='validating', cancelled_at=None, cancelling_at=None, completed_at=None, error_file_id=None, errors=None, expired_at=None, expires_at=1731331486, failed_at=None, finalizing_at=None, in_progress_at=None, metadata={'description': 'request_embeddings_val_2_10_11_2024_1000_dimensions'}, output_file_id=None, request_counts=BatchRequestCounts(completed=0, failed=0, total=0))\n"
     ]
    }
   ],
   "source": [
    "batch_request_val = create_batch_request_to_open_ai_embeddings(\n",
    "    list_of_texts = x_val.tolist(),\n",
    "    name_of_request_file = \"request_embeddings_val_2_10_11_2024_1000_dimensions\",\n",
    "    description_of_request = \"request_embeddings_val_2_10_11_2024_1000_dimensions\",\n",
    "    dimensions = 1000\n",
    ")\n",
    "print(batch_request_val)"
   ]
  },
  {
   "cell_type": "code",
   "execution_count": 152,
   "id": "d0055f90-08c5-4880-8dc8-47f80042e492",
   "metadata": {},
   "outputs": [
    {
     "name": "stdout",
     "output_type": "stream",
     "text": [
      "Batch(id='batch_6730b41df5548190b56067c0d0f5070b', completion_window='24h', created_at=1731245086, endpoint='/v1/embeddings', input_file_id='file-1jNDZSvLYA5qhyy4Q9sIFkDh', object='batch', status='completed', cancelled_at=None, cancelling_at=None, completed_at=1731246645, error_file_id=None, errors=None, expired_at=None, expires_at=1731331486, failed_at=None, finalizing_at=1731246410, in_progress_at=1731245087, metadata={'description': 'request_embeddings_val_2_10_11_2024_1000_dimensions'}, output_file_id='file-sDncyxaYQs1sTMW0Dfmp0Cnz', request_counts=BatchRequestCounts(completed=4000, failed=0, total=4000))\n"
     ]
    }
   ],
   "source": [
    "print(client.batches.retrieve(\"batch_6730b41df5548190b56067c0d0f5070b\"))"
   ]
  },
  {
   "cell_type": "code",
   "execution_count": 23,
   "id": "e63b3a6d-ef33-457c-a697-5a80aa9c977a",
   "metadata": {},
   "outputs": [
    {
     "ename": "NameError",
     "evalue": "name 'save_embeddings_to_file_and_get_predictions' is not defined",
     "output_type": "error",
     "traceback": [
      "\u001b[1;31m---------------------------------------------------------------------------\u001b[0m",
      "\u001b[1;31mNameError\u001b[0m                                 Traceback (most recent call last)",
      "Cell \u001b[1;32mIn[23], line 1\u001b[0m\n\u001b[1;32m----> 1\u001b[0m embeddings_x_val_df \u001b[38;5;241m=\u001b[39m \u001b[43msave_embeddings_to_file_and_get_predictions\u001b[49m(\n\u001b[0;32m      2\u001b[0m     result_file_id\u001b[38;5;241m=\u001b[39m\u001b[38;5;124m\"\u001b[39m\u001b[38;5;124mfile-sDncyxaYQs1sTMW0Dfmp0Cnz\u001b[39m\u001b[38;5;124m\"\u001b[39m,\n\u001b[0;32m      3\u001b[0m     result_file_name\u001b[38;5;241m=\u001b[39m\u001b[38;5;124m\"\u001b[39m\u001b[38;5;124mbatch_result_val_10_11_2024_1000_dimensions\u001b[39m\u001b[38;5;124m\"\u001b[39m\n\u001b[0;32m      4\u001b[0m )\n\u001b[0;32m      5\u001b[0m \u001b[38;5;28mlen\u001b[39m(embeddings_x_val_df[\u001b[38;5;241m0\u001b[39m])\n",
      "\u001b[1;31mNameError\u001b[0m: name 'save_embeddings_to_file_and_get_predictions' is not defined"
     ]
    }
   ],
   "source": [
    "embeddings_x_val_df = save_embeddings_to_file_and_get_predictions(\n",
    "    result_file_id=\"file-sDncyxaYQs1sTMW0Dfmp0Cnz\",\n",
    "    result_file_name=\"batch_result_val_10_11_2024_1000_dimensions\"\n",
    ")\n",
    "len(embeddings_x_val_df[0])"
   ]
  },
  {
   "cell_type": "code",
   "execution_count": 10,
   "id": "efc895dc-8263-4ab0-9442-2dfc189cf40a",
   "metadata": {},
   "outputs": [
    {
     "name": "stderr",
     "output_type": "stream",
     "text": [
      "4000it [00:01, 2808.93it/s]\n"
     ]
    }
   ],
   "source": [
    "result_file_name = f\"../request_files_openai/batch_result_val_10_11_2024_1000_dimensions.jsonl\"\n",
    "embeddings_x_val_df = []\n",
    "with open(result_file_name, 'r') as file:\n",
    "    for line in tqdm(file):\n",
    "        emb = json.loads(line.strip())['response']['body']['data'][0]['embedding']\n",
    "        embeddings_x_val_df.append(emb)"
   ]
  },
  {
   "cell_type": "code",
   "execution_count": 11,
   "id": "4e67bc9e-3950-4cf4-9660-d4d4a537a0d1",
   "metadata": {},
   "outputs": [
    {
     "name": "stdout",
     "output_type": "stream",
     "text": [
      "0.858 & 0.876 & 0.832 & 0.853 & 0.931 \\\n",
      "{'Accuracy': 0.8575, 'Precision': 0.8758584257791865, 'Recall': 0.8319116909182137, 'F1 Score': 0.8533196088522902, 'ROC-AUC': 0.9309964047059577}\n",
      "\n",
      "              precision    recall  f1-score   support\n",
      "\n",
      "           0       0.84      0.88      0.86      2007\n",
      "           1       0.88      0.83      0.85      1993\n",
      "\n",
      "    accuracy                           0.86      4000\n",
      "   macro avg       0.86      0.86      0.86      4000\n",
      "weighted avg       0.86      0.86      0.86      4000\n",
      "\n"
     ]
    },
    {
     "data": {
      "image/png": "[encoded data removed]",
      "text/plain": [
       "<Figure size 640x480 with 2 Axes>"
      ]
     },
     "metadata": {},
     "output_type": "display_data"
    }
   ],
   "source": [
    "RF = RandomForestClassifier(random_state = 0)\n",
    "RF.fit(embeddings_x_train_df, y_train)\n",
    "pred_rf = RF.predict(embeddings_x_val_df)\n",
    "pred_rf_prob = RF.predict_proba(embeddings_x_val_df)\n",
    "create_summary_for_model_metrics(y_val, pred_rf, pred_rf_prob[:,1])"
   ]
  },
  {
   "cell_type": "code",
   "execution_count": 12,
   "id": "621a527b-ebd7-49a7-ac86-56091a490cca",
   "metadata": {},
   "outputs": [
    {
     "name": "stdout",
     "output_type": "stream",
     "text": [
      "0.86 & 0.866 & 0.849 & 0.858 & 0.934 \\\n",
      "{'Accuracy': 0.8595, 'Precision': 0.8659846547314578, 'Recall': 0.8494731560461616, 'F1 Score': 0.8576494427558258, 'ROC-AUC': 0.9342329443535684}\n",
      "\n",
      "              precision    recall  f1-score   support\n",
      "\n",
      "           0       0.85      0.87      0.86      2007\n",
      "           1       0.87      0.85      0.86      1993\n",
      "\n",
      "    accuracy                           0.86      4000\n",
      "   macro avg       0.86      0.86      0.86      4000\n",
      "weighted avg       0.86      0.86      0.86      4000\n",
      "\n"
     ]
    },
    {
     "data": {
      "image/png": "[encoded data removed]",
      "text/plain": [
       "<Figure size 640x480 with 2 Axes>"
      ]
     },
     "metadata": {},
     "output_type": "display_data"
    }
   ],
   "source": [
    "xgb_model = xgb.XGBClassifier(random_state = 0)\n",
    "xgb_model.fit(embeddings_x_train_df, y_train)\n",
    "pred_xgb = xgb_model.predict(embeddings_x_val_df)\n",
    "pred_xgb_prob = xgb_model.predict_proba(embeddings_x_val_df)\n",
    "create_summary_for_model_metrics(y_val, pred_xgb, pred_xgb_prob[:,1])"
   ]
  },
  {
   "cell_type": "markdown",
   "id": "6f627eed-6136-4411-822b-7c65e6b26a2b",
   "metadata": {},
   "source": [
    "# Embeddings 100 dimensions"
   ]
  },
  {
   "cell_type": "code",
   "execution_count": 29,
   "id": "8a96e592-dd9d-4de1-97a9-7f721cad3198",
   "metadata": {
    "scrolled": true
   },
   "outputs": [
    {
     "name": "stdout",
     "output_type": "stream",
     "text": [
      "Batch(id='batch_6740d31921d48190b16cdad8fb7bcb73', completion_window='24h', created_at=1732301593, endpoint='/v1/embeddings', input_file_id='file-7c5obWZnlEZEHtQmYb6cMPGV', object='batch', status='validating', cancelled_at=None, cancelling_at=None, completed_at=None, error_file_id=None, errors=None, expired_at=None, expires_at=1732387993, failed_at=None, finalizing_at=None, in_progress_at=None, metadata={'description': 'request_embeddings_train_2_10_11_2024_100_dimensions'}, output_file_id=None, request_counts=BatchRequestCounts(completed=0, failed=0, total=0))\n"
     ]
    }
   ],
   "source": [
    "batch_request_train = create_batch_request_to_open_ai_embeddings(\n",
    "    list_of_texts = x_train.tolist(),\n",
    "    name_of_request_file = \"request_embeddings_train_2_22_11_2024_100_dimensions\",\n",
    "    description_of_request = \"request_embeddings_train_2_22_11_2024_100_dimensions\",\n",
    "    dimensions = 100\n",
    ")\n",
    "print(batch_request_train)"
   ]
  },
  {
   "cell_type": "code",
   "execution_count": 67,
   "id": "d6eee246-2e02-464b-911d-1cae8de17da0",
   "metadata": {},
   "outputs": [
    {
     "name": "stdout",
     "output_type": "stream",
     "text": [
      "Batch(id='batch_6740d31921d48190b16cdad8fb7bcb73', completion_window='24h', created_at=1732301593, endpoint='/v1/embeddings', input_file_id='file-7c5obWZnlEZEHtQmYb6cMPGV', object='batch', status='completed', cancelled_at=None, cancelling_at=None, completed_at=1732312671, error_file_id=None, errors=None, expired_at=None, expires_at=1732387993, failed_at=None, finalizing_at=1732308930, in_progress_at=1732301598, metadata={'description': 'request_embeddings_train_2_10_11_2024_100_dimensions'}, output_file_id='file-7puHgrsquyVxeAAqfGcKGq', request_counts=BatchRequestCounts(completed=32000, failed=0, total=32000))\n"
     ]
    }
   ],
   "source": [
    "print(client.batches.retrieve(\"batch_6740d31921d48190b16cdad8fb7bcb73\"))"
   ]
  },
  {
   "cell_type": "code",
   "execution_count": 68,
   "id": "7241dcea-1d32-4584-9777-361472368a27",
   "metadata": {},
   "outputs": [
    {
     "name": "stderr",
     "output_type": "stream",
     "text": [
      "32000it [00:01, 20201.71it/s]\n"
     ]
    },
    {
     "data": {
      "text/plain": [
       "100"
      ]
     },
     "execution_count": 68,
     "metadata": {},
     "output_type": "execute_result"
    }
   ],
   "source": [
    "embeddings_x_train_df = save_embeddings_to_file_and_get_predictions(\n",
    "    result_file_id=\"file-7puHgrsquyVxeAAqfGcKGq\",\n",
    "    result_file_name=\"batch_result_train_22_11_2024_100_dimensions\"\n",
    ")\n",
    "len(embeddings_x_train_df[0])"
   ]
  },
  {
   "cell_type": "code",
   "execution_count": 77,
   "id": "46b81c48-ecba-4b9a-b380-41364094e22c",
   "metadata": {},
   "outputs": [
    {
     "name": "stdout",
     "output_type": "stream",
     "text": [
      "Batch(id='batch_6741b92c4ffc819085c4390dd2509524', completion_window='24h', created_at=1732360492, endpoint='/v1/embeddings', input_file_id='file-Gr6vV2fPdfECHe9oMUXTb5', object='batch', status='validating', cancelled_at=None, cancelling_at=None, completed_at=None, error_file_id=None, errors=None, expired_at=None, expires_at=1732446892, failed_at=None, finalizing_at=None, in_progress_at=None, metadata={'description': 'request_embeddings_val_3_23_11_2024_100_dimensions'}, output_file_id=None, request_counts=BatchRequestCounts(completed=0, failed=0, total=0))\n"
     ]
    }
   ],
   "source": [
    "batch_request_val = create_batch_request_to_open_ai_embeddings(\n",
    "    list_of_texts = x_val.tolist(),\n",
    "    name_of_request_file = \"request_embeddings_val_3_23_11_2024_100_dimensions\",\n",
    "    description_of_request = \"request_embeddings_val_3_23_11_2024_100_dimensions\",\n",
    "    dimensions = 100\n",
    ")\n",
    "print(batch_request_val)"
   ]
  },
  {
   "cell_type": "code",
   "execution_count": 81,
   "id": "1f643c11-9ad6-466e-bcac-689aa39d2968",
   "metadata": {},
   "outputs": [
    {
     "name": "stdout",
     "output_type": "stream",
     "text": [
      "Batch(id='batch_6741b92c4ffc819085c4390dd2509524', completion_window='24h', created_at=1732360492, endpoint='/v1/embeddings', input_file_id='file-Gr6vV2fPdfECHe9oMUXTb5', object='batch', status='completed', cancelled_at=None, cancelling_at=None, completed_at=1732364271, error_file_id=None, errors=None, expired_at=None, expires_at=1732446892, failed_at=None, finalizing_at=1732363928, in_progress_at=1732360493, metadata={'description': 'request_embeddings_val_3_23_11_2024_100_dimensions'}, output_file_id='file-ULG1Af7ECBWZy3jLQ4wHcD', request_counts=BatchRequestCounts(completed=4000, failed=0, total=4000))\n"
     ]
    }
   ],
   "source": [
    "print(client.batches.retrieve(\"batch_6741b92c4ffc819085c4390dd2509524\"))"
   ]
  },
  {
   "cell_type": "code",
   "execution_count": 82,
   "id": "c828c541-f47e-4f3b-bb9f-cd7c25b04d86",
   "metadata": {},
   "outputs": [
    {
     "name": "stderr",
     "output_type": "stream",
     "text": [
      "4000it [00:00, 21506.80it/s]\n"
     ]
    },
    {
     "data": {
      "text/plain": [
       "100"
      ]
     },
     "execution_count": 82,
     "metadata": {},
     "output_type": "execute_result"
    }
   ],
   "source": [
    "embeddings_x_val_df = save_embeddings_to_file_and_get_predictions(\n",
    "    result_file_id=\"file-ULG1Af7ECBWZy3jLQ4wHcD\",\n",
    "    result_file_name=\"batch_result_3_val_22_11_2024_100_dimensions\"\n",
    ")\n",
    "len(embeddings_x_val_df[0])"
   ]
  },
  {
   "cell_type": "code",
   "execution_count": 83,
   "id": "7f611f71-7acc-4564-b47c-501093ba528e",
   "metadata": {},
   "outputs": [
    {
     "name": "stdout",
     "output_type": "stream",
     "text": [
      "0.822 & 0.827 & 0.813 & 0.82 & 0.901 \\\n",
      "{'Accuracy': 0.8225, 'Precision': 0.8274629913221031, 'Recall': 0.8133467134972403, 'F1 Score': 0.820344129554656, 'ROC-AUC': 0.9011867895381718}\n",
      "\n",
      "              precision    recall  f1-score   support\n",
      "\n",
      "           0       0.82      0.83      0.82      2007\n",
      "           1       0.83      0.81      0.82      1993\n",
      "\n",
      "    accuracy                           0.82      4000\n",
      "   macro avg       0.82      0.82      0.82      4000\n",
      "weighted avg       0.82      0.82      0.82      4000\n",
      "\n"
     ]
    },
    {
     "data": {
      "image/png": "[encoded data removed]",
      "text/plain": [
       "<Figure size 640x480 with 2 Axes>"
      ]
     },
     "metadata": {},
     "output_type": "display_data"
    }
   ],
   "source": [
    "RF = RandomForestClassifier(random_state = 0)\n",
    "RF.fit(embeddings_x_train_df, y_train)\n",
    "pred_rf = RF.predict(embeddings_x_val_df)\n",
    "pred_rf_prob = RF.predict_proba(embeddings_x_val_df)\n",
    "create_summary_for_model_metrics(y_val, pred_rf, pred_rf_prob[:,1])"
   ]
  },
  {
   "cell_type": "code",
   "execution_count": 84,
   "id": "a7c7e7d2-7f71-4dc8-9fa2-2b82fe1473eb",
   "metadata": {},
   "outputs": [
    {
     "name": "stdout",
     "output_type": "stream",
     "text": [
      "0.819 & 0.82 & 0.816 & 0.818 & 0.901 \\\n",
      "{'Accuracy': 0.81875, 'Precision': 0.8195564516129032, 'Recall': 0.8158554942298043, 'F1 Score': 0.8177017852652754, 'ROC-AUC': 0.9012164149010825}\n",
      "\n",
      "              precision    recall  f1-score   support\n",
      "\n",
      "           0       0.82      0.82      0.82      2007\n",
      "           1       0.82      0.82      0.82      1993\n",
      "\n",
      "    accuracy                           0.82      4000\n",
      "   macro avg       0.82      0.82      0.82      4000\n",
      "weighted avg       0.82      0.82      0.82      4000\n",
      "\n"
     ]
    },
    {
     "data": {
      "image/png": "[encoded data removed]",
      "text/plain": [
       "<Figure size 640x480 with 2 Axes>"
      ]
     },
     "metadata": {},
     "output_type": "display_data"
    }
   ],
   "source": [
    "xgb_model = xgb.XGBClassifier(random_state = 0)\n",
    "xgb_model.fit(embeddings_x_train_df, y_train)\n",
    "pred_xgb = xgb_model.predict(embeddings_x_val_df)\n",
    "pred_xgb_prob = xgb_model.predict_proba(embeddings_x_val_df)\n",
    "create_summary_for_model_metrics(y_val, pred_xgb, pred_xgb_prob[:,1])"
   ]
  },
  {
   "cell_type": "markdown",
   "id": "5533507e-f040-42a5-b809-62137b903a2b",
   "metadata": {},
   "source": [
    "# 30 dimennsions"
   ]
  },
  {
   "cell_type": "code",
   "execution_count": 87,
   "id": "b0a4b9c7-4bd3-4b60-b1c9-829a099e75e8",
   "metadata": {},
   "outputs": [
    {
     "name": "stdout",
     "output_type": "stream",
     "text": [
      "Batch(id='batch_6741d861138c8190aa23a76f49cd58a1', completion_window='24h', created_at=1732368481, endpoint='/v1/embeddings', input_file_id='file-6bGeAjF1BMbhB3CU8u687K', object='batch', status='validating', cancelled_at=None, cancelling_at=None, completed_at=None, error_file_id=None, errors=None, expired_at=None, expires_at=1732454881, failed_at=None, finalizing_at=None, in_progress_at=None, metadata={'description': 'request_embeddings_train_2_22_11_2024_30_dimensions'}, output_file_id=None, request_counts=BatchRequestCounts(completed=0, failed=0, total=0))\n"
     ]
    }
   ],
   "source": [
    "batch_request_train = create_batch_request_to_open_ai_embeddings(\n",
    "    list_of_texts = x_train.tolist(),\n",
    "    name_of_request_file = \"request_embeddings_train_2_22_11_2024_30_dimensions\",\n",
    "    description_of_request = \"request_embeddings_train_2_22_11_2024_30_dimensions\",\n",
    "    dimensions = 30\n",
    ")\n",
    "print(batch_request_train)"
   ]
  },
  {
   "cell_type": "code",
   "execution_count": 100,
   "id": "2a38e6da-49ee-4ccd-b08e-a43c0492d6f5",
   "metadata": {},
   "outputs": [
    {
     "name": "stdout",
     "output_type": "stream",
     "text": [
      "Batch(id='batch_6741d861138c8190aa23a76f49cd58a1', completion_window='24h', created_at=1732368481, endpoint='/v1/embeddings', input_file_id='file-6bGeAjF1BMbhB3CU8u687K', object='batch', status='completed', cancelled_at=None, cancelling_at=None, completed_at=1732383410, error_file_id=None, errors=None, expired_at=None, expires_at=1732454881, failed_at=None, finalizing_at=1732377445, in_progress_at=1732368488, metadata={'description': 'request_embeddings_train_2_22_11_2024_30_dimensions'}, output_file_id='file-QsVSrvpiviweyZJxeW67j4', request_counts=BatchRequestCounts(completed=32000, failed=0, total=32000))\n"
     ]
    }
   ],
   "source": [
    "print(client.batches.retrieve(\"batch_6741d861138c8190aa23a76f49cd58a1\"))"
   ]
  },
  {
   "cell_type": "code",
   "execution_count": 101,
   "id": "a49f38ca-1f6b-48cf-bb86-e02ae73b1bcc",
   "metadata": {},
   "outputs": [
    {
     "name": "stderr",
     "output_type": "stream",
     "text": [
      "32000it [00:03, 9791.78it/s] \n"
     ]
    },
    {
     "data": {
      "text/plain": [
       "30"
      ]
     },
     "execution_count": 101,
     "metadata": {},
     "output_type": "execute_result"
    }
   ],
   "source": [
    "embeddings_x_train_df = save_embeddings_to_file_and_get_predictions(\n",
    "    result_file_id=\"file-QsVSrvpiviweyZJxeW67j4\",\n",
    "    result_file_name=\"batch_result_train_23_11_2024_30_dimensions\"\n",
    ")\n",
    "len(embeddings_x_train_df[0])"
   ]
  },
  {
   "cell_type": "code",
   "execution_count": null,
   "id": "3e0aed5f-5efa-4c82-846b-0577ac28c3d0",
   "metadata": {},
   "outputs": [],
   "source": [
    "batch_request_val = create_batch_request_to_open_ai_embeddings(\n",
    "    list_of_texts = x_val.tolist(),\n",
    "    name_of_request_file = \"request_embeddings_val_3_23_11_2024_30_dimensions\",\n",
    "    description_of_request = \"request_embeddings_val_3_23_11_2024_30_dimensions\",\n",
    "    dimensions = 30\n",
    ")\n",
    "print(batch_request_val)"
   ]
  },
  {
   "cell_type": "code",
   "execution_count": null,
   "id": "e8e760a6-eb54-4f8f-b7de-ecb6a91e35d6",
   "metadata": {},
   "outputs": [],
   "source": [
    "print(client.batches.retrieve(\"batch_6741d8698d94819083706703a9878c9a\"))"
   ]
  },
  {
   "cell_type": "code",
   "execution_count": null,
   "id": "30a83e93-9193-4339-938a-ed13dded77b9",
   "metadata": {},
   "outputs": [],
   "source": [
    "embeddings_x_val_df = save_embeddings_to_file_and_get_predictions(\n",
    "    result_file_id=\"file-8Ywrg3fHRP5bLmjdoXrin5\",\n",
    "    result_file_name=\"batch_result_3_val_22_11_2024_30_dimensions\"\n",
    ")\n",
    "len(embeddings_x_val_df[0])"
   ]
  },
  {
   "cell_type": "code",
   "execution_count": 103,
   "id": "7b14bfc5-44ba-4f1e-a1dc-1e9d8318f927",
   "metadata": {},
   "outputs": [
    {
     "name": "stdout",
     "output_type": "stream",
     "text": [
      "0.788 & 0.788 & 0.787 & 0.787 & 0.862 \\\n",
      "{'Accuracy': 0.78825, 'Precision': 0.7876506024096386, 'Recall': 0.787255393878575, 'F1 Score': 0.7874529485570892, 'ROC-AUC': 0.8615838044016039}\n",
      "\n",
      "              precision    recall  f1-score   support\n",
      "\n",
      "           0       0.79      0.79      0.79      2007\n",
      "           1       0.79      0.79      0.79      1993\n",
      "\n",
      "    accuracy                           0.79      4000\n",
      "   macro avg       0.79      0.79      0.79      4000\n",
      "weighted avg       0.79      0.79      0.79      4000\n",
      "\n"
     ]
    },
    {
     "data": {
      "image/png": "[encoded data removed]",
      "text/plain": [
       "<Figure size 640x480 with 2 Axes>"
      ]
     },
     "metadata": {},
     "output_type": "display_data"
    }
   ],
   "source": [
    "RF = RandomForestClassifier(random_state = 0)\n",
    "RF.fit(embeddings_x_train_df, y_train)\n",
    "pred_rf = RF.predict(embeddings_x_val_df)\n",
    "pred_rf_prob = RF.predict_proba(embeddings_x_val_df)\n",
    "create_summary_for_model_metrics(y_val, pred_rf, pred_rf_prob[:,1])"
   ]
  },
  {
   "cell_type": "code",
   "execution_count": 104,
   "id": "5e72e28a-b18b-41fe-9e5d-d91ef1c3f277",
   "metadata": {},
   "outputs": [
    {
     "name": "stdout",
     "output_type": "stream",
     "text": [
      "0.783 & 0.783 & 0.781 & 0.782 & 0.857 \\\n",
      "{'Accuracy': 0.78325, 'Precision': 0.783484390735146, 'Recall': 0.7807325639739087, 'F1 Score': 0.7821060567981906, 'ROC-AUC': 0.8570787492146777}\n",
      "\n",
      "              precision    recall  f1-score   support\n",
      "\n",
      "           0       0.78      0.79      0.78      2007\n",
      "           1       0.78      0.78      0.78      1993\n",
      "\n",
      "    accuracy                           0.78      4000\n",
      "   macro avg       0.78      0.78      0.78      4000\n",
      "weighted avg       0.78      0.78      0.78      4000\n",
      "\n"
     ]
    },
    {
     "data": {
      "image/png": "[encoded data removed]",
      "text/plain": [
       "<Figure size 640x480 with 2 Axes>"
      ]
     },
     "metadata": {},
     "output_type": "display_data"
    }
   ],
   "source": [
    "xgb_model = xgb.XGBClassifier(random_state = 0)\n",
    "xgb_model.fit(embeddings_x_train_df, y_train)\n",
    "pred_xgb = xgb_model.predict(embeddings_x_val_df)\n",
    "pred_xgb_prob = xgb_model.predict_proba(embeddings_x_val_df)\n",
    "create_summary_for_model_metrics(y_val, pred_xgb, pred_xgb_prob[:,1])"
   ]
  },
  {
   "cell_type": "code",
   "execution_count": null,
   "id": "34de5081-3ba5-4156-a981-3dbfb6d825ec",
   "metadata": {},
   "outputs": [],
   "source": []
  },
  {
   "cell_type": "code",
   "execution_count": 85,
   "id": "89296dca-4f7a-4fcb-8284-dd733c6f1bf2",
   "metadata": {},
   "outputs": [],
   "source": [
    "#Summary -> graphs"
   ]
  },
  {
   "cell_type": "code",
   "execution_count": 106,
   "id": "2a7bcb29-555d-4c78-8ec5-5e9a08ae2fee",
   "metadata": {},
   "outputs": [
    {
     "data": {
      "image/png": "[encoded data removed]",
      "text/plain": [
       "<Figure size 800x600 with 1 Axes>"
      ]
     },
     "metadata": {},
     "output_type": "display_data"
    }
   ],
   "source": [
    "import matplotlib.pyplot as plt\n",
    "\n",
    "# Data for the plot\n",
    "dimensions = [3072, 1000, 100, 30]\n",
    "f1_random_forest = [0.855, 0.853, 0.813, 0.787]\n",
    "f1_xgboost = [0.864, 0.858, 0.818, 0.782]\n",
    "\n",
    "# Create the plot\n",
    "plt.figure(figsize=(8, 6))\n",
    "plt.plot(dimensions, f1_random_forest, marker='o', label='Random Forest', linestyle='-')\n",
    "plt.plot(dimensions, f1_xgboost, marker='s', label='XGBoost', linestyle='--')\n",
    "\n",
    "# Adding labels and title\n",
    "plt.xlabel('Number of Dimensions', fontsize=12)\n",
    "plt.ylabel('F1-Score', fontsize=12)\n",
    "plt.title('F1-Score vs Number of Dimensions', fontsize=14)\n",
    "plt.gca().invert_xaxis()  # Invert x-axis for a clearer decreasing trend\n",
    "plt.legend()\n",
    "plt.grid(True)\n",
    "\n",
    "plt.savefig('f1_score_vs_dimensions.png')\n",
    "# Show the plot\n",
    "plt.show()"
   ]
  },
  {
   "cell_type": "code",
   "execution_count": null,
   "id": "df722759-6372-4915-943b-b12a885c392c",
   "metadata": {},
   "outputs": [],
   "source": []
  }
 ],
 "metadata": {
  "kernelspec": {
   "display_name": "Python 3 (ipykernel)",
   "language": "python",
   "name": "python3"
  },
  "language_info": {
   "codemirror_mode": {
    "name": "ipython",
    "version": 3
   },
   "file_extension": ".py",
   "mimetype": "text/x-python",
   "name": "python",
   "nbconvert_exporter": "python",
   "pygments_lexer": "ipython3",
   "version": "3.11.9"
  }
 },
 "nbformat": 4,
 "nbformat_minor": 5
}
