{
 "cells": [
  {
   "cell_type": "markdown",
   "id": "f6d5b141-a9dc-4af1-b2af-9d1f1e08a803",
   "metadata": {},
   "source": [
    "## LLM - models - Chatgpt\n",
    "\n",
    "In this notebook I use OpenAI API (batch mode) to get:\n",
    "1. Direct answer about LLM's prediction if this is clickbait or not\n",
    "2. Embeddings from llm to build model based on this.\n",
    "\n",
    "Things that may be improved:\n",
    " 1. Embeddings\n",
    "    * try different embeddings dimensions (1000?, ...)\n",
    "    * fine tuning of RF or xGboost\n",
    " 2. Direct call\n",
    "     * play with prompt\n",
    "     * play with temperature, and other parameters of models "
   ]
  },
  {
   "cell_type": "code",
   "execution_count": 21,
   "id": "7fef4b3a-1e69-496b-9b71-62c10b09f508",
   "metadata": {},
   "outputs": [],
   "source": [
    "# TODO: change prompt to nice examples from x_train\n",
    "# TODO: -> LLM Models (chat gpt api, bert?)"
   ]
  },
  {
   "cell_type": "code",
   "execution_count": 22,
   "id": "3294832a-c5c8-4616-98f2-34b2f3ec4de9",
   "metadata": {},
   "outputs": [],
   "source": [
    "# DATA PROCESSING, VISUALIZATION\n",
    "import pandas as pd\n",
    "import matplotlib.pyplot as plt\n",
    "import numpy as np\n",
    "import seaborn as sns\n",
    "import string\n",
    "import re\n",
    "\n",
    "# MODELS, MODEL EVALUATION\n",
    "from openai import OpenAI\n",
    "import xgboost as xgb\n",
    "from sklearn.ensemble import RandomForestClassifier\n",
    "from sklearn.metrics import confusion_matrix, ConfusionMatrixDisplay\n",
    "from sklearn.model_selection import train_test_split\n",
    "from sklearn.metrics import accuracy_score\n",
    "from sklearn.metrics import classification_report\n",
    "from sklearn.model_selection import GridSearchCV\n",
    "\n",
    "import os\n",
    "import json\n",
    "from typing import List\n",
    "import requests\n",
    "import time\n",
    "from tqdm import tqdm"
   ]
  },
  {
   "cell_type": "code",
   "execution_count": 23,
   "id": "958af36f-9746-431d-a44f-50a003960699",
   "metadata": {},
   "outputs": [],
   "source": [
    "df_merged = pd.read_csv(\"../data/merged_datasetes_balanced_huge.csv\")"
   ]
  },
  {
   "cell_type": "code",
   "execution_count": 24,
   "id": "0544c477-c26e-4937-8702-29326fbd50a3",
   "metadata": {},
   "outputs": [],
   "source": [
    "%run 0-Function-Helper.ipynb"
   ]
  },
  {
   "cell_type": "code",
   "execution_count": 25,
   "id": "d84b8ec8-5204-4219-91bf-95f33f3fe0e8",
   "metadata": {},
   "outputs": [],
   "source": [
    "x_train, x_test, y_train, y_test = train_test_split(\n",
    "    df_merged[\"title\"], \n",
    "    df_merged[\"clickbait\"],\n",
    "    test_size=0.2, \n",
    "    random_state=42\n",
    ")"
   ]
  },
  {
   "cell_type": "code",
   "execution_count": 26,
   "id": "7cd09a5b-e99e-43c1-b175-02cbf3adeace",
   "metadata": {},
   "outputs": [],
   "source": [
    "x_test, x_val, y_test, y_val = train_test_split(\n",
    "    x_test, \n",
    "    y_test,\n",
    "    test_size=0.5,  # 50% of the original x_test size for validation\n",
    "    random_state=42,\n",
    "    stratify=y_test\n",
    ")"
   ]
  },
  {
   "cell_type": "markdown",
   "id": "1b38261d-dc8f-434a-b337-68fbd04f00ad",
   "metadata": {},
   "source": [
    "### Setting OpenAI "
   ]
  },
  {
   "cell_type": "code",
   "execution_count": 27,
   "id": "f7396fff-5d46-4890-8e30-77cde2c73472",
   "metadata": {},
   "outputs": [],
   "source": [
    "with open(\"../file_path.txt\", 'r') as file:\n",
    "    file_path = file.read()\n",
    "\n",
    "with open(file_path, 'r') as file:\n",
    "    api_key = file.read()"
   ]
  },
  {
   "cell_type": "code",
   "execution_count": 28,
   "id": "80e2de60-9cf7-4e27-8569-6d731ae0ee37",
   "metadata": {},
   "outputs": [],
   "source": [
    "client = OpenAI(\n",
    "    api_key=api_key,\n",
    ")"
   ]
  },
  {
   "cell_type": "code",
   "execution_count": 28,
   "id": "647bf0cb-37c2-4a22-957e-97b3515747c5",
   "metadata": {},
   "outputs": [],
   "source": [
    "# Show full way of thinking and improving the prompt and considerations in paper. :)\n",
    "#  You can play with temperature, and other params, prompt, ..."
   ]
  },
  {
   "cell_type": "markdown",
   "id": "cf435c58-063e-45c7-857b-e1b2f675ebb3",
   "metadata": {},
   "source": [
    "# Direct prompt "
   ]
  },
  {
   "cell_type": "code",
   "execution_count": 221,
   "id": "09249696-1dc8-4710-931a-c317b4a1e987",
   "metadata": {},
   "outputs": [],
   "source": [
    "import random"
   ]
  },
  {
   "cell_type": "code",
   "execution_count": 240,
   "id": "b1b18178-b702-4c17-94f1-ca136d590683",
   "metadata": {},
   "outputs": [],
   "source": [
    "indices = random.sample(range(len(x_train)), 50)\n",
    "x_train_sample = [x_train.iloc[i] for i in indices]\n",
    "y_train_sample = [y_train.iloc[i] for i in indices]"
   ]
  },
  {
   "cell_type": "code",
   "execution_count": 241,
   "id": "afe131cd-df62-4e96-b4a2-fd302f9d88da",
   "metadata": {},
   "outputs": [
    {
     "name": "stdout",
     "output_type": "stream",
     "text": [
      "x_train: How Well Do You Really See Different Shades Of Red, y_train: 1\n",
      "x_train: Happy Birthday, Pitbull! Here Are His 10 Most Popular Songs on Spotify, y_train: 0\n",
      "x_train: Welcome To The New Celebrity #IceBucketChallenge, y_train: 1\n",
      "x_train: The 30 Most Criminally Underrated Pop Songs Of 2015, y_train: 1\n",
      "x_train: Fake Antibiotics Being Sold Containing Flour, Starch And Paracetamol, y_train: 1\n",
      "x_train: Do You Know The Castles From \"Game Of Thrones\", y_train: 1\n",
      "x_train: Beijing: The city where you can't escape smog, y_train: 1\n",
      "x_train: US Senate to vote on troop pullout from Iraq today, y_train: 0\n",
      "x_train: \"My life is made here\": Undocumented students fear fate under Trump, y_train: 0\n",
      "x_train: British Airways Sister Airline Joins Battle in Budget Trans-Atlantic Travel, y_train: 1\n",
      "x_train: 9 Cult Skincare Products That Really And Truly Work, y_train: 1\n",
      "x_train: Parents Say Their Children’s Hatchimals Are Mumbling \"Fuck Me\" In Their Sleep, y_train: 0\n",
      "x_train: 23 Office Workers Who Have Perfected The Art Of Sarcasm, y_train: 1\n",
      "x_train: Here's Why Everyone Should Keep A Journal, y_train: 1\n",
      "x_train: Trump draws far smaller inaugural crowd than Obama, y_train: 0\n",
      "x_train: New O’Keefe Video: Leftists Planning Stink Bombs at ‘Deploraball’, y_train: 1\n",
      "x_train: Penn State frat shut down after pledge's fatal fall, y_train: 0\n",
      "x_train: The Most Moving Personal Essays You Needed To Read In 2015, y_train: 1\n",
      "x_train: Apple fixed an annoying iPhone battery bug and didn't tell people for weeks, y_train: 0\n",
      "x_train: This Week in Billboard Chart History: In 1991, Gloria Estefan's 'Dark' Lit Up the Hot 100, y_train: 0\n",
      "x_train: Netanyahu: ‘All Signs’ Indicate Jerusalem Truck Terrorist was ‘Backer of Islamic State’, y_train: 1\n",
      "x_train: High School Tries Shaming Boy, Demanding He ’Tolerate’ Undressing with Girls to ’Make it Natural’ - Breitbart, y_train: 0\n",
      "x_train: Prime Minister Blair flies to Washington, y_train: 0\n",
      "x_train: 21 Things All Friends With A Group Chat Will Understand, y_train: 1\n",
      "x_train: Pence's sphere of influence questioned in wake of Flynn fallout, y_train: 0\n",
      "x_train: Nancy Pelosi: Obamacare Was ‘Bipartisan’ Legislation, y_train: 1\n",
      "x_train: A Corner of the Soccer Field That No U.S. Player Has Claimed, y_train: 0\n",
      "x_train: George Clooney: Trump and Bannon the Real ‘Hollywood Elitists’, y_train: 1\n",
      "x_train: Brokers to Get New Tools to Fight Abuse of Senior Investors, y_train: 0\n",
      "x_train: Tax-Smart Bond Swapping, y_train: 1\n",
      "x_train: Medicinal marijuana sale approved by Federal Government, y_train: 0\n",
      "x_train: White House evasive as House Intelligence Committee grinds to a halt, y_train: 0\n",
      "x_train: Fun Moments From Jio Filmfare Awards 2017 We Can’t Wait To Watch, y_train: 0\n",
      "x_train: Melania Trump Defamation Suit Against Political Blogger Can Move Forward, y_train: 0\n",
      "x_train: The Triumphs And Mistakes That Got J.J. Abrams Ready For \"Star Wars\", y_train: 1\n",
      "x_train: Samsung made a ton of cash even though its flagship phones were a fiery disaster, y_train: 0\n",
      "x_train: 23 Pictures That Will Make You Say \"Huh.\", y_train: 1\n",
      "x_train: 31 Photos That’ll Make Every Nurse Laugh Out Loud, y_train: 1\n",
      "x_train: Jeb Bush to call for closer ties with Europe in Berlin speech , y_train: 0\n",
      "x_train: Former Mexican president trolls Donald Trump's address to Congress, y_train: 0\n",
      "x_train: Venezuela’s Maduro Appoints Sanguino as New Central Bank Chief, y_train: 0\n",
      "x_train: The New \"Being Canadian\" Movie Is Hilariously Honest, y_train: 1\n",
      "x_train: A Swim Team \"Practiced\" In The Snow In Nothing But Speedos After Their Meet Was Canceled, y_train: 0\n",
      "x_train: Now, Navjot Singh Sidhu Says He's 'A Born Congressman', This Is His 'Ghar Wapsi', y_train: 0\n",
      "x_train: 13 Stages Of Getting Over The One That Got Away, y_train: 1\n",
      "x_train: UN summit results in pledge to mitigate food crisis, y_train: 0\n",
      "x_train: Emma Stone Is The Music Video Queen We've Always Dreamed Of, y_train: 1\n",
      "x_train: How Far Would You Make It On \"The Bachelor\", y_train: 1\n",
      "x_train: President Obama Hits Twitter to Celebrate Legacy, y_train: 1\n",
      "x_train: Homeless? Starving? Cheer up! These Great Depression billboards told poor Americans how lucky they were, y_train: 1\n"
     ]
    }
   ],
   "source": [
    "combined_samples = list(zip(x_train_sample, y_train_sample))\n",
    "\n",
    "# Display the combined samples\n",
    "for x, y in combined_samples:\n",
    "    print(f\"x_train: {x}, y_train: {y}\")"
   ]
  },
  {
   "cell_type": "code",
   "execution_count": 236,
   "id": "9307baeb-5cd6-4b20-a4d9-f232ccfaeeb9",
   "metadata": {},
   "outputs": [
    {
     "data": {
      "text/plain": [
       "[1, 1, 0, 1, 1, 0, 1, 0, 0, 0]"
      ]
     },
     "execution_count": 236,
     "metadata": {},
     "output_type": "execute_result"
    }
   ],
   "source": [
    "y_train_sample"
   ]
  },
  {
   "cell_type": "markdown",
   "id": "bc356043-cadc-4b22-aef9-ae668ada85b5",
   "metadata": {},
   "source": [
    "### CREATE REQUEST FILE FOR DIRECT PROMPT"
   ]
  },
  {
   "cell_type": "code",
   "execution_count": 197,
   "id": "97f06df6-66f7-4f73-8a83-26d55403558a",
   "metadata": {},
   "outputs": [],
   "source": [
    "def create_batch_request_to_open_ai_direct_prompt(\n",
    "    list_of_prompts: List[str],\n",
    "    name_of_request_file: str,\n",
    "    description_of_request: str,   \n",
    "    prompts: List[str],\n",
    "    temperature: None = 1, #between [0,2]. Default = 1, higher temperature leads to more random, while lower to more deterministic,\n",
    "    model: str = \"gpt-4o-mini\"\n",
    "):\n",
    "\n",
    "    dictionary = [{\n",
    "        \"custom_id\": f\"request{i}\", \n",
    "        \"method\": \"POST\", \n",
    "        \"url\": \"/v1/chat/completions\", \n",
    "        \"body\": {\"model\": model, \n",
    "                 \"messages\": [\n",
    "                     {\"role\": \"system\", \"content\": \"assistant.\"},\n",
    "                     {\"role\": \"user\", \"content\": prompt__}],\n",
    "                 \"max_tokens\": 1000,\n",
    "                 \"temperature\": temperature}\n",
    "    } for i, prompt__ in enumerate(prompts)]\n",
    "    \n",
    "    with open(f\"../request_files_openai/{name_of_request_file}.jsonl\", \"w\") as outfile:\n",
    "        for request__ in dictionary:\n",
    "            json.dump(request__, outfile)\n",
    "            outfile.write('\\n')\n",
    "    \n",
    "    \n",
    "    batch_input_file = client.files.create(\n",
    "      file=open(fr\"../request_files_openai/{name_of_request_file}.jsonl\", \"rb\"),\n",
    "      purpose=\"batch\"\n",
    "    )\n",
    "    \n",
    "    return client.batches.create(\n",
    "        input_file_id=batch_input_file.id,\n",
    "        endpoint=\"/v1/chat/completions\",\n",
    "        completion_window=\"24h\",\n",
    "        metadata={\n",
    "          \"description\": description_of_request\n",
    "        }\n",
    "    )"
   ]
  },
  {
   "cell_type": "code",
   "execution_count": 246,
   "id": "af1edda0-c325-4043-8d76-2f2c6b4167ae",
   "metadata": {},
   "outputs": [],
   "source": [
    "def save_direct_prompt_to_file_and_get_predictions(\n",
    "    result_file_id: str,\n",
    "    result_file_name: str\n",
    "):\n",
    "    result = client.files.content(result_file_id).content\n",
    "    result_file_name = f\"../request_files_openai/{result_file_name}.jsonl\"\n",
    "    \n",
    "    with open(result_file_name, 'wb') as file:\n",
    "        file.write(result)\n",
    "\n",
    "    pred = []\n",
    "    with open(result_file_name, 'r') as file:\n",
    "        for line in file:\n",
    "            prediction_str = json.loads(line)['response']['body']['choices'][0]['message']['content']\n",
    "            pred.append(int(prediction_str))\n",
    "    return pred"
   ]
  },
  {
   "cell_type": "code",
   "execution_count": null,
   "id": "19f21f7c-3157-478a-9f62-26a9b96e0471",
   "metadata": {},
   "outputs": [],
   "source": [
    "def create_batch_request_to_open_ai_embeddings(\n",
    "    list_of_texts: List[str],\n",
    "    name_of_request_file: str,\n",
    "    description_of_request: str,\n",
    "    dimensions: int = None,\n",
    "):\n",
    "    \"\"\"Function that creates .jsonl file with appropriate format and then sends call to create embeddings using batches\"\"\"\n",
    "    \n",
    "    dictionary_req = [{\n",
    "        \"custom_id\": f\"request{i}\", \n",
    "        \"method\": \"POST\", \n",
    "        \"url\": \"/v1/embeddings\", \n",
    "        \"body\": {\"model\": \"text-embedding-3-large\",\n",
    "                 \"input\": f\"{prompt}\",\n",
    "                 **({\"dimensions\": dimensions} if dimensions is not None else {})\n",
    "                }\n",
    "    } for i, prompt in enumerate(list_of_texts)]\n",
    "    \n",
    "    with open(f\"../request_files_openai/{name_of_request_file}.jsonl\", \"w\") as outfile:\n",
    "        for request__ in dictionary_req:\n",
    "            json.dump(request__, outfile)\n",
    "            outfile.write('\\n')\n",
    "    \n",
    "    batch_input_file = client.files.create(\n",
    "      file=open(fr\"../request_files_openai/{name_of_request_file}.jsonl\", \"rb\"),\n",
    "      purpose=\"batch\"\n",
    "    )\n",
    "    \n",
    "    return client.batches.create(\n",
    "        input_file_id=batch_input_file.id,\n",
    "        endpoint=\"/v1/embeddings\",\n",
    "        completion_window=\"24h\",\n",
    "        metadata={\n",
    "          \"description\": description_of_request\n",
    "        }\n",
    "    )\n",
    "    "
   ]
  },
  {
   "cell_type": "code",
   "execution_count": null,
   "id": "da5044a0-4c82-4876-b387-f7e2bcc4475e",
   "metadata": {},
   "outputs": [],
   "source": [
    "def save_embeddings_to_file_and_get_predictions(\n",
    "    result_file_id: str,\n",
    "    result_file_name: str\n",
    "):\n",
    "    result = client.files.content(result_file_id).content\n",
    "    result_file_name = f\"../request_files_openai/{result_file_name}.jsonl\"\n",
    "    \n",
    "    with open(result_file_name, 'wb') as file:\n",
    "        file.write(result)\n",
    "\n",
    "    embeddings_x_df = []\n",
    "    with open(result_file_name, 'r') as file:\n",
    "        for line in tqdm(file):\n",
    "            emb = json.loads(line.strip())['response']['body']['data'][0]['embedding']\n",
    "            embeddings_x_df.append(emb)\n",
    "    return embeddings_x_df"
   ]
  },
  {
   "cell_type": "code",
   "execution_count": null,
   "id": "b8cbccfc-d8f5-46d3-81ca-675418b602ab",
   "metadata": {},
   "outputs": [],
   "source": [
    "def return_embeddings_chat(prompt):\n",
    "    res = requests.post(f\"https://api.openai.com/v1/embeddings\",\n",
    "        headers = {\n",
    "          \"Content-Type\": \"application/json\",\n",
    "          \"Authorization\": f\"Bearer {api_key}\"\n",
    "        },\n",
    "        json={\n",
    "          \"model\": \"text-embedding-3-large\",\n",
    "          \"encoding_format\": \"float\",\n",
    "          \"input\": f\"{prompt}\"\n",
    "        }).json()\n",
    "    return res[\"data\"][0][\"embedding\"]"
   ]
  },
  {
   "cell_type": "code",
   "execution_count": null,
   "id": "17f40825-2236-4492-a2ac-c9a92324dfa8",
   "metadata": {},
   "outputs": [],
   "source": [
    "def batch_embeddings(prompts, batch_size=250):\n",
    "    url = \"https://api.openai.com/v1/embeddings\"\n",
    "    headers = {\n",
    "        \"Content-Type\": \"application/json\",\n",
    "        \"Authorization\": f\"Bearer {api_key}\"\n",
    "    }\n",
    "    embeddings = []\n",
    "    for i in tqdm(range(0, len(prompts), batch_size), desc=\"Processing Batches\"):\n",
    "        batch = prompts[i:i + batch_size]\n",
    "        response = requests.post(url, headers=headers, json={\n",
    "            \"model\": \"text-embedding-3-large\",\n",
    "            \"encoding_format\": \"float\",\n",
    "            \"input\": batch\n",
    "        }).json()\n",
    "        embeddings.extend([item[\"embedding\"] for item in response[\"data\"]])\n",
    "    return embeddings"
   ]
  },
  {
   "cell_type": "code",
   "execution_count": null,
   "id": "768dc01f-0f2e-4ed7-92ad-03d23912734f",
   "metadata": {},
   "outputs": [],
   "source": [
    "prompt = \"\"\"You are an assistant tasked with classifying article titles as either clickbait or legitimate. \n",
    "Your response should be precise and straightforward: respond with only \"1\" if the news title appears to be clickbait, and only \"0\" if it seems legitimate. \n",
    "Do not include any additional text, explanations, or reasoning in your response.\n",
    "\n",
    "Here are some examples:\n",
    "\n",
    "Title: \"23 Pictures That Will Make You Say \"Huh.\"\"\n",
    "Response: 1\n",
    "\n",
    "Title: \"The Most Moving Personal Essays You Needed To Read In 2015\"\n",
    "Response: 1\n",
    "\n",
    "Title: \"10 Life Hacks That Will Change the Way You Live Forever\"\n",
    "Response: 1\n",
    "\n",
    "Title: \"Government Announces New Infrastructure Plan for 2024\"\n",
    "Response: 0\n",
    "\n",
    "Title: \"The Shocking Truth Behind Your Morning Coffee!\"\n",
    "Response: 1\n",
    "\n",
    "Title: \"Local School Wins National Award for Academic Excellence\"\n",
    "Response: 0\n",
    "Here is the title that you need to classify: \n",
    "\"\"\"\n"
   ]
  },
  {
   "cell_type": "code",
   "execution_count": null,
   "id": "01a4475b-f616-4880-ac37-7dd2cac3bee1",
   "metadata": {},
   "outputs": [],
   "source": [
    "prompts_val_1 = [str(prompt + title) for title in x_val.tolist()]"
   ]
  },
  {
   "cell_type": "code",
   "execution_count": 33,
   "id": "d02d28b5-707e-4ce7-89ac-927320822e62",
   "metadata": {},
   "outputs": [
    {
     "name": "stdout",
     "output_type": "stream",
     "text": [
      "Batch(id='batch_672f9bdede048190ab676f78ef859c54', completion_window='24h', created_at=1731173342, endpoint='/v1/chat/completions', input_file_id='file-bXKzd5CAynHcY4jiB6RjGpDg', object='batch', status='validating', cancelled_at=None, cancelling_at=None, completed_at=None, error_file_id=None, errors=None, expired_at=None, expires_at=1731259742, failed_at=None, finalizing_at=None, in_progress_at=None, metadata={'description': 'request_direct_val_1'}, output_file_id=None, request_counts=BatchRequestCounts(completed=0, failed=0, total=0))\n"
     ]
    }
   ],
   "source": [
    "request_direct = create_batch_request_to_open_ai_direct_prompt(\n",
    "    list_of_prompts=prompts_val,\n",
    "    name_of_request_file=\"request_direct_val_1\",\n",
    "    description_of_request=\"request_direct_val_1\",\n",
    "    prompts=prompts_val_1\n",
    ")\n",
    "print(client.batches.retrieve(request_direct.id))"
   ]
  },
  {
   "cell_type": "code",
   "execution_count": null,
   "id": "712e27dd-5fa5-4a6a-9be3-b67979ea8f38",
   "metadata": {},
   "outputs": [],
   "source": [
    "print(client.batches.retrieve(request_direct.id))"
   ]
  },
  {
   "cell_type": "code",
   "execution_count": null,
   "id": "a4255fdc-b854-42a1-b87f-480bd34d3151",
   "metadata": {},
   "outputs": [],
   "source": [
    "pred = save_direct_prompt_to_file_and_get_predictions(\n",
    "    result_file_id=\"file-Udjo8SDegiWRbrqZMtkpwudL\",\n",
    "    result_file_name=\"batch_result_val_10_11_2024_direct_prompt\"\n",
    ")"
   ]
  },
  {
   "cell_type": "code",
   "execution_count": 73,
   "id": "ee84b1e9-a257-43ea-809d-189581763a72",
   "metadata": {},
   "outputs": [
    {
     "name": "stdout",
     "output_type": "stream",
     "text": [
      "{'Accuracy': 0.77975, 'Precision': 0.7889812889812889, 'Recall': 0.7616658304064224, 'F1 Score': 0.7750829716619861, 'ROC-AUC': None}\n",
      "\n",
      "              precision    recall  f1-score   support\n",
      "\n",
      "           0       0.77      0.80      0.78      2007\n",
      "           1       0.79      0.76      0.78      1993\n",
      "\n",
      "    accuracy                           0.78      4000\n",
      "   macro avg       0.78      0.78      0.78      4000\n",
      "weighted avg       0.78      0.78      0.78      4000\n",
      "\n"
     ]
    },
    {
     "data": {
      "image/png": "[encoded data removed]",
      "text/plain": [
       "<Figure size 640x480 with 2 Axes>"
      ]
     },
     "metadata": {},
     "output_type": "display_data"
    }
   ],
   "source": [
    "create_summary_for_model_metrics(y_val, pred, None)"
   ]
  },
  {
   "cell_type": "markdown",
   "id": "c5a958f1-8452-4e81-bf21-d053edbaa566",
   "metadata": {},
   "source": [
    "## Prompt 1b + gpt-4"
   ]
  },
  {
   "cell_type": "code",
   "execution_count": 247,
   "id": "6fa5b60c-0fb3-47cb-ab4b-af4eb7c616ff",
   "metadata": {},
   "outputs": [
    {
     "name": "stdout",
     "output_type": "stream",
     "text": [
      "Batch(id='batch_673113062ee4819084ce2e4fc9d9cdcf', completion_window='24h', created_at=1731269382, endpoint='/v1/chat/completions', input_file_id='file-U10tURP5xFyWOcLCJZyhTYDL', object='batch', status='validating', cancelled_at=None, cancelling_at=None, completed_at=None, error_file_id=None, errors=None, expired_at=None, expires_at=1731355782, failed_at=None, finalizing_at=None, in_progress_at=None, metadata={'description': 'request_direct_val_1_examples_gpt_4'}, output_file_id=None, request_counts=BatchRequestCounts(completed=0, failed=0, total=0))\n"
     ]
    }
   ],
   "source": [
    "request_direct = create_batch_request_to_open_ai_direct_prompt(\n",
    "    list_of_prompts=prompts_val,\n",
    "    name_of_request_file=\"request_direct_val_1_examples_gpt_4\",\n",
    "    description_of_request=\"request_direct_val_1_examples_gpt_4\",\n",
    "    prompts=prompts_val_1,\n",
    "    temperature=1,\n",
    "    model=\"gpt-4\"\n",
    ")\n",
    "print(client.batches.retrieve(request_direct.id))"
   ]
  },
  {
   "cell_type": "code",
   "execution_count": 250,
   "id": "af4ee55f-33c5-4780-9a20-214bed241ebe",
   "metadata": {},
   "outputs": [
    {
     "name": "stdout",
     "output_type": "stream",
     "text": [
      "Batch(id='batch_673113062ee4819084ce2e4fc9d9cdcf', completion_window='24h', created_at=1731269382, endpoint='/v1/chat/completions', input_file_id='file-U10tURP5xFyWOcLCJZyhTYDL', object='batch', status='failed', cancelled_at=None, cancelling_at=None, completed_at=None, error_file_id=None, errors=Errors(data=[BatchError(code='token_limit_exceeded', line=None, message='Enqueued token limit reached for gpt-4 in organization org-Nsc8tgmh1sooqDjRR5TIEqa5. Limit: 100,000 enqueued tokens. Please try again once some in_progress batches have been completed.', param=None)], object='list'), expired_at=None, expires_at=1731355782, failed_at=1731269443, finalizing_at=None, in_progress_at=None, metadata={'description': 'request_direct_val_1_examples_gpt_4'}, output_file_id=None, request_counts=BatchRequestCounts(completed=0, failed=0, total=0))\n"
     ]
    }
   ],
   "source": [
    "print(client.batches.retrieve(\"batch_673113062ee4819084ce2e4fc9d9cdcf\"))"
   ]
  },
  {
   "cell_type": "code",
   "execution_count": null,
   "id": "e6be122d-ded4-4354-83a9-8591ff825708",
   "metadata": {},
   "outputs": [],
   "source": [
    "pred = save_direct_prompt_to_file_and_get_predictions(\n",
    "    result_file_id=\"....\",\n",
    "    result_file_name=\"batch_result_val_10_11_2024_direct_prompt_gpt_4\"\n",
    ")"
   ]
  },
  {
   "cell_type": "code",
   "execution_count": 245,
   "id": "5012dc90-1a03-431e-924d-ab647c23e31f",
   "metadata": {},
   "outputs": [
    {
     "name": "stdout",
     "output_type": "stream",
     "text": [
      "Batch(id='batch_6731018410708190a160aec03cc758af', completion_window='24h', created_at=1731264900, endpoint='/v1/chat/completions', input_file_id='file-cwhb8H6KD4y8otQXBa9vB63E', object='batch', status='failed', cancelled_at=None, cancelling_at=None, completed_at=None, error_file_id=None, errors=Errors(data=[BatchError(code='token_limit_exceeded', line=None, message='Enqueued token limit reached for gpt-4 in organization org-Nsc8tgmh1sooqDjRR5TIEqa5. Limit: 100,000 enqueued tokens. Please try again once some in_progress batches have been completed.', param=None)], object='list'), expired_at=None, expires_at=1731351300, failed_at=1731264901, finalizing_at=None, in_progress_at=None, metadata={'description': 'request_direct_val_1_examples_gpt_4'}, output_file_id=None, request_counts=BatchRequestCounts(completed=0, failed=0, total=0))\n"
     ]
    }
   ],
   "source": [
    "create_summary_for_model_metrics(y_val, pred, None)"
   ]
  },
  {
   "cell_type": "markdown",
   "id": "702d14f6-0495-4df7-8939-a48b5c3bbc90",
   "metadata": {},
   "source": [
    "## Prompt 2 (without examples)"
   ]
  },
  {
   "cell_type": "code",
   "execution_count": 178,
   "id": "529d4022-ffcb-4b29-9d3a-f410057bb9fa",
   "metadata": {},
   "outputs": [],
   "source": [
    "prompt_2 = \"\"\"You are an assistant tasked with classifying article titles as either clickbait or legitimate. \n",
    "Your response should be precise and straightforward: respond with only \"1\" if the news title appears to be clickbait, and only \"0\" if it seems legitimate. \n",
    "Do not include any additional text, explanations, or reasoning in your response.\n",
    "\n",
    "Here is the title that you need to classify: \n",
    "\"\"\""
   ]
  },
  {
   "cell_type": "code",
   "execution_count": 179,
   "id": "9a02c139-7cc1-4bd4-a421-0a55d5a21af9",
   "metadata": {},
   "outputs": [],
   "source": [
    "prompts_val = [str(prompt_2 + title) for title in x_val.tolist()]"
   ]
  },
  {
   "cell_type": "code",
   "execution_count": 181,
   "id": "0f888ee9-b3c2-4a6b-a5cb-a68772b18b27",
   "metadata": {},
   "outputs": [
    {
     "name": "stdout",
     "output_type": "stream",
     "text": [
      "Batch(id='batch_6730f0b2e9d08190a83af32770de5b04', completion_window='24h', created_at=1731260594, endpoint='/v1/chat/completions', input_file_id='file-4ppQnSHXBwBaFEDD4eTC7n5E', object='batch', status='validating', cancelled_at=None, cancelling_at=None, completed_at=None, error_file_id=None, errors=None, expired_at=None, expires_at=1731346994, failed_at=None, finalizing_at=None, in_progress_at=None, metadata={'description': 'request_direct_val_1_without_examples'}, output_file_id=None, request_counts=BatchRequestCounts(completed=0, failed=0, total=0))\n"
     ]
    }
   ],
   "source": [
    "request_direct = create_batch_request_to_open_ai_direct_prompt(\n",
    "    list_of_prompts=prompts_val,\n",
    "    name_of_request_file=\"request_direct_val_1_without_examples\",\n",
    "    description_of_request=\"request_direct_val_1_without_examples\",\n",
    "    prompts=prompts_val\n",
    ")\n",
    "print(client.batches.retrieve(request_direct.id))"
   ]
  },
  {
   "cell_type": "code",
   "execution_count": 202,
   "id": "0c578fc8-78e7-4aca-a9b8-e19109fc36a5",
   "metadata": {},
   "outputs": [
    {
     "name": "stdout",
     "output_type": "stream",
     "text": [
      "Batch(id='batch_6730f0b2e9d08190a83af32770de5b04', completion_window='24h', created_at=1731260594, endpoint='/v1/chat/completions', input_file_id='file-4ppQnSHXBwBaFEDD4eTC7n5E', object='batch', status='completed', cancelled_at=None, cancelling_at=None, completed_at=1731262095, error_file_id=None, errors=None, expired_at=None, expires_at=1731346994, failed_at=None, finalizing_at=1731261862, in_progress_at=1731260596, metadata={'description': 'request_direct_val_1_without_examples'}, output_file_id='file-oYWdLDxEl0To6pxs4uUKp4EN', request_counts=BatchRequestCounts(completed=4000, failed=0, total=4000))\n"
     ]
    }
   ],
   "source": [
    "print(client.batches.retrieve(\"batch_6730f0b2e9d08190a83af32770de5b04\"))"
   ]
  },
  {
   "cell_type": "code",
   "execution_count": null,
   "id": "6cedb7b3-9f49-4263-b0e6-80286b029a86",
   "metadata": {},
   "outputs": [],
   "source": [
    "pred = save_direct_prompt_to_file_and_get_predictions(\n",
    "    result_file_id=\"file-oYWdLDxEl0To6pxs4uUKp4EN\",\n",
    "    result_file_name=\"batch_result_train_10_11_2024_direct_prompt_without_examples\"\n",
    ")"
   ]
  },
  {
   "cell_type": "code",
   "execution_count": 206,
   "id": "5d4c6754-9a32-477b-9267-5c992a35f46d",
   "metadata": {},
   "outputs": [
    {
     "name": "stdout",
     "output_type": "stream",
     "text": [
      "{'Accuracy': 0.7505, 'Precision': 0.8283828382838284, 'Recall': 0.6297039638735574, 'F1 Score': 0.7155074116305586, 'ROC-AUC': None}\n",
      "\n",
      "              precision    recall  f1-score   support\n",
      "\n",
      "           0       0.70      0.87      0.78      2007\n",
      "           1       0.83      0.63      0.72      1993\n",
      "\n",
      "    accuracy                           0.75      4000\n",
      "   macro avg       0.77      0.75      0.75      4000\n",
      "weighted avg       0.77      0.75      0.75      4000\n",
      "\n"
     ]
    },
    {
     "data": {
      "image/png": "[encoded data removed]",
      "text/plain": [
       "<Figure size 640x480 with 2 Axes>"
      ]
     },
     "metadata": {},
     "output_type": "display_data"
    }
   ],
   "source": [
    "create_summary_for_model_metrics(y_val, pred, None)"
   ]
  },
  {
   "cell_type": "markdown",
   "id": "4f5b5911-5c74-4e1a-9fa4-014473e3d234",
   "metadata": {},
   "source": [
    "# Embeddings"
   ]
  },
  {
   "cell_type": "markdown",
   "id": "e25b0e52-08dc-4407-952d-17d2e69e99f4",
   "metadata": {},
   "source": [
    "## Getting embeddings for train"
   ]
  },
  {
   "cell_type": "code",
   "execution_count": 51,
   "id": "753a0229-ace8-4190-a545-7becc8ed08c6",
   "metadata": {},
   "outputs": [
    {
     "name": "stdout",
     "output_type": "stream",
     "text": [
      "Batch(id='batch_673084929d8481908234c51ca8a6d5c0', completion_window='24h', created_at=1731232914, endpoint='/v1/embeddings', input_file_id='file-dCIUNKzm2wEXHymP89cGc0ts', object='batch', status='validating', cancelled_at=None, cancelling_at=None, completed_at=None, error_file_id=None, errors=None, expired_at=None, expires_at=1731319314, failed_at=None, finalizing_at=None, in_progress_at=None, metadata={'description': 'request_embeddings_train_2_10_11_2024'}, output_file_id=None, request_counts=BatchRequestCounts(completed=0, failed=0, total=0))\n"
     ]
    }
   ],
   "source": [
    "batch_request_train = create_batch_request_to_open_ai_embeddings(\n",
    "    list_of_texts = x_train.tolist(),\n",
    "    name_of_request_file = \"request_embeddings_train_2_10_11_2024\",\n",
    "    description_of_request = \"request_embeddings_train_2_10_11_2024\"\n",
    ")\n",
    "print(batch_request_train)"
   ]
  },
  {
   "cell_type": "code",
   "execution_count": 89,
   "id": "923e6bbe-e226-4e77-8397-40edf3c592e3",
   "metadata": {},
   "outputs": [
    {
     "name": "stdout",
     "output_type": "stream",
     "text": [
      "Batch(id='batch_673084929d8481908234c51ca8a6d5c0', completion_window='24h', created_at=1731232914, endpoint='/v1/embeddings', input_file_id='file-dCIUNKzm2wEXHymP89cGc0ts', object='batch', status='completed', cancelled_at=None, cancelling_at=None, completed_at=1731238136, error_file_id=None, errors=None, expired_at=None, expires_at=1731319314, failed_at=None, finalizing_at=1731236163, in_progress_at=1731232921, metadata={'description': 'request_embeddings_train_2_10_11_2024'}, output_file_id='file-So6hTX0v7wtZsDLLAwxeXZ4R', request_counts=BatchRequestCounts(completed=32000, failed=0, total=32000))\n"
     ]
    }
   ],
   "source": [
    "print(client.batches.retrieve(\"batch_673084929d8481908234c51ca8a6d5c0\"))"
   ]
  },
  {
   "cell_type": "code",
   "execution_count": null,
   "id": "6fb13908-d5aa-4f0e-96f1-8eb1ec55cc63",
   "metadata": {},
   "outputs": [],
   "source": [
    "embeddings_x_train_df = save_embeddings_to_file_and_get_predictions(\n",
    "    result_file_id=\"file-So6hTX0v7wtZsDLLAwxeXZ4R\",\n",
    "    result_file_name=\"batch_result_train_10_11_2024\"\n",
    ")\n",
    "len(embeddings_x_train_df[0])"
   ]
  },
  {
   "cell_type": "markdown",
   "id": "2c5a506e-075b-4ed2-9598-ca3a5b1d73a1",
   "metadata": {},
   "source": [
    "## Getting embeddings for val"
   ]
  },
  {
   "cell_type": "code",
   "execution_count": 64,
   "id": "ceefc613-8661-4833-957f-40549fe91a5a",
   "metadata": {},
   "outputs": [
    {
     "name": "stdout",
     "output_type": "stream",
     "text": [
      "Batch(id='batch_672fa08e2e5c81909d6ac8306ab1c7ae', completion_window='24h', created_at=1731174542, endpoint='/v1/embeddings', input_file_id='file-P1ARKk3l9ElzZTdx8tRfa57U', object='batch', status='validating', cancelled_at=None, cancelling_at=None, completed_at=None, error_file_id=None, errors=None, expired_at=None, expires_at=1731260942, failed_at=None, finalizing_at=None, in_progress_at=None, metadata={'description': 'request_embeddings_val_1'}, output_file_id=None, request_counts=BatchRequestCounts(completed=0, failed=0, total=0))\n"
     ]
    }
   ],
   "source": [
    "batch_request_val = create_batch_request_to_open_ai_embeddings(\n",
    "    list_of_texts = x_val.tolist(),\n",
    "    name_of_request_file = \"request_embeddings_val_1\",\n",
    "    description_of_request = \"request_embeddings_val_1\"\n",
    ")\n",
    "print(batch_request_val)"
   ]
  },
  {
   "cell_type": "code",
   "execution_count": 46,
   "id": "27f4e640-51e6-4405-a907-af1b7237f1a4",
   "metadata": {},
   "outputs": [
    {
     "name": "stdout",
     "output_type": "stream",
     "text": [
      "Batch(id='batch_672fa08e2e5c81909d6ac8306ab1c7ae', completion_window='24h', created_at=1731174542, endpoint='/v1/embeddings', input_file_id='file-P1ARKk3l9ElzZTdx8tRfa57U', object='batch', status='completed', cancelled_at=None, cancelling_at=None, completed_at=1731175943, error_file_id=None, errors=None, expired_at=None, expires_at=1731260942, failed_at=None, finalizing_at=1731175703, in_progress_at=1731174543, metadata={'description': 'request_embeddings_val_1'}, output_file_id='file-Jp0FRzL4HbA1eO6SsWCHCMSc', request_counts=BatchRequestCounts(completed=4000, failed=0, total=4000))\n"
     ]
    }
   ],
   "source": [
    "print(client.batches.retrieve(\"batch_672fa08e2e5c81909d6ac8306ab1c7ae\"))"
   ]
  },
  {
   "cell_type": "code",
   "execution_count": null,
   "id": "db58b96e-19a8-4680-a49c-67491ed9b81a",
   "metadata": {},
   "outputs": [],
   "source": [
    "embeddings_x_val_df = save_embeddings_to_file_and_get_predictions(\n",
    "    result_file_id=\"file-Jp0FRzL4HbA1eO6SsWCHCMSc\",\n",
    "    result_file_name=\"batch_result_val_10_11_2024\"\n",
    ")\n",
    "len(embeddings_x_val_df[0])"
   ]
  },
  {
   "cell_type": "markdown",
   "id": "ea7c7813-675f-4743-a7b0-2164a4908d18",
   "metadata": {},
   "source": [
    "# Model fitting with embeddings"
   ]
  },
  {
   "cell_type": "markdown",
   "id": "bbbe939f-a0c2-41c6-84b0-5abb473bb225",
   "metadata": {},
   "source": [
    "## RandomForest"
   ]
  },
  {
   "cell_type": "code",
   "execution_count": 93,
   "id": "1249f186-e0f4-4c0e-93a5-4ee64aec6cf0",
   "metadata": {},
   "outputs": [],
   "source": [
    "RF = RandomForestClassifier(random_state = 0)\n",
    "RF.fit(embeddings_x_train_df, y_train)\n",
    "pred_rf = RF.predict(embeddings_x_val_df)\n",
    "pred_rf_prob = RF.predict_proba(embeddings_x_val_df)"
   ]
  },
  {
   "cell_type": "code",
   "execution_count": 94,
   "id": "33ff05ab-5a2e-46c9-867a-86922aa2787f",
   "metadata": {},
   "outputs": [
    {
     "name": "stdout",
     "output_type": "stream",
     "text": [
      "{'Accuracy': 0.85975, 'Precision': 0.8808510638297873, 'Recall': 0.8309081786251882, 'F1 Score': 0.855151045701007, 'ROC-AUC': 0.9323707965422577}\n",
      "\n",
      "              precision    recall  f1-score   support\n",
      "\n",
      "           0       0.84      0.89      0.86      2007\n",
      "           1       0.88      0.83      0.86      1993\n",
      "\n",
      "    accuracy                           0.86      4000\n",
      "   macro avg       0.86      0.86      0.86      4000\n",
      "weighted avg       0.86      0.86      0.86      4000\n",
      "\n"
     ]
    },
    {
     "data": {
      "image/png": "[encoded data removed]",
      "text/plain": [
       "<Figure size 640x480 with 2 Axes>"
      ]
     },
     "metadata": {},
     "output_type": "display_data"
    }
   ],
   "source": [
    "create_summary_for_model_metrics(y_val, pred_rf, pred_rf_prob[:,1])"
   ]
  },
  {
   "cell_type": "markdown",
   "id": "5fe8370c-9120-43eb-90a9-6fdc7421477f",
   "metadata": {},
   "source": [
    "### Xgboost"
   ]
  },
  {
   "cell_type": "code",
   "execution_count": 95,
   "id": "7a13e615-e524-4c07-adc7-cc6c12b32c5a",
   "metadata": {},
   "outputs": [],
   "source": [
    "xgb_model = xgb.XGBClassifier(random_state = 0)\n",
    "xgb_model.fit(embeddings_x_train_df, y_train)\n",
    "pred_xgb = xgb_model.predict(embeddings_x_val_df)\n",
    "pred_xgb_prob = xgb_model.predict_proba(embeddings_x_val_df)"
   ]
  },
  {
   "cell_type": "code",
   "execution_count": 96,
   "id": "73f3538a-728b-47ba-98bf-3201bc3d0a89",
   "metadata": {},
   "outputs": [
    {
     "name": "stdout",
     "output_type": "stream",
     "text": [
      "{'Accuracy': 0.8665, 'Precision': 0.8770025839793282, 'Recall': 0.8514801806322128, 'F1 Score': 0.8640529531568228, 'ROC-AUC': 0.9375123595264041}\n",
      "\n",
      "              precision    recall  f1-score   support\n",
      "\n",
      "           0       0.86      0.88      0.87      2007\n",
      "           1       0.88      0.85      0.86      1993\n",
      "\n",
      "    accuracy                           0.87      4000\n",
      "   macro avg       0.87      0.87      0.87      4000\n",
      "weighted avg       0.87      0.87      0.87      4000\n",
      "\n"
     ]
    },
    {
     "data": {
      "image/png": "[encoded data removed]",
      "text/plain": [
       "<Figure size 640x480 with 2 Axes>"
      ]
     },
     "metadata": {},
     "output_type": "display_data"
    }
   ],
   "source": [
    "create_summary_for_model_metrics(y_val, pred_xgb, pred_xgb_prob[:,1])"
   ]
  },
  {
   "cell_type": "markdown",
   "id": "e652c95a-7b29-48c8-9123-70542eb72a5b",
   "metadata": {},
   "source": [
    "## Embeddings - 1000 dimensions "
   ]
  },
  {
   "cell_type": "markdown",
   "id": "d0a8c9d6-c7fe-4112-882d-825c1173f8b9",
   "metadata": {},
   "source": [
    "## TRAIN"
   ]
  },
  {
   "cell_type": "code",
   "execution_count": 99,
   "id": "ffae0e50-bfed-4b83-a205-bc2a05533c3c",
   "metadata": {},
   "outputs": [
    {
     "name": "stdout",
     "output_type": "stream",
     "text": [
      "Batch(id='batch_6730a5575a048190a3491725d79c96b6', completion_window='24h', created_at=1731241303, endpoint='/v1/embeddings', input_file_id='file-Zfyf4wRSxtr4kzxwkXkKQT4A', object='batch', status='validating', cancelled_at=None, cancelling_at=None, completed_at=None, error_file_id=None, errors=None, expired_at=None, expires_at=1731327703, failed_at=None, finalizing_at=None, in_progress_at=None, metadata={'description': 'request_embeddings_train_2_10_11_2024_1000_dimensions'}, output_file_id=None, request_counts=BatchRequestCounts(completed=0, failed=0, total=0))\n"
     ]
    }
   ],
   "source": [
    "batch_request_train = create_batch_request_to_open_ai_embeddings(\n",
    "    list_of_texts = x_train.tolist(),\n",
    "    name_of_request_file = \"request_embeddings_train_2_10_11_2024_1000_dimensions\",\n",
    "    description_of_request = \"request_embeddings_train_2_10_11_2024_1000_dimensions\",\n",
    "    dimensions = 1000\n",
    ")\n",
    "print(batch_request_train)"
   ]
  },
  {
   "cell_type": "code",
   "execution_count": 156,
   "id": "7302d37c-99bb-47d2-bf0b-b7faf711c123",
   "metadata": {},
   "outputs": [
    {
     "name": "stdout",
     "output_type": "stream",
     "text": [
      "Batch(id='batch_6730a5575a048190a3491725d79c96b6', completion_window='24h', created_at=1731241303, endpoint='/v1/embeddings', input_file_id='file-Zfyf4wRSxtr4kzxwkXkKQT4A', object='batch', status='completed', cancelled_at=None, cancelling_at=None, completed_at=1731246542, error_file_id=None, errors=None, expired_at=None, expires_at=1731327703, failed_at=None, finalizing_at=1731244607, in_progress_at=1731241310, metadata={'description': 'request_embeddings_train_2_10_11_2024_1000_dimensions'}, output_file_id='file-PhgvSwKsX7R3ab5TDFagIsdh', request_counts=BatchRequestCounts(completed=32000, failed=0, total=32000))\n"
     ]
    }
   ],
   "source": [
    "print(client.batches.retrieve(\"batch_6730a5575a048190a3491725d79c96b6\"))"
   ]
  },
  {
   "cell_type": "code",
   "execution_count": null,
   "id": "cdd32642-215f-47cd-8080-4bbad03bd1bc",
   "metadata": {},
   "outputs": [],
   "source": [
    "embeddings_x_train_df = save_embeddings_to_file_and_get_predictions(\n",
    "    result_file_id=\"file-PhgvSwKsX7R3ab5TDFagIsdh\",\n",
    "    result_file_name=\"batch_result_train_10_11_2024_1000_dimensions\"\n",
    ")\n",
    "len(embeddings_x_train_df[0])"
   ]
  },
  {
   "cell_type": "markdown",
   "id": "489df14d-d998-450c-9350-e6dc579506be",
   "metadata": {},
   "source": [
    "## VAL"
   ]
  },
  {
   "cell_type": "code",
   "execution_count": 135,
   "id": "f0704807-d7ed-4846-bd17-32abfd772fef",
   "metadata": {},
   "outputs": [
    {
     "name": "stdout",
     "output_type": "stream",
     "text": [
      "Batch(id='batch_6730b41df5548190b56067c0d0f5070b', completion_window='24h', created_at=1731245086, endpoint='/v1/embeddings', input_file_id='file-1jNDZSvLYA5qhyy4Q9sIFkDh', object='batch', status='validating', cancelled_at=None, cancelling_at=None, completed_at=None, error_file_id=None, errors=None, expired_at=None, expires_at=1731331486, failed_at=None, finalizing_at=None, in_progress_at=None, metadata={'description': 'request_embeddings_val_2_10_11_2024_1000_dimensions'}, output_file_id=None, request_counts=BatchRequestCounts(completed=0, failed=0, total=0))\n"
     ]
    }
   ],
   "source": [
    "batch_request_val = create_batch_request_to_open_ai_embeddings(\n",
    "    list_of_texts = x_val.tolist(),\n",
    "    name_of_request_file = \"request_embeddings_val_2_10_11_2024_1000_dimensions\",\n",
    "    description_of_request = \"request_embeddings_val_2_10_11_2024_1000_dimensions\",\n",
    "    dimensions = 1000\n",
    ")\n",
    "print(batch_request_val)"
   ]
  },
  {
   "cell_type": "code",
   "execution_count": 152,
   "id": "d0055f90-08c5-4880-8dc8-47f80042e492",
   "metadata": {},
   "outputs": [
    {
     "name": "stdout",
     "output_type": "stream",
     "text": [
      "Batch(id='batch_6730b41df5548190b56067c0d0f5070b', completion_window='24h', created_at=1731245086, endpoint='/v1/embeddings', input_file_id='file-1jNDZSvLYA5qhyy4Q9sIFkDh', object='batch', status='completed', cancelled_at=None, cancelling_at=None, completed_at=1731246645, error_file_id=None, errors=None, expired_at=None, expires_at=1731331486, failed_at=None, finalizing_at=1731246410, in_progress_at=1731245087, metadata={'description': 'request_embeddings_val_2_10_11_2024_1000_dimensions'}, output_file_id='file-sDncyxaYQs1sTMW0Dfmp0Cnz', request_counts=BatchRequestCounts(completed=4000, failed=0, total=4000))\n"
     ]
    }
   ],
   "source": [
    "print(client.batches.retrieve(\"batch_6730b41df5548190b56067c0d0f5070b\"))"
   ]
  },
  {
   "cell_type": "code",
   "execution_count": null,
   "id": "e63b3a6d-ef33-457c-a697-5a80aa9c977a",
   "metadata": {},
   "outputs": [],
   "source": [
    "embeddings_x_val_df = save_embeddings_to_file_and_get_predictions(\n",
    "    result_file_id=\"file-sDncyxaYQs1sTMW0Dfmp0Cnz\",\n",
    "    result_file_name=\"batch_result_val_10_11_2024_1000_dimensions\"\n",
    ")\n",
    "len(embeddings_x_val_df[0])"
   ]
  },
  {
   "cell_type": "code",
   "execution_count": 163,
   "id": "4e67bc9e-3950-4cf4-9660-d4d4a537a0d1",
   "metadata": {},
   "outputs": [
    {
     "name": "stdout",
     "output_type": "stream",
     "text": [
      "{'Accuracy': 0.8575, 'Precision': 0.8758584257791865, 'Recall': 0.8319116909182137, 'F1 Score': 0.8533196088522902, 'ROC-AUC': 0.9309964047059577}\n",
      "\n",
      "              precision    recall  f1-score   support\n",
      "\n",
      "           0       0.84      0.88      0.86      2007\n",
      "           1       0.88      0.83      0.85      1993\n",
      "\n",
      "    accuracy                           0.86      4000\n",
      "   macro avg       0.86      0.86      0.86      4000\n",
      "weighted avg       0.86      0.86      0.86      4000\n",
      "\n"
     ]
    },
    {
     "data": {
      "image/png": "[encoded data removed]",
      "text/plain": [
       "<Figure size 640x480 with 2 Axes>"
      ]
     },
     "metadata": {},
     "output_type": "display_data"
    }
   ],
   "source": [
    "RF = RandomForestClassifier(random_state = 0)\n",
    "RF.fit(embeddings_x_train_df, y_train)\n",
    "pred_rf = RF.predict(embeddings_x_val_df)\n",
    "pred_rf_prob = RF.predict_proba(embeddings_x_val_df)\n",
    "create_summary_for_model_metrics(y_val, pred_rf, pred_rf_prob[:,1])"
   ]
  },
  {
   "cell_type": "code",
   "execution_count": 164,
   "id": "621a527b-ebd7-49a7-ac86-56091a490cca",
   "metadata": {},
   "outputs": [
    {
     "name": "stdout",
     "output_type": "stream",
     "text": [
      "{'Accuracy': 0.8595, 'Precision': 0.8659846547314578, 'Recall': 0.8494731560461616, 'F1 Score': 0.8576494427558258, 'ROC-AUC': 0.9342329443535684}\n",
      "\n",
      "              precision    recall  f1-score   support\n",
      "\n",
      "           0       0.85      0.87      0.86      2007\n",
      "           1       0.87      0.85      0.86      1993\n",
      "\n",
      "    accuracy                           0.86      4000\n",
      "   macro avg       0.86      0.86      0.86      4000\n",
      "weighted avg       0.86      0.86      0.86      4000\n",
      "\n"
     ]
    },
    {
     "data": {
      "image/png": "[encoded data removed]",
      "text/plain": [
       "<Figure size 640x480 with 2 Axes>"
      ]
     },
     "metadata": {},
     "output_type": "display_data"
    }
   ],
   "source": [
    "xgb_model = xgb.XGBClassifier(random_state = 0)\n",
    "xgb_model.fit(embeddings_x_train_df, y_train)\n",
    "pred_xgb = xgb_model.predict(embeddings_x_val_df)\n",
    "pred_xgb_prob = xgb_model.predict_proba(embeddings_x_val_df)\n",
    "create_summary_for_model_metrics(y_val, pred_xgb, pred_xgb_prob[:,1])"
   ]
  },
  {
   "cell_type": "code",
   "execution_count": null,
   "id": "9164ed42-e2f0-464b-bb36-d9c003a0ad8e",
   "metadata": {},
   "outputs": [],
   "source": []
  }
 ],
 "metadata": {
  "kernelspec": {
   "display_name": "Python 3 (ipykernel)",
   "language": "python",
   "name": "python3"
  },
  "language_info": {
   "codemirror_mode": {
    "name": "ipython",
    "version": 3
   },
   "file_extension": ".py",
   "mimetype": "text/x-python",
   "name": "python",
   "nbconvert_exporter": "python",
   "pygments_lexer": "ipython3",
   "version": "3.11.9"
  }
 },
 "nbformat": 4,
 "nbformat_minor": 5
}
