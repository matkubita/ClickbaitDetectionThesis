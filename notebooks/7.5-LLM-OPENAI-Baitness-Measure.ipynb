{
 "cells": [
  {
   "cell_type": "code",
   "execution_count": 1,
   "id": "5de71ed2-cb39-4a3c-b7ca-b20344e18e99",
   "metadata": {},
   "outputs": [],
   "source": [
    "# DATA PROCESSING, VISUALIZATION\n",
    "import pandas as pd\n",
    "import matplotlib.pyplot as plt\n",
    "import numpy as np\n",
    "import random\n",
    "import seaborn as sns\n",
    "import string\n",
    "import re\n",
    "\n",
    "# MODELS, MODEL EVALUATION\n",
    "from openai import OpenAI\n",
    "import xgboost as xgb\n",
    "from sklearn.ensemble import RandomForestClassifier\n",
    "from sklearn.metrics import confusion_matrix, ConfusionMatrixDisplay\n",
    "from sklearn.model_selection import train_test_split\n",
    "from sklearn.metrics import accuracy_score\n",
    "from sklearn.metrics import classification_report\n",
    "from sklearn.model_selection import GridSearchCV\n",
    "\n",
    "import os\n",
    "import json\n",
    "from typing import List\n",
    "import requests\n",
    "import pickle\n",
    "import time\n",
    "from tqdm import tqdm"
   ]
  },
  {
   "cell_type": "code",
   "execution_count": 2,
   "id": "29ce3d62-5190-47d9-af92-d5704989c32b",
   "metadata": {},
   "outputs": [
    {
     "name": "stderr",
     "output_type": "stream",
     "text": [
      "[nltk_data] Downloading package stopwords to\n",
      "[nltk_data]     C:\\Users\\Mateusz\\AppData\\Roaming\\nltk_data...\n",
      "[nltk_data]   Package stopwords is already up-to-date!\n",
      "[nltk_data] Downloading package punkt_tab to\n",
      "[nltk_data]     C:\\Users\\Mateusz\\AppData\\Roaming\\nltk_data...\n",
      "[nltk_data]   Package punkt_tab is already up-to-date!\n",
      "[nltk_data] Downloading package averaged_perceptron_tagger_eng to\n",
      "[nltk_data]     C:\\Users\\Mateusz\\AppData\\Roaming\\nltk_data...\n",
      "[nltk_data]   Package averaged_perceptron_tagger_eng is already up-to-\n",
      "[nltk_data]       date!\n"
     ]
    }
   ],
   "source": [
    "import measure\n",
    "from measure import baitness_measure"
   ]
  },
  {
   "cell_type": "code",
   "execution_count": 3,
   "id": "d2bf7e77-da89-4841-b736-b7b2863b354e",
   "metadata": {},
   "outputs": [],
   "source": [
    "df_merged = pd.read_csv(\"../data/merged_datasetes_balanced_huge.csv\")"
   ]
  },
  {
   "cell_type": "code",
   "execution_count": 4,
   "id": "9871fd6e-1bf4-4588-9ab1-acc4d9e467eb",
   "metadata": {},
   "outputs": [],
   "source": [
    "%run 0-Function-Helper.ipynb"
   ]
  },
  {
   "cell_type": "code",
   "execution_count": 5,
   "id": "30e73a27-f411-4be5-a5bf-843b963e5cf5",
   "metadata": {},
   "outputs": [],
   "source": [
    "x_train, x_test, y_train, y_test = train_test_split(\n",
    "    df_merged[\"title\"], \n",
    "    df_merged[\"clickbait\"],\n",
    "    test_size=0.2, \n",
    "    random_state=42\n",
    ")\n",
    "\n",
    "x_test, x_val, y_test, y_val = train_test_split(\n",
    "    x_test, \n",
    "    y_test,\n",
    "    test_size=0.5,  # 50% of the original x_test size for validation\n",
    "    random_state=42,\n",
    "    stratify=y_test\n",
    ")"
   ]
  },
  {
   "cell_type": "code",
   "execution_count": 6,
   "id": "35f6f294-9655-4505-9cce-91654fa4e445",
   "metadata": {},
   "outputs": [],
   "source": [
    "with open(\"../file_path.txt\", 'r') as file:\n",
    "    file_path = file.read()\n",
    "\n",
    "with open(file_path, 'r') as file:\n",
    "    api_key = file.read()\n",
    "\n",
    "client = OpenAI(\n",
    "    api_key=api_key,\n",
    ")"
   ]
  },
  {
   "cell_type": "markdown",
   "id": "5fa440ff-08a8-4cfc-b4d3-a93a67904b92",
   "metadata": {},
   "source": [
    "## 1000 dimensions"
   ]
  },
  {
   "cell_type": "code",
   "execution_count": 7,
   "id": "84078946-ae7c-4894-8f40-6593f9aadffa",
   "metadata": {},
   "outputs": [
    {
     "name": "stderr",
     "output_type": "stream",
     "text": [
      "32000it [00:11, 2761.95it/s]\n",
      "4000it [00:01, 2808.99it/s]\n"
     ]
    }
   ],
   "source": [
    "result_file_name = \"batch_result_train_10_11_2024_1000_dimensions\"\n",
    "result_file_name = f\"../request_files_openai/{result_file_name}.jsonl\"\n",
    "embeddings_x_train_df_1000 = []\n",
    "with open(result_file_name, 'r') as file:\n",
    "    for line in tqdm(file):\n",
    "        emb = json.loads(line.strip())['response']['body']['data'][0]['embedding']\n",
    "        embeddings_x_train_df_1000.append(emb)\n",
    "\n",
    "\n",
    "result_file_name = \"batch_result_val_10_11_2024_1000_dimensions\"\n",
    "result_file_name = f\"../request_files_openai/{result_file_name}.jsonl\"\n",
    "embeddings_x_val_df_1000 = []\n",
    "with open(result_file_name, 'r') as file:\n",
    "    for line in tqdm(file):\n",
    "        emb = json.loads(line.strip())['response']['body']['data'][0]['embedding']\n",
    "        embeddings_x_val_df_1000.append(emb)"
   ]
  },
  {
   "cell_type": "markdown",
   "id": "4339647f-a866-4a34-8532-1a69cbec519e",
   "metadata": {},
   "source": [
    "## Training with baitness score"
   ]
  },
  {
   "cell_type": "code",
   "execution_count": 16,
   "id": "a30f0903-4972-4c4f-82a0-e9ada2104ddd",
   "metadata": {},
   "outputs": [],
   "source": [
    "def add_baitness_measure(x_data, x_vect):\n",
    "    # Compute baitness measure and combine with vectorized data\n",
    "    baitness_column = x_data.apply(baitness_measure).reset_index(drop=True)\n",
    "    x_vect_and_bait = pd.DataFrame(x_vect)\n",
    "    x_vect_and_bait['baitness_value'] = baitness_column.values  # Avoid extra reindexing\n",
    "    x_vect_and_bait.columns = range(x_vect_and_bait.shape[1])  # Standardize column names\n",
    "    return x_vect_and_bait"
   ]
  },
  {
   "cell_type": "code",
   "execution_count": 17,
   "id": "9308335d-8b8c-439f-859a-d5dee7f048c8",
   "metadata": {},
   "outputs": [],
   "source": [
    "x_vect_and_baitness_measure = add_baitness_measure(x_train, embeddings_x_train_df_1000)\n",
    "x_val_vect_and_bait = add_baitness_measure(x_val, embeddings_x_val_df_1000)"
   ]
  },
  {
   "cell_type": "code",
   "execution_count": 18,
   "id": "96df56d3-ca78-4910-b396-0ea04926c9fd",
   "metadata": {},
   "outputs": [
    {
     "name": "stdout",
     "output_type": "stream",
     "text": [
      "0.88 & 0.897 & 0.858 & 0.877 & 0.949 \\\n",
      "{'Accuracy': 0.88025, 'Precision': 0.8971668415529905, 'Recall': 0.8580030105368791, 'F1 Score': 0.8771479866632469, 'ROC-AUC': 0.9493562546141191}\n",
      "\n",
      "              precision    recall  f1-score   support\n",
      "\n",
      "           0       0.86      0.90      0.88      2007\n",
      "           1       0.90      0.86      0.88      1993\n",
      "\n",
      "    accuracy                           0.88      4000\n",
      "   macro avg       0.88      0.88      0.88      4000\n",
      "weighted avg       0.88      0.88      0.88      4000\n",
      "\n"
     ]
    },
    {
     "data": {
      "image/png": "[encoded data removed]",
      "text/plain": [
       "<Figure size 640x480 with 2 Axes>"
      ]
     },
     "metadata": {},
     "output_type": "display_data"
    }
   ],
   "source": [
    "RF = RandomForestClassifier(random_state = 0)\n",
    "RF.fit(x_vect_and_baitness_measure, y_train)\n",
    "pred_rf = RF.predict(x_val_vect_and_bait)\n",
    "pred_rf_prob = RF.predict_proba(x_val_vect_and_bait)\n",
    "create_summary_for_model_metrics(y_val, pred_rf, pred_rf_prob[:,1])"
   ]
  },
  {
   "cell_type": "code",
   "execution_count": 19,
   "id": "c4f4ffba-3abe-4eea-aa0c-0d9c9d77e984",
   "metadata": {},
   "outputs": [
    {
     "name": "stdout",
     "output_type": "stream",
     "text": [
      "0.886 & 0.887 & 0.882 & 0.885 & 0.954 \\\n",
      "{'Accuracy': 0.8855, 'Precision': 0.8874305906108026, 'Recall': 0.8820873055694932, 'F1 Score': 0.8847508807247108, 'ROC-AUC': 0.9541335631361485}\n",
      "\n",
      "              precision    recall  f1-score   support\n",
      "\n",
      "           0       0.88      0.89      0.89      2007\n",
      "           1       0.89      0.88      0.88      1993\n",
      "\n",
      "    accuracy                           0.89      4000\n",
      "   macro avg       0.89      0.89      0.89      4000\n",
      "weighted avg       0.89      0.89      0.89      4000\n",
      "\n"
     ]
    },
    {
     "data": {
      "image/png": "[encoded data removed]",
      "text/plain": [
       "<Figure size 640x480 with 2 Axes>"
      ]
     },
     "metadata": {},
     "output_type": "display_data"
    }
   ],
   "source": [
    "xgb_model = xgb.XGBClassifier(random_state = 0)\n",
    "xgb_model.fit(x_vect_and_baitness_measure, y_train)\n",
    "pred_xgb = xgb_model.predict(x_val_vect_and_bait)\n",
    "pred_xgb_prob = xgb_model.predict_proba(x_val_vect_and_bait)\n",
    "create_summary_for_model_metrics(y_val, pred_xgb, pred_xgb_prob[:,1])"
   ]
  },
  {
   "cell_type": "markdown",
   "id": "bd928d8b-5ec0-405f-94c8-2d186974642a",
   "metadata": {},
   "source": [
    "## 3000 dimensions"
   ]
  },
  {
   "cell_type": "code",
   "execution_count": 66,
   "id": "53a02675-165c-4f12-93b4-8151fa9fdfb5",
   "metadata": {},
   "outputs": [
    {
     "name": "stderr",
     "output_type": "stream",
     "text": [
      "32000it [00:35, 895.85it/s]\n",
      "4000it [00:04, 889.86it/s]\n"
     ]
    }
   ],
   "source": [
    "result_file_name = \"batch_result_train_10_11_2024\"\n",
    "result_file_name = f\"../request_files_openai/{result_file_name}.jsonl\"\n",
    "embeddings_x_train_df_3000 = []\n",
    "with open(result_file_name, 'r') as file:\n",
    "    for line in tqdm(file):\n",
    "        emb = json.loads(line.strip())['response']['body']['data'][0]['embedding']\n",
    "        embeddings_x_train_df_3000.append(emb)\n",
    "\n",
    "result_file_name = \"batch_result_val_10_11_2024\"\n",
    "result_file_name = f\"../request_files_openai/{result_file_name}.jsonl\"\n",
    "embeddings_x_val_df_3000 = []\n",
    "with open(result_file_name, 'r') as file:\n",
    "    for line in tqdm(file):\n",
    "        emb = json.loads(line.strip())['response']['body']['data'][0]['embedding']\n",
    "        embeddings_x_val_df_3000.append(emb)"
   ]
  },
  {
   "cell_type": "code",
   "execution_count": 21,
   "id": "f63115ff-6744-4d72-8ff6-d5d2fa9c0bfd",
   "metadata": {},
   "outputs": [],
   "source": [
    "x_vect_and_baitness_measure = add_baitness_measure(x_train, embeddings_x_train_df_3000)\n",
    "x_val_vect_and_bait = add_baitness_measure(x_val, embeddings_x_val_df_3000)"
   ]
  },
  {
   "cell_type": "code",
   "execution_count": 22,
   "id": "8b6f314c-9612-4b28-8293-39f664157ca1",
   "metadata": {},
   "outputs": [
    {
     "name": "stdout",
     "output_type": "stream",
     "text": [
      "0.878 & 0.897 & 0.851 & 0.874 & 0.949 \\\n",
      "{'Accuracy': 0.8775, 'Precision': 0.8974087784241143, 'Recall': 0.8514801806322128, 'F1 Score': 0.8738414006179197, 'ROC-AUC': 0.9485984953315679}\n",
      "\n",
      "              precision    recall  f1-score   support\n",
      "\n",
      "           0       0.86      0.90      0.88      2007\n",
      "           1       0.90      0.85      0.87      1993\n",
      "\n",
      "    accuracy                           0.88      4000\n",
      "   macro avg       0.88      0.88      0.88      4000\n",
      "weighted avg       0.88      0.88      0.88      4000\n",
      "\n"
     ]
    },
    {
     "data": {
      "image/png": "[encoded data removed]",
      "text/plain": [
       "<Figure size 640x480 with 2 Axes>"
      ]
     },
     "metadata": {},
     "output_type": "display_data"
    }
   ],
   "source": [
    "RF = RandomForestClassifier(random_state = 0)\n",
    "RF.fit(x_vect_and_baitness_measure, y_train)\n",
    "pred_rf = RF.predict(x_val_vect_and_bait)\n",
    "pred_rf_prob = RF.predict_proba(x_val_vect_and_bait)\n",
    "create_summary_for_model_metrics(y_val, pred_rf, pred_rf_prob[:,1])"
   ]
  },
  {
   "cell_type": "code",
   "execution_count": 23,
   "id": "98f773ef-fce1-4ff7-91a5-6536d48f795a",
   "metadata": {},
   "outputs": [
    {
     "name": "stdout",
     "output_type": "stream",
     "text": [
      "0.889 & 0.895 & 0.881 & 0.888 & 0.957 \\\n",
      "{'Accuracy': 0.889, 'Precision': 0.8945491594498217, 'Recall': 0.8810837932764677, 'F1 Score': 0.8877654196157736, 'ROC-AUC': 0.9572529763489603}\n",
      "\n",
      "              precision    recall  f1-score   support\n",
      "\n",
      "           0       0.88      0.90      0.89      2007\n",
      "           1       0.89      0.88      0.89      1993\n",
      "\n",
      "    accuracy                           0.89      4000\n",
      "   macro avg       0.89      0.89      0.89      4000\n",
      "weighted avg       0.89      0.89      0.89      4000\n",
      "\n"
     ]
    },
    {
     "data": {
      "image/png": "[encoded data removed]",
      "text/plain": [
       "<Figure size 640x480 with 2 Axes>"
      ]
     },
     "metadata": {},
     "output_type": "display_data"
    }
   ],
   "source": [
    "xgb_model = xgb.XGBClassifier(random_state = 0)\n",
    "xgb_model.fit(x_vect_and_baitness_measure, y_train)\n",
    "pred_xgb = xgb_model.predict(x_val_vect_and_bait)\n",
    "pred_xgb_prob = xgb_model.predict_proba(x_val_vect_and_bait)\n",
    "create_summary_for_model_metrics(y_val, pred_xgb, pred_xgb_prob[:,1])"
   ]
  },
  {
   "cell_type": "markdown",
   "id": "2ebc7405-00cf-4c25-9f3c-7cb775e07f8c",
   "metadata": {},
   "source": [
    "## Training with multiple informativeness measures"
   ]
  },
  {
   "cell_type": "markdown",
   "id": "36da06bf-eab6-4c1a-95e2-6d787b71c8be",
   "metadata": {},
   "source": [
    "## 1000 dimensions"
   ]
  },
  {
   "cell_type": "code",
   "execution_count": 8,
   "id": "1b856581-0d18-4078-83f6-6856a99c6df0",
   "metadata": {},
   "outputs": [],
   "source": [
    "metrics_functions = {\n",
    "    \"n_words\": measure.words_count,\n",
    "    \"cw_percentage\": measure.common_words_ratio,\n",
    "    \"capitals_ratio\": measure.capital_letters_ratio,\n",
    "    \"capitals_count\":measure.capital_words_count,\n",
    "    \"bait_punct\": measure.clickbait_punctuation_count,\n",
    "    \"nonbait_punct\": measure.nonclickbait_punctuation_count,\n",
    "    \"numbers\": measure.numbers_count,\n",
    "    \"2nd_pronouns\": measure.pronouns_2nd_person_count,\n",
    "    \"superlatives\": measure.superlatives_ratio,\n",
    "    \"speculatives\": measure.speculatives_count,\n",
    "    \"bait_words\": measure.baiting_words_count,\n",
    "    \"polarity\": measure.polarity_score,\n",
    "    \"subjectivity\": measure.subjectivity_score,\n",
    "    \"fres\": measure.flesch_reading_ease_score,\n",
    "    \"batness_measures\": baitness_measure,\n",
    "}\n"
   ]
  },
  {
   "cell_type": "code",
   "execution_count": 9,
   "id": "431d2f56-7476-467e-b735-fa925e422cff",
   "metadata": {},
   "outputs": [],
   "source": [
    "def add_baitness_measure(x_data, x_df_emb, function_, function_name):\n",
    "    baitness_column = x_data.apply(function_).reset_index(drop=True)\n",
    "    x_df_emb[function_name] = baitness_column.values  # Avoid extra reindexing\n",
    "    return x_df_emb"
   ]
  },
  {
   "cell_type": "code",
   "execution_count": 10,
   "id": "94e28f55-6a30-4887-b49e-d3f47944fd14",
   "metadata": {},
   "outputs": [],
   "source": [
    "embeddings_x_train_df_1000_with_measures = pd.DataFrame(embeddings_x_train_df_1000)\n",
    "for function_name, function in metrics_functions.items():\n",
    "    embeddings_x_train_df_1000_with_measures = add_baitness_measure(x_train, embeddings_x_train_df_1000_with_measures, function, function_name)\n",
    "\n",
    "embeddings_x_val_df_1000_with_measures = pd.DataFrame(embeddings_x_val_df_1000)\n",
    "for function_name, function in metrics_functions.items():\n",
    "    embeddings_x_val_df_1000_with_measures = add_baitness_measure(x_val, embeddings_x_val_df_1000_with_measures, function, function_name)"
   ]
  },
  {
   "cell_type": "code",
   "execution_count": 11,
   "id": "07583ee0-393f-4867-a8fc-6b726ca8f111",
   "metadata": {
    "scrolled": true
   },
   "outputs": [
    {
     "data": {
      "text/html": [
       "<div>\n",
       "<style scoped>\n",
       "    .dataframe tbody tr th:only-of-type {\n",
       "        vertical-align: middle;\n",
       "    }\n",
       "\n",
       "    .dataframe tbody tr th {\n",
       "        vertical-align: top;\n",
       "    }\n",
       "\n",
       "    .dataframe thead th {\n",
       "        text-align: right;\n",
       "    }\n",
       "</style>\n",
       "<table border=\"1\" class=\"dataframe\">\n",
       "  <thead>\n",
       "    <tr style=\"text-align: right;\">\n",
       "      <th></th>\n",
       "      <th>0</th>\n",
       "      <th>1</th>\n",
       "      <th>2</th>\n",
       "      <th>3</th>\n",
       "      <th>4</th>\n",
       "      <th>5</th>\n",
       "      <th>6</th>\n",
       "      <th>7</th>\n",
       "      <th>8</th>\n",
       "      <th>9</th>\n",
       "      <th>...</th>\n",
       "      <th>nonbait_punct</th>\n",
       "      <th>numbers</th>\n",
       "      <th>2nd_pronouns</th>\n",
       "      <th>superlatives</th>\n",
       "      <th>speculatives</th>\n",
       "      <th>bait_words</th>\n",
       "      <th>polarity</th>\n",
       "      <th>subjectivity</th>\n",
       "      <th>fres</th>\n",
       "      <th>batness_measures</th>\n",
       "    </tr>\n",
       "  </thead>\n",
       "  <tbody>\n",
       "    <tr>\n",
       "      <th>0</th>\n",
       "      <td>-0.024125</td>\n",
       "      <td>-0.066810</td>\n",
       "      <td>-0.018174</td>\n",
       "      <td>-0.008578</td>\n",
       "      <td>-0.042817</td>\n",
       "      <td>-0.025238</td>\n",
       "      <td>0.076920</td>\n",
       "      <td>0.036215</td>\n",
       "      <td>-0.027859</td>\n",
       "      <td>0.009629</td>\n",
       "      <td>...</td>\n",
       "      <td>0</td>\n",
       "      <td>0</td>\n",
       "      <td>0</td>\n",
       "      <td>0.000000</td>\n",
       "      <td>0</td>\n",
       "      <td>0</td>\n",
       "      <td>0.000000</td>\n",
       "      <td>0.000000</td>\n",
       "      <td>63.36</td>\n",
       "      <td>0.141853</td>\n",
       "    </tr>\n",
       "    <tr>\n",
       "      <th>1</th>\n",
       "      <td>0.035256</td>\n",
       "      <td>0.023147</td>\n",
       "      <td>-0.012991</td>\n",
       "      <td>-0.013152</td>\n",
       "      <td>-0.056851</td>\n",
       "      <td>0.008751</td>\n",
       "      <td>-0.015345</td>\n",
       "      <td>0.050146</td>\n",
       "      <td>-0.004717</td>\n",
       "      <td>-0.002510</td>\n",
       "      <td>...</td>\n",
       "      <td>2</td>\n",
       "      <td>0</td>\n",
       "      <td>0</td>\n",
       "      <td>0.000000</td>\n",
       "      <td>0</td>\n",
       "      <td>0</td>\n",
       "      <td>0.230000</td>\n",
       "      <td>0.370000</td>\n",
       "      <td>52.87</td>\n",
       "      <td>0.154261</td>\n",
       "    </tr>\n",
       "    <tr>\n",
       "      <th>2</th>\n",
       "      <td>0.009653</td>\n",
       "      <td>-0.036139</td>\n",
       "      <td>-0.021925</td>\n",
       "      <td>-0.022145</td>\n",
       "      <td>0.031028</td>\n",
       "      <td>0.010248</td>\n",
       "      <td>0.021156</td>\n",
       "      <td>0.022731</td>\n",
       "      <td>0.002260</td>\n",
       "      <td>0.021137</td>\n",
       "      <td>...</td>\n",
       "      <td>1</td>\n",
       "      <td>0</td>\n",
       "      <td>0</td>\n",
       "      <td>0.000000</td>\n",
       "      <td>0</td>\n",
       "      <td>0</td>\n",
       "      <td>0.000000</td>\n",
       "      <td>0.000000</td>\n",
       "      <td>52.87</td>\n",
       "      <td>0.111280</td>\n",
       "    </tr>\n",
       "    <tr>\n",
       "      <th>3</th>\n",
       "      <td>-0.027686</td>\n",
       "      <td>0.008709</td>\n",
       "      <td>-0.016980</td>\n",
       "      <td>0.014564</td>\n",
       "      <td>0.016205</td>\n",
       "      <td>-0.040673</td>\n",
       "      <td>-0.009895</td>\n",
       "      <td>0.009411</td>\n",
       "      <td>-0.044174</td>\n",
       "      <td>0.026592</td>\n",
       "      <td>...</td>\n",
       "      <td>0</td>\n",
       "      <td>0</td>\n",
       "      <td>1</td>\n",
       "      <td>0.333333</td>\n",
       "      <td>0</td>\n",
       "      <td>0</td>\n",
       "      <td>0.200000</td>\n",
       "      <td>0.200000</td>\n",
       "      <td>68.77</td>\n",
       "      <td>0.373094</td>\n",
       "    </tr>\n",
       "    <tr>\n",
       "      <th>4</th>\n",
       "      <td>-0.011716</td>\n",
       "      <td>-0.011513</td>\n",
       "      <td>-0.029347</td>\n",
       "      <td>-0.034509</td>\n",
       "      <td>-0.014521</td>\n",
       "      <td>0.055320</td>\n",
       "      <td>0.012997</td>\n",
       "      <td>0.031014</td>\n",
       "      <td>0.016320</td>\n",
       "      <td>0.075847</td>\n",
       "      <td>...</td>\n",
       "      <td>0</td>\n",
       "      <td>0</td>\n",
       "      <td>2</td>\n",
       "      <td>0.000000</td>\n",
       "      <td>0</td>\n",
       "      <td>4</td>\n",
       "      <td>0.166667</td>\n",
       "      <td>0.166667</td>\n",
       "      <td>95.17</td>\n",
       "      <td>0.549022</td>\n",
       "    </tr>\n",
       "  </tbody>\n",
       "</table>\n",
       "<p>5 rows × 1015 columns</p>\n",
       "</div>"
      ],
      "text/plain": [
       "          0         1         2         3         4         5         6  \\\n",
       "0 -0.024125 -0.066810 -0.018174 -0.008578 -0.042817 -0.025238  0.076920   \n",
       "1  0.035256  0.023147 -0.012991 -0.013152 -0.056851  0.008751 -0.015345   \n",
       "2  0.009653 -0.036139 -0.021925 -0.022145  0.031028  0.010248  0.021156   \n",
       "3 -0.027686  0.008709 -0.016980  0.014564  0.016205 -0.040673 -0.009895   \n",
       "4 -0.011716 -0.011513 -0.029347 -0.034509 -0.014521  0.055320  0.012997   \n",
       "\n",
       "          7         8         9  ...  nonbait_punct  numbers  2nd_pronouns  \\\n",
       "0  0.036215 -0.027859  0.009629  ...              0        0             0   \n",
       "1  0.050146 -0.004717 -0.002510  ...              2        0             0   \n",
       "2  0.022731  0.002260  0.021137  ...              1        0             0   \n",
       "3  0.009411 -0.044174  0.026592  ...              0        0             1   \n",
       "4  0.031014  0.016320  0.075847  ...              0        0             2   \n",
       "\n",
       "   superlatives  speculatives  bait_words  polarity  subjectivity   fres  \\\n",
       "0      0.000000             0           0  0.000000      0.000000  63.36   \n",
       "1      0.000000             0           0  0.230000      0.370000  52.87   \n",
       "2      0.000000             0           0  0.000000      0.000000  52.87   \n",
       "3      0.333333             0           0  0.200000      0.200000  68.77   \n",
       "4      0.000000             0           4  0.166667      0.166667  95.17   \n",
       "\n",
       "   batness_measures  \n",
       "0          0.141853  \n",
       "1          0.154261  \n",
       "2          0.111280  \n",
       "3          0.373094  \n",
       "4          0.549022  \n",
       "\n",
       "[5 rows x 1015 columns]"
      ]
     },
     "execution_count": 11,
     "metadata": {},
     "output_type": "execute_result"
    }
   ],
   "source": [
    "embeddings_x_train_df_1000_with_measures.head()"
   ]
  },
  {
   "cell_type": "code",
   "execution_count": 12,
   "id": "2114c98d-a6d3-4222-b8c0-d765b4e13883",
   "metadata": {},
   "outputs": [
    {
     "data": {
      "text/html": [
       "<div>\n",
       "<style scoped>\n",
       "    .dataframe tbody tr th:only-of-type {\n",
       "        vertical-align: middle;\n",
       "    }\n",
       "\n",
       "    .dataframe tbody tr th {\n",
       "        vertical-align: top;\n",
       "    }\n",
       "\n",
       "    .dataframe thead th {\n",
       "        text-align: right;\n",
       "    }\n",
       "</style>\n",
       "<table border=\"1\" class=\"dataframe\">\n",
       "  <thead>\n",
       "    <tr style=\"text-align: right;\">\n",
       "      <th></th>\n",
       "      <th>0</th>\n",
       "      <th>1</th>\n",
       "      <th>2</th>\n",
       "      <th>3</th>\n",
       "      <th>4</th>\n",
       "      <th>5</th>\n",
       "      <th>6</th>\n",
       "      <th>7</th>\n",
       "      <th>8</th>\n",
       "      <th>9</th>\n",
       "      <th>...</th>\n",
       "      <th>nonbait_punct</th>\n",
       "      <th>numbers</th>\n",
       "      <th>2nd_pronouns</th>\n",
       "      <th>superlatives</th>\n",
       "      <th>speculatives</th>\n",
       "      <th>bait_words</th>\n",
       "      <th>polarity</th>\n",
       "      <th>subjectivity</th>\n",
       "      <th>fres</th>\n",
       "      <th>batness_measures</th>\n",
       "    </tr>\n",
       "  </thead>\n",
       "  <tbody>\n",
       "    <tr>\n",
       "      <th>0</th>\n",
       "      <td>-0.032989</td>\n",
       "      <td>0.016568</td>\n",
       "      <td>-0.021444</td>\n",
       "      <td>-0.031382</td>\n",
       "      <td>-0.001429</td>\n",
       "      <td>-0.039823</td>\n",
       "      <td>-0.036443</td>\n",
       "      <td>0.033266</td>\n",
       "      <td>0.018766</td>\n",
       "      <td>0.006017</td>\n",
       "      <td>...</td>\n",
       "      <td>1</td>\n",
       "      <td>0</td>\n",
       "      <td>0</td>\n",
       "      <td>0.0</td>\n",
       "      <td>1</td>\n",
       "      <td>0</td>\n",
       "      <td>0.00</td>\n",
       "      <td>0.00</td>\n",
       "      <td>61.33</td>\n",
       "      <td>0.265605</td>\n",
       "    </tr>\n",
       "    <tr>\n",
       "      <th>1</th>\n",
       "      <td>-0.018057</td>\n",
       "      <td>-0.009831</td>\n",
       "      <td>-0.018088</td>\n",
       "      <td>0.003290</td>\n",
       "      <td>0.004031</td>\n",
       "      <td>-0.010332</td>\n",
       "      <td>-0.043639</td>\n",
       "      <td>0.038486</td>\n",
       "      <td>-0.053087</td>\n",
       "      <td>-0.021840</td>\n",
       "      <td>...</td>\n",
       "      <td>0</td>\n",
       "      <td>0</td>\n",
       "      <td>0</td>\n",
       "      <td>0.0</td>\n",
       "      <td>2</td>\n",
       "      <td>0</td>\n",
       "      <td>0.35</td>\n",
       "      <td>0.65</td>\n",
       "      <td>72.32</td>\n",
       "      <td>0.499703</td>\n",
       "    </tr>\n",
       "    <tr>\n",
       "      <th>2</th>\n",
       "      <td>-0.025451</td>\n",
       "      <td>-0.041972</td>\n",
       "      <td>-0.012029</td>\n",
       "      <td>-0.001244</td>\n",
       "      <td>-0.019253</td>\n",
       "      <td>0.003492</td>\n",
       "      <td>-0.072584</td>\n",
       "      <td>0.007859</td>\n",
       "      <td>-0.008685</td>\n",
       "      <td>0.014011</td>\n",
       "      <td>...</td>\n",
       "      <td>0</td>\n",
       "      <td>0</td>\n",
       "      <td>0</td>\n",
       "      <td>1.0</td>\n",
       "      <td>1</td>\n",
       "      <td>0</td>\n",
       "      <td>1.00</td>\n",
       "      <td>0.30</td>\n",
       "      <td>85.69</td>\n",
       "      <td>0.564317</td>\n",
       "    </tr>\n",
       "    <tr>\n",
       "      <th>3</th>\n",
       "      <td>0.020177</td>\n",
       "      <td>-0.009787</td>\n",
       "      <td>-0.018970</td>\n",
       "      <td>-0.037379</td>\n",
       "      <td>0.031784</td>\n",
       "      <td>0.027353</td>\n",
       "      <td>-0.019220</td>\n",
       "      <td>0.047509</td>\n",
       "      <td>0.006750</td>\n",
       "      <td>0.052585</td>\n",
       "      <td>...</td>\n",
       "      <td>0</td>\n",
       "      <td>0</td>\n",
       "      <td>1</td>\n",
       "      <td>0.0</td>\n",
       "      <td>0</td>\n",
       "      <td>1</td>\n",
       "      <td>0.20</td>\n",
       "      <td>0.20</td>\n",
       "      <td>115.13</td>\n",
       "      <td>0.544084</td>\n",
       "    </tr>\n",
       "    <tr>\n",
       "      <th>4</th>\n",
       "      <td>0.000492</td>\n",
       "      <td>-0.055524</td>\n",
       "      <td>-0.027158</td>\n",
       "      <td>0.003410</td>\n",
       "      <td>0.033864</td>\n",
       "      <td>0.013475</td>\n",
       "      <td>-0.012944</td>\n",
       "      <td>0.023117</td>\n",
       "      <td>-0.036113</td>\n",
       "      <td>0.007961</td>\n",
       "      <td>...</td>\n",
       "      <td>0</td>\n",
       "      <td>1</td>\n",
       "      <td>0</td>\n",
       "      <td>0.0</td>\n",
       "      <td>0</td>\n",
       "      <td>0</td>\n",
       "      <td>0.50</td>\n",
       "      <td>1.00</td>\n",
       "      <td>68.77</td>\n",
       "      <td>0.394864</td>\n",
       "    </tr>\n",
       "  </tbody>\n",
       "</table>\n",
       "<p>5 rows × 1015 columns</p>\n",
       "</div>"
      ],
      "text/plain": [
       "          0         1         2         3         4         5         6  \\\n",
       "0 -0.032989  0.016568 -0.021444 -0.031382 -0.001429 -0.039823 -0.036443   \n",
       "1 -0.018057 -0.009831 -0.018088  0.003290  0.004031 -0.010332 -0.043639   \n",
       "2 -0.025451 -0.041972 -0.012029 -0.001244 -0.019253  0.003492 -0.072584   \n",
       "3  0.020177 -0.009787 -0.018970 -0.037379  0.031784  0.027353 -0.019220   \n",
       "4  0.000492 -0.055524 -0.027158  0.003410  0.033864  0.013475 -0.012944   \n",
       "\n",
       "          7         8         9  ...  nonbait_punct  numbers  2nd_pronouns  \\\n",
       "0  0.033266  0.018766  0.006017  ...              1        0             0   \n",
       "1  0.038486 -0.053087 -0.021840  ...              0        0             0   \n",
       "2  0.007859 -0.008685  0.014011  ...              0        0             0   \n",
       "3  0.047509  0.006750  0.052585  ...              0        0             1   \n",
       "4  0.023117 -0.036113  0.007961  ...              0        1             0   \n",
       "\n",
       "   superlatives  speculatives  bait_words  polarity  subjectivity    fres  \\\n",
       "0           0.0             1           0      0.00          0.00   61.33   \n",
       "1           0.0             2           0      0.35          0.65   72.32   \n",
       "2           1.0             1           0      1.00          0.30   85.69   \n",
       "3           0.0             0           1      0.20          0.20  115.13   \n",
       "4           0.0             0           0      0.50          1.00   68.77   \n",
       "\n",
       "   batness_measures  \n",
       "0          0.265605  \n",
       "1          0.499703  \n",
       "2          0.564317  \n",
       "3          0.544084  \n",
       "4          0.394864  \n",
       "\n",
       "[5 rows x 1015 columns]"
      ]
     },
     "execution_count": 12,
     "metadata": {},
     "output_type": "execute_result"
    }
   ],
   "source": [
    "embeddings_x_val_df_1000_with_measures.head()"
   ]
  },
  {
   "cell_type": "code",
   "execution_count": 13,
   "id": "786f7a34-6c4e-4f63-883b-105dfebd1837",
   "metadata": {},
   "outputs": [],
   "source": [
    "embeddings_x_train_df_1000_with_measures.columns = range(embeddings_x_train_df_1000_with_measures.shape[1])\n",
    "embeddings_x_val_df_1000_with_measures.columns = range(embeddings_x_val_df_1000_with_measures.shape[1])"
   ]
  },
  {
   "cell_type": "code",
   "execution_count": 16,
   "id": "ba09ad09-a8a0-470c-b67f-edbe2e241bbc",
   "metadata": {},
   "outputs": [
    {
     "name": "stdout",
     "output_type": "stream",
     "text": [
      "0.898 & 0.916 & 0.876 & 0.895 & 0.961 \\\n",
      "{'Accuracy': 0.898, 'Precision': 0.9155742003146303, 'Recall': 0.8760662318113397, 'F1 Score': 0.8953846153846153, 'ROC-AUC': 0.9614052772146459}\n",
      "\n",
      "              precision    recall  f1-score   support\n",
      "\n",
      "           0       0.88      0.92      0.90      2007\n",
      "           1       0.92      0.88      0.90      1993\n",
      "\n",
      "    accuracy                           0.90      4000\n",
      "   macro avg       0.90      0.90      0.90      4000\n",
      "weighted avg       0.90      0.90      0.90      4000\n",
      "\n"
     ]
    },
    {
     "data": {
      "image/png": "[encoded data removed]",
      "text/plain": [
       "<Figure size 640x480 with 2 Axes>"
      ]
     },
     "metadata": {},
     "output_type": "display_data"
    }
   ],
   "source": [
    "RF = RandomForestClassifier(random_state = 0)\n",
    "RF.fit(embeddings_x_train_df_1000_with_measures, y_train)\n",
    "pred_rf = RF.predict(embeddings_x_val_df_1000_with_measures)\n",
    "pred_rf_prob = RF.predict_proba(embeddings_x_val_df_1000_with_measures)\n",
    "create_summary_for_model_metrics(y_val, pred_rf, pred_rf_prob[:,1])"
   ]
  },
  {
   "cell_type": "code",
   "execution_count": 14,
   "id": "f6c9c887-47e3-45cc-a4fb-f25f33c8a724",
   "metadata": {},
   "outputs": [
    {
     "name": "stdout",
     "output_type": "stream",
     "text": [
      "0.91 & 0.922 & 0.896 & 0.909 & 0.969 \\\n",
      "{'Accuracy': 0.9105, 'Precision': 0.9224806201550387, 'Recall': 0.8956347215253387, 'F1 Score': 0.9088594704684317, 'ROC-AUC': 0.9687558672593739}\n",
      "\n",
      "              precision    recall  f1-score   support\n",
      "\n",
      "           0       0.90      0.93      0.91      2007\n",
      "           1       0.92      0.90      0.91      1993\n",
      "\n",
      "    accuracy                           0.91      4000\n",
      "   macro avg       0.91      0.91      0.91      4000\n",
      "weighted avg       0.91      0.91      0.91      4000\n",
      "\n"
     ]
    },
    {
     "data": {
      "image/png": "[encoded data removed]",
      "text/plain": [
       "<Figure size 640x480 with 2 Axes>"
      ]
     },
     "metadata": {},
     "output_type": "display_data"
    }
   ],
   "source": [
    "xgb_model = xgb.XGBClassifier(random_state = 0)\n",
    "xgb_model.fit(embeddings_x_train_df_1000_with_measures, y_train)\n",
    "pred_xgb = xgb_model.predict(embeddings_x_val_df_1000_with_measures)\n",
    "pred_xgb_prob = xgb_model.predict_proba(embeddings_x_val_df_1000_with_measures)\n",
    "create_summary_for_model_metrics(y_val, pred_xgb, pred_xgb_prob[:,1], 'best_model_conf_combined')"
   ]
  },
  {
   "cell_type": "code",
   "execution_count": null,
   "id": "71fa16cd-02d7-4a7a-b2c5-d80b79e323ad",
   "metadata": {},
   "outputs": [],
   "source": [
    "#Save models"
   ]
  },
  {
   "cell_type": "code",
   "execution_count": 20,
   "id": "55ff0f04-4153-43e7-836d-9fb8dffc5d84",
   "metadata": {},
   "outputs": [],
   "source": [
    "with open('../final_models/RF_1000_dimensions_and_informativeness_measures.pkl', 'wb') as rf_file:\n",
    "    pickle.dump(RF, rf_file)"
   ]
  },
  {
   "cell_type": "code",
   "execution_count": 21,
   "id": "c357eba6-58eb-464b-ac68-407d738882f0",
   "metadata": {},
   "outputs": [],
   "source": [
    "with open('../final_models/XGB_1000_dimensions_and_informativeness_measures.pkl', 'wb') as xgb_file:\n",
    "    pickle.dump(xgb_model, xgb_file)"
   ]
  },
  {
   "cell_type": "code",
   "execution_count": null,
   "id": "2a2cbf2c-da1b-404c-8c12-2937cb455e31",
   "metadata": {},
   "outputs": [],
   "source": []
  },
  {
   "cell_type": "markdown",
   "id": "f3296d94-3e10-4842-b3be-d9e3631bc6f3",
   "metadata": {},
   "source": [
    "## 3000 dimensions"
   ]
  },
  {
   "cell_type": "code",
   "execution_count": 67,
   "id": "886a2096-e036-4a54-818b-fff03ca607c0",
   "metadata": {},
   "outputs": [],
   "source": [
    "embeddings_x_train_df_3000_with_measures = pd.DataFrame(embeddings_x_train_df_3000)\n",
    "for function_name, function in metrics_functions.items():\n",
    "    embeddings_x_train_df_3000_with_measures = add_baitness_measure(x_train, embeddings_x_train_df_3000_with_measures, function, function_name)\n",
    "\n",
    "embeddings_x_val_df_3000_with_measures = pd.DataFrame(embeddings_x_val_df_3000)\n",
    "for function_name, function in metrics_functions.items():\n",
    "    embeddings_x_val_df_3000_with_measures = add_baitness_measure(x_val, embeddings_x_val_df_3000_with_measures, function, function_name)"
   ]
  },
  {
   "cell_type": "code",
   "execution_count": 68,
   "id": "254815ea-c37d-44bc-91af-4cf9aac1c2e5",
   "metadata": {},
   "outputs": [],
   "source": [
    "embeddings_x_train_df_3000_with_measures.columns = range(embeddings_x_train_df_3000_with_measures.shape[1])\n",
    "embeddings_x_val_df_3000_with_measures.columns = range(embeddings_x_val_df_3000_with_measures.shape[1])"
   ]
  },
  {
   "cell_type": "code",
   "execution_count": 69,
   "id": "9b06e25f-1cfd-49f7-ba3c-b404bbc26a43",
   "metadata": {},
   "outputs": [
    {
     "name": "stdout",
     "output_type": "stream",
     "text": [
      "0.893 & 0.914 & 0.867 & 0.89 & 0.963 \\\n",
      "{'Accuracy': 0.89325, 'Precision': 0.9142857142857143, 'Recall': 0.8670346211741093, 'F1 Score': 0.8900334792686068, 'ROC-AUC': 0.9629430460523142}\n",
      "\n",
      "              precision    recall  f1-score   support\n",
      "\n",
      "           0       0.87      0.92      0.90      2007\n",
      "           1       0.91      0.87      0.89      1993\n",
      "\n",
      "    accuracy                           0.89      4000\n",
      "   macro avg       0.89      0.89      0.89      4000\n",
      "weighted avg       0.89      0.89      0.89      4000\n",
      "\n"
     ]
    },
    {
     "data": {
      "image/png": "[encoded data removed]",
      "text/plain": [
       "<Figure size 640x480 with 2 Axes>"
      ]
     },
     "metadata": {},
     "output_type": "display_data"
    }
   ],
   "source": [
    "RF = RandomForestClassifier(random_state = 0)\n",
    "RF.fit(embeddings_x_train_df_3000_with_measures, y_train)\n",
    "pred_rf = RF.predict(embeddings_x_val_df_3000_with_measures)\n",
    "pred_rf_prob = RF.predict_proba(embeddings_x_val_df_3000_with_measures)\n",
    "create_summary_for_model_metrics(y_val, pred_rf, pred_rf_prob[:,1])"
   ]
  },
  {
   "cell_type": "code",
   "execution_count": 70,
   "id": "8340b09c-7b56-4979-8ed3-ad6adb9574d9",
   "metadata": {},
   "outputs": [
    {
     "name": "stdout",
     "output_type": "stream",
     "text": [
      "0.908 & 0.92 & 0.893 & 0.906 & 0.969 \\\n",
      "{'Accuracy': 0.908, 'Precision': 0.9198966408268734, 'Recall': 0.8931259407927747, 'F1 Score': 0.9063136456211812, 'ROC-AUC': 0.9689916201473467}\n",
      "\n",
      "              precision    recall  f1-score   support\n",
      "\n",
      "           0       0.90      0.92      0.91      2007\n",
      "           1       0.92      0.89      0.91      1993\n",
      "\n",
      "    accuracy                           0.91      4000\n",
      "   macro avg       0.91      0.91      0.91      4000\n",
      "weighted avg       0.91      0.91      0.91      4000\n",
      "\n"
     ]
    },
    {
     "data": {
      "image/png": "[encoded data removed]",
      "text/plain": [
       "<Figure size 640x480 with 2 Axes>"
      ]
     },
     "metadata": {},
     "output_type": "display_data"
    }
   ],
   "source": [
    "xgb_model = xgb.XGBClassifier(random_state = 0)\n",
    "xgb_model.fit(embeddings_x_train_df_3000_with_measures, y_train)\n",
    "pred_xgb = xgb_model.predict(embeddings_x_val_df_3000_with_measures)\n",
    "pred_xgb_prob = xgb_model.predict_proba(embeddings_x_val_df_3000_with_measures)\n",
    "create_summary_for_model_metrics(y_val, pred_xgb, pred_xgb_prob[:,1])"
   ]
  },
  {
   "cell_type": "code",
   "execution_count": null,
   "id": "c8f77899-ae9c-4022-8b71-a539ba997e33",
   "metadata": {},
   "outputs": [],
   "source": []
  }
 ],
 "metadata": {
  "kernelspec": {
   "display_name": "Python 3 (ipykernel)",
   "language": "python",
   "name": "python3"
  },
  "language_info": {
   "codemirror_mode": {
    "name": "ipython",
    "version": 3
   },
   "file_extension": ".py",
   "mimetype": "text/x-python",
   "name": "python",
   "nbconvert_exporter": "python",
   "pygments_lexer": "ipython3",
   "version": "3.11.9"
  }
 },
 "nbformat": 4,
 "nbformat_minor": 5
}
