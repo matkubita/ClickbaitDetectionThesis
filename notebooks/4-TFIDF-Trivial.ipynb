{
 "cells": [
  {
   "cell_type": "code",
   "execution_count": 1,
   "id": "fa2e2c20-2d84-4b47-923a-01d2e1a41a8d",
   "metadata": {},
   "outputs": [],
   "source": [
    "import pandas as pd\n",
    "import matplotlib.pyplot as plt\n",
    "import numpy as np\n",
    "import seaborn as sns\n",
    "import string\n",
    "import re\n",
    "from sklearn.model_selection import train_test_split\n",
    "from sklearn.metrics import accuracy_score\n",
    "from sklearn.metrics import classification_report"
   ]
  },
  {
   "cell_type": "code",
   "execution_count": 2,
   "id": "f8614cfc-6587-49a8-9e2b-561fc4f5c1d1",
   "metadata": {},
   "outputs": [],
   "source": [
    "df_merged = pd.read_csv(\"../data/merged_datasetes_balanced_huge.csv\")"
   ]
  },
  {
   "cell_type": "code",
   "execution_count": 4,
   "id": "940bc87e-48aa-4b31-b273-f92405399ab9",
   "metadata": {},
   "outputs": [
    {
     "data": {
      "text/plain": [
       "(40000, 2)"
      ]
     },
     "execution_count": 4,
     "metadata": {},
     "output_type": "execute_result"
    }
   ],
   "source": [
    "df_merged.shape"
   ]
  },
  {
   "cell_type": "markdown",
   "id": "4f3b3177-8cad-451b-bc71-d1830cf8f7fd",
   "metadata": {},
   "source": [
    "## Text cleaning "
   ]
  },
  {
   "cell_type": "markdown",
   "id": "f11e6a96",
   "metadata": {},
   "source": [
    "#### Text Cleaning is also optional and some kind of hyperparameter"
   ]
  },
  {
   "cell_type": "code",
   "execution_count": 5,
   "id": "f30da48a-070f-4621-8950-f825d20712b2",
   "metadata": {},
   "outputs": [],
   "source": [
    "def clean_text(text):\n",
    "    text = text.lower()\n",
    "    text = re.sub('\\[.*?\\]','',text)\n",
    "    text = re.sub(\"\\\\W\",\" \",text)\n",
    "    text = re.sub('https?://\\S+|www\\.\\S+','',text)\n",
    "    text = re.sub('<.*?>+',b'',text)\n",
    "    text = re.sub('[%s]' % re.escape(string.punctuation),'',text)\n",
    "    text = re.sub('\\w*\\d\\w*','',text)\n",
    "    return text"
   ]
  },
  {
   "cell_type": "code",
   "execution_count": 6,
   "id": "64484ed2-e7a4-4841-a5f0-b29ad5893129",
   "metadata": {},
   "outputs": [],
   "source": [
    "df_merged['title'] = df_merged['title'].apply(clean_text)"
   ]
  },
  {
   "cell_type": "code",
   "execution_count": 7,
   "id": "c0b1b967-41d3-49af-be1f-4cc0ce82ceb4",
   "metadata": {},
   "outputs": [],
   "source": [
    "x_train, x_test, y_train, y_test = train_test_split(\n",
    "    df_merged[\"title\"], \n",
    "    df_merged[\"clickbait\"],\n",
    "    test_size=0.2, \n",
    "    random_state=42\n",
    ")"
   ]
  },
  {
   "cell_type": "markdown",
   "id": "5747f2c0-8c62-4bda-80ad-d2209dcfecff",
   "metadata": {},
   "source": [
    "## Fitting TFIDF"
   ]
  },
  {
   "cell_type": "code",
   "execution_count": 8,
   "id": "7e95aac3-8629-4b1b-843c-708e5444f7a1",
   "metadata": {},
   "outputs": [],
   "source": [
    "from sklearn.feature_extraction.text import TfidfVectorizer\n",
    "\n",
    "vectorization = TfidfVectorizer()\n",
    "xv_train = vectorization.fit_transform(x_train)\n",
    "xv_test = vectorization.transform(x_test)"
   ]
  },
  {
   "cell_type": "markdown",
   "id": "7231795b-155d-4ad3-b145-f8cb6d1110f9",
   "metadata": {},
   "source": [
    "## Trivial model without any library"
   ]
  },
  {
   "cell_type": "code",
   "execution_count": 9,
   "id": "88cad73d-a3c8-4137-8dd8-2cb6873448dc",
   "metadata": {},
   "outputs": [],
   "source": [
    "mask = y_train.astype(bool).values"
   ]
  },
  {
   "cell_type": "code",
   "execution_count": 10,
   "id": "39bb50e8-62f9-4713-9925-ad804e04ca39",
   "metadata": {},
   "outputs": [
    {
     "data": {
      "text/plain": [
       "array([False, False, False, False,  True, False,  True,  True, False,\n",
       "        True,  True, False, False,  True, False,  True, False,  True,\n",
       "        True, False,  True,  True, False,  True,  True,  True, False,\n",
       "       False,  True, False, False, False, False,  True, False, False,\n",
       "       False,  True, False, False, False, False, False, False,  True,\n",
       "        True, False, False, False,  True,  True,  True,  True,  True,\n",
       "        True, False, False, False,  True, False,  True,  True,  True,\n",
       "       False,  True, False,  True, False,  True, False, False, False,\n",
       "        True, False, False, False,  True, False,  True,  True, False,\n",
       "        True,  True, False, False, False, False,  True, False,  True,\n",
       "        True, False, False, False, False, False, False, False, False,\n",
       "       False])"
      ]
     },
     "execution_count": 10,
     "metadata": {},
     "output_type": "execute_result"
    }
   ],
   "source": [
    "mask[:100]"
   ]
  },
  {
   "cell_type": "code",
   "execution_count": 11,
   "id": "cbfdff63-e71b-4367-87ec-be8df35f7f93",
   "metadata": {},
   "outputs": [],
   "source": [
    "fake_news_centroid = np.array(xv_train[mask].mean(axis=0)).ravel()\n",
    "no_fake_news_centroid = np.array(xv_train[~mask].mean(axis=0)).ravel()"
   ]
  },
  {
   "cell_type": "code",
   "execution_count": 12,
   "id": "7b1e1a0f-4b6c-433d-9067-a751ad8ecd30",
   "metadata": {},
   "outputs": [
    {
     "data": {
      "text/plain": [
       "(32000, 24849)"
      ]
     },
     "execution_count": 12,
     "metadata": {},
     "output_type": "execute_result"
    }
   ],
   "source": [
    "xv_train.shape"
   ]
  },
  {
   "cell_type": "code",
   "execution_count": 13,
   "id": "12335e78-bfbc-4d53-9752-f56dc76e7ac9",
   "metadata": {},
   "outputs": [
    {
     "data": {
      "text/plain": [
       "(24849,)"
      ]
     },
     "execution_count": 13,
     "metadata": {},
     "output_type": "execute_result"
    }
   ],
   "source": [
    "fake_news_centroid.shape"
   ]
  },
  {
   "cell_type": "code",
   "execution_count": 14,
   "id": "3da5d75f-43be-4892-9577-e6e36460cb40",
   "metadata": {},
   "outputs": [
    {
     "data": {
      "text/plain": [
       "(24849,)"
      ]
     },
     "execution_count": 14,
     "metadata": {},
     "output_type": "execute_result"
    }
   ],
   "source": [
    "no_fake_news_centroid.shape"
   ]
  },
  {
   "cell_type": "code",
   "execution_count": 15,
   "id": "6aa5aa9d-13e5-4b15-b2ee-fb5b02e385c8",
   "metadata": {},
   "outputs": [
    {
     "data": {
      "text/plain": [
       "array([ 0.  , -0.  ,  0.  , ..., -0.  , -0.  ,  0.01])"
      ]
     },
     "execution_count": 15,
     "metadata": {},
     "output_type": "execute_result"
    }
   ],
   "source": [
    "fake_news_score = xv_test.dot(fake_news_centroid-no_fake_news_centroid)\n",
    "fake_news_score.round(2)"
   ]
  },
  {
   "cell_type": "code",
   "execution_count": 16,
   "id": "9455c508-9cb4-45e9-9746-5a50aef9f8b6",
   "metadata": {},
   "outputs": [
    {
     "name": "stdout",
     "output_type": "stream",
     "text": [
      "(8000, 1)\n"
     ]
    }
   ],
   "source": [
    "from sklearn.preprocessing import MinMaxScaler\n",
    "\n",
    "x_test_df = pd.DataFrame(x_test)\n",
    "print(x_test_df.shape)\n",
    "x_test_df['clickbait'] = y_test\n",
    "x_test_df['clickbait_score_model'] = MinMaxScaler().fit_transform(fake_news_score.reshape(-1,1))\n",
    "x_test_df['clickbait_prediction'] = (x_test_df.clickbait_score_model > 0.3).astype(int)"
   ]
  },
  {
   "cell_type": "code",
   "execution_count": 17,
   "id": "69fc64dd-142e-46b3-a583-60d41fc30d5b",
   "metadata": {},
   "outputs": [
    {
     "data": {
      "text/html": [
       "<div>\n",
       "<style scoped>\n",
       "    .dataframe tbody tr th:only-of-type {\n",
       "        vertical-align: middle;\n",
       "    }\n",
       "\n",
       "    .dataframe tbody tr th {\n",
       "        vertical-align: top;\n",
       "    }\n",
       "\n",
       "    .dataframe thead th {\n",
       "        text-align: right;\n",
       "    }\n",
       "</style>\n",
       "<table border=\"1\" class=\"dataframe\">\n",
       "  <thead>\n",
       "    <tr style=\"text-align: right;\">\n",
       "      <th></th>\n",
       "      <th>title</th>\n",
       "      <th>clickbait</th>\n",
       "      <th>clickbait_score_model</th>\n",
       "      <th>clickbait_prediction</th>\n",
       "    </tr>\n",
       "  </thead>\n",
       "  <tbody>\n",
       "    <tr>\n",
       "      <th>32823</th>\n",
       "      <td>billboard s top  most popular holiday songs</td>\n",
       "      <td>1</td>\n",
       "      <td>0.247732</td>\n",
       "      <td>0</td>\n",
       "    </tr>\n",
       "    <tr>\n",
       "      <th>16298</th>\n",
       "      <td>watch live  state department briefing</td>\n",
       "      <td>0</td>\n",
       "      <td>0.168534</td>\n",
       "      <td>0</td>\n",
       "    </tr>\n",
       "    <tr>\n",
       "      <th>28505</th>\n",
       "      <td>restaurant prints pro immigrant note at the bo...</td>\n",
       "      <td>1</td>\n",
       "      <td>0.242766</td>\n",
       "      <td>0</td>\n",
       "    </tr>\n",
       "    <tr>\n",
       "      <th>6689</th>\n",
       "      <td>same sex marriage laws pose protection quandary</td>\n",
       "      <td>0</td>\n",
       "      <td>0.197095</td>\n",
       "      <td>0</td>\n",
       "    </tr>\n",
       "    <tr>\n",
       "      <th>26893</th>\n",
       "      <td>star wars  the last jedi  trailer  what does ...</td>\n",
       "      <td>1</td>\n",
       "      <td>0.404926</td>\n",
       "      <td>1</td>\n",
       "    </tr>\n",
       "    <tr>\n",
       "      <th>...</th>\n",
       "      <td>...</td>\n",
       "      <td>...</td>\n",
       "      <td>...</td>\n",
       "      <td>...</td>\n",
       "    </tr>\n",
       "    <tr>\n",
       "      <th>13618</th>\n",
       "      <td>fan ordered to destroy cds</td>\n",
       "      <td>0</td>\n",
       "      <td>0.192336</td>\n",
       "      <td>0</td>\n",
       "    </tr>\n",
       "    <tr>\n",
       "      <th>35165</th>\n",
       "      <td>people got tested to see what their actual eth...</td>\n",
       "      <td>1</td>\n",
       "      <td>0.396457</td>\n",
       "      <td>1</td>\n",
       "    </tr>\n",
       "    <tr>\n",
       "      <th>16359</th>\n",
       "      <td>nicolaus copernicus buried again</td>\n",
       "      <td>0</td>\n",
       "      <td>0.173834</td>\n",
       "      <td>0</td>\n",
       "    </tr>\n",
       "    <tr>\n",
       "      <th>3842</th>\n",
       "      <td>the week in finance  us banks jump on deregula...</td>\n",
       "      <td>0</td>\n",
       "      <td>0.174941</td>\n",
       "      <td>0</td>\n",
       "    </tr>\n",
       "    <tr>\n",
       "      <th>37682</th>\n",
       "      <td>reasons why the great british bake off is the...</td>\n",
       "      <td>1</td>\n",
       "      <td>0.427882</td>\n",
       "      <td>1</td>\n",
       "    </tr>\n",
       "  </tbody>\n",
       "</table>\n",
       "<p>8000 rows × 4 columns</p>\n",
       "</div>"
      ],
      "text/plain": [
       "                                                   title  clickbait  \\\n",
       "32823        billboard s top  most popular holiday songs          1   \n",
       "16298              watch live  state department briefing          0   \n",
       "28505  restaurant prints pro immigrant note at the bo...          1   \n",
       "6689     same sex marriage laws pose protection quandary          0   \n",
       "26893   star wars  the last jedi  trailer  what does ...          1   \n",
       "...                                                  ...        ...   \n",
       "13618                         fan ordered to destroy cds          0   \n",
       "35165  people got tested to see what their actual eth...          1   \n",
       "16359                   nicolaus copernicus buried again          0   \n",
       "3842   the week in finance  us banks jump on deregula...          0   \n",
       "37682   reasons why the great british bake off is the...          1   \n",
       "\n",
       "       clickbait_score_model  clickbait_prediction  \n",
       "32823               0.247732                     0  \n",
       "16298               0.168534                     0  \n",
       "28505               0.242766                     0  \n",
       "6689                0.197095                     0  \n",
       "26893               0.404926                     1  \n",
       "...                      ...                   ...  \n",
       "13618               0.192336                     0  \n",
       "35165               0.396457                     1  \n",
       "16359               0.173834                     0  \n",
       "3842                0.174941                     0  \n",
       "37682               0.427882                     1  \n",
       "\n",
       "[8000 rows x 4 columns]"
      ]
     },
     "execution_count": 17,
     "metadata": {},
     "output_type": "execute_result"
    }
   ],
   "source": [
    "x_test_df"
   ]
  },
  {
   "cell_type": "code",
   "execution_count": 18,
   "id": "446f15e1-375d-4a4c-b13f-2e4d730636b5",
   "metadata": {},
   "outputs": [],
   "source": [
    "predictions = x_test_df.clickbait_prediction"
   ]
  },
  {
   "cell_type": "code",
   "execution_count": 19,
   "id": "99e9a8d1-ed79-4d5f-bdeb-584c4d9ada1f",
   "metadata": {},
   "outputs": [
    {
     "data": {
      "image/png": "[encoded data removed]",
      "text/plain": [
       "<Figure size 640x480 with 2 Axes>"
      ]
     },
     "metadata": {},
     "output_type": "display_data"
    }
   ],
   "source": [
    "from sklearn.metrics import confusion_matrix, ConfusionMatrixDisplay\n",
    "\n",
    "cm = confusion_matrix(y_test, predictions)\n",
    "\n",
    "# Display the confusion matrix\n",
    "disp = ConfusionMatrixDisplay(confusion_matrix=cm)\n",
    "disp.plot(cmap=plt.cm.Blues)\n",
    "plt.show()"
   ]
  },
  {
   "cell_type": "code",
   "execution_count": 20,
   "id": "3a4c2975-9aef-4161-aad8-07b7697a7246",
   "metadata": {},
   "outputs": [
    {
     "name": "stdout",
     "output_type": "stream",
     "text": [
      "              precision    recall  f1-score   support\n",
      "\n",
      "           0       0.70      0.92      0.79      4014\n",
      "           1       0.88      0.60      0.71      3986\n",
      "\n",
      "    accuracy                           0.76      8000\n",
      "   macro avg       0.79      0.76      0.75      8000\n",
      "weighted avg       0.79      0.76      0.75      8000\n",
      "\n"
     ]
    }
   ],
   "source": [
    "print(classification_report(y_test, predictions))"
   ]
  },
  {
   "cell_type": "code",
   "execution_count": null,
   "id": "7251f2ce-22ae-4eff-84e1-fe9e0c83791c",
   "metadata": {},
   "outputs": [],
   "source": []
  }
 ],
 "metadata": {
  "kernelspec": {
   "display_name": "Python 3 (ipykernel)",
   "language": "python",
   "name": "python3"
  },
  "language_info": {
   "codemirror_mode": {
    "name": "ipython",
    "version": 3
   },
   "file_extension": ".py",
   "mimetype": "text/x-python",
   "name": "python",
   "nbconvert_exporter": "python",
   "pygments_lexer": "ipython3",
   "version": "3.11.9"
  }
 },
 "nbformat": 4,
 "nbformat_minor": 5
}
