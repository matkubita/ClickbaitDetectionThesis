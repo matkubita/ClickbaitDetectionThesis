{
 "cells": [
  {
   "cell_type": "code",
   "execution_count": 60,
   "id": "fa2e2c20-2d84-4b47-923a-01d2e1a41a8d",
   "metadata": {},
   "outputs": [],
   "source": [
    "import pandas as pd\n",
    "import matplotlib.pyplot as plt\n",
    "import numpy as np\n",
    "import seaborn as sns\n",
    "import string\n",
    "import re\n",
    "from sklearn.model_selection import train_test_split\n",
    "from sklearn.metrics import accuracy_score\n",
    "from sklearn.metrics import classification_report"
   ]
  },
  {
   "cell_type": "code",
   "execution_count": 61,
   "id": "f8614cfc-6587-49a8-9e2b-561fc4f5c1d1",
   "metadata": {},
   "outputs": [],
   "source": [
    "df_merged = pd.read_csv(\"../data/merged_datasetes_balanced_huge.csv\")"
   ]
  },
  {
   "cell_type": "code",
   "execution_count": 62,
   "id": "940bc87e-48aa-4b31-b273-f92405399ab9",
   "metadata": {},
   "outputs": [
    {
     "data": {
      "text/plain": [
       "(40000, 10)"
      ]
     },
     "execution_count": 62,
     "metadata": {},
     "output_type": "execute_result"
    }
   ],
   "source": [
    "df_merged.shape"
   ]
  },
  {
   "cell_type": "code",
   "execution_count": 63,
   "id": "938f7c5e-c65c-434d-b3e8-5c11c640cfb3",
   "metadata": {},
   "outputs": [],
   "source": [
    "%run 0-Function-Helper.ipynb"
   ]
  },
  {
   "cell_type": "code",
   "execution_count": 64,
   "id": "6b2f044f-3c6c-48d7-8704-50437a7a883d",
   "metadata": {},
   "outputs": [],
   "source": [
    "x_train, x_test, y_train, y_test = train_test_split(\n",
    "    df_merged[\"title\"], \n",
    "    df_merged[\"clickbait\"],\n",
    "    test_size=0.2, \n",
    "    random_state=42,\n",
    "    stratify=df_merged[\"clickbait\"]\n",
    ")"
   ]
  },
  {
   "cell_type": "code",
   "execution_count": 65,
   "id": "f0405120-2030-42c8-9e4d-a5d2dcd90614",
   "metadata": {},
   "outputs": [],
   "source": [
    "x_test, x_val, y_test, y_val = train_test_split(\n",
    "    x_test, \n",
    "    y_test,\n",
    "    test_size=0.5,  # 50% of the original x_test size for validation\n",
    "    random_state=42,\n",
    "    stratify=y_test\n",
    ")"
   ]
  },
  {
   "cell_type": "markdown",
   "id": "4f3b3177-8cad-451b-bc71-d1830cf8f7fd",
   "metadata": {},
   "source": [
    "## Text cleaning "
   ]
  },
  {
   "cell_type": "markdown",
   "id": "f11e6a96",
   "metadata": {},
   "source": [
    "#### Text Cleaning is also optional and some kind of hyperparameter"
   ]
  },
  {
   "cell_type": "code",
   "execution_count": 66,
   "id": "f30da48a-070f-4621-8950-f825d20712b2",
   "metadata": {},
   "outputs": [],
   "source": [
    "# def clean_text(text):\n",
    "#     text = text.lower()\n",
    "#     text = re.sub('\\[.*?\\]','',text)\n",
    "#     text = re.sub(\"\\\\W\",\" \",text)\n",
    "#     text = re.sub('https?://\\S+|www\\.\\S+','',text)\n",
    "#     text = re.sub('<.*?>+',b'',text)\n",
    "#     text = re.sub('[%s]' % re.escape(string.punctuation),'',text)\n",
    "#     text = re.sub('\\w*\\d\\w*','',text)\n",
    "#     return text"
   ]
  },
  {
   "cell_type": "markdown",
   "id": "5747f2c0-8c62-4bda-80ad-d2209dcfecff",
   "metadata": {},
   "source": [
    "## Fitting TFIDF"
   ]
  },
  {
   "cell_type": "code",
   "execution_count": 67,
   "id": "7e95aac3-8629-4b1b-843c-708e5444f7a1",
   "metadata": {},
   "outputs": [],
   "source": [
    "from sklearn.feature_extraction.text import TfidfVectorizer\n",
    "\n",
    "vectorization = TfidfVectorizer()\n",
    "xv_train = vectorization.fit_transform(x_train)\n",
    "xv_val = vectorization.transform(x_val)"
   ]
  },
  {
   "cell_type": "markdown",
   "id": "7231795b-155d-4ad3-b145-f8cb6d1110f9",
   "metadata": {},
   "source": [
    "## Trivial model without any library"
   ]
  },
  {
   "cell_type": "code",
   "execution_count": 68,
   "id": "88cad73d-a3c8-4137-8dd8-2cb6873448dc",
   "metadata": {},
   "outputs": [],
   "source": [
    "mask = y_train.astype(bool).values"
   ]
  },
  {
   "cell_type": "code",
   "execution_count": 69,
   "id": "39bb50e8-62f9-4713-9925-ad804e04ca39",
   "metadata": {},
   "outputs": [
    {
     "data": {
      "text/plain": [
       "array([False,  True, False, False,  True, False,  True,  True, False,\n",
       "       False,  True, False,  True, False,  True, False,  True,  True,\n",
       "       False,  True, False,  True,  True, False,  True, False,  True,\n",
       "        True,  True,  True,  True,  True, False,  True, False, False,\n",
       "       False, False, False, False,  True,  True, False, False,  True,\n",
       "       False, False,  True,  True, False, False, False,  True, False,\n",
       "       False, False,  True,  True,  True, False, False,  True,  True,\n",
       "       False, False,  True, False, False,  True, False,  True,  True,\n",
       "       False,  True,  True, False,  True,  True,  True, False,  True,\n",
       "       False, False,  True,  True, False,  True,  True,  True,  True,\n",
       "        True,  True, False,  True, False, False, False, False,  True,\n",
       "        True])"
      ]
     },
     "execution_count": 69,
     "metadata": {},
     "output_type": "execute_result"
    }
   ],
   "source": [
    "mask[:100]"
   ]
  },
  {
   "cell_type": "code",
   "execution_count": 70,
   "id": "cbfdff63-e71b-4367-87ec-be8df35f7f93",
   "metadata": {},
   "outputs": [],
   "source": [
    "fake_news_centroid = np.array(xv_train[mask].mean(axis=0)).ravel()\n",
    "no_fake_news_centroid = np.array(xv_train[~mask].mean(axis=0)).ravel()"
   ]
  },
  {
   "cell_type": "code",
   "execution_count": 71,
   "id": "7b1e1a0f-4b6c-433d-9067-a751ad8ecd30",
   "metadata": {},
   "outputs": [
    {
     "data": {
      "text/plain": [
       "(32000, 24721)"
      ]
     },
     "execution_count": 71,
     "metadata": {},
     "output_type": "execute_result"
    }
   ],
   "source": [
    "xv_train.shape"
   ]
  },
  {
   "cell_type": "code",
   "execution_count": 72,
   "id": "12335e78-bfbc-4d53-9752-f56dc76e7ac9",
   "metadata": {},
   "outputs": [
    {
     "data": {
      "text/plain": [
       "(24721,)"
      ]
     },
     "execution_count": 72,
     "metadata": {},
     "output_type": "execute_result"
    }
   ],
   "source": [
    "fake_news_centroid.shape"
   ]
  },
  {
   "cell_type": "code",
   "execution_count": 73,
   "id": "3da5d75f-43be-4892-9577-e6e36460cb40",
   "metadata": {},
   "outputs": [
    {
     "data": {
      "text/plain": [
       "(24721,)"
      ]
     },
     "execution_count": 73,
     "metadata": {},
     "output_type": "execute_result"
    }
   ],
   "source": [
    "no_fake_news_centroid.shape"
   ]
  },
  {
   "cell_type": "code",
   "execution_count": 74,
   "id": "6aa5aa9d-13e5-4b15-b2ee-fb5b02e385c8",
   "metadata": {},
   "outputs": [
    {
     "data": {
      "text/plain": [
       "array([-0.  , -0.  , -0.  , ...,  0.01,  0.01,  0.01])"
      ]
     },
     "execution_count": 74,
     "metadata": {},
     "output_type": "execute_result"
    }
   ],
   "source": [
    "fake_news_score = xv_val.dot(fake_news_centroid-no_fake_news_centroid)\n",
    "fake_news_score.round(2)"
   ]
  },
  {
   "cell_type": "code",
   "execution_count": 75,
   "id": "9455c508-9cb4-45e9-9746-5a50aef9f8b6",
   "metadata": {},
   "outputs": [
    {
     "name": "stdout",
     "output_type": "stream",
     "text": [
      "(4000, 1)\n"
     ]
    }
   ],
   "source": [
    "from sklearn.preprocessing import MinMaxScaler\n",
    "\n",
    "x_val_df = pd.DataFrame(x_val)\n",
    "print(x_val_df.shape)\n",
    "x_val_df['clickbait'] = y_val\n",
    "x_val_df['clickbait_score_model'] = MinMaxScaler().fit_transform(fake_news_score.reshape(-1,1))\n",
    "x_val_df['clickbait_prediction'] = (x_val_df.clickbait_score_model > 0.3).astype(int)"
   ]
  },
  {
   "cell_type": "code",
   "execution_count": 76,
   "id": "69fc64dd-142e-46b3-a583-60d41fc30d5b",
   "metadata": {},
   "outputs": [
    {
     "data": {
      "text/html": [
       "<div>\n",
       "<style scoped>\n",
       "    .dataframe tbody tr th:only-of-type {\n",
       "        vertical-align: middle;\n",
       "    }\n",
       "\n",
       "    .dataframe tbody tr th {\n",
       "        vertical-align: top;\n",
       "    }\n",
       "\n",
       "    .dataframe thead th {\n",
       "        text-align: right;\n",
       "    }\n",
       "</style>\n",
       "<table border=\"1\" class=\"dataframe\">\n",
       "  <thead>\n",
       "    <tr style=\"text-align: right;\">\n",
       "      <th></th>\n",
       "      <th>title</th>\n",
       "      <th>clickbait</th>\n",
       "      <th>clickbait_score_model</th>\n",
       "      <th>clickbait_prediction</th>\n",
       "    </tr>\n",
       "  </thead>\n",
       "  <tbody>\n",
       "    <tr>\n",
       "      <th>16984</th>\n",
       "      <td>‘Rogue One: A Star Wars Story’ Rakes In $155 M...</td>\n",
       "      <td>0</td>\n",
       "      <td>0.130428</td>\n",
       "      <td>0</td>\n",
       "    </tr>\n",
       "    <tr>\n",
       "      <th>17575</th>\n",
       "      <td>'Wells Fargo has been out of order for years!'...</td>\n",
       "      <td>0</td>\n",
       "      <td>0.177288</td>\n",
       "      <td>0</td>\n",
       "    </tr>\n",
       "    <tr>\n",
       "      <th>33409</th>\n",
       "      <td>Reports: Democrat Anthony Weiner Facing Child-...</td>\n",
       "      <td>1</td>\n",
       "      <td>0.160021</td>\n",
       "      <td>0</td>\n",
       "    </tr>\n",
       "    <tr>\n",
       "      <th>34351</th>\n",
       "      <td>Thank Goodness, Demi Lovato And Selena Gomez A...</td>\n",
       "      <td>1</td>\n",
       "      <td>0.279816</td>\n",
       "      <td>0</td>\n",
       "    </tr>\n",
       "    <tr>\n",
       "      <th>7052</th>\n",
       "      <td>Donald Trump kicked One Direction out of his h...</td>\n",
       "      <td>0</td>\n",
       "      <td>0.129075</td>\n",
       "      <td>0</td>\n",
       "    </tr>\n",
       "    <tr>\n",
       "      <th>...</th>\n",
       "      <td>...</td>\n",
       "      <td>...</td>\n",
       "      <td>...</td>\n",
       "      <td>...</td>\n",
       "    </tr>\n",
       "    <tr>\n",
       "      <th>23477</th>\n",
       "      <td>17 Hot Breakfasts For When You Need To Warm Up</td>\n",
       "      <td>1</td>\n",
       "      <td>0.470042</td>\n",
       "      <td>1</td>\n",
       "    </tr>\n",
       "    <tr>\n",
       "      <th>31227</th>\n",
       "      <td>Where the most attractive people in the US com...</td>\n",
       "      <td>1</td>\n",
       "      <td>0.362749</td>\n",
       "      <td>1</td>\n",
       "    </tr>\n",
       "    <tr>\n",
       "      <th>21368</th>\n",
       "      <td>Here's How Orphan Black Fans Are Dealing With ...</td>\n",
       "      <td>1</td>\n",
       "      <td>0.320642</td>\n",
       "      <td>1</td>\n",
       "    </tr>\n",
       "    <tr>\n",
       "      <th>35611</th>\n",
       "      <td>3 reasons why half of American workers are not...</td>\n",
       "      <td>1</td>\n",
       "      <td>0.330235</td>\n",
       "      <td>1</td>\n",
       "    </tr>\n",
       "    <tr>\n",
       "      <th>25813</th>\n",
       "      <td>17 Weird, Gross, Hilarious Things Everyone On ...</td>\n",
       "      <td>1</td>\n",
       "      <td>0.356080</td>\n",
       "      <td>1</td>\n",
       "    </tr>\n",
       "  </tbody>\n",
       "</table>\n",
       "<p>4000 rows × 4 columns</p>\n",
       "</div>"
      ],
      "text/plain": [
       "                                                   title  clickbait  \\\n",
       "16984  ‘Rogue One: A Star Wars Story’ Rakes In $155 M...          0   \n",
       "17575  'Wells Fargo has been out of order for years!'...          0   \n",
       "33409  Reports: Democrat Anthony Weiner Facing Child-...          1   \n",
       "34351  Thank Goodness, Demi Lovato And Selena Gomez A...          1   \n",
       "7052   Donald Trump kicked One Direction out of his h...          0   \n",
       "...                                                  ...        ...   \n",
       "23477     17 Hot Breakfasts For When You Need To Warm Up          1   \n",
       "31227  Where the most attractive people in the US com...          1   \n",
       "21368  Here's How Orphan Black Fans Are Dealing With ...          1   \n",
       "35611  3 reasons why half of American workers are not...          1   \n",
       "25813  17 Weird, Gross, Hilarious Things Everyone On ...          1   \n",
       "\n",
       "       clickbait_score_model  clickbait_prediction  \n",
       "16984               0.130428                     0  \n",
       "17575               0.177288                     0  \n",
       "33409               0.160021                     0  \n",
       "34351               0.279816                     0  \n",
       "7052                0.129075                     0  \n",
       "...                      ...                   ...  \n",
       "23477               0.470042                     1  \n",
       "31227               0.362749                     1  \n",
       "21368               0.320642                     1  \n",
       "35611               0.330235                     1  \n",
       "25813               0.356080                     1  \n",
       "\n",
       "[4000 rows x 4 columns]"
      ]
     },
     "execution_count": 76,
     "metadata": {},
     "output_type": "execute_result"
    }
   ],
   "source": [
    "x_val_df"
   ]
  },
  {
   "cell_type": "code",
   "execution_count": 77,
   "id": "446f15e1-375d-4a4c-b13f-2e4d730636b5",
   "metadata": {},
   "outputs": [],
   "source": [
    "predictions = x_val_df.clickbait_prediction"
   ]
  },
  {
   "cell_type": "code",
   "execution_count": 78,
   "id": "b97954ff-6410-43b1-96bb-c17809a311c2",
   "metadata": {},
   "outputs": [
    {
     "name": "stdout",
     "output_type": "stream",
     "text": [
      "{'Accuracy': 0.74475, 'Precision': 0.8785769528228925, 'Recall': 0.568, 'F1 Score': 0.6899483753416338, 'ROC-AUC': None}\n",
      "\n",
      "              precision    recall  f1-score   support\n",
      "\n",
      "           0       0.68      0.92      0.78      2000\n",
      "           1       0.88      0.57      0.69      2000\n",
      "\n",
      "    accuracy                           0.74      4000\n",
      "   macro avg       0.78      0.74      0.74      4000\n",
      "weighted avg       0.78      0.74      0.74      4000\n",
      "\n"
     ]
    },
    {
     "data": {
      "image/png": "[encoded data removed]",
      "text/plain": [
       "<Figure size 640x480 with 2 Axes>"
      ]
     },
     "metadata": {},
     "output_type": "display_data"
    }
   ],
   "source": [
    "create_summary_for_model_metrics(y_val, predictions, None)"
   ]
  },
  {
   "cell_type": "code",
   "execution_count": 20,
   "id": "3a4c2975-9aef-4161-aad8-07b7697a7246",
   "metadata": {},
   "outputs": [
    {
     "name": "stdout",
     "output_type": "stream",
     "text": [
      "              precision    recall  f1-score   support\n",
      "\n",
      "           0       0.70      0.92      0.79      4014\n",
      "           1       0.88      0.60      0.71      3986\n",
      "\n",
      "    accuracy                           0.76      8000\n",
      "   macro avg       0.79      0.76      0.75      8000\n",
      "weighted avg       0.79      0.76      0.75      8000\n",
      "\n"
     ]
    }
   ],
   "source": [
    "print(classification_report(y_val, predictions))"
   ]
  },
  {
   "cell_type": "code",
   "execution_count": null,
   "id": "7251f2ce-22ae-4eff-84e1-fe9e0c83791c",
   "metadata": {},
   "outputs": [],
   "source": []
  }
 ],
 "metadata": {
  "kernelspec": {
   "display_name": "Python 3 (ipykernel)",
   "language": "python",
   "name": "python3"
  },
  "language_info": {
   "codemirror_mode": {
    "name": "ipython",
    "version": 3
   },
   "file_extension": ".py",
   "mimetype": "text/x-python",
   "name": "python",
   "nbconvert_exporter": "python",
   "pygments_lexer": "ipython3",
   "version": "3.11.9"
  }
 },
 "nbformat": 4,
 "nbformat_minor": 5
}
