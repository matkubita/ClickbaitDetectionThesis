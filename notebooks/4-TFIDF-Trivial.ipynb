{
 "cells": [
  {
   "cell_type": "code",
   "execution_count": 136,
   "id": "fa2e2c20-2d84-4b47-923a-01d2e1a41a8d",
   "metadata": {},
   "outputs": [],
   "source": [
    "import pandas as pd\n",
    "import matplotlib.pyplot as plt\n",
    "import numpy as np\n",
    "import seaborn as sns\n",
    "import string\n",
    "import re\n",
    "from sklearn.model_selection import train_test_split\n",
    "from sklearn.metrics import accuracy_score\n",
    "from sklearn.preprocessing import MinMaxScaler\n",
    "from sklearn.feature_extraction.text import TfidfVectorizer\n",
    "from sklearn.metrics import classification_report"
   ]
  },
  {
   "cell_type": "code",
   "execution_count": 137,
   "id": "f8614cfc-6587-49a8-9e2b-561fc4f5c1d1",
   "metadata": {},
   "outputs": [],
   "source": [
    "df_merged = pd.read_csv(\"../data/merged_datasetes_balanced_huge.csv\")"
   ]
  },
  {
   "cell_type": "code",
   "execution_count": 138,
   "id": "bf9bd577-41ab-480f-bf72-f63dd3ca1a56",
   "metadata": {},
   "outputs": [
    {
     "data": {
      "text/html": [
       "<div>\n",
       "<style scoped>\n",
       "    .dataframe tbody tr th:only-of-type {\n",
       "        vertical-align: middle;\n",
       "    }\n",
       "\n",
       "    .dataframe tbody tr th {\n",
       "        vertical-align: top;\n",
       "    }\n",
       "\n",
       "    .dataframe thead th {\n",
       "        text-align: right;\n",
       "    }\n",
       "</style>\n",
       "<table border=\"1\" class=\"dataframe\">\n",
       "  <thead>\n",
       "    <tr style=\"text-align: right;\">\n",
       "      <th></th>\n",
       "      <th>title</th>\n",
       "      <th>clickbait</th>\n",
       "      <th>set</th>\n",
       "      <th>char_capital</th>\n",
       "      <th>char_small</th>\n",
       "      <th>char_special</th>\n",
       "      <th>blank</th>\n",
       "      <th>numerical</th>\n",
       "      <th>letters</th>\n",
       "      <th>outlier</th>\n",
       "    </tr>\n",
       "  </thead>\n",
       "  <tbody>\n",
       "    <tr>\n",
       "      <th>0</th>\n",
       "      <td>Boy arrested for murder after seventeen-year-o...</td>\n",
       "      <td>0</td>\n",
       "      <td>1</td>\n",
       "      <td>1</td>\n",
       "      <td>52</td>\n",
       "      <td>2</td>\n",
       "      <td>9</td>\n",
       "      <td>0</td>\n",
       "      <td>53</td>\n",
       "      <td>0</td>\n",
       "    </tr>\n",
       "    <tr>\n",
       "      <th>1</th>\n",
       "      <td>Canada unveils plans to legalise recreational ...</td>\n",
       "      <td>0</td>\n",
       "      <td>2</td>\n",
       "      <td>1</td>\n",
       "      <td>48</td>\n",
       "      <td>0</td>\n",
       "      <td>6</td>\n",
       "      <td>0</td>\n",
       "      <td>49</td>\n",
       "      <td>0</td>\n",
       "    </tr>\n",
       "    <tr>\n",
       "      <th>2</th>\n",
       "      <td>Martin Shkreli Wins Ruling Splitting Fraud Tri...</td>\n",
       "      <td>0</td>\n",
       "      <td>2</td>\n",
       "      <td>10</td>\n",
       "      <td>44</td>\n",
       "      <td>1</td>\n",
       "      <td>8</td>\n",
       "      <td>0</td>\n",
       "      <td>54</td>\n",
       "      <td>0</td>\n",
       "    </tr>\n",
       "    <tr>\n",
       "      <th>3</th>\n",
       "      <td>Your 2015 MLB Draft Prep Kit: Spending Strateg...</td>\n",
       "      <td>0</td>\n",
       "      <td>2</td>\n",
       "      <td>15</td>\n",
       "      <td>63</td>\n",
       "      <td>5</td>\n",
       "      <td>15</td>\n",
       "      <td>4</td>\n",
       "      <td>78</td>\n",
       "      <td>0</td>\n",
       "    </tr>\n",
       "    <tr>\n",
       "      <th>4</th>\n",
       "      <td>Oscars: The winners list</td>\n",
       "      <td>0</td>\n",
       "      <td>3</td>\n",
       "      <td>2</td>\n",
       "      <td>18</td>\n",
       "      <td>1</td>\n",
       "      <td>3</td>\n",
       "      <td>0</td>\n",
       "      <td>20</td>\n",
       "      <td>0</td>\n",
       "    </tr>\n",
       "  </tbody>\n",
       "</table>\n",
       "</div>"
      ],
      "text/plain": [
       "                                               title  clickbait  set  \\\n",
       "0  Boy arrested for murder after seventeen-year-o...          0    1   \n",
       "1  Canada unveils plans to legalise recreational ...          0    2   \n",
       "2  Martin Shkreli Wins Ruling Splitting Fraud Tri...          0    2   \n",
       "3  Your 2015 MLB Draft Prep Kit: Spending Strateg...          0    2   \n",
       "4                           Oscars: The winners list          0    3   \n",
       "\n",
       "   char_capital  char_small  char_special  blank  numerical  letters  outlier  \n",
       "0             1          52             2      9          0       53        0  \n",
       "1             1          48             0      6          0       49        0  \n",
       "2            10          44             1      8          0       54        0  \n",
       "3            15          63             5     15          4       78        0  \n",
       "4             2          18             1      3          0       20        0  "
      ]
     },
     "execution_count": 138,
     "metadata": {},
     "output_type": "execute_result"
    }
   ],
   "source": [
    "df_merged.head()"
   ]
  },
  {
   "cell_type": "code",
   "execution_count": 139,
   "id": "940bc87e-48aa-4b31-b273-f92405399ab9",
   "metadata": {},
   "outputs": [
    {
     "data": {
      "text/plain": [
       "(40000, 10)"
      ]
     },
     "execution_count": 139,
     "metadata": {},
     "output_type": "execute_result"
    }
   ],
   "source": [
    "df_merged.shape"
   ]
  },
  {
   "cell_type": "code",
   "execution_count": 140,
   "id": "938f7c5e-c65c-434d-b3e8-5c11c640cfb3",
   "metadata": {},
   "outputs": [],
   "source": [
    "%run 0-Function-Helper.ipynb"
   ]
  },
  {
   "cell_type": "code",
   "execution_count": 141,
   "id": "6b2f044f-3c6c-48d7-8704-50437a7a883d",
   "metadata": {},
   "outputs": [],
   "source": [
    "x_train, x_test, y_train, y_test = train_test_split(\n",
    "    df_merged[\"title\"], \n",
    "    df_merged[\"clickbait\"],\n",
    "    test_size=0.2, \n",
    "    random_state=42,\n",
    "    stratify=df_merged[\"clickbait\"]\n",
    ")\n",
    "\n",
    "x_test, x_val, y_test, y_val = train_test_split(\n",
    "    x_test, \n",
    "    y_test,\n",
    "    test_size=0.5,  # 50% of the original x_test size for validation\n",
    "    random_state=42,\n",
    "    stratify=y_test\n",
    ")"
   ]
  },
  {
   "cell_type": "markdown",
   "id": "6aff6aa4-fe9e-4f85-9932-4b7babdff2a4",
   "metadata": {},
   "source": [
    "# Raw dataset"
   ]
  },
  {
   "cell_type": "code",
   "execution_count": 142,
   "id": "7e95aac3-8629-4b1b-843c-708e5444f7a1",
   "metadata": {},
   "outputs": [],
   "source": [
    "vectorization = TfidfVectorizer()\n",
    "xv_train = vectorization.fit_transform(x_train)\n",
    "xv_val = vectorization.transform(x_val)"
   ]
  },
  {
   "cell_type": "code",
   "execution_count": 143,
   "id": "87c8a19c-4091-422c-a0e7-d9ef8e0c78bf",
   "metadata": {},
   "outputs": [
    {
     "data": {
      "text/plain": [
       "(32000, 25335)"
      ]
     },
     "execution_count": 143,
     "metadata": {},
     "output_type": "execute_result"
    }
   ],
   "source": [
    "xv_train.shape"
   ]
  },
  {
   "cell_type": "code",
   "execution_count": 144,
   "id": "49d49450-969f-4b45-976e-2ba688eb13b9",
   "metadata": {},
   "outputs": [],
   "source": [
    "mask = y_train.astype(bool).values\n",
    "fake_news_centroid = np.array(xv_train[mask].mean(axis=0)).ravel()\n",
    "no_fake_news_centroid = np.array(xv_train[~mask].mean(axis=0)).ravel()"
   ]
  },
  {
   "cell_type": "code",
   "execution_count": 145,
   "id": "7b1e1a0f-4b6c-433d-9067-a751ad8ecd30",
   "metadata": {},
   "outputs": [
    {
     "data": {
      "text/plain": [
       "(32000, 25335)"
      ]
     },
     "execution_count": 145,
     "metadata": {},
     "output_type": "execute_result"
    }
   ],
   "source": [
    "xv_train.shape"
   ]
  },
  {
   "cell_type": "code",
   "execution_count": 146,
   "id": "12335e78-bfbc-4d53-9752-f56dc76e7ac9",
   "metadata": {},
   "outputs": [
    {
     "data": {
      "text/plain": [
       "(25335,)"
      ]
     },
     "execution_count": 146,
     "metadata": {},
     "output_type": "execute_result"
    }
   ],
   "source": [
    "fake_news_centroid.shape"
   ]
  },
  {
   "cell_type": "code",
   "execution_count": 147,
   "id": "3da5d75f-43be-4892-9577-e6e36460cb40",
   "metadata": {},
   "outputs": [
    {
     "data": {
      "text/plain": [
       "(25335,)"
      ]
     },
     "execution_count": 147,
     "metadata": {},
     "output_type": "execute_result"
    }
   ],
   "source": [
    "no_fake_news_centroid.shape"
   ]
  },
  {
   "cell_type": "code",
   "execution_count": 148,
   "id": "6aa5aa9d-13e5-4b15-b2ee-fb5b02e385c8",
   "metadata": {},
   "outputs": [
    {
     "data": {
      "text/plain": [
       "array([-0.  , -0.  ,  0.  , ...,  0.01,  0.  ,  0.03])"
      ]
     },
     "execution_count": 148,
     "metadata": {},
     "output_type": "execute_result"
    }
   ],
   "source": [
    "fake_news_score = xv_val.dot(fake_news_centroid-no_fake_news_centroid)\n",
    "fake_news_score.round(2)"
   ]
  },
  {
   "cell_type": "code",
   "execution_count": 149,
   "id": "9455c508-9cb4-45e9-9746-5a50aef9f8b6",
   "metadata": {},
   "outputs": [
    {
     "name": "stdout",
     "output_type": "stream",
     "text": [
      "(4000, 1)\n"
     ]
    }
   ],
   "source": [
    "x_val_df = pd.DataFrame(x_val)\n",
    "print(x_val_df.shape)\n",
    "x_val_df['clickbait'] = y_val\n",
    "x_val_df['clickbait_score_model'] = MinMaxScaler().fit_transform(fake_news_score.reshape(-1,1))\n",
    "x_val_df['clickbait_prediction'] = (x_val_df.clickbait_score_model > 0.3).astype(int)"
   ]
  },
  {
   "cell_type": "code",
   "execution_count": 150,
   "id": "69fc64dd-142e-46b3-a583-60d41fc30d5b",
   "metadata": {},
   "outputs": [
    {
     "data": {
      "text/html": [
       "<div>\n",
       "<style scoped>\n",
       "    .dataframe tbody tr th:only-of-type {\n",
       "        vertical-align: middle;\n",
       "    }\n",
       "\n",
       "    .dataframe tbody tr th {\n",
       "        vertical-align: top;\n",
       "    }\n",
       "\n",
       "    .dataframe thead th {\n",
       "        text-align: right;\n",
       "    }\n",
       "</style>\n",
       "<table border=\"1\" class=\"dataframe\">\n",
       "  <thead>\n",
       "    <tr style=\"text-align: right;\">\n",
       "      <th></th>\n",
       "      <th>title</th>\n",
       "      <th>clickbait</th>\n",
       "      <th>clickbait_score_model</th>\n",
       "      <th>clickbait_prediction</th>\n",
       "    </tr>\n",
       "  </thead>\n",
       "  <tbody>\n",
       "    <tr>\n",
       "      <th>16984</th>\n",
       "      <td>North Korea Vows to Produce Nuclear Weapons</td>\n",
       "      <td>0</td>\n",
       "      <td>0.126645</td>\n",
       "      <td>0</td>\n",
       "    </tr>\n",
       "    <tr>\n",
       "      <th>17575</th>\n",
       "      <td>Australian on death row in Vietnam for smuggli...</td>\n",
       "      <td>0</td>\n",
       "      <td>0.099152</td>\n",
       "      <td>0</td>\n",
       "    </tr>\n",
       "    <tr>\n",
       "      <th>33409</th>\n",
       "      <td>How to make Dorie Greenspan’s cheese and bacon...</td>\n",
       "      <td>1</td>\n",
       "      <td>0.311396</td>\n",
       "      <td>1</td>\n",
       "    </tr>\n",
       "    <tr>\n",
       "      <th>34351</th>\n",
       "      <td>Which \"Orange Is The New Black\" Inmate Would B...</td>\n",
       "      <td>1</td>\n",
       "      <td>0.445386</td>\n",
       "      <td>1</td>\n",
       "    </tr>\n",
       "    <tr>\n",
       "      <th>7052</th>\n",
       "      <td>Philadelphia Mayor Proposes Temporary Tax Incr...</td>\n",
       "      <td>0</td>\n",
       "      <td>0.167793</td>\n",
       "      <td>0</td>\n",
       "    </tr>\n",
       "    <tr>\n",
       "      <th>...</th>\n",
       "      <td>...</td>\n",
       "      <td>...</td>\n",
       "      <td>...</td>\n",
       "      <td>...</td>\n",
       "    </tr>\n",
       "    <tr>\n",
       "      <th>23477</th>\n",
       "      <td>21 Insanely Creative Halloween Costumes For Yo...</td>\n",
       "      <td>1</td>\n",
       "      <td>0.631018</td>\n",
       "      <td>1</td>\n",
       "    </tr>\n",
       "    <tr>\n",
       "      <th>31227</th>\n",
       "      <td>Paying for President Trump's Travel and Securi...</td>\n",
       "      <td>1</td>\n",
       "      <td>0.073241</td>\n",
       "      <td>0</td>\n",
       "    </tr>\n",
       "    <tr>\n",
       "      <th>21368</th>\n",
       "      <td>Here's What The Cast Of \"The Fresh Prince Of B...</td>\n",
       "      <td>1</td>\n",
       "      <td>0.487809</td>\n",
       "      <td>1</td>\n",
       "    </tr>\n",
       "    <tr>\n",
       "      <th>35611</th>\n",
       "      <td>Why Strategic Investment Isn't Always A Good S...</td>\n",
       "      <td>1</td>\n",
       "      <td>0.207744</td>\n",
       "      <td>0</td>\n",
       "    </tr>\n",
       "    <tr>\n",
       "      <th>25813</th>\n",
       "      <td>We Know Which GIF Will Make You Laugh Based On...</td>\n",
       "      <td>1</td>\n",
       "      <td>0.873840</td>\n",
       "      <td>1</td>\n",
       "    </tr>\n",
       "  </tbody>\n",
       "</table>\n",
       "<p>4000 rows × 4 columns</p>\n",
       "</div>"
      ],
      "text/plain": [
       "                                                   title  clickbait  \\\n",
       "16984        North Korea Vows to Produce Nuclear Weapons          0   \n",
       "17575  Australian on death row in Vietnam for smuggli...          0   \n",
       "33409  How to make Dorie Greenspan’s cheese and bacon...          1   \n",
       "34351  Which \"Orange Is The New Black\" Inmate Would B...          1   \n",
       "7052   Philadelphia Mayor Proposes Temporary Tax Incr...          0   \n",
       "...                                                  ...        ...   \n",
       "23477  21 Insanely Creative Halloween Costumes For Yo...          1   \n",
       "31227  Paying for President Trump's Travel and Securi...          1   \n",
       "21368  Here's What The Cast Of \"The Fresh Prince Of B...          1   \n",
       "35611  Why Strategic Investment Isn't Always A Good S...          1   \n",
       "25813  We Know Which GIF Will Make You Laugh Based On...          1   \n",
       "\n",
       "       clickbait_score_model  clickbait_prediction  \n",
       "16984               0.126645                     0  \n",
       "17575               0.099152                     0  \n",
       "33409               0.311396                     1  \n",
       "34351               0.445386                     1  \n",
       "7052                0.167793                     0  \n",
       "...                      ...                   ...  \n",
       "23477               0.631018                     1  \n",
       "31227               0.073241                     0  \n",
       "21368               0.487809                     1  \n",
       "35611               0.207744                     0  \n",
       "25813               0.873840                     1  \n",
       "\n",
       "[4000 rows x 4 columns]"
      ]
     },
     "execution_count": 150,
     "metadata": {},
     "output_type": "execute_result"
    }
   ],
   "source": [
    "x_val_df"
   ]
  },
  {
   "cell_type": "code",
   "execution_count": 151,
   "id": "446f15e1-375d-4a4c-b13f-2e4d730636b5",
   "metadata": {},
   "outputs": [],
   "source": [
    "predictions = x_val_df.clickbait_prediction"
   ]
  },
  {
   "cell_type": "code",
   "execution_count": 152,
   "id": "8da8e728-0b7c-4147-8aa8-3498940895bb",
   "metadata": {},
   "outputs": [
    {
     "name": "stdout",
     "output_type": "stream",
     "text": [
      "0.786 & 0.884 & 0.659 & 0.755 & None \\\n",
      "{'Accuracy': 0.78625, 'Precision': 0.8839704896042925, 'Recall': 0.659, 'F1 Score': 0.7550845030077341, 'ROC-AUC': None}\n",
      "\n",
      "              precision    recall  f1-score   support\n",
      "\n",
      "           0       0.73      0.91      0.81      2000\n",
      "           1       0.88      0.66      0.76      2000\n",
      "\n",
      "    accuracy                           0.79      4000\n",
      "   macro avg       0.81      0.79      0.78      4000\n",
      "weighted avg       0.81      0.79      0.78      4000\n",
      "\n"
     ]
    },
    {
     "data": {
      "image/png": "[encoded data removed]",
      "text/plain": [
       "<Figure size 640x480 with 2 Axes>"
      ]
     },
     "metadata": {},
     "output_type": "display_data"
    }
   ],
   "source": [
    "create_summary_for_model_metrics(y_val, predictions, None, \"trivial_raw\")"
   ]
  },
  {
   "cell_type": "markdown",
   "id": "ee859284-8388-447c-8c5b-6a59ec9cf6b0",
   "metadata": {},
   "source": [
    "## Cleaned dataset"
   ]
  },
  {
   "cell_type": "code",
   "execution_count": 153,
   "id": "7251f2ce-22ae-4eff-84e1-fe9e0c83791c",
   "metadata": {},
   "outputs": [],
   "source": [
    "df_merged = pd.read_csv(\"../data/merged_datasetes_balanced_huge_cleaned.csv\")"
   ]
  },
  {
   "cell_type": "code",
   "execution_count": 154,
   "id": "4e6e4e80-f96f-47ba-afcd-3cd8d0433b3d",
   "metadata": {},
   "outputs": [],
   "source": [
    "x_train, x_test, y_train, y_test = train_test_split(\n",
    "    df_merged[\"title\"], \n",
    "    df_merged[\"clickbait\"],\n",
    "    test_size=0.2, \n",
    "    random_state=42,\n",
    "    stratify=df_merged[\"clickbait\"]\n",
    ")\n",
    "\n",
    "x_test, x_val, y_test, y_val = train_test_split(\n",
    "    x_test, \n",
    "    y_test,\n",
    "    test_size=0.5,  # 50% of the original x_test size for validation\n",
    "    random_state=42,\n",
    "    stratify=y_test\n",
    ")"
   ]
  },
  {
   "cell_type": "code",
   "execution_count": 155,
   "id": "689917ad-41ba-4ba7-9888-d57df86abd97",
   "metadata": {},
   "outputs": [],
   "source": [
    "vectorization = TfidfVectorizer()\n",
    "xv_train = vectorization.fit_transform(x_train)\n",
    "xv_val = vectorization.transform(x_val)"
   ]
  },
  {
   "cell_type": "code",
   "execution_count": 156,
   "id": "d6f4eaa0-bc73-4c81-bc20-f4ac384d4be7",
   "metadata": {},
   "outputs": [],
   "source": [
    "mask = y_train.astype(bool).values\n",
    "fake_news_centroid = np.array(xv_train[mask].mean(axis=0)).ravel()\n",
    "no_fake_news_centroid = np.array(xv_train[~mask].mean(axis=0)).ravel()"
   ]
  },
  {
   "cell_type": "code",
   "execution_count": 157,
   "id": "4b6a661c-b5e7-4e2e-8cde-de888dd8093c",
   "metadata": {},
   "outputs": [
    {
     "data": {
      "text/plain": [
       "(24135,)"
      ]
     },
     "execution_count": 157,
     "metadata": {},
     "output_type": "execute_result"
    }
   ],
   "source": [
    "fake_news_centroid.shape"
   ]
  },
  {
   "cell_type": "code",
   "execution_count": 158,
   "id": "6c043022-7c4d-4b8b-8f1e-848fbb07ac70",
   "metadata": {},
   "outputs": [
    {
     "data": {
      "text/plain": [
       "(24135,)"
      ]
     },
     "execution_count": 158,
     "metadata": {},
     "output_type": "execute_result"
    }
   ],
   "source": [
    "no_fake_news_centroid.shape"
   ]
  },
  {
   "cell_type": "code",
   "execution_count": 159,
   "id": "175e101c-8f74-47a1-94aa-56deba369e6f",
   "metadata": {},
   "outputs": [],
   "source": [
    "fake_news_score = xv_val.dot(fake_news_centroid-no_fake_news_centroid)"
   ]
  },
  {
   "cell_type": "code",
   "execution_count": 160,
   "id": "17d40121-fe02-4242-b292-3744b36005db",
   "metadata": {},
   "outputs": [
    {
     "name": "stdout",
     "output_type": "stream",
     "text": [
      "(4000, 1)\n"
     ]
    }
   ],
   "source": [
    "x_val_df = pd.DataFrame(x_val)\n",
    "print(x_val_df.shape)\n",
    "x_val_df['clickbait'] = y_val\n",
    "x_val_df['clickbait_score_model'] = MinMaxScaler().fit_transform(fake_news_score.reshape(-1,1))\n",
    "x_val_df['clickbait_prediction'] = (x_val_df.clickbait_score_model > 0.3).astype(int)"
   ]
  },
  {
   "cell_type": "code",
   "execution_count": 161,
   "id": "74de9b80-6ae1-47fa-b686-5569e70c7052",
   "metadata": {},
   "outputs": [],
   "source": [
    "predictions = x_val_df.clickbait_prediction"
   ]
  },
  {
   "cell_type": "code",
   "execution_count": 162,
   "id": "0517002b-16b3-47ad-8ee5-ce02e2e0102a",
   "metadata": {},
   "outputs": [
    {
     "name": "stdout",
     "output_type": "stream",
     "text": [
      "0.782 & 0.747 & 0.852 & 0.797 & None \\\n",
      "{'Accuracy': 0.78225, 'Precision': 0.7474791758000877, 'Recall': 0.8525, 'F1 Score': 0.7965428638168652, 'ROC-AUC': None}\n",
      "\n",
      "              precision    recall  f1-score   support\n",
      "\n",
      "           0       0.83      0.71      0.77      2000\n",
      "           1       0.75      0.85      0.80      2000\n",
      "\n",
      "    accuracy                           0.78      4000\n",
      "   macro avg       0.79      0.78      0.78      4000\n",
      "weighted avg       0.79      0.78      0.78      4000\n",
      "\n"
     ]
    },
    {
     "data": {
      "image/png": "[encoded data removed]",
      "text/plain": [
       "<Figure size 640x480 with 2 Axes>"
      ]
     },
     "metadata": {},
     "output_type": "display_data"
    }
   ],
   "source": [
    "create_summary_for_model_metrics(y_val, predictions, None, \"trivial_cleaned\")"
   ]
  },
  {
   "cell_type": "code",
   "execution_count": null,
   "id": "e77b4daa-28cb-4769-8bb5-12ecb11d8cab",
   "metadata": {},
   "outputs": [],
   "source": []
  },
  {
   "cell_type": "code",
   "execution_count": null,
   "id": "994f675e-6b16-4212-a20b-1d4451cf50ca",
   "metadata": {},
   "outputs": [],
   "source": []
  },
  {
   "cell_type": "code",
   "execution_count": null,
   "id": "b3896da3-46f6-4fcf-a8df-5593ef7d9e80",
   "metadata": {},
   "outputs": [],
   "source": []
  }
 ],
 "metadata": {
  "kernelspec": {
   "display_name": "Python 3 (ipykernel)",
   "language": "python",
   "name": "python3"
  },
  "language_info": {
   "codemirror_mode": {
    "name": "ipython",
    "version": 3
   },
   "file_extension": ".py",
   "mimetype": "text/x-python",
   "name": "python",
   "nbconvert_exporter": "python",
   "pygments_lexer": "ipython3",
   "version": "3.11.9"
  }
 },
 "nbformat": 4,
 "nbformat_minor": 5
}
