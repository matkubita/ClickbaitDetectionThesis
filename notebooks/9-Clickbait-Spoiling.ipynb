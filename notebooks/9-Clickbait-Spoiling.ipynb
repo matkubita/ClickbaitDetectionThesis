{
 "cells": [
  {
   "cell_type": "markdown",
   "metadata": {},
   "source": [
    "## Clickbait spoiling notebook"
   ]
  },
  {
   "cell_type": "code",
   "execution_count": 38,
   "metadata": {},
   "outputs": [],
   "source": [
    "import pandas as pd\n",
    "import os\n",
    "from dotenv import load_dotenv\n",
    "from openai import OpenAI\n",
    "import tiktoken\n",
    "from typing import List\n",
    "import string\n",
    "import re\n",
    "import json\n",
    "from sklearn.feature_extraction.text import TfidfVectorizer\n",
    "from sklearn.metrics.pairwise import cosine_similarity"
   ]
  },
  {
   "cell_type": "code",
   "execution_count": 2,
   "metadata": {},
   "outputs": [],
   "source": [
    "# VARIABLES\n",
    "load_dotenv()\n",
    "api_key = os.getenv(\"OPEN_AI_KEY\")"
   ]
  },
  {
   "cell_type": "code",
   "execution_count": 3,
   "metadata": {},
   "outputs": [],
   "source": [
    "def calculate_cost(prompt: str, data: str, out: str, model: str = \"gpt-4o-mini\") -> float:\n",
    "    \"\"\"\n",
    "    Calculates the cost of a request to a OPEN AI model based on the prompt, data, and output\n",
    "\n",
    "    Args:\n",
    "        prompt (str): prompt sent to the LLM\n",
    "        data (str): additional data sent to the LLM.\n",
    "        out (str): response received from the LLM.\n",
    "        model (str): model identifier used to determine the tokenizer, defaults to \"gpt-4o-mini\"\n",
    "\n",
    "    Returns:\n",
    "        float: total cost of the tokens used in USD\n",
    "    \"\"\"\n",
    "    tokenizer = tiktoken.encoding_for_model(model)  \n",
    "    request = str(prompt) + str(data)\n",
    "    response = str(out)\n",
    "\n",
    "    request_tokens = tokenizer.encode(request)\n",
    "    response_tokens = tokenizer.encode(response)\n",
    "\n",
    "    input_tokens = len(request_tokens)\n",
    "    output_tokens = len(response_tokens)\n",
    "\n",
    "    # costs per 1 million tokens\n",
    "    cost_per_1M_input_tokens = 0.15  # $0.15 per 1M input tokens\n",
    "    cost_per_1M_output_tokens = 0.60  # $0.60 per 1M output tokens\n",
    "\n",
    "    input_cost = (input_tokens / 10**6) * cost_per_1M_input_tokens\n",
    "    output_cost = (output_tokens / 10**6) * cost_per_1M_output_tokens\n",
    "    total_cost = input_cost + output_cost\n",
    "\n",
    "    print(f\"Input tokens: {input_tokens}\")\n",
    "    print(f\"Output tokens: {output_tokens}\")\n",
    "    print(f\"Total tokens: {input_tokens + output_tokens}\")\n",
    "    print(f\"Cost: ${total_cost:.5f}\")\n",
    "    return total_cost"
   ]
  },
  {
   "cell_type": "code",
   "execution_count": 4,
   "metadata": {},
   "outputs": [
    {
     "name": "stdout",
     "output_type": "stream",
     "text": [
      "(3358, 6)\n",
      "['passage', 'phrase', 'multi']\n"
     ]
    }
   ],
   "source": [
    "spoil_df = pd.read_csv(\"../data/spoiling_data.csv\")\n",
    "print(spoil_df.shape)\n",
    "tags = spoil_df[\"tags\"].unique().tolist()\n",
    "print(tags)"
   ]
  },
  {
   "cell_type": "code",
   "execution_count": 5,
   "metadata": {},
   "outputs": [
    {
     "data": {
      "text/html": [
       "<div>\n",
       "<style scoped>\n",
       "    .dataframe tbody tr th:only-of-type {\n",
       "        vertical-align: middle;\n",
       "    }\n",
       "\n",
       "    .dataframe tbody tr th {\n",
       "        vertical-align: top;\n",
       "    }\n",
       "\n",
       "    .dataframe thead th {\n",
       "        text-align: right;\n",
       "    }\n",
       "</style>\n",
       "<table border=\"1\" class=\"dataframe\">\n",
       "  <thead>\n",
       "    <tr style=\"text-align: right;\">\n",
       "      <th></th>\n",
       "      <th>targetTitle</th>\n",
       "      <th>targetParagraphs</th>\n",
       "      <th>humanSpoiler</th>\n",
       "      <th>spoiler</th>\n",
       "      <th>tags</th>\n",
       "      <th>spoilerPositions</th>\n",
       "    </tr>\n",
       "  </thead>\n",
       "  <tbody>\n",
       "    <tr>\n",
       "      <th>0</th>\n",
       "      <td>Wes Welker Wanted Dinner With Tom Brady, But P...</td>\n",
       "      <td>It’ll be just like old times this weekend for ...</td>\n",
       "      <td>They Threw A Football</td>\n",
       "      <td>how about that morning we go throw?</td>\n",
       "      <td>passage</td>\n",
       "      <td>[[[3, 151], [3, 186]]]</td>\n",
       "    </tr>\n",
       "    <tr>\n",
       "      <th>1</th>\n",
       "      <td>Hole In Ozone Layer Expected To Make Full Reco...</td>\n",
       "      <td>2070 is shaping up to be a great year for Moth...</td>\n",
       "      <td>2070</td>\n",
       "      <td>2070</td>\n",
       "      <td>phrase</td>\n",
       "      <td>[[[0, 0], [0, 4]]]</td>\n",
       "    </tr>\n",
       "    <tr>\n",
       "      <th>2</th>\n",
       "      <td>Intellectual Stimulation Trumps Money For Empl...</td>\n",
       "      <td>Despite common belief, money isnt the key to e...</td>\n",
       "      <td>Intellectual stimulation</td>\n",
       "      <td>intellectual stimulation</td>\n",
       "      <td>phrase</td>\n",
       "      <td>[[[1, 186], [1, 210]]]</td>\n",
       "    </tr>\n",
       "    <tr>\n",
       "      <th>3</th>\n",
       "      <td>Heres what happens if your Apple AirPods get l...</td>\n",
       "      <td>One of the biggest surprise announcements at A...</td>\n",
       "      <td>No</td>\n",
       "      <td>Apple says that if AirPods are lost or stolen,...</td>\n",
       "      <td>passage</td>\n",
       "      <td>[[[4, 0], [4, 110]]]</td>\n",
       "    </tr>\n",
       "    <tr>\n",
       "      <th>4</th>\n",
       "      <td>The Reason Why Gabor Kiraly Wears THOSE Tracki...</td>\n",
       "      <td>June 14th 2016 3.3K Shares, They may look like...</td>\n",
       "      <td>Its a lucky charm to him</td>\n",
       "      <td>The more good games I had in them, the more I ...</td>\n",
       "      <td>passage</td>\n",
       "      <td>[[[5, 0], [5, 64]]]</td>\n",
       "    </tr>\n",
       "  </tbody>\n",
       "</table>\n",
       "</div>"
      ],
      "text/plain": [
       "                                         targetTitle  \\\n",
       "0  Wes Welker Wanted Dinner With Tom Brady, But P...   \n",
       "1  Hole In Ozone Layer Expected To Make Full Reco...   \n",
       "2  Intellectual Stimulation Trumps Money For Empl...   \n",
       "3  Heres what happens if your Apple AirPods get l...   \n",
       "4  The Reason Why Gabor Kiraly Wears THOSE Tracki...   \n",
       "\n",
       "                                    targetParagraphs  \\\n",
       "0  It’ll be just like old times this weekend for ...   \n",
       "1  2070 is shaping up to be a great year for Moth...   \n",
       "2  Despite common belief, money isnt the key to e...   \n",
       "3  One of the biggest surprise announcements at A...   \n",
       "4  June 14th 2016 3.3K Shares, They may look like...   \n",
       "\n",
       "               humanSpoiler  \\\n",
       "0     They Threw A Football   \n",
       "1                      2070   \n",
       "2  Intellectual stimulation   \n",
       "3                        No   \n",
       "4  Its a lucky charm to him   \n",
       "\n",
       "                                             spoiler     tags  \\\n",
       "0                how about that morning we go throw?  passage   \n",
       "1                                               2070   phrase   \n",
       "2                           intellectual stimulation   phrase   \n",
       "3  Apple says that if AirPods are lost or stolen,...  passage   \n",
       "4  The more good games I had in them, the more I ...  passage   \n",
       "\n",
       "         spoilerPositions  \n",
       "0  [[[3, 151], [3, 186]]]  \n",
       "1      [[[0, 0], [0, 4]]]  \n",
       "2  [[[1, 186], [1, 210]]]  \n",
       "3    [[[4, 0], [4, 110]]]  \n",
       "4     [[[5, 0], [5, 64]]]  "
      ]
     },
     "execution_count": 5,
     "metadata": {},
     "output_type": "execute_result"
    }
   ],
   "source": [
    "spoil_df.head()"
   ]
  },
  {
   "cell_type": "code",
   "execution_count": 6,
   "metadata": {},
   "outputs": [],
   "source": [
    "client = OpenAI(api_key=api_key)"
   ]
  },
  {
   "cell_type": "code",
   "execution_count": 7,
   "metadata": {},
   "outputs": [
    {
     "name": "stdout",
     "output_type": "stream",
     "text": [
      "Mean length of the paragraph: 2868.0226325193566\n",
      "Median length of the paragraph: 1973.0\n"
     ]
    }
   ],
   "source": [
    "spoil_df[\"paragraphsLength\"] = spoil_df[\"targetParagraphs\"].apply(lambda x: len(x))\n",
    "mean_length = spoil_df[\"paragraphsLength\"].mean()\n",
    "median_length = spoil_df[\"paragraphsLength\"].median()\n",
    "\n",
    "print(\"Mean length of the paragraph:\", mean_length)\n",
    "print(\"Median length of the paragraph:\", median_length)"
   ]
  },
  {
   "cell_type": "markdown",
   "metadata": {},
   "source": [
    "### Direct Prompt"
   ]
  },
  {
   "cell_type": "code",
   "execution_count": 166,
   "metadata": {},
   "outputs": [
    {
     "data": {
      "text/html": [
       "<div>\n",
       "<style scoped>\n",
       "    .dataframe tbody tr th:only-of-type {\n",
       "        vertical-align: middle;\n",
       "    }\n",
       "\n",
       "    .dataframe tbody tr th {\n",
       "        vertical-align: top;\n",
       "    }\n",
       "\n",
       "    .dataframe thead th {\n",
       "        text-align: right;\n",
       "    }\n",
       "</style>\n",
       "<table border=\"1\" class=\"dataframe\">\n",
       "  <thead>\n",
       "    <tr style=\"text-align: right;\">\n",
       "      <th></th>\n",
       "      <th>targetTitle</th>\n",
       "      <th>targetParagraphs</th>\n",
       "      <th>humanSpoiler</th>\n",
       "      <th>spoiler</th>\n",
       "      <th>tags</th>\n",
       "      <th>spoilerPositions</th>\n",
       "      <th>paragraphsLength</th>\n",
       "    </tr>\n",
       "  </thead>\n",
       "  <tbody>\n",
       "    <tr>\n",
       "      <th>696</th>\n",
       "      <td>The Grand Tour launch date</td>\n",
       "      <td>November 18 The Grand Tour: Launch Date</td>\n",
       "      <td>November 18</td>\n",
       "      <td>November 18</td>\n",
       "      <td>phrase</td>\n",
       "      <td>[[[0, 0], [0, 11]]]</td>\n",
       "      <td>39</td>\n",
       "    </tr>\n",
       "  </tbody>\n",
       "</table>\n",
       "</div>"
      ],
      "text/plain": [
       "                    targetTitle                         targetParagraphs  \\\n",
       "696  The Grand Tour launch date  November 18 The Grand Tour: Launch Date   \n",
       "\n",
       "    humanSpoiler      spoiler    tags     spoilerPositions  paragraphsLength  \n",
       "696  November 18  November 18  phrase  [[[0, 0], [0, 11]]]                39  "
      ]
     },
     "execution_count": 166,
     "metadata": {},
     "output_type": "execute_result"
    }
   ],
   "source": [
    "spoil_df[spoil_df[\"paragraphsLength\"] == min(spoil_df[\"paragraphsLength\"])]"
   ]
  },
  {
   "cell_type": "code",
   "execution_count": 174,
   "metadata": {},
   "outputs": [
    {
     "name": "stdout",
     "output_type": "stream",
     "text": [
      "pravastatin, paroxetine\n"
     ]
    }
   ],
   "source": [
    "pd.set_option('display.max_colwidth', None)\n",
    "examples = {}\n",
    "tags = spoil_df[\"tags\"].unique()\n",
    "\n",
    "for tag in tags:\n",
    "    spoiler = spoil_df.loc[(spoil_df[\"tags\"] == tag) & (spoil_df[\"paragraphsLength\"] < 1000)].iloc[0]\n",
    "    examples[tag] = {\n",
    "        \"tag\": spoiler[\"tags\"],\n",
    "        \"spoiler\": spoiler[\"spoiler\"],\n",
    "        \"title\": spoiler[\"targetTitle\"],\n",
    "        \"paragraph\": spoiler[\"targetParagraphs\"],\n",
    "        \"human_spoiler\": spoiler[\"humanSpoiler\"],\n",
    "        \"length\": spoiler[\"paragraphsLength\"]\n",
    "    }\n",
    "\n",
    "print(examples[\"multi\"][\"spoiler\"])\n",
    "pd.set_option('display.max_colwidth', 50)"
   ]
  },
  {
   "cell_type": "code",
   "execution_count": 217,
   "metadata": {},
   "outputs": [],
   "source": [
    "prompt = \"\"\"\n",
    "You are a model designed to generate concise spoilers from articles. Your task is to analyze the main question or topic posed by the article’s title and generate a spoiler based on the content provided in the article's parahraphs. Your response must include a JSON object with keys \"humanSpoiler\", and \"spoiler\".\n",
    "Use \"targetTitle\" to determine the central question or topic the spoiler should address. Review \"targetParagraphs\" to find the most relevant details that directly answer or the topic stated in the title. Consider provided tag: \n",
    "\"phrase\": Short, direct answer or single phrase.\n",
    "\"passage\": More detailed, informative spoiler.\n",
    "\"multi\": Multiple sentences or complex information for a full response, provide a longer, structured spoiler.\n",
    "\n",
    "Answer:{\n",
    "\"humanSpoiler\": <A model-generated spoiler>,\n",
    "\"spoiler\": <A concise, extracted from the article’s content but remaining logical>\n",
    "}\n",
    "\n",
    "Example 1:\n",
    "Input{ \n",
    "\"tag\":\"phrase\"\n",
    "\"targetTitle\":\"Teen Mom 2 Star Jenelle Evans Reveals Sex Of Her Second Child\"\n",
    "\"targetParagraphs\":\"Teen Mom 2 star Jenelle Evans took to Twitter and Instagram Monday (Feb. 3) to announce that she and boyfriend Nathan Griffin are expecting a baby boy., Evans has faced criticism for the pregnancy, largely because she does not currently have custody of her first child, 4-year-old Jace. In the Season 5 premiere of Teen Mom 2, Evans had an abortion, which led to even more speculation about whether or not she is ready to have a second child. The reality TV star has a long history battling drug addiction, and has been arrested several times., Evans told In Touch that she had the abortion at the beginning of Season 5 because she was too skinny and unhealthy to continue with the unexpected pregnancy while in recovery for heroin addiction., Evans is legally married to Courtland Rogers, though the couple is separated. The father of her first son, Jace, is ex-boyfriend Andrew Lewis.\"}\n",
    "Output{\n",
    "\"humanSpoiler\":\"Boy\"\n",
    "\"spoiler\":\"boy\"}\n",
    "\n",
    "Example 2:\n",
    "Input{\n",
    "\"tag\":\"passage\"\n",
    "\"targetTitle\":\"You’ll Never Believe What This Family Saw in the Sky Outside Their House in Finland.\"\n",
    "\"targetParagraphs\":\"It was cold and very foggy, the temperature was around -10 degrees Celsius, said Hänninen. When the clouds began to break, there were rainbow colours in the sky and a halo spanning 360 degrees! It was worth taking a picture or two. If I ever stepped outside and saw this in my backyard, I might think the aliens were invading!\"}\n",
    "Output{\n",
    "\"humanSpoiler\":\"Sun Halos Which are caused by ice crystals in cirrostratus clouds.\"\n",
    "\"spoiler\":\"rainbow colours in the sky and a halo spanning 360 degrees\"}\n",
    "\n",
    "Example 2:\n",
    "Input{\n",
    "\"tag\":\"multi\"\n",
    "\"targetTitle\":\"Mixing These Two Common Medications Could Be Life-Threatening\"\n",
    "\"targetParagraphs\":\"It’s common knowledge that mixing your medication isn’t recommended without a doctor’s permission. However, an estimated 1 million people in the United States are on two drugs that together can cause a seriously adverse reaction., This video from Business Insider recalls a study from Harvard, Stanford, and Vanderbilt University on a specific drug interaction. Their study looked at the interaction between pravastatin – a cholesterol-reducing drug – and paroxetine, a widely used antidepressant known under the brand name of Seroxat. If taken together, they can cause complications that are so severe, they could become life-threatening., Watch the video below to find out why.\"}\n",
    "Output{\n",
    "\"humanSpoiler\":\"Pravastatin and Paroxetine (AKA Seroxat) iflscience.com\"\n",
    "\"spoiler\":\"pravastatin, paroxetine\"}\n",
    "\"\"\""
   ]
  },
  {
   "cell_type": "code",
   "execution_count": 179,
   "metadata": {},
   "outputs": [
    {
     "name": "stdout",
     "output_type": "stream",
     "text": [
      "Input tokens: 761\n",
      "Output tokens: 3\n",
      "Total tokens: 764\n",
      "Cost: $0.00012\n",
      "Total cost: $0.46379999999999993\n"
     ]
    }
   ],
   "source": [
    "cost_of_one = calculate_cost(prompt=prompt, data=\"\", out=\"Intellectual stimulation\")\n",
    "print(f\"Total cost: ${cost_of_one * 4000}\")"
   ]
  },
  {
   "cell_type": "code",
   "execution_count": 42,
   "metadata": {},
   "outputs": [
    {
     "data": {
      "text/plain": [
       "(30, 7)"
      ]
     },
     "execution_count": 42,
     "metadata": {},
     "output_type": "execute_result"
    }
   ],
   "source": [
    "num_samples = 10\n",
    "passage_sample = spoil_df[spoil_df['tags'] == 'passage'].sample(num_samples, random_state=1)\n",
    "phrase_sample = spoil_df[spoil_df['tags'] == 'phrase'].sample(num_samples, random_state=1)\n",
    "multi_sample = spoil_df[spoil_df['tags'] == 'multi'].sample(num_samples, random_state=1)\n",
    "test_df = pd.concat([passage_sample, phrase_sample, multi_sample]).reset_index(drop=True)\n",
    "test_df.shape"
   ]
  },
  {
   "cell_type": "markdown",
   "metadata": {},
   "source": [
    "### Call to the model. Response saved as file"
   ]
  },
  {
   "cell_type": "code",
   "execution_count": 181,
   "metadata": {},
   "outputs": [],
   "source": [
    "def create_batch_request_to_open_ai_direct_prompt(\n",
    "    list_of_prompts: List[str],\n",
    "    name_of_request_file: str,\n",
    "    description_of_request: str,   \n",
    "    temperature: None = 1, #between [0,2]. Default = 1, higher temperature leads to more random, while lower to more deterministic,\n",
    "    model: str = \"gpt-4o-mini\"\n",
    "):\n",
    "\n",
    "    dictionary = [{\n",
    "        \"custom_id\": f\"request{i}\", \n",
    "        \"method\": \"POST\", \n",
    "        \"url\": \"/v1/chat/completions\", \n",
    "        \"body\": {\"model\": model, \n",
    "                 \"messages\": [\n",
    "                     {\"role\": \"system\", \"content\": \"assistant\"},\n",
    "                     {\"role\": \"user\", \"content\": prompt__}],\n",
    "                 \"max_tokens\": 1000,\n",
    "                 \"temperature\": temperature}\n",
    "    } for i, prompt__ in enumerate(list_of_prompts)]\n",
    "    \n",
    "    with open(f\"../request_files_openai/{name_of_request_file}.jsonl\", \"w\") as outfile:\n",
    "        for request__ in dictionary:\n",
    "            json.dump(request__, outfile)\n",
    "            outfile.write('\\n')\n",
    "    \n",
    "    \n",
    "    batch_input_file = client.files.create(\n",
    "      file=open(fr\"../request_files_openai/{name_of_request_file}.jsonl\", \"rb\"),\n",
    "      purpose=\"batch\"\n",
    "    )\n",
    "    \n",
    "    return client.batches.create(\n",
    "        input_file_id=batch_input_file.id,\n",
    "        endpoint=\"/v1/chat/completions\",\n",
    "        completion_window=\"24h\",\n",
    "        metadata={\n",
    "          \"description\": description_of_request\n",
    "        }\n",
    "    )"
   ]
  },
  {
   "cell_type": "code",
   "execution_count": 20,
   "metadata": {},
   "outputs": [],
   "source": [
    "def save_direct_prompt_to_file_and_get_predictions(\n",
    "    result_file_id: str,\n",
    "    result_file_name: str,\n",
    "    save_to_file: bool = True\n",
    "):\n",
    "    if save_to_file:\n",
    "        result = client.files.content(result_file_id).content\n",
    "        result_file_name = f\"../request_files_openai/{result_file_name}.jsonl\"\n",
    "        \n",
    "        with open(result_file_name, 'wb') as file:\n",
    "            file.write(result)\n",
    "\n",
    "    pred = []\n",
    "    with open(result_file_name, 'r') as file:\n",
    "        i = 0\n",
    "        for line in file:\n",
    "            prediction_str = json.loads(line)['response']['body']['choices'][0]['message']['content']\n",
    "            try:\n",
    "                pred.append(str(prediction_str))\n",
    "            except Exception as e:\n",
    "                print(\"there was problem with this request. Output:\")\n",
    "                print(prediction_str)\n",
    "                print()\n",
    "                pred.append(0)\n",
    "                i+=1\n",
    "    print(f\"number of errors = {i}\")\n",
    "    return pred"
   ]
  },
  {
   "cell_type": "code",
   "execution_count": 183,
   "metadata": {},
   "outputs": [],
   "source": [
    "prompt_1 = [\n",
    "    str(prompt + f'Article to spoil: \"tag\":{entry[\"tags\"]}. \"targetTitle\":{entry[\"targetTitle\"]}. \"targetParagraphs\":{entry[\"targetParagraphs\"]}')\n",
    "    for _, entry in test_df.iterrows()\n",
    "]"
   ]
  },
  {
   "cell_type": "code",
   "execution_count": 185,
   "metadata": {},
   "outputs": [],
   "source": [
    "test_batch = create_batch_request_to_open_ai_direct_prompt(\n",
    "    list_of_prompts = prompt_1,\n",
    "    name_of_request_file = \"request_spoiling_test_2\",\n",
    "    description_of_request = \"request_spoiling_12_11_2024\",\n",
    ")"
   ]
  },
  {
   "cell_type": "code",
   "execution_count": 212,
   "metadata": {},
   "outputs": [
    {
     "data": {
      "text/plain": [
       "'file-VB4AAmjC4hLfPvwsIedldiO7'"
      ]
     },
     "execution_count": 212,
     "metadata": {},
     "output_type": "execute_result"
    }
   ],
   "source": [
    "in_progress_batch = client.batches.retrieve(test_batch.id)\n",
    "in_progress_batch.output_file_id"
   ]
  },
  {
   "cell_type": "code",
   "execution_count": 213,
   "metadata": {},
   "outputs": [
    {
     "name": "stdout",
     "output_type": "stream",
     "text": [
      "b'{\"id\": \"batch_req_67339f1283f8819092af387450a2f4b0\", \"custom_id\": \"request0\", \"response\": {\"status_code\": 200, \"request_id\": \"03d2691eee91c5f2885c0e36ea94ad44\", \"body\": {\"id\": \"chatcmpl-ASpfAq9vnY73RY2rR3EkxopjevpXK\", \"object\": \"chat.completion\", \"created\": 1731435140, \"model\": \"gpt-4o-mini-2024-07-18\", \"choices\": [{\"index\": 0, \"message\": {\"role\": \"assistant\", \"content\": \"{\\\\n  \\\\\"humanSpoiler\\\\\": \\\\\"30% earnings increase\\\\\",\\\\n  \\\\\"spoiler\\\\\": \\\\\"nearly 30 percent rise in earnings\\\\\"\\\\n}\", \"refusal\": null}, \"logprobs\": null, \"finish_reason\": \"stop\"}], \"usage\": {\"prompt_tokens\": 989, \"completion_tokens\": 29, \"total_tokens\": 1018, \"prompt_tokens_details\": {\"cached_tokens\": 0, \"audio_tokens\": 0}, \"completion_tokens_details\": {\"reasoning_tokens\": 0, \"audio_tokens\": 0, \"accepted_prediction_tokens\": 0, \"rejected_prediction_tokens\": 0}}, \"system_fingerprint\": \"fp_0ba0d124f1\"}}, \"error\": null}\\n{\"id\": \"batch_req_67339f129f308190ae79b50a9af948ec\", \"custom_id\": \"request1\", \"response\": {\"status_code\": 200, \"request_id\": \"1c5eb9042a3dd408ed670c30d5e94639\", \"body\": {\"id\": \"chatcmpl-ASpfIT0kuf2e5Tb9tk5RsBvaWuVtA\", \"object\": \"chat.completion\", \"created\": 1731435148, \"model\": \"gpt-4o-mini-2024-07-18\", \"choices\": [{\"index\": 0, \"message\": {\"role\": \"assistant\", \"content\": \"{\\\\n  \\\\\"humanSpoiler\\\\\": \\\\\"A menu mistake on a wedding RSVP card hilariously lists children as a dinner option.\\\\\",\\\\n  \\\\\"spoiler\\\\\": \\\\\"children have apparently been added to the menu\\\\\"\\\\n}\", \"refusal\": null}, \"logprobs\": null, \"finish_reason\": \"stop\"}], \"usage\": {\"prompt_tokens\": 970, \"completion_tokens\": 41, \"total_tokens\": 1011, \"prompt_tokens_details\": {\"cached_tokens\": 0, \"audio_tokens\": 0}, \"completion_tokens_details\": {\"reasoning_tokens\": 0, \"audio_tokens\": 0, \"accepted_prediction_tokens\": 0, \"rejected_prediction_tokens\": 0}}, \"system_fingerprint\": \"fp_0ba0d124f1\"}}, \"error\": null}\\n{\"id\": \"batch_req_67339f12baf481908f26b71969c4cd14\", \"custom_id\": \"request2\", \"response\": {\"status_code\": 200, \"request_id\": \"bbc9bfaf7d8c80510504789200704b2c\", \"body\": {\"id\": \"chatcmpl-ASpf64gEVt6sYxeazc53K6AKboYYr\", \"object\": \"chat.completion\", \"created\": 1731435136, \"model\": \"gpt-4o-mini-2024-07-18\", \"choices\": [{\"index\": 0, \"message\": {\"role\": \"assistant\", \"content\": \"{\\\\n  \\\\\"humanSpoiler\\\\\": \\\\\"Rap music has maintained its cultural identity despite the rise of white rappers, unlike rock \\'n\\' roll.\\\\\",\\\\n  \\\\\"spoiler\\\\\": \\\\\"Rap music has avoided becoming predominantly white due to its specific cultural roots, the historical context of its development as a black art form, and the ongoing cultural significance it holds. White rappers are still exceptions rather than the rule, and the genre\\'s black cultural identity is expected to remain stable in the foreseeable future.\\\\\"\\\\n}\", \"refusal\": null}, \"logprobs\": null, \"finish_reason\": \"stop\"}], \"usage\": {\"prompt_tokens\": 3281, \"completion_tokens\": 99, \"total_tokens\": 3380, \"prompt_tokens_details\": {\"cached_tokens\": 0, \"audio_tokens\": 0}, \"completion_tokens_details\": {\"reasoning_tokens\": 0, \"audio_tokens\": 0, \"accepted_prediction_tokens\": 0, \"rejected_prediction_tokens\": 0}}, \"system_fingerprint\": \"fp_f59a81427f\"}}, \"error\": null}\\n{\"id\": \"batch_req_67339f12dc7c8190b761c71a33ac8ff9\", \"custom_id\": \"request3\", \"response\": {\"status_code\": 200, \"request_id\": \"9bd40754ac5b1e0d0cc501fd3d37fe46\", \"body\": {\"id\": \"chatcmpl-ASpesE7venmCU5obg62LXAFV5i1HH\", \"object\": \"chat.completion\", \"created\": 1731435122, \"model\": \"gpt-4o-mini-2024-07-18\", \"choices\": [{\"index\": 0, \"message\": {\"role\": \"assistant\", \"content\": \"{\\\\n  \\\\\"humanSpoiler\\\\\": \\\\\"Neither Daniel Radcliffe nor Sacha Baron Cohen will star as Freddie Mercury.\\\\\",\\\\n  \\\\\"spoiler\\\\\": \\\\\"Sacha Baron Cohen will no longer star in the forthcoming biopic about Freddie Mercury, and Daniel Radcliffe has confirmed there\\'s no truth to rumors about him taking the role.\\\\\"\\\\n}\", \"refusal\": null}, \"logprobs\": null, \"finish_reason\": \"stop\"}], \"usage\": {\"prompt_tokens\": 1095, \"completion_tokens\": 64, \"total_tokens\": 1159, \"prompt_tokens_details\": {\"cached_tokens\": 0, \"audio_tokens\": 0}, \"completion_tokens_details\": {\"reasoning_tokens\": 0, \"audio_tokens\": 0, \"accepted_prediction_tokens\": 0, \"rejected_prediction_tokens\": 0}}, \"system_fingerprint\": \"fp_f59a81427f\"}}, \"error\": null}\\n{\"id\": \"batch_req_67339f12f3d48190b597cb575acd2f8f\", \"custom_id\": \"request4\", \"response\": {\"status_code\": 200, \"request_id\": \"8b764a5ff43e9cac5a4d6586e9826c9a\", \"body\": {\"id\": \"chatcmpl-ASpexlL91pmJPcrVpZyEpIQQ0fwmN\", \"object\": \"chat.completion\", \"created\": 1731435127, \"model\": \"gpt-4o-mini-2024-07-18\", \"choices\": [{\"index\": 0, \"message\": {\"role\": \"assistant\", \"content\": \"{\\\\n  \\\\\"humanSpoiler\\\\\": \\\\\"Harrison Ford looked great as a carpenter before becoming Han Solo.\\\\\",\\\\n  \\\\\"spoiler\\\\\": \\\\\"Fans will be delighted to know that Ford looked as good during his carpentry phase as he did in his early movie years.\\\\\"\\\\n}\", \"refusal\": null}, \"logprobs\": null, \"finish_reason\": \"stop\"}], \"usage\": {\"prompt_tokens\": 1107, \"completion_tokens\": 53, \"total_tokens\": 1160, \"prompt_tokens_details\": {\"cached_tokens\": 0, \"audio_tokens\": 0}, \"completion_tokens_details\": {\"reasoning_tokens\": 0, \"audio_tokens\": 0, \"accepted_prediction_tokens\": 0, \"rejected_prediction_tokens\": 0}}, \"system_fingerprint\": \"fp_f59a81427f\"}}, \"error\": null}\\n{\"id\": \"batch_req_67339f1311148190998172e2360b801f\", \"custom_id\": \"request5\", \"response\": {\"status_code\": 200, \"request_id\": \"4e8b8e699a92a489cc43355842e5606a\", \"body\": {\"id\": \"chatcmpl-ASpf0Pp8MSNHmr61zbZiW6e1qmC0o\", \"object\": \"chat.completion\", \"created\": 1731435130, \"model\": \"gpt-4o-mini-2024-07-18\", \"choices\": [{\"index\": 0, \"message\": {\"role\": \"assistant\", \"content\": \"{\\\\n  \\\\\"humanSpoiler\\\\\": \\\\\"Allowing transgender students to use the bathroom that matches their gender identity can lead to a more inclusive and safer environment.\\\\\",\\\\n  \\\\\"spoiler\\\\\": \\\\\"Schools allowing transgender students to use the bathroom of their choice have reported minimal complaints from parents over time, with many students and staff advocating for inclusive policies, creating a safer learning environment.\\\\\"\\\\n}\", \"refusal\": null}, \"logprobs\": null, \"finish_reason\": \"stop\"}], \"usage\": {\"prompt_tokens\": 2408, \"completion_tokens\": 74, \"total_tokens\": 2482, \"prompt_tokens_details\": {\"cached_tokens\": 0, \"audio_tokens\": 0}, \"completion_tokens_details\": {\"reasoning_tokens\": 0, \"audio_tokens\": 0, \"accepted_prediction_tokens\": 0, \"rejected_prediction_tokens\": 0}}, \"system_fingerprint\": \"fp_f59a81427f\"}}, \"error\": null}\\n{\"id\": \"batch_req_67339f132be48190be2e9b1843154b0c\", \"custom_id\": \"request6\", \"response\": {\"status_code\": 200, \"request_id\": \"1e09d5e4eb541662c8d9d541ba4f2770\", \"body\": {\"id\": \"chatcmpl-ASpeu9Nfd1CelyGcboP1TgT7K9OQu\", \"object\": \"chat.completion\", \"created\": 1731435124, \"model\": \"gpt-4o-mini-2024-07-18\", \"choices\": [{\"index\": 0, \"message\": {\"role\": \"assistant\", \"content\": \"{\\\\n    \\\\\"humanSpoiler\\\\\": \\\\\"You can practice yoga at home with online resources.\\\\\",\\\\n    \\\\\"spoiler\\\\\": \\\\\"You don\\'t need a studio to do yoga; online platforms and YouTube channels offer a variety of classes tailored for all levels. Recommendations include Yoga with Adriene for beginners, Yoga With Tim for a relaxed approach, and My Name Is Jessamyn for body positivity.\\\\\"\\\\n}\", \"refusal\": null}, \"logprobs\": null, \"finish_reason\": \"stop\"}], \"usage\": {\"prompt_tokens\": 3846, \"completion_tokens\": 78, \"total_tokens\": 3924, \"prompt_tokens_details\": {\"cached_tokens\": 0, \"audio_tokens\": 0}, \"completion_tokens_details\": {\"reasoning_tokens\": 0, \"audio_tokens\": 0, \"accepted_prediction_tokens\": 0, \"rejected_prediction_tokens\": 0}}, \"system_fingerprint\": \"fp_f59a81427f\"}}, \"error\": null}\\n{\"id\": \"batch_req_67339f135cf48190a6eb6a5f06d1df85\", \"custom_id\": \"request7\", \"response\": {\"status_code\": 200, \"request_id\": \"d8fc3138621ae643849b6189f0c9bd6e\", \"body\": {\"id\": \"chatcmpl-ASpeyZgizhmmksaeyxpfSUvNGnaj5\", \"object\": \"chat.completion\", \"created\": 1731435128, \"model\": \"gpt-4o-mini-2024-07-18\", \"choices\": [{\"index\": 0, \"message\": {\"role\": \"assistant\", \"content\": \"{\\\\n  \\\\\"humanSpoiler\\\\\": \\\\\"Brazilians boo athletes from various nations, driven by their passionate soccer culture and a need to vent frustrations.\\\\\",\\\\n  \\\\\"spoiler\\\\\": \\\\\"Brazilian fans booed athletes from multiple countries, including Russians, Spaniards, and Argentinians, showcasing their unique and unruly Olympic fandom. Their behavior reflects a cultural tendency rooted in soccer, a desire to vent frustrations amid economic hardship, and limited exposure to international norms.\\\\\"\\\\n}\", \"refusal\": null}, \"logprobs\": null, \"finish_reason\": \"stop\"}], \"usage\": {\"prompt_tokens\": 1957, \"completion_tokens\": 92, \"total_tokens\": 2049, \"prompt_tokens_details\": {\"cached_tokens\": 0, \"audio_tokens\": 0}, \"completion_tokens_details\": {\"reasoning_tokens\": 0, \"audio_tokens\": 0, \"accepted_prediction_tokens\": 0, \"rejected_prediction_tokens\": 0}}, \"system_fingerprint\": \"fp_f59a81427f\"}}, \"error\": null}\\n{\"id\": \"batch_req_67339f137ec48190ae5262ca6bc485c3\", \"custom_id\": \"request8\", \"response\": {\"status_code\": 200, \"request_id\": \"e43e06c058e3cd1f5ecd1cc90f54d47a\", \"body\": {\"id\": \"chatcmpl-ASpf2pE16UHdorZUBpBJZsCrT9Aj1\", \"object\": \"chat.completion\", \"created\": 1731435132, \"model\": \"gpt-4o-mini-2024-07-18\", \"choices\": [{\"index\": 0, \"message\": {\"role\": \"assistant\", \"content\": \"{\\\\n  \\\\\"humanSpoiler\\\\\": \\\\\"Female staffers used \\'amplification\\' to ensure their voices were heard.\\\\\",\\\\n  \\\\\"spoiler\\\\\": \\\\\"Female staffers adopted a meeting strategy called amplification, where they repeated key points made by women to ensure recognition and prevent men from taking credit.\\\\\"\\\\n}\", \"refusal\": null}, \"logprobs\": null, \"finish_reason\": \"stop\"}], \"usage\": {\"prompt_tokens\": 1218, \"completion_tokens\": 59, \"total_tokens\": 1277, \"prompt_tokens_details\": {\"cached_tokens\": 0, \"audio_tokens\": 0}, \"completion_tokens_details\": {\"reasoning_tokens\": 0, \"audio_tokens\": 0, \"accepted_prediction_tokens\": 0, \"rejected_prediction_tokens\": 0}}, \"system_fingerprint\": \"fp_f59a81427f\"}}, \"error\": null}\\n{\"id\": \"batch_req_67339f139e1c81908b2fc8b641a4a366\", \"custom_id\": \"request9\", \"response\": {\"status_code\": 200, \"request_id\": \"33566501a92aca84b27a0d0a8ce336f6\", \"body\": {\"id\": \"chatcmpl-ASpf8wEuGvurjMxK9Pluvv1yvLQXq\", \"object\": \"chat.completion\", \"created\": 1731435138, \"model\": \"gpt-4o-mini-2024-07-18\", \"choices\": [{\"index\": 0, \"message\": {\"role\": \"assistant\", \"content\": \"{\\\\n  \\\\\"humanSpoiler\\\\\": \\\\\"Colbert struggled in the beginning due to trying too hard to be himself, now he embraces his past humor.\\\\\",\\\\n  \\\\\"spoiler\\\\\": \\\\\"Stephen Colbert initially found it difficult to connect with audiences because he felt stiff and was trying too hard to be himself. However, he has since surrendered to his natural instincts, leading to a more enjoyable experience for both him and viewers, with changes in tone and production making the show more fun.\\\\\"\\\\n}\", \"refusal\": null}, \"logprobs\": null, \"finish_reason\": \"stop\"}], \"usage\": {\"prompt_tokens\": 1451, \"completion_tokens\": 96, \"total_tokens\": 1547, \"prompt_tokens_details\": {\"cached_tokens\": 0, \"audio_tokens\": 0}, \"completion_tokens_details\": {\"reasoning_tokens\": 0, \"audio_tokens\": 0, \"accepted_prediction_tokens\": 0, \"rejected_prediction_tokens\": 0}}, \"system_fingerprint\": \"fp_0ba0d124f1\"}}, \"error\": null}\\n{\"id\": \"batch_req_67339f13c0e0819090ae90042969a1bf\", \"custom_id\": \"request10\", \"response\": {\"status_code\": 200, \"request_id\": \"89c63562e51f527bd9ec243bb7886b62\", \"body\": {\"id\": \"chatcmpl-ASpfGdVkScHna2Bvmyt1CCNnSJg5D\", \"object\": \"chat.completion\", \"created\": 1731435146, \"model\": \"gpt-4o-mini-2024-07-18\", \"choices\": [{\"index\": 0, \"message\": {\"role\": \"assistant\", \"content\": \"{\\\\n  \\\\\"humanSpoiler\\\\\": \\\\\"$13\\\\\",\\\\n  \\\\\"spoiler\\\\\": \\\\\"13\\\\\"\\\\n}\", \"refusal\": null}, \"logprobs\": null, \"finish_reason\": \"stop\"}], \"usage\": {\"prompt_tokens\": 917, \"completion_tokens\": 19, \"total_tokens\": 936, \"prompt_tokens_details\": {\"cached_tokens\": 0, \"audio_tokens\": 0}, \"completion_tokens_details\": {\"reasoning_tokens\": 0, \"audio_tokens\": 0, \"accepted_prediction_tokens\": 0, \"rejected_prediction_tokens\": 0}}, \"system_fingerprint\": \"fp_f59a81427f\"}}, \"error\": null}\\n{\"id\": \"batch_req_67339f13daa48190814e989b886b5b9c\", \"custom_id\": \"request11\", \"response\": {\"status_code\": 200, \"request_id\": \"ecf6ebbbc52fd6534067da01f761c1c9\", \"body\": {\"id\": \"chatcmpl-ASpfKn1e34vcbFkfGUK4MKxYplYKG\", \"object\": \"chat.completion\", \"created\": 1731435150, \"model\": \"gpt-4o-mini-2024-07-18\", \"choices\": [{\"index\": 0, \"message\": {\"role\": \"assistant\", \"content\": \"{\\\\n  \\\\\"humanSpoiler\\\\\": \\\\\"120-130 range\\\\\",\\\\n  \\\\\"spoiler\\\\\": \\\\\"120-130\\\\\"\\\\n}\", \"refusal\": null}, \"logprobs\": null, \"finish_reason\": \"stop\"}], \"usage\": {\"prompt_tokens\": 854, \"completion_tokens\": 24, \"total_tokens\": 878, \"prompt_tokens_details\": {\"cached_tokens\": 0, \"audio_tokens\": 0}, \"completion_tokens_details\": {\"reasoning_tokens\": 0, \"audio_tokens\": 0, \"accepted_prediction_tokens\": 0, \"rejected_prediction_tokens\": 0}}, \"system_fingerprint\": \"fp_0ba0d124f1\"}}, \"error\": null}\\n{\"id\": \"batch_req_67339f13f4ac8190a90c113f2cfc483c\", \"custom_id\": \"request12\", \"response\": {\"status_code\": 200, \"request_id\": \"ec40e4fdb793e5807811979411c35931\", \"body\": {\"id\": \"chatcmpl-ASpf2BBLJJuM6wPEyV70lq4sDKV20\", \"object\": \"chat.completion\", \"created\": 1731435132, \"model\": \"gpt-4o-mini-2024-07-18\", \"choices\": [{\"index\": 0, \"message\": {\"role\": \"assistant\", \"content\": \"{\\\\n  \\\\\"humanSpoiler\\\\\": \\\\\"Joaquin Castro married Anna Flores.\\\\\",\\\\n  \\\\\"spoiler\\\\\": \\\\\"married\\\\\"\\\\n}\", \"refusal\": null}, \"logprobs\": null, \"finish_reason\": \"stop\"}], \"usage\": {\"prompt_tokens\": 995, \"completion_tokens\": 26, \"total_tokens\": 1021, \"prompt_tokens_details\": {\"cached_tokens\": 0, \"audio_tokens\": 0}, \"completion_tokens_details\": {\"reasoning_tokens\": 0, \"audio_tokens\": 0, \"accepted_prediction_tokens\": 0, \"rejected_prediction_tokens\": 0}}, \"system_fingerprint\": \"fp_f59a81427f\"}}, \"error\": null}\\n{\"id\": \"batch_req_67339f141f3481909600b4536121a72b\", \"custom_id\": \"request13\", \"response\": {\"status_code\": 200, \"request_id\": \"b8cec4c6ca617551bd545dd407aeb7df\", \"body\": {\"id\": \"chatcmpl-ASpet6k8ejsNR3cbbiTTU0kMFDsID\", \"object\": \"chat.completion\", \"created\": 1731435123, \"model\": \"gpt-4o-mini-2024-07-18\", \"choices\": [{\"index\": 0, \"message\": {\"role\": \"assistant\", \"content\": \"{\\\\n  \\\\\"humanSpoiler\\\\\": \\\\\"Don\\'t boo, vote.\\\\\",\\\\n  \\\\\"spoiler\\\\\": \\\\\"Don\\\\u2019t boo, vote.\\\\\"\\\\n}\", \"refusal\": null}, \"logprobs\": null, \"finish_reason\": \"stop\"}], \"usage\": {\"prompt_tokens\": 1415, \"completion_tokens\": 26, \"total_tokens\": 1441, \"prompt_tokens_details\": {\"cached_tokens\": 0, \"audio_tokens\": 0}, \"completion_tokens_details\": {\"reasoning_tokens\": 0, \"audio_tokens\": 0, \"accepted_prediction_tokens\": 0, \"rejected_prediction_tokens\": 0}}, \"system_fingerprint\": \"fp_f59a81427f\"}}, \"error\": null}\\n{\"id\": \"batch_req_67339f1441888190b4322a03caf5c54d\", \"custom_id\": \"request14\", \"response\": {\"status_code\": 200, \"request_id\": \"202b4c9bbd3145488c66a8b2af7a6d6b\", \"body\": {\"id\": \"chatcmpl-ASpfH0YzoqBa7UtBrAQyfop71PcEE\", \"object\": \"chat.completion\", \"created\": 1731435147, \"model\": \"gpt-4o-mini-2024-07-18\", \"choices\": [{\"index\": 0, \"message\": {\"role\": \"assistant\", \"content\": \"{\\\\n  \\\\\"humanSpoiler\\\\\": \\\\\"Tim Masthay saved money by living in a utility closet during college.\\\\\",\\\\n  \\\\\"spoiler\\\\\": \\\\\"slept in a utility closet in college to save money\\\\\"\\\\n}\", \"refusal\": null}, \"logprobs\": null, \"finish_reason\": \"stop\"}], \"usage\": {\"prompt_tokens\": 2287, \"completion_tokens\": 42, \"total_tokens\": 2329, \"prompt_tokens_details\": {\"cached_tokens\": 0, \"audio_tokens\": 0}, \"completion_tokens_details\": {\"reasoning_tokens\": 0, \"audio_tokens\": 0, \"accepted_prediction_tokens\": 0, \"rejected_prediction_tokens\": 0}}, \"system_fingerprint\": \"fp_0ba0d124f1\"}}, \"error\": null}\\n{\"id\": \"batch_req_67339f1463848190b85afb747b719942\", \"custom_id\": \"request15\", \"response\": {\"status_code\": 200, \"request_id\": \"050124a44e092064312f70dddd1ab6db\", \"body\": {\"id\": \"chatcmpl-ASpfMi6PQAxsmDYwAbFdyv3P138Q6\", \"object\": \"chat.completion\", \"created\": 1731435152, \"model\": \"gpt-4o-mini-2024-07-18\", \"choices\": [{\"index\": 0, \"message\": {\"role\": \"assistant\", \"content\": \"{\\\\n  \\\\\"humanSpoiler\\\\\": \\\\\"Brand Ambassador\\\\\",\\\\n  \\\\\"spoiler\\\\\": \\\\\"Lupita Nyongo is the new face of Lanco\\\\u0302me.\\\\\"\\\\n}\", \"refusal\": null}, \"logprobs\": null, \"finish_reason\": \"stop\"}], \"usage\": {\"prompt_tokens\": 1148, \"completion_tokens\": 33, \"total_tokens\": 1181, \"prompt_tokens_details\": {\"cached_tokens\": 0, \"audio_tokens\": 0}, \"completion_tokens_details\": {\"reasoning_tokens\": 0, \"audio_tokens\": 0, \"accepted_prediction_tokens\": 0, \"rejected_prediction_tokens\": 0}}, \"system_fingerprint\": \"fp_f59a81427f\"}}, \"error\": null}\\n{\"id\": \"batch_req_67339f147a7881908ddf889851b0ca2c\", \"custom_id\": \"request16\", \"response\": {\"status_code\": 200, \"request_id\": \"b4a36de4067cd58e0d9f9c90ca93dbec\", \"body\": {\"id\": \"chatcmpl-ASpetOFg2EHTCTJyYFCBDE9GuaL0v\", \"object\": \"chat.completion\", \"created\": 1731435123, \"model\": \"gpt-4o-mini-2024-07-18\", \"choices\": [{\"index\": 0, \"message\": {\"role\": \"assistant\", \"content\": \"{\\\\n  \\\\\"humanSpoiler\\\\\": \\\\\"Trans-Eurasian Belt Development superhighway.\\\\\",\\\\n  \\\\\"spoiler\\\\\": \\\\\"superhighway that would allow you to cross three continents in just your car\\\\\"\\\\n}\", \"refusal\": null}, \"logprobs\": null, \"finish_reason\": \"stop\"}], \"usage\": {\"prompt_tokens\": 1139, \"completion_tokens\": 41, \"total_tokens\": 1180, \"prompt_tokens_details\": {\"cached_tokens\": 0, \"audio_tokens\": 0}, \"completion_tokens_details\": {\"reasoning_tokens\": 0, \"audio_tokens\": 0, \"accepted_prediction_tokens\": 0, \"rejected_prediction_tokens\": 0}}, \"system_fingerprint\": \"fp_f59a81427f\"}}, \"error\": null}\\n{\"id\": \"batch_req_67339f14928c8190a0c7ca7444eb10c2\", \"custom_id\": \"request17\", \"response\": {\"status_code\": 200, \"request_id\": \"e8f50dbae7de238b035f9c0bfbfe9d06\", \"body\": {\"id\": \"chatcmpl-ASpexW6pO2upV9yBc0pmEKrN4Ie2C\", \"object\": \"chat.completion\", \"created\": 1731435127, \"model\": \"gpt-4o-mini-2024-07-18\", \"choices\": [{\"index\": 0, \"message\": {\"role\": \"assistant\", \"content\": \"{\\\\n  \\\\\"humanSpoiler\\\\\": \\\\\"Microsoft Edge\\\\\",\\\\n  \\\\\"spoiler\\\\\": \\\\\"Microsoft Edge\\\\\"\\\\n}\", \"refusal\": null}, \"logprobs\": null, \"finish_reason\": \"stop\"}], \"usage\": {\"prompt_tokens\": 1462, \"completion_tokens\": 21, \"total_tokens\": 1483, \"prompt_tokens_details\": {\"cached_tokens\": 0, \"audio_tokens\": 0}, \"completion_tokens_details\": {\"reasoning_tokens\": 0, \"audio_tokens\": 0, \"accepted_prediction_tokens\": 0, \"rejected_prediction_tokens\": 0}}, \"system_fingerprint\": \"fp_f59a81427f\"}}, \"error\": null}\\n{\"id\": \"batch_req_67339f14ad808190a2d868b800ba2e47\", \"custom_id\": \"request18\", \"response\": {\"status_code\": 200, \"request_id\": \"73454229019fc84a3791a34e41294433\", \"body\": {\"id\": \"chatcmpl-ASpf5UiTtBaFPoP02z1ev7CHNTk6I\", \"object\": \"chat.completion\", \"created\": 1731435135, \"model\": \"gpt-4o-mini-2024-07-18\", \"choices\": [{\"index\": 0, \"message\": {\"role\": \"assistant\", \"content\": \"{\\\\n  \\\\\"humanSpoiler\\\\\": \\\\\"More sleep improves grades.\\\\\",\\\\n  \\\\\"spoiler\\\\\": \\\\\"letting your kid catch a few more Zzs might matter more when it comes to getting a good grade\\\\\"\\\\n}\", \"refusal\": null}, \"logprobs\": null, \"finish_reason\": \"stop\"}], \"usage\": {\"prompt_tokens\": 1125, \"completion_tokens\": 42, \"total_tokens\": 1167, \"prompt_tokens_details\": {\"cached_tokens\": 0, \"audio_tokens\": 0}, \"completion_tokens_details\": {\"reasoning_tokens\": 0, \"audio_tokens\": 0, \"accepted_prediction_tokens\": 0, \"rejected_prediction_tokens\": 0}}, \"system_fingerprint\": \"fp_0ba0d124f1\"}}, \"error\": null}\\n{\"id\": \"batch_req_67339f14c8bc81909b379ab1813df655\", \"custom_id\": \"request19\", \"response\": {\"status_code\": 200, \"request_id\": \"ff691bbd1519f430fea690b629ddde8b\", \"body\": {\"id\": \"chatcmpl-ASpew6l0xGoINumacfaa4Pdyrffu0\", \"object\": \"chat.completion\", \"created\": 1731435126, \"model\": \"gpt-4o-mini-2024-07-18\", \"choices\": [{\"index\": 0, \"message\": {\"role\": \"assistant\", \"content\": \"{\\\\n  \\\\\"humanSpoiler\\\\\": \\\\\"$100K\\\\\",\\\\n  \\\\\"spoiler\\\\\": \\\\\"$100K\\\\\"\\\\n}\", \"refusal\": null}, \"logprobs\": null, \"finish_reason\": \"stop\"}], \"usage\": {\"prompt_tokens\": 939, \"completion_tokens\": 21, \"total_tokens\": 960, \"prompt_tokens_details\": {\"cached_tokens\": 0, \"audio_tokens\": 0}, \"completion_tokens_details\": {\"reasoning_tokens\": 0, \"audio_tokens\": 0, \"accepted_prediction_tokens\": 0, \"rejected_prediction_tokens\": 0}}, \"system_fingerprint\": \"fp_f59a81427f\"}}, \"error\": null}\\n{\"id\": \"batch_req_67339f14e0308190b500f4461e82813c\", \"custom_id\": \"request20\", \"response\": {\"status_code\": 200, \"request_id\": \"66a72f00f6c4fc75233fe5456b3e3e6b\", \"body\": {\"id\": \"chatcmpl-ASpexUQcFrc0Cc2nSrPAKwUdt9YsV\", \"object\": \"chat.completion\", \"created\": 1731435127, \"model\": \"gpt-4o-mini-2024-07-18\", \"choices\": [{\"index\": 0, \"message\": {\"role\": \"assistant\", \"content\": \"{\\\\n  \\\\\"humanSpoiler\\\\\": \\\\\"A melancholic exploration of a forgotten future through the eyes of a lunar policeman.\\\\\",\\\\n  \\\\\"spoiler\\\\\": \\\\\"Mooncop reflects on the melancholy of scientific exploration, inspired by 1960s toys and films like Star Wars and 2001: A Space Odyssey.\\\\\"\\\\n}\", \"refusal\": null}, \"logprobs\": null, \"finish_reason\": \"stop\"}], \"usage\": {\"prompt_tokens\": 1735, \"completion_tokens\": 62, \"total_tokens\": 1797, \"prompt_tokens_details\": {\"cached_tokens\": 0, \"audio_tokens\": 0}, \"completion_tokens_details\": {\"reasoning_tokens\": 0, \"audio_tokens\": 0, \"accepted_prediction_tokens\": 0, \"rejected_prediction_tokens\": 0}}, \"system_fingerprint\": \"fp_f59a81427f\"}}, \"error\": null}\\n{\"id\": \"batch_req_67339f14f6888190b944050f5aad024f\", \"custom_id\": \"request21\", \"response\": {\"status_code\": 200, \"request_id\": \"6b65a8fe5adeefb15e85ce14f5afed69\", \"body\": {\"id\": \"chatcmpl-ASpf1VFfwG7NdVV0hUpDi9ZVRg9cK\", \"object\": \"chat.completion\", \"created\": 1731435131, \"model\": \"gpt-4o-mini-2024-07-18\", \"choices\": [{\"index\": 0, \"message\": {\"role\": \"assistant\", \"content\": \"{\\\\n  \\\\\"humanSpoiler\\\\\": \\\\\"The 10 must-see films from 2014 you probably missed.\\\\\",\\\\n  \\\\\"spoiler\\\\\": \\\\\"The article highlights ten great films from 2014 that were overlooked, including \\'The Immigrant\\', \\'A Field in England\\', \\'Blue Ruin\\', \\'The Guest\\', \\'Grand Piano\\', \\'John Wick\\', \\'We Are the Best!\\', \\'National Gallery\\', \\'Listen Up Philip\\', and \\'Only Lovers Left Alive\\'. These films span various genres and offer unique storytelling and cinematic experiences that may not have received the attention they deserved.\\\\\" \\\\n}\", \"refusal\": null}, \"logprobs\": null, \"finish_reason\": \"stop\"}], \"usage\": {\"prompt_tokens\": 2105, \"completion_tokens\": 117, \"total_tokens\": 2222, \"prompt_tokens_details\": {\"cached_tokens\": 0, \"audio_tokens\": 0}, \"completion_tokens_details\": {\"reasoning_tokens\": 0, \"audio_tokens\": 0, \"accepted_prediction_tokens\": 0, \"rejected_prediction_tokens\": 0}}, \"system_fingerprint\": \"fp_f59a81427f\"}}, \"error\": null}\\n{\"id\": \"batch_req_67339f15111081908b818843218b930f\", \"custom_id\": \"request22\", \"response\": {\"status_code\": 200, \"request_id\": \"7382e8a49f4835d251e46c89a9c51501\", \"body\": {\"id\": \"chatcmpl-ASpewgXnKwmKShUaQ2vmM1I8JCgbQ\", \"object\": \"chat.completion\", \"created\": 1731435126, \"model\": \"gpt-4o-mini-2024-07-18\", \"choices\": [{\"index\": 0, \"message\": {\"role\": \"assistant\", \"content\": \"{\\\\n  \\\\\"humanSpoiler\\\\\": \\\\\"Humans became monogamous partly due to the spread of STDs in larger societies and the need for males to protect their offspring from infanticide.\\\\\",\\\\n  \\\\\"spoiler\\\\\": \\\\\"Theories suggest that monogamy developed due to the prevalence of STDs in larger societies which influenced social norms, and as well as the necessity for males to protect their infants from infanticide.\\\\\"\\\\n}\", \"refusal\": null}, \"logprobs\": null, \"finish_reason\": \"stop\"}], \"usage\": {\"prompt_tokens\": 1821, \"completion_tokens\": 86, \"total_tokens\": 1907, \"prompt_tokens_details\": {\"cached_tokens\": 0, \"audio_tokens\": 0}, \"completion_tokens_details\": {\"reasoning_tokens\": 0, \"audio_tokens\": 0, \"accepted_prediction_tokens\": 0, \"rejected_prediction_tokens\": 0}}, \"system_fingerprint\": \"fp_f59a81427f\"}}, \"error\": null}\\n{\"id\": \"batch_req_67339f15300481908e6090b7da42958d\", \"custom_id\": \"request23\", \"response\": {\"status_code\": 200, \"request_id\": \"d3d627f1e56bdffe6e536d1151833a6c\", \"body\": {\"id\": \"chatcmpl-ASpf47POb53kaex6pcG5NWgiiP5Ck\", \"object\": \"chat.completion\", \"created\": 1731435134, \"model\": \"gpt-4o-mini-2024-07-18\", \"choices\": [{\"index\": 0, \"message\": {\"role\": \"assistant\", \"content\": \"```json\\\\n{\\\\n  \\\\\"humanSpoiler\\\\\": \\\\\"35 celebrities from various fields endorse Donald Trump, expressing admiration for his business acumen and leadership style.\\\\\",\\\\n  \\\\\"spoiler\\\\\": \\\\\"Celebrities like Roseanne Barr, Ted Nugent, and Tom Brady publicly support Donald Trump, highlighting his appeal as a businessman and his unfiltered approach.\\\\\"\\\\n}\\\\n```\", \"refusal\": null}, \"logprobs\": null, \"finish_reason\": \"stop\"}], \"usage\": {\"prompt_tokens\": 5454, \"completion_tokens\": 70, \"total_tokens\": 5524, \"prompt_tokens_details\": {\"cached_tokens\": 0, \"audio_tokens\": 0}, \"completion_tokens_details\": {\"reasoning_tokens\": 0, \"audio_tokens\": 0, \"accepted_prediction_tokens\": 0, \"rejected_prediction_tokens\": 0}}, \"system_fingerprint\": \"fp_0ba0d124f1\"}}, \"error\": null}\\n{\"id\": \"batch_req_67339f15513081909449a723fdb541c1\", \"custom_id\": \"request24\", \"response\": {\"status_code\": 200, \"request_id\": \"e713f059a22415c12885b9d7c81b872c\", \"body\": {\"id\": \"chatcmpl-ASpf2RHV5AAUnQ0O0dhPHXF7s62y0\", \"object\": \"chat.completion\", \"created\": 1731435132, \"model\": \"gpt-4o-mini-2024-07-18\", \"choices\": [{\"index\": 0, \"message\": {\"role\": \"assistant\", \"content\": \"{\\\\n\\\\\"humanSpoiler\\\\\": \\\\\"Bodybuilder with a Doll-Face\\\\\",\\\\n\\\\\"spoiler\\\\\": \\\\\"Yulia Viktorovna Vins has the appearance of a \\'doll\\', but her physique is that of a muscular bodybuilder, surprising those who see her.\\\\\"\\\\n}\", \"refusal\": null}, \"logprobs\": null, \"finish_reason\": \"stop\"}], \"usage\": {\"prompt_tokens\": 1094, \"completion_tokens\": 53, \"total_tokens\": 1147, \"prompt_tokens_details\": {\"cached_tokens\": 0, \"audio_tokens\": 0}, \"completion_tokens_details\": {\"reasoning_tokens\": 0, \"audio_tokens\": 0, \"accepted_prediction_tokens\": 0, \"rejected_prediction_tokens\": 0}}, \"system_fingerprint\": \"fp_f59a81427f\"}}, \"error\": null}\\n{\"id\": \"batch_req_67339f156cf88190a08b5caef1093f11\", \"custom_id\": \"request25\", \"response\": {\"status_code\": 200, \"request_id\": \"7cb10aa391d630fee3b995ebce745ea4\", \"body\": {\"id\": \"chatcmpl-ASpfA5dHPStw8UiYco5zlTq9xGB3n\", \"object\": \"chat.completion\", \"created\": 1731435140, \"model\": \"gpt-4o-mini-2024-07-18\", \"choices\": [{\"index\": 0, \"message\": {\"role\": \"assistant\", \"content\": \"{\\\\n  \\\\\"humanSpoiler\\\\\": \\\\\"Strong mental preparation and a balanced workout routine are key.\\\\\",\\\\n  \\\\\"spoiler\\\\\": \\\\\"To prepare for her lingerie shoot, Elettra Wiedemann focused on mental preparation, engaged in extra strength work and core exercises, and cut out sugar for the week leading up to the shoot.\\\\\"\\\\n}\", \"refusal\": null}, \"logprobs\": null, \"finish_reason\": \"stop\"}], \"usage\": {\"prompt_tokens\": 1169, \"completion_tokens\": 65, \"total_tokens\": 1234, \"prompt_tokens_details\": {\"cached_tokens\": 0, \"audio_tokens\": 0}, \"completion_tokens_details\": {\"reasoning_tokens\": 0, \"audio_tokens\": 0, \"accepted_prediction_tokens\": 0, \"rejected_prediction_tokens\": 0}}, \"system_fingerprint\": \"fp_0ba0d124f1\"}}, \"error\": null}\\n{\"id\": \"batch_req_67339f15858c8190901c175024e6d9b6\", \"custom_id\": \"request26\", \"response\": {\"status_code\": 200, \"request_id\": \"f9571cfc7e6873b4cc75ee5e1e5b4b41\", \"body\": {\"id\": \"chatcmpl-ASpfKpOEPRsTVrSnQySTk9bkbri3i\", \"object\": \"chat.completion\", \"created\": 1731435150, \"model\": \"gpt-4o-mini-2024-07-18\", \"choices\": [{\"index\": 0, \"message\": {\"role\": \"assistant\", \"content\": \"{\\\\n  \\\\\"humanSpoiler\\\\\": \\\\\"Brazilian Picanha, Chinese Szechuan Chicken, Greek Tzatziki, Indian Tikka Masala.\\\\\",\\\\n  \\\\\"spoiler\\\\\": \\\\\"Lay\\'s has launched four limited-time flavors inspired by international cuisines: Brazilian Picanha, Chinese Szechuan Chicken, Greek Tzatziki, and Indian Tikka Masala, available starting July 25, with opportunities to win travel-related prizes.\\\\\"\\\\n}\", \"refusal\": null}, \"logprobs\": null, \"finish_reason\": \"stop\"}], \"usage\": {\"prompt_tokens\": 1031, \"completion_tokens\": 90, \"total_tokens\": 1121, \"prompt_tokens_details\": {\"cached_tokens\": 0, \"audio_tokens\": 0}, \"completion_tokens_details\": {\"reasoning_tokens\": 0, \"audio_tokens\": 0, \"accepted_prediction_tokens\": 0, \"rejected_prediction_tokens\": 0}}, \"system_fingerprint\": \"fp_f59a81427f\"}}, \"error\": null}\\n{\"id\": \"batch_req_67339f159d788190a3edd28defa2812c\", \"custom_id\": \"request27\", \"response\": {\"status_code\": 200, \"request_id\": \"a8090a8a49a072a600548ea60e39c61e\", \"body\": {\"id\": \"chatcmpl-ASpexMVj0iNcyDWJeZXYQUvsNZLPS\", \"object\": \"chat.completion\", \"created\": 1731435127, \"model\": \"gpt-4o-mini-2024-07-18\", \"choices\": [{\"index\": 0, \"message\": {\"role\": \"assistant\", \"content\": \"{\\\\n  \\\\\"humanSpoiler\\\\\": \\\\\"Common injuries from Pokemon Go include sunburn, blisters, sprains, and mental health issues.\\\\\",\\\\n  \\\\\"spoiler\\\\\": \\\\\"Injuries associated with playing Pokemon Go include sunburn, skin damage from screens, blisters, sprains, fractures, and potential mental health problems stemming from gameplay addiction.\\\\\"\\\\n}\", \"refusal\": null}, \"logprobs\": null, \"finish_reason\": \"stop\"}], \"usage\": {\"prompt_tokens\": 2410, \"completion_tokens\": 70, \"total_tokens\": 2480, \"prompt_tokens_details\": {\"cached_tokens\": 0, \"audio_tokens\": 0}, \"completion_tokens_details\": {\"reasoning_tokens\": 0, \"audio_tokens\": 0, \"accepted_prediction_tokens\": 0, \"rejected_prediction_tokens\": 0}}, \"system_fingerprint\": \"fp_f59a81427f\"}}, \"error\": null}\\n{\"id\": \"batch_req_67339f15bc108190b0b2530ca48a169a\", \"custom_id\": \"request28\", \"response\": {\"status_code\": 200, \"request_id\": \"37ef777517a9e6986b9a92d423a5e7fe\", \"body\": {\"id\": \"chatcmpl-ASpfC3rKD6a69TQkkgPz7V2sPFOQ6\", \"object\": \"chat.completion\", \"created\": 1731435142, \"model\": \"gpt-4o-mini-2024-07-18\", \"choices\": [{\"index\": 0, \"message\": {\"role\": \"assistant\", \"content\": \"{\\\\n  \\\\\"humanSpoiler\\\\\": \\\\\"Controversy over a rifle raffle at a North Carolina elementary school\\\\\",\\\\n  \\\\\"spoiler\\\\\": \\\\\"A North Carolina elementary school will raffle off a rifle for a fundraiser, sparking mixed reactions from parents. While some support the decision, others find it inappropriate for an elementary school setting, emphasizing the community\\'s distinction between responsible gun ownership and gun violence.\\\\\"\\\\n}\", \"refusal\": null}, \"logprobs\": null, \"finish_reason\": \"stop\"}], \"usage\": {\"prompt_tokens\": 1252, \"completion_tokens\": 79, \"total_tokens\": 1331, \"prompt_tokens_details\": {\"cached_tokens\": 0, \"audio_tokens\": 0}, \"completion_tokens_details\": {\"reasoning_tokens\": 0, \"audio_tokens\": 0, \"accepted_prediction_tokens\": 0, \"rejected_prediction_tokens\": 0}}, \"system_fingerprint\": \"fp_f59a81427f\"}}, \"error\": null}\\n{\"id\": \"batch_req_67339f15d1c48190855654b84862436c\", \"custom_id\": \"request29\", \"response\": {\"status_code\": 200, \"request_id\": \"261b77294bfdddf0699cb64b992ed278\", \"body\": {\"id\": \"chatcmpl-ASpfIBp4qZmJhLusXN0Zby8jN8Hzd\", \"object\": \"chat.completion\", \"created\": 1731435148, \"model\": \"gpt-4o-mini-2024-07-18\", \"choices\": [{\"index\": 0, \"message\": {\"role\": \"assistant\", \"content\": \"{\\\\n  \\\\\"humanSpoiler\\\\\": \\\\\"Peter Berg shares a memorable incident during the premiere of Very Bad Things where a woman vomited while others laughed.\\\\\",\\\\n  \\\\\"spoiler\\\\\": \\\\\"During the premiere of his film Very Bad Things, Peter Berg witnessed a polarizing reaction where laughter from the audience contrasted sharply with a woman who ran out to vomit in the theater lobby.\\\\\"\\\\n}\", \"refusal\": null}, \"logprobs\": null, \"finish_reason\": \"stop\"}], \"usage\": {\"prompt_tokens\": 2462, \"completion_tokens\": 75, \"total_tokens\": 2537, \"prompt_tokens_details\": {\"cached_tokens\": 0, \"audio_tokens\": 0}, \"completion_tokens_details\": {\"reasoning_tokens\": 0, \"audio_tokens\": 0, \"accepted_prediction_tokens\": 0, \"rejected_prediction_tokens\": 0}}, \"system_fingerprint\": \"fp_0ba0d124f1\"}}, \"error\": null}\\n'\n"
     ]
    }
   ],
   "source": [
    "file_response = client.files.content(in_progress_batch.output_file_id).content\n",
    "print(file_response)"
   ]
  },
  {
   "cell_type": "code",
   "execution_count": 214,
   "metadata": {},
   "outputs": [
    {
     "name": "stdout",
     "output_type": "stream",
     "text": [
      "number of errors = 0\n"
     ]
    }
   ],
   "source": [
    "pred = save_direct_prompt_to_file_and_get_predictions(\n",
    "    result_file_id = in_progress_batch.output_file_id,\n",
    "    result_file_name = \"spoiling_test_2\"\n",
    ")"
   ]
  },
  {
   "cell_type": "markdown",
   "metadata": {},
   "source": [
    "### Spoiling analysis from file"
   ]
  },
  {
   "cell_type": "code",
   "execution_count": 22,
   "metadata": {},
   "outputs": [
    {
     "name": "stdout",
     "output_type": "stream",
     "text": [
      "number of errors = 0\n"
     ]
    }
   ],
   "source": [
    "result_file_name = \"../request_files_openai/spoiling_test_2.jsonl\"\n",
    "pred = save_direct_prompt_to_file_and_get_predictions(\n",
    "    result_file_id = None,\n",
    "    result_file_name = result_file_name,\n",
    "    save_to_file = False\n",
    ")"
   ]
  },
  {
   "cell_type": "code",
   "execution_count": null,
   "metadata": {},
   "outputs": [],
   "source": [
    "def extract_data_regex(pred):\n",
    "    pattern = r'[{}\\n\":,]'\n",
    "    human_spoiler_pattern = r'\"humanSpoiler\"\\s*:\\s*\"([^\"]+)\"'\n",
    "    spoiler_pattern = r'\"spoiler\"\\s*:\\s*\"([^\"]+)\"'\n",
    "    data = []\n",
    "\n",
    "    for text in pred:\n",
    "        human_spoiler_value = spoiler_value = None\n",
    "        human_spoiler_match = re.search(human_spoiler_pattern, text)\n",
    "        spoiler_match = re.search(spoiler_pattern, text)\n",
    "        if human_spoiler_match:\n",
    "            human_spoiler_value = human_spoiler_match.group(1)\n",
    "        else:\n",
    "            match = re.search(r'humanSpoiler', text)\n",
    "            if match:\n",
    "                start_index = match.start()\n",
    "                human_spoiler_value = text[start_index+12:] \n",
    "        \n",
    "        if spoiler_match:\n",
    "            spoiler_value = spoiler_match.group(1)\n",
    "        else:\n",
    "            match = re.search(r'spoiler', text)\n",
    "            if match:\n",
    "                start_index = match.start()\n",
    "                spoiler_value = text[start_index+7:] \n",
    "        \n",
    "        \n",
    "        data.append({\n",
    "            \"humanSpoiler\": human_spoiler_value,\n",
    "            \"spoiler\": spoiler_value\n",
    "        })\n",
    "\n",
    "    df = pd.DataFrame(data)\n",
    "    return df\n"
   ]
  },
  {
   "cell_type": "code",
   "execution_count": 32,
   "metadata": {},
   "outputs": [],
   "source": [
    "def extract_data(pred):\n",
    "    data = []\n",
    "    for spoiler in pred:\n",
    "        match = re.search(r'\\{.*?\\}', spoiler, re.DOTALL)\n",
    "        if match:\n",
    "            result = match.group(0)\n",
    "            json_spoiler = json.loads(result)\n",
    "            data.append({\n",
    "                \"humanSpoiler\": json_spoiler[\"humanSpoiler\"],\n",
    "                \"spoiler\": json_spoiler[\"spoiler\"]\n",
    "            })\n",
    "        else:\n",
    "            print(\"No match found.\")\n",
    "    return pd.DataFrame(json_data)"
   ]
  },
  {
   "cell_type": "code",
   "execution_count": 36,
   "metadata": {},
   "outputs": [
    {
     "name": "stdout",
     "output_type": "stream",
     "text": [
      "Extracted data size:  (30, 2)\n",
      "Rows with NaN values:  (0, 2)\n"
     ]
    }
   ],
   "source": [
    "extracted_df = extract_data(pred)\n",
    "na_rows = extracted_df[extracted_df.isna().any(axis=1)]\n",
    "print(\"Extracted data size: \", extracted_df.shape)\n",
    "print(\"Rows with NaN values: \", na_rows.shape)"
   ]
  },
  {
   "cell_type": "markdown",
   "metadata": {},
   "source": [
    "### Calculating metrics\n",
    "- BLEU\n",
    "- BERTScore (BSc)\n",
    "- METEOR (MET)\n",
    "- Cosine Similarity"
   ]
  },
  {
   "cell_type": "markdown",
   "metadata": {},
   "source": [
    "#### Cosine Similarity for spoiler, humanSpoiler"
   ]
  },
  {
   "cell_type": "code",
   "execution_count": 53,
   "metadata": {},
   "outputs": [],
   "source": [
    "extracted_df.rename(columns={'humanSpoiler': 'humanSpoiler_ext', 'spoiler': 'spoiler_ext'}, inplace=True)\n",
    "test_df.rename(columns={'humanSpoiler': 'humanSpoiler_org', 'spoiler': 'spoiler_org'}, inplace=True)\n",
    "cosine_df = pd.concat([test_df[['humanSpoiler_org', 'spoiler_org']], extracted_df[['humanSpoiler_ext', 'spoiler_ext']]], axis=1)"
   ]
  },
  {
   "cell_type": "code",
   "execution_count": 65,
   "metadata": {},
   "outputs": [],
   "source": [
    "vectorizer = TfidfVectorizer()\n",
    "def calculate_cosine_similarity_row(row, columns):\n",
    "    tfidf_matrix = vectorizer.fit_transform([row[columns[0]], row[columns[1]]])\n",
    "    cosine_sim = cosine_similarity(tfidf_matrix[0], tfidf_matrix[1])[0][0]\n",
    "    return cosine_sim"
   ]
  },
  {
   "cell_type": "code",
   "execution_count": 69,
   "metadata": {},
   "outputs": [],
   "source": [
    "cosine_df['humanSpoiler_cos_sim'] = cosine_df.apply(calculate_cosine_similarity_row, axis=1, columns=['humanSpoiler_ext', 'humanSpoiler_org'])\n",
    "cosine_df['spoiler_cos_sim'] = cosine_df.apply(calculate_cosine_similarity_row, axis=1, columns=['spoiler_ext', 'spoiler_org'])"
   ]
  },
  {
   "cell_type": "code",
   "execution_count": 71,
   "metadata": {},
   "outputs": [
    {
     "data": {
      "text/html": [
       "<div>\n",
       "<style scoped>\n",
       "    .dataframe tbody tr th:only-of-type {\n",
       "        vertical-align: middle;\n",
       "    }\n",
       "\n",
       "    .dataframe tbody tr th {\n",
       "        vertical-align: top;\n",
       "    }\n",
       "\n",
       "    .dataframe thead th {\n",
       "        text-align: right;\n",
       "    }\n",
       "</style>\n",
       "<table border=\"1\" class=\"dataframe\">\n",
       "  <thead>\n",
       "    <tr style=\"text-align: right;\">\n",
       "      <th></th>\n",
       "      <th>humanSpoiler_org</th>\n",
       "      <th>spoiler_org</th>\n",
       "      <th>humanSpoiler_ext</th>\n",
       "      <th>spoiler_ext</th>\n",
       "      <th>humanSpoiler_cos_sim</th>\n",
       "      <th>spoiler_cos_sim</th>\n",
       "    </tr>\n",
       "  </thead>\n",
       "  <tbody>\n",
       "    <tr>\n",
       "      <th>0</th>\n",
       "      <td>Nearly 30% rise in earnings sending shares up ...</td>\n",
       "      <td>nearly 30 percent rise in earnings, sending sh...</td>\n",
       "      <td>30% earnings increase</td>\n",
       "      <td>nearly 30 percent rise in earnings</td>\n",
       "      <td>0.190663</td>\n",
       "      <td>0.619400</td>\n",
       "    </tr>\n",
       "    <tr>\n",
       "      <th>1</th>\n",
       "      <td>On RSVP under entree options, Child (12 and un...</td>\n",
       "      <td>the caption, I\\ll have the 10-year-old, please...</td>\n",
       "      <td>A menu mistake on a wedding RSVP card hilariou...</td>\n",
       "      <td>children have apparently been added to the menu</td>\n",
       "      <td>0.105992</td>\n",
       "      <td>0.176728</td>\n",
       "    </tr>\n",
       "    <tr>\n",
       "      <th>2</th>\n",
       "      <td>No</td>\n",
       "      <td>But maybe the biggest thing is that if it were...</td>\n",
       "      <td>Rap music has maintained its cultural identity...</td>\n",
       "      <td>Rap music has avoided becoming predominantly w...</td>\n",
       "      <td>0.000000</td>\n",
       "      <td>0.406965</td>\n",
       "    </tr>\n",
       "    <tr>\n",
       "      <th>3</th>\n",
       "      <td>Hes not going to star in the Freddie Mercury b...</td>\n",
       "      <td>it grows and grows until its Dan Radcliffe is ...</td>\n",
       "      <td>Neither Daniel Radcliffe nor Sacha Baron Cohen...</td>\n",
       "      <td>Sacha Baron Cohen will no longer star in the f...</td>\n",
       "      <td>0.160440</td>\n",
       "      <td>0.105992</td>\n",
       "    </tr>\n",
       "    <tr>\n",
       "      <th>4</th>\n",
       "      <td>Its not. Attached here.</td>\n",
       "      <td>Ford looked as good during his carpentry phase...</td>\n",
       "      <td>Harrison Ford looked great as a carpenter befo...</td>\n",
       "      <td>Fans will be delighted to know that Ford looke...</td>\n",
       "      <td>0.000000</td>\n",
       "      <td>0.768920</td>\n",
       "    </tr>\n",
       "  </tbody>\n",
       "</table>\n",
       "</div>"
      ],
      "text/plain": [
       "                                    humanSpoiler_org  \\\n",
       "0  Nearly 30% rise in earnings sending shares up ...   \n",
       "1  On RSVP under entree options, Child (12 and un...   \n",
       "2                                                 No   \n",
       "3  Hes not going to star in the Freddie Mercury b...   \n",
       "4                            Its not. Attached here.   \n",
       "\n",
       "                                         spoiler_org  \\\n",
       "0  nearly 30 percent rise in earnings, sending sh...   \n",
       "1  the caption, I\\ll have the 10-year-old, please...   \n",
       "2  But maybe the biggest thing is that if it were...   \n",
       "3  it grows and grows until its Dan Radcliffe is ...   \n",
       "4  Ford looked as good during his carpentry phase...   \n",
       "\n",
       "                                    humanSpoiler_ext  \\\n",
       "0                              30% earnings increase   \n",
       "1  A menu mistake on a wedding RSVP card hilariou...   \n",
       "2  Rap music has maintained its cultural identity...   \n",
       "3  Neither Daniel Radcliffe nor Sacha Baron Cohen...   \n",
       "4  Harrison Ford looked great as a carpenter befo...   \n",
       "\n",
       "                                         spoiler_ext  humanSpoiler_cos_sim  \\\n",
       "0                 nearly 30 percent rise in earnings              0.190663   \n",
       "1    children have apparently been added to the menu              0.105992   \n",
       "2  Rap music has avoided becoming predominantly w...              0.000000   \n",
       "3  Sacha Baron Cohen will no longer star in the f...              0.160440   \n",
       "4  Fans will be delighted to know that Ford looke...              0.000000   \n",
       "\n",
       "   spoiler_cos_sim  \n",
       "0         0.619400  \n",
       "1         0.176728  \n",
       "2         0.406965  \n",
       "3         0.105992  \n",
       "4         0.768920  "
      ]
     },
     "execution_count": 71,
     "metadata": {},
     "output_type": "execute_result"
    }
   ],
   "source": [
    "cosine_df.head()"
   ]
  }
 ],
 "metadata": {
  "kernelspec": {
   "display_name": "eda_clickbait-detection",
   "language": "python",
   "name": "python3"
  },
  "language_info": {
   "codemirror_mode": {
    "name": "ipython",
    "version": 3
   },
   "file_extension": ".py",
   "mimetype": "text/x-python",
   "name": "python",
   "nbconvert_exporter": "python",
   "pygments_lexer": "ipython3",
   "version": "3.12.7"
  }
 },
 "nbformat": 4,
 "nbformat_minor": 2
}
