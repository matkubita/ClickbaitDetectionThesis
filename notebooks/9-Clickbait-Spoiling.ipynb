{
 "cells": [
  {
   "cell_type": "markdown",
   "metadata": {},
   "source": [
    "## Clickbait spoiling notebook"
   ]
  },
  {
   "cell_type": "code",
   "execution_count": 219,
   "metadata": {},
   "outputs": [],
   "source": [
    "# Data processing\n",
    "import pandas as pd\n",
    "import string\n",
    "import re\n",
    "import json\n",
    "import torch\n",
    "import numpy as np\n",
    "\n",
    "# OpenAI connection\n",
    "import os\n",
    "from dotenv import load_dotenv\n",
    "from openai import OpenAI\n",
    "import tiktoken\n",
    "from typing import List\n",
    "\n",
    "# Visualisation\n",
    "import matplotlib.pyplot as plt\n",
    "import seaborn as sns\n",
    "import plotly.express as px\n",
    "\n",
    "# Metrics\n",
    "from sklearn.feature_extraction.text import TfidfVectorizer\n",
    "from sklearn.metrics.pairwise import cosine_similarity\n",
    "import nltk\n",
    "from nltk.translate.meteor_score import meteor_score\n",
    "from nltk.translate.bleu_score import sentence_bleu, SmoothingFunction\n",
    "from nltk.tokenize import word_tokenize\n",
    "from transformers import BertTokenizer, BertForMaskedLM, BertModel\n",
    "from bert_score import BERTScorer"
   ]
  },
  {
   "cell_type": "code",
   "execution_count": 62,
   "metadata": {},
   "outputs": [
    {
     "name": "stderr",
     "output_type": "stream",
     "text": [
      "[nltk_data] Downloading package wordnet to\n",
      "[nltk_data]     C:\\Users\\wojom\\AppData\\Roaming\\nltk_data...\n",
      "[nltk_data]   Package wordnet is already up-to-date!\n",
      "[nltk_data] Downloading package punkt_tab to\n",
      "[nltk_data]     C:\\Users\\wojom\\AppData\\Roaming\\nltk_data...\n",
      "[nltk_data]   Package punkt_tab is already up-to-date!\n"
     ]
    },
    {
     "data": {
      "text/plain": [
       "True"
      ]
     },
     "execution_count": 62,
     "metadata": {},
     "output_type": "execute_result"
    }
   ],
   "source": [
    "# VARIABLES\n",
    "load_dotenv()\n",
    "api_key = os.getenv(\"OPEN_AI_KEY\")\n",
    "nltk.download('wordnet')\n",
    "nltk.download('punkt_tab')"
   ]
  },
  {
   "cell_type": "code",
   "execution_count": 63,
   "metadata": {},
   "outputs": [],
   "source": [
    "def calculate_cost(prompt: str, data: str, out: str, model: str = \"gpt-4o-mini\") -> float:\n",
    "    \"\"\"\n",
    "    Calculates the cost of a request to a OPEN AI model based on the prompt, data, and output\n",
    "\n",
    "    Args:\n",
    "        prompt (str): prompt sent to the LLM\n",
    "        data (str): additional data sent to the LLM.\n",
    "        out (str): response received from the LLM.\n",
    "        model (str): model identifier used to determine the tokenizer, defaults to \"gpt-4o-mini\"\n",
    "\n",
    "    Returns:\n",
    "        float: total cost of the tokens used in USD\n",
    "    \"\"\"\n",
    "    tokenizer = tiktoken.encoding_for_model(model)  \n",
    "    request = str(prompt) + str(data)\n",
    "    response = str(out)\n",
    "\n",
    "    request_tokens = tokenizer.encode(request)\n",
    "    response_tokens = tokenizer.encode(response)\n",
    "\n",
    "    input_tokens = len(request_tokens)\n",
    "    output_tokens = len(response_tokens)\n",
    "\n",
    "    # costs per 1 million tokens\n",
    "    cost_per_1M_input_tokens = 0.15  # $0.15 per 1M input tokens\n",
    "    cost_per_1M_output_tokens = 0.60  # $0.60 per 1M output tokens\n",
    "\n",
    "    input_cost = (input_tokens / 10**6) * cost_per_1M_input_tokens\n",
    "    output_cost = (output_tokens / 10**6) * cost_per_1M_output_tokens\n",
    "    total_cost = input_cost + output_cost\n",
    "\n",
    "    print(f\"Input tokens: {input_tokens}\")\n",
    "    print(f\"Output tokens: {output_tokens}\")\n",
    "    print(f\"Total tokens: {input_tokens + output_tokens}\")\n",
    "    print(f\"Cost: ${total_cost:.5f}\")\n",
    "    return total_cost"
   ]
  },
  {
   "cell_type": "code",
   "execution_count": 64,
   "metadata": {},
   "outputs": [
    {
     "name": "stdout",
     "output_type": "stream",
     "text": [
      "(3358, 6)\n",
      "['passage', 'phrase', 'multi']\n"
     ]
    }
   ],
   "source": [
    "spoil_df = pd.read_csv(\"../data/spoiling_data.csv\")\n",
    "print(spoil_df.shape)\n",
    "tags = spoil_df[\"tags\"].unique().tolist()\n",
    "print(tags)"
   ]
  },
  {
   "cell_type": "code",
   "execution_count": 65,
   "metadata": {},
   "outputs": [],
   "source": [
    "client = OpenAI(api_key=api_key)"
   ]
  },
  {
   "cell_type": "code",
   "execution_count": 66,
   "metadata": {},
   "outputs": [
    {
     "name": "stdout",
     "output_type": "stream",
     "text": [
      "Mean length of the paragraph: 2868.0226325193566\n",
      "Median length of the paragraph: 1973.0\n"
     ]
    }
   ],
   "source": [
    "spoil_df[\"paragraphsLength\"] = spoil_df[\"targetParagraphs\"].apply(lambda x: len(x))\n",
    "mean_length = spoil_df[\"paragraphsLength\"].mean()\n",
    "median_length = spoil_df[\"paragraphsLength\"].median()\n",
    "\n",
    "print(\"Mean length of the paragraph:\", mean_length)\n",
    "print(\"Median length of the paragraph:\", median_length)"
   ]
  },
  {
   "cell_type": "markdown",
   "metadata": {},
   "source": [
    "### Direct Prompt"
   ]
  },
  {
   "cell_type": "code",
   "execution_count": 67,
   "metadata": {},
   "outputs": [
    {
     "data": {
      "text/html": [
       "<div>\n",
       "<style scoped>\n",
       "    .dataframe tbody tr th:only-of-type {\n",
       "        vertical-align: middle;\n",
       "    }\n",
       "\n",
       "    .dataframe tbody tr th {\n",
       "        vertical-align: top;\n",
       "    }\n",
       "\n",
       "    .dataframe thead th {\n",
       "        text-align: right;\n",
       "    }\n",
       "</style>\n",
       "<table border=\"1\" class=\"dataframe\">\n",
       "  <thead>\n",
       "    <tr style=\"text-align: right;\">\n",
       "      <th></th>\n",
       "      <th>targetTitle</th>\n",
       "      <th>targetParagraphs</th>\n",
       "      <th>humanSpoiler</th>\n",
       "      <th>spoiler</th>\n",
       "      <th>tags</th>\n",
       "      <th>spoilerPositions</th>\n",
       "      <th>paragraphsLength</th>\n",
       "    </tr>\n",
       "  </thead>\n",
       "  <tbody>\n",
       "    <tr>\n",
       "      <th>696</th>\n",
       "      <td>The Grand Tour launch date</td>\n",
       "      <td>November 18 The Grand Tour: Launch Date</td>\n",
       "      <td>November 18</td>\n",
       "      <td>November 18</td>\n",
       "      <td>phrase</td>\n",
       "      <td>[[[0, 0], [0, 11]]]</td>\n",
       "      <td>39</td>\n",
       "    </tr>\n",
       "  </tbody>\n",
       "</table>\n",
       "</div>"
      ],
      "text/plain": [
       "                    targetTitle                         targetParagraphs  \\\n",
       "696  The Grand Tour launch date  November 18 The Grand Tour: Launch Date   \n",
       "\n",
       "    humanSpoiler      spoiler    tags     spoilerPositions  paragraphsLength  \n",
       "696  November 18  November 18  phrase  [[[0, 0], [0, 11]]]                39  "
      ]
     },
     "execution_count": 67,
     "metadata": {},
     "output_type": "execute_result"
    }
   ],
   "source": [
    "spoil_df[spoil_df[\"paragraphsLength\"] == min(spoil_df[\"paragraphsLength\"])]"
   ]
  },
  {
   "cell_type": "code",
   "execution_count": 68,
   "metadata": {},
   "outputs": [
    {
     "data": {
      "text/plain": [
       "['passage', 'phrase', 'multi']"
      ]
     },
     "execution_count": 68,
     "metadata": {},
     "output_type": "execute_result"
    }
   ],
   "source": [
    "spoil_df[\"tags\"].unique().tolist()"
   ]
  },
  {
   "cell_type": "code",
   "execution_count": 88,
   "metadata": {},
   "outputs": [
    {
     "name": "stdout",
     "output_type": "stream",
     "text": [
      "rainbow colours in the sky and a halo spanning 360 degrees\n"
     ]
    }
   ],
   "source": [
    "pd.set_option('display.max_colwidth', None)\n",
    "examples = {}\n",
    "tags = spoil_df[\"tags\"].unique()\n",
    "\n",
    "for tag in tags:\n",
    "    spoiler = spoil_df.loc[(spoil_df[\"tags\"] == tag) & (spoil_df[\"paragraphsLength\"] < 1000)].iloc[0]\n",
    "    examples[tag] = {\n",
    "        \"tag\": spoiler[\"tags\"],\n",
    "        \"spoiler\": spoiler[\"spoiler\"],\n",
    "        \"title\": spoiler[\"targetTitle\"],\n",
    "        \"paragraph\": spoiler[\"targetParagraphs\"],\n",
    "        \"human_spoiler\": spoiler[\"humanSpoiler\"],\n",
    "        \"length\": spoiler[\"paragraphsLength\"]\n",
    "    }\n",
    "\n",
    "\n",
    "print(examples[\"passage\"][\"spoiler\"])\n",
    "pd.set_option('display.max_colwidth', 50)"
   ]
  },
  {
   "cell_type": "code",
   "execution_count": 87,
   "metadata": {},
   "outputs": [
    {
     "name": "stdout",
     "output_type": "stream",
     "text": [
      "passage\n",
      "phrase\n",
      "multi\n"
     ]
    }
   ],
   "source": [
    "for key in examples:\n",
    "    print(key)"
   ]
  },
  {
   "cell_type": "code",
   "execution_count": 71,
   "metadata": {},
   "outputs": [],
   "source": [
    "prompt = \"\"\"\n",
    "You are a model designed to generate concise spoilers from articles. Your task is to analyze the main question or topic posed by the article’s title and generate a spoiler based on the content provided in the article's parahraphs. Your response must include a JSON object with keys \"humanSpoiler\", and \"spoiler\".\n",
    "Use \"targetTitle\" to determine the central question or topic the spoiler should address. Review \"targetParagraphs\" to find the most relevant details that directly answer or the topic stated in the title. Consider provided tag: \n",
    "\"phrase\": Short, direct answer or single phrase.\n",
    "\"passage\": More detailed, informative spoiler.\n",
    "\"multi\": Multiple sentences or complex information for a full response, provide a longer, structured spoiler.\n",
    "\n",
    "Answer:{\n",
    "\"humanSpoiler\": <A model-generated spoiler>,\n",
    "\"spoiler\": <A concise, extracted from the article’s content but remaining logical>\n",
    "}\n",
    "\n",
    "Example 1:\n",
    "Input{ \n",
    "\"tag\":\"phrase\"\n",
    "\"targetTitle\":\"Teen Mom 2 Star Jenelle Evans Reveals Sex Of Her Second Child\"\n",
    "\"targetParagraphs\":\"Teen Mom 2 star Jenelle Evans took to Twitter and Instagram Monday (Feb. 3) to announce that she and boyfriend Nathan Griffin are expecting a baby boy., Evans has faced criticism for the pregnancy, largely because she does not currently have custody of her first child, 4-year-old Jace. In the Season 5 premiere of Teen Mom 2, Evans had an abortion, which led to even more speculation about whether or not she is ready to have a second child. The reality TV star has a long history battling drug addiction, and has been arrested several times., Evans told In Touch that she had the abortion at the beginning of Season 5 because she was too skinny and unhealthy to continue with the unexpected pregnancy while in recovery for heroin addiction., Evans is legally married to Courtland Rogers, though the couple is separated. The father of her first son, Jace, is ex-boyfriend Andrew Lewis.\"}\n",
    "Output{\n",
    "\"humanSpoiler\":\"Boy\"\n",
    "\"spoiler\":\"boy\"}\n",
    "\n",
    "Example 2:\n",
    "Input{\n",
    "\"tag\":\"passage\"\n",
    "\"targetTitle\":\"You’ll Never Believe What This Family Saw in the Sky Outside Their House in Finland.\"\n",
    "\"targetParagraphs\":\"It was cold and very foggy, the temperature was around -10 degrees Celsius, said Hänninen. When the clouds began to break, there were rainbow colours in the sky and a halo spanning 360 degrees! It was worth taking a picture or two. If I ever stepped outside and saw this in my backyard, I might think the aliens were invading!\"}\n",
    "Output{\n",
    "\"humanSpoiler\":\"Sun Halos Which are caused by ice crystals in cirrostratus clouds.\"\n",
    "\"spoiler\":\"rainbow colours in the sky and a halo spanning 360 degrees\"}\n",
    "\n",
    "Example 2:\n",
    "Input{\n",
    "\"tag\":\"multi\"\n",
    "\"targetTitle\":\"Mixing These Two Common Medications Could Be Life-Threatening\"\n",
    "\"targetParagraphs\":\"It’s common knowledge that mixing your medication isn’t recommended without a doctor’s permission. However, an estimated 1 million people in the United States are on two drugs that together can cause a seriously adverse reaction., This video from Business Insider recalls a study from Harvard, Stanford, and Vanderbilt University on a specific drug interaction. Their study looked at the interaction between pravastatin – a cholesterol-reducing drug – and paroxetine, a widely used antidepressant known under the brand name of Seroxat. If taken together, they can cause complications that are so severe, they could become life-threatening., Watch the video below to find out why.\"}\n",
    "Output{\n",
    "\"humanSpoiler\":\"Pravastatin and Paroxetine (AKA Seroxat) iflscience.com\"\n",
    "\"spoiler\":\"pravastatin, paroxetine\"}\n",
    "\"\"\""
   ]
  },
  {
   "cell_type": "code",
   "execution_count": 72,
   "metadata": {},
   "outputs": [
    {
     "name": "stdout",
     "output_type": "stream",
     "text": [
      "Input tokens: 776\n",
      "Output tokens: 3\n",
      "Total tokens: 779\n",
      "Cost: $0.00012\n",
      "Total cost: $0.4728\n"
     ]
    }
   ],
   "source": [
    "cost_of_one = calculate_cost(prompt=prompt, data=\"\", out=\"Intellectual stimulation\")\n",
    "print(f\"Total cost: ${cost_of_one * 4000}\")"
   ]
  },
  {
   "cell_type": "code",
   "execution_count": 73,
   "metadata": {},
   "outputs": [],
   "source": [
    "def sample_test_df(df, types_of_spoilers, num_samples, random_state=1):\n",
    "    samples = []\n",
    "    for tag in types_of_spoilers:\n",
    "        sample = df[df['tags'] == tag].sample(num_samples, random_state=random_state)\n",
    "        samples.append(sample)\n",
    "    test_df = pd.concat(samples).reset_index(drop=True)\n",
    "    return test_df"
   ]
  },
  {
   "cell_type": "code",
   "execution_count": 74,
   "metadata": {},
   "outputs": [
    {
     "data": {
      "text/plain": [
       "(30, 7)"
      ]
     },
     "execution_count": 74,
     "metadata": {},
     "output_type": "execute_result"
    }
   ],
   "source": [
    "test_df = sample_test_df(spoil_df, types_of_spoilers=['passage', 'phrase', 'multi'], num_samples=10, random_state=1)\n",
    "test_df.shape"
   ]
  },
  {
   "cell_type": "markdown",
   "metadata": {},
   "source": [
    "### Call to the OpenAI. Response saved as file"
   ]
  },
  {
   "cell_type": "code",
   "execution_count": 75,
   "metadata": {},
   "outputs": [],
   "source": [
    "def create_batch_request_to_open_ai_direct_prompt(\n",
    "    list_of_prompts: List[str],\n",
    "    name_of_request_file: str,\n",
    "    description_of_request: str,   \n",
    "    temperature: None = 1, #between [0,2]. Default = 1, higher temperature leads to more random, while lower to more deterministic,\n",
    "    model: str = \"gpt-4o-mini\"\n",
    "):\n",
    "\n",
    "    dictionary = [{\n",
    "        \"custom_id\": f\"request{i}\", \n",
    "        \"method\": \"POST\", \n",
    "        \"url\": \"/v1/chat/completions\", \n",
    "        \"body\": {\"model\": model, \n",
    "                 \"messages\": [\n",
    "                     {\"role\": \"system\", \"content\": \"assistant\"},\n",
    "                     {\"role\": \"user\", \"content\": prompt__}],\n",
    "                 \"max_tokens\": 1000,\n",
    "                 \"temperature\": temperature}\n",
    "    } for i, prompt__ in enumerate(list_of_prompts)]\n",
    "    \n",
    "    with open(f\"../request_files_openai/{name_of_request_file}.jsonl\", \"w\") as outfile:\n",
    "        for request__ in dictionary:\n",
    "            json.dump(request__, outfile)\n",
    "            outfile.write('\\n')\n",
    "    \n",
    "    \n",
    "    batch_input_file = client.files.create(\n",
    "      file=open(fr\"../request_files_openai/{name_of_request_file}.jsonl\", \"rb\"),\n",
    "      purpose=\"batch\"\n",
    "    )\n",
    "    \n",
    "    return client.batches.create(\n",
    "        input_file_id=batch_input_file.id,\n",
    "        endpoint=\"/v1/chat/completions\",\n",
    "        completion_window=\"24h\",\n",
    "        metadata={\n",
    "          \"description\": description_of_request\n",
    "        }\n",
    "    )"
   ]
  },
  {
   "cell_type": "code",
   "execution_count": 76,
   "metadata": {},
   "outputs": [],
   "source": [
    "def save_direct_prompt_to_file_and_get_predictions(\n",
    "    result_file_id: str,\n",
    "    result_file_name: str,\n",
    "    save_to_file: bool = True\n",
    "):\n",
    "    if save_to_file:\n",
    "        result = client.files.content(result_file_id).content\n",
    "        result_file_name = f\"../request_files_openai/{result_file_name}.jsonl\"\n",
    "        \n",
    "        with open(result_file_name, 'wb') as file:\n",
    "            file.write(result)\n",
    "\n",
    "    pred = []\n",
    "    with open(result_file_name, 'r') as file:\n",
    "        i = 0\n",
    "        for line in file:\n",
    "            prediction_str = json.loads(line)['response']['body']['choices'][0]['message']['content']\n",
    "            try:\n",
    "                pred.append(str(prediction_str))\n",
    "            except Exception as e:\n",
    "                print(\"there was problem with this request. Output:\")\n",
    "                print(prediction_str)\n",
    "                print()\n",
    "                pred.append(0)\n",
    "                i+=1\n",
    "    print(f\"number of errors = {i}\")\n",
    "    return pred"
   ]
  },
  {
   "cell_type": "code",
   "execution_count": 77,
   "metadata": {},
   "outputs": [],
   "source": [
    "prompt_1 = [\n",
    "    str(prompt + f'Article to spoil: \"tag\":{entry[\"tags\"]}. \"targetTitle\":{entry[\"targetTitle\"]}. \"targetParagraphs\":{entry[\"targetParagraphs\"]}')\n",
    "    for _, entry in test_df.iterrows()\n",
    "]"
   ]
  },
  {
   "cell_type": "code",
   "execution_count": 78,
   "metadata": {},
   "outputs": [],
   "source": [
    "test_batch = create_batch_request_to_open_ai_direct_prompt(\n",
    "    list_of_prompts = prompt_1,\n",
    "    name_of_request_file = \"request_spoiling_test_2\",\n",
    "    description_of_request = \"request_spoiling_12_11_2024\",\n",
    ")"
   ]
  },
  {
   "cell_type": "code",
   "execution_count": 79,
   "metadata": {},
   "outputs": [],
   "source": [
    "in_progress_batch = client.batches.retrieve(test_batch.id)\n",
    "in_progress_batch.output_file_id"
   ]
  },
  {
   "cell_type": "code",
   "execution_count": 80,
   "metadata": {},
   "outputs": [
    {
     "ename": "ValueError",
     "evalue": "Expected a non-empty value for `file_id` but received None",
     "output_type": "error",
     "traceback": [
      "\u001b[1;31m---------------------------------------------------------------------------\u001b[0m",
      "\u001b[1;31mValueError\u001b[0m                                Traceback (most recent call last)",
      "Cell \u001b[1;32mIn[80], line 1\u001b[0m\n\u001b[1;32m----> 1\u001b[0m file_response \u001b[38;5;241m=\u001b[39m \u001b[43mclient\u001b[49m\u001b[38;5;241;43m.\u001b[39;49m\u001b[43mfiles\u001b[49m\u001b[38;5;241;43m.\u001b[39;49m\u001b[43mcontent\u001b[49m\u001b[43m(\u001b[49m\u001b[43min_progress_batch\u001b[49m\u001b[38;5;241;43m.\u001b[39;49m\u001b[43moutput_file_id\u001b[49m\u001b[43m)\u001b[49m\u001b[38;5;241m.\u001b[39mcontent\n\u001b[0;32m      2\u001b[0m \u001b[38;5;28mprint\u001b[39m(file_response)\n",
      "File \u001b[1;32mc:\\Users\\wojom\\anaconda3\\envs\\eda_clickbait-detection\\Lib\\site-packages\\openai\\resources\\files.py:288\u001b[0m, in \u001b[0;36mFiles.content\u001b[1;34m(self, file_id, extra_headers, extra_query, extra_body, timeout)\u001b[0m\n\u001b[0;32m    275\u001b[0m \u001b[38;5;250m\u001b[39m\u001b[38;5;124;03m\"\"\"\u001b[39;00m\n\u001b[0;32m    276\u001b[0m \u001b[38;5;124;03mReturns the contents of the specified file.\u001b[39;00m\n\u001b[0;32m    277\u001b[0m \n\u001b[1;32m   (...)\u001b[0m\n\u001b[0;32m    285\u001b[0m \u001b[38;5;124;03m  timeout: Override the client-level default timeout for this request, in seconds\u001b[39;00m\n\u001b[0;32m    286\u001b[0m \u001b[38;5;124;03m\"\"\"\u001b[39;00m\n\u001b[0;32m    287\u001b[0m \u001b[38;5;28;01mif\u001b[39;00m \u001b[38;5;129;01mnot\u001b[39;00m file_id:\n\u001b[1;32m--> 288\u001b[0m     \u001b[38;5;28;01mraise\u001b[39;00m \u001b[38;5;167;01mValueError\u001b[39;00m(\u001b[38;5;124mf\u001b[39m\u001b[38;5;124m\"\u001b[39m\u001b[38;5;124mExpected a non-empty value for `file_id` but received \u001b[39m\u001b[38;5;132;01m{\u001b[39;00mfile_id\u001b[38;5;132;01m!r}\u001b[39;00m\u001b[38;5;124m\"\u001b[39m)\n\u001b[0;32m    289\u001b[0m extra_headers \u001b[38;5;241m=\u001b[39m {\u001b[38;5;124m\"\u001b[39m\u001b[38;5;124mAccept\u001b[39m\u001b[38;5;124m\"\u001b[39m: \u001b[38;5;124m\"\u001b[39m\u001b[38;5;124mapplication/binary\u001b[39m\u001b[38;5;124m\"\u001b[39m, \u001b[38;5;241m*\u001b[39m\u001b[38;5;241m*\u001b[39m(extra_headers \u001b[38;5;129;01mor\u001b[39;00m {})}\n\u001b[0;32m    290\u001b[0m \u001b[38;5;28;01mreturn\u001b[39;00m \u001b[38;5;28mself\u001b[39m\u001b[38;5;241m.\u001b[39m_get(\n\u001b[0;32m    291\u001b[0m     \u001b[38;5;124mf\u001b[39m\u001b[38;5;124m\"\u001b[39m\u001b[38;5;124m/files/\u001b[39m\u001b[38;5;132;01m{\u001b[39;00mfile_id\u001b[38;5;132;01m}\u001b[39;00m\u001b[38;5;124m/content\u001b[39m\u001b[38;5;124m\"\u001b[39m,\n\u001b[0;32m    292\u001b[0m     options\u001b[38;5;241m=\u001b[39mmake_request_options(\n\u001b[1;32m   (...)\u001b[0m\n\u001b[0;32m    295\u001b[0m     cast_to\u001b[38;5;241m=\u001b[39m_legacy_response\u001b[38;5;241m.\u001b[39mHttpxBinaryResponseContent,\n\u001b[0;32m    296\u001b[0m )\n",
      "\u001b[1;31mValueError\u001b[0m: Expected a non-empty value for `file_id` but received None"
     ]
    }
   ],
   "source": [
    "file_response = client.files.content(in_progress_batch.output_file_id).content\n",
    "print(file_response)"
   ]
  },
  {
   "cell_type": "code",
   "execution_count": null,
   "metadata": {},
   "outputs": [
    {
     "name": "stdout",
     "output_type": "stream",
     "text": [
      "number of errors = 0\n"
     ]
    }
   ],
   "source": [
    "pred = save_direct_prompt_to_file_and_get_predictions(\n",
    "    result_file_id = in_progress_batch.output_file_id,\n",
    "    result_file_name = \"spoiling_test_2\"\n",
    ")"
   ]
  },
  {
   "cell_type": "markdown",
   "metadata": {},
   "source": [
    "### Spoiling analysis from file"
   ]
  },
  {
   "cell_type": "code",
   "execution_count": 207,
   "metadata": {},
   "outputs": [
    {
     "name": "stdout",
     "output_type": "stream",
     "text": [
      "number of errors = 0\n"
     ]
    }
   ],
   "source": [
    "result_file_name = \"../request_files_openai/spoiling_test_2.jsonl\"\n",
    "pred = save_direct_prompt_to_file_and_get_predictions(\n",
    "    result_file_id = None,\n",
    "    result_file_name = result_file_name,\n",
    "    save_to_file = False\n",
    ")"
   ]
  },
  {
   "cell_type": "code",
   "execution_count": 208,
   "metadata": {},
   "outputs": [],
   "source": [
    "def extract_data_regex(pred):\n",
    "    pattern = r'[{}\\n\":,]'\n",
    "    human_spoiler_pattern = r'\"humanSpoiler\"\\s*:\\s*\"([^\"]+)\"'\n",
    "    spoiler_pattern = r'\"spoiler\"\\s*:\\s*\"([^\"]+)\"'\n",
    "    data = []\n",
    "\n",
    "    for text in pred:\n",
    "        human_spoiler_value = spoiler_value = None\n",
    "        human_spoiler_match = re.search(human_spoiler_pattern, text)\n",
    "        spoiler_match = re.search(spoiler_pattern, text)\n",
    "        if human_spoiler_match:\n",
    "            human_spoiler_value = human_spoiler_match.group(1)\n",
    "        else:\n",
    "            match = re.search(r'humanSpoiler', text)\n",
    "            if match:\n",
    "                start_index = match.start()\n",
    "                human_spoiler_value = text[start_index+12:] \n",
    "        \n",
    "        if spoiler_match:\n",
    "            spoiler_value = spoiler_match.group(1)\n",
    "        else:\n",
    "            match = re.search(r'spoiler', text)\n",
    "            if match:\n",
    "                start_index = match.start()\n",
    "                spoiler_value = text[start_index+7:] \n",
    "        \n",
    "        \n",
    "        data.append({\n",
    "            \"humanSpoiler\": human_spoiler_value,\n",
    "            \"spoiler\": spoiler_value\n",
    "        })\n",
    "\n",
    "    df = pd.DataFrame(data)\n",
    "    return df\n"
   ]
  },
  {
   "cell_type": "code",
   "execution_count": 209,
   "metadata": {},
   "outputs": [],
   "source": [
    "def extract_data(pred):\n",
    "    data = []\n",
    "    for spoiler in pred:\n",
    "        match = re.search(r'\\{.*?\\}', spoiler, re.DOTALL)\n",
    "        if match:\n",
    "            result = match.group(0)\n",
    "            json_spoiler = json.loads(result)\n",
    "            data.append({\n",
    "                \"humanSpoiler\": json_spoiler[\"humanSpoiler\"],\n",
    "                \"spoiler\": json_spoiler[\"spoiler\"]\n",
    "            })\n",
    "        else:\n",
    "            print(\"No match found.\")\n",
    "    return pd.DataFrame(data)"
   ]
  },
  {
   "cell_type": "code",
   "execution_count": 210,
   "metadata": {},
   "outputs": [
    {
     "name": "stdout",
     "output_type": "stream",
     "text": [
      "Extracted data size:  (30, 2)\n",
      "Rows with NaN values:  (0, 2)\n"
     ]
    }
   ],
   "source": [
    "extracted_df = extract_data(pred)\n",
    "na_rows = extracted_df[extracted_df.isna().any(axis=1)]\n",
    "print(\"Extracted data size: \", extracted_df.shape)\n",
    "print(\"Rows with NaN values: \", na_rows.shape)"
   ]
  },
  {
   "cell_type": "markdown",
   "metadata": {},
   "source": [
    "### Calculating metrics\n",
    "- BLEU\n",
    "- BERTScore (BSc)\n",
    "- METEOR (MET)\n",
    "- Cosine Similarity"
   ]
  },
  {
   "cell_type": "code",
   "execution_count": 233,
   "metadata": {},
   "outputs": [],
   "source": [
    "extracted_df.rename(columns={'humanSpoiler': 'humanSpoiler_ext', 'spoiler': 'spoiler_ext'}, inplace=True)\n",
    "test_df.rename(columns={'humanSpoiler': 'humanSpoiler_org', 'spoiler': 'spoiler_org'}, inplace=True)\n",
    "metrics_df = pd.concat([test_df[['humanSpoiler_org', 'spoiler_org']], extracted_df[['humanSpoiler_ext', 'spoiler_ext']]], axis=1)"
   ]
  },
  {
   "cell_type": "markdown",
   "metadata": {},
   "source": [
    "#### Cosine Similarity for spoiler, humanSpoiler"
   ]
  },
  {
   "cell_type": "code",
   "execution_count": 212,
   "metadata": {},
   "outputs": [],
   "source": [
    "vectorizer = TfidfVectorizer()\n",
    "def calculate_cosine_similarity_row(row, columns):\n",
    "    tfidf_matrix = vectorizer.fit_transform([row[columns[0]], row[columns[1]]])\n",
    "    cosine_sim = cosine_similarity(tfidf_matrix[0], tfidf_matrix[1])[0][0]\n",
    "    return cosine_sim"
   ]
  },
  {
   "cell_type": "code",
   "execution_count": 213,
   "metadata": {},
   "outputs": [],
   "source": [
    "metrics_df['humanSpoiler_cos_sim'] = metrics_df.apply(calculate_cosine_similarity_row, axis=1, columns=['humanSpoiler_ext', 'humanSpoiler_org'])\n",
    "metrics_df['spoiler_cos_sim'] = metrics_df.apply(calculate_cosine_similarity_row, axis=1, columns=['spoiler_ext', 'spoiler_org'])"
   ]
  },
  {
   "cell_type": "code",
   "execution_count": 238,
   "metadata": {},
   "outputs": [],
   "source": [
    "def plotHistograms(df, columns, xlabels, titles, kde=False):\n",
    "    number = len(columns)\n",
    "    fig, axs = plt.subplots(1, number, figsize=(12, 5))\n",
    "\n",
    "    for i in range(number):\n",
    "        sns.histplot(metrics_df[columns[i]], bins=10, kde=kde, ax=axs[i], edgecolor=\"black\")\n",
    "        axs[i].set_xlabel(xlabels[i])\n",
    "        axs[i].set_ylabel('Counts')\n",
    "        axs[i].set_title(titles[i])\n",
    "    plt.tight_layout()\n",
    "    plt.show()"
   ]
  },
  {
   "cell_type": "code",
   "execution_count": 215,
   "metadata": {},
   "outputs": [
    {
     "data": {
      "image/png": "[encoded data removed]",
      "text/plain": [
       "<Figure size 1200x500 with 2 Axes>"
      ]
     },
     "metadata": {},
     "output_type": "display_data"
    }
   ],
   "source": [
    "xlabels = ['Cosine Similarity', 'Cosine Similarity']\n",
    "titles = ['Cosine Similarity of Human Spoilers', 'Cosine Similarity of Spoilers']\n",
    "plotHistograms(metrics_df, columns=[\"humanSpoiler_cos_sim\", \"spoiler_cos_sim\"], xlabels=xlabels, titles=titles)"
   ]
  },
  {
   "cell_type": "code",
   "execution_count": 216,
   "metadata": {},
   "outputs": [
    {
     "name": "stdout",
     "output_type": "stream",
     "text": [
      "Mean of humanSpoiler_cos_sim:  0.1697815297958982\n",
      "Mean of spoiler_cos_sim:  0.37665756716320264\n"
     ]
    }
   ],
   "source": [
    "print(\"Mean of humanSpoiler_cos_sim: \", metrics_df[\"humanSpoiler_cos_sim\"].mean())\n",
    "print(\"Mean of spoiler_cos_sim: \", metrics_df[\"spoiler_cos_sim\"].mean())"
   ]
  },
  {
   "cell_type": "code",
   "execution_count": 217,
   "metadata": {},
   "outputs": [
    {
     "data": {
      "image/png": "[encoded data removed]",
      "text/plain": [
       "<Figure size 800x500 with 1 Axes>"
      ]
     },
     "metadata": {},
     "output_type": "display_data"
    }
   ],
   "source": [
    "plt.figure(figsize=(8, 5))\n",
    "# metrics_df.sort_values(\"spoiler_cos_sim\", ascending=True, inplace=True)\n",
    "human_spoiler_mean = metrics_df[\"humanSpoiler_cos_sim\"].mean()\n",
    "spoiler_mean = metrics_df[\"spoiler_cos_sim\"].mean()\n",
    "plt.scatter(\n",
    "    range(len(metrics_df[\"humanSpoiler_cos_sim\"])), \n",
    "    metrics_df[\"humanSpoiler_cos_sim\"], \n",
    "    alpha=0.7, \n",
    "    color='blue', \n",
    "    label='Human Spoilers'\n",
    ")\n",
    "\n",
    "\n",
    "plt.scatter(\n",
    "    range(len(metrics_df[\"spoiler_cos_sim\"])), \n",
    "    metrics_df[\"spoiler_cos_sim\"], \n",
    "    alpha=0.7, \n",
    "    color='orange', \n",
    "    label='Spoilers'\n",
    ")\n",
    "\n",
    "plt.axhline(y=human_spoiler_mean, color='blue', linestyle='--', label='Mean (Human Spoilers)')\n",
    "plt.axhline(y=spoiler_mean, color='orange', linestyle='--', label='Mean (Spoilers)')\n",
    "\n",
    "plt.xlabel('Index')\n",
    "plt.ylabel('Cosine Similarity')\n",
    "plt.title('Cosine Similarity Between Generated and Original Texts for Human Spoilers and Spoilers')\n",
    "plt.legend()\n",
    "plt.tight_layout()\n",
    "plt.show()\n"
   ]
  },
  {
   "cell_type": "markdown",
   "metadata": {},
   "source": [
    "In general, the model 'gpt-4o-mini' identifies paragraphs for extracting spoilers with higher mean value than the similarity of generated spoilers."
   ]
  },
  {
   "cell_type": "markdown",
   "metadata": {},
   "source": [
    "#### METEOR (MET) for spoiler, humanSpoiler\n",
    "https://www.nltk.org/api/nltk.translate.meteor_score.html"
   ]
  },
  {
   "cell_type": "code",
   "execution_count": 179,
   "metadata": {},
   "outputs": [],
   "source": [
    "def calculate_met_nltk(row, columns):\n",
    "    tokenized_candidate = word_tokenize(row[columns[0]])\n",
    "    tokenized_reference = word_tokenize(row[columns[1]])\n",
    "\n",
    "    return meteor_score([tokenized_reference], tokenized_candidate)"
   ]
  },
  {
   "cell_type": "code",
   "execution_count": 180,
   "metadata": {},
   "outputs": [],
   "source": [
    "metrics_df[\"humanSpoiler_met\"] = metrics_df.apply(calculate_met_nltk, axis=1, columns=['humanSpoiler_ext', 'humanSpoiler_org'])\n",
    "metrics_df['spoiler_met'] = metrics_df.apply(calculate_met_nltk, axis=1, columns=['spoiler_ext', 'spoiler_org'])"
   ]
  },
  {
   "cell_type": "code",
   "execution_count": 181,
   "metadata": {},
   "outputs": [
    {
     "data": {
      "image/png": "[encoded data removed]",
      "text/plain": [
       "<Figure size 1200x500 with 2 Axes>"
      ]
     },
     "metadata": {},
     "output_type": "display_data"
    }
   ],
   "source": [
    "xlabels = ['METEOR Score','METEOR Score']\n",
    "titles = ['METEOR Score of Human Spoilers','METEOR Score of Spoilers']\n",
    "plotHistograms(metrics_df, columns=[\"humanSpoiler_met\", \"spoiler_met\"], xlabels=xlabels, titles=titles)"
   ]
  },
  {
   "cell_type": "code",
   "execution_count": 182,
   "metadata": {},
   "outputs": [
    {
     "name": "stdout",
     "output_type": "stream",
     "text": [
      "Mean of humanSpoiler_met:  0.18517812122009714\n",
      "Mean of spoiler_met:  0.37131659989018195\n"
     ]
    }
   ],
   "source": [
    "print(\"Mean of humanSpoiler_met: \", metrics_df[\"humanSpoiler_met\"].mean())\n",
    "print(\"Mean of spoiler_met: \", metrics_df[\"spoiler_met\"].mean())"
   ]
  },
  {
   "cell_type": "code",
   "execution_count": null,
   "metadata": {},
   "outputs": [
    {
     "data": {
      "image/png": "[encoded data removed]",
      "text/plain": [
       "<Figure size 800x500 with 1 Axes>"
      ]
     },
     "metadata": {},
     "output_type": "display_data"
    }
   ],
   "source": [
    "plt.figure(figsize=(8, 5))\n",
    "# metrics_df.sort_values(\"spoiler_met\", ascending=True, inplace=True)\n",
    "human_spoiler_mean = metrics_df[\"humanSpoiler_met\"].mean()\n",
    "spoiler_mean = metrics_df[\"spoiler_met\"].mean()\n",
    "plt.scatter(\n",
    "    range(len(metrics_df[\"humanSpoiler_met\"])), \n",
    "    metrics_df[\"humanSpoiler_met\"], \n",
    "    alpha=0.7, \n",
    "    color='blue', \n",
    "    label='Human Spoilers'\n",
    ")\n",
    "\n",
    "\n",
    "plt.scatter(\n",
    "    range(len(metrics_df[\"spoiler_met\"])), \n",
    "    metrics_df[\"spoiler_met\"], \n",
    "    alpha=0.7, \n",
    "    color='orange', \n",
    "    label='Spoilers'\n",
    ")\n",
    "\n",
    "plt.axhline(y=human_spoiler_mean, color='blue', linestyle='--', label='Mean (Human Spoilers)')\n",
    "plt.axhline(y=spoiler_mean, color='orange', linestyle='--', label='Mean (Spoilers)')\n",
    "\n",
    "plt.xlabel('Index')\n",
    "plt.ylabel('METEOR Score')\n",
    "plt.title('METEOR Score Between Generated and Original Texts for Human Spoilers and Spoilers')\n",
    "plt.legend()\n",
    "plt.tight_layout()\n",
    "plt.show()"
   ]
  },
  {
   "cell_type": "markdown",
   "metadata": {},
   "source": [
    "#### BLEU for spoiler, humanSpoiler\n",
    "https://stackoverflow.com/questions/32395880/calculate-bleu-score-in-python"
   ]
  },
  {
   "cell_type": "code",
   "execution_count": 184,
   "metadata": {},
   "outputs": [],
   "source": [
    "def calculate_bleu_nltk(row, columns):\n",
    "    tokenized_candidate = word_tokenize(row[columns[0]])\n",
    "    tokenized_reference = word_tokenize(row[columns[1]])\n",
    "    smoothing_function = SmoothingFunction().method1\n",
    "    \n",
    "    return round(sentence_bleu(\n",
    "        [tokenized_reference], \n",
    "        tokenized_candidate, \n",
    "        smoothing_function=smoothing_function, \n",
    "        weights=[0.40, 0.30, 0.20, 0.10]\n",
    "        ), 3)"
   ]
  },
  {
   "cell_type": "code",
   "execution_count": 185,
   "metadata": {},
   "outputs": [],
   "source": [
    "metrics_df[\"humanSpoiler_bleu\"] = metrics_df.apply(calculate_bleu_nltk, axis=1, columns=['humanSpoiler_ext', 'humanSpoiler_org'])\n",
    "metrics_df[\"spoiler_bleu\"] = metrics_df.apply(calculate_bleu_nltk, axis=1, columns=['spoiler_ext', 'spoiler_org'])"
   ]
  },
  {
   "cell_type": "code",
   "execution_count": 186,
   "metadata": {},
   "outputs": [
    {
     "name": "stdout",
     "output_type": "stream",
     "text": [
      "Mean of humanSpoiler_bleu:  0.0768\n",
      "Mean of spoiler_bleu:  0.13846666666666665\n"
     ]
    }
   ],
   "source": [
    "print(\"Mean of humanSpoiler_bleu: \", metrics_df[\"humanSpoiler_bleu\"].mean())\n",
    "print(\"Mean of spoiler_bleu: \", metrics_df[\"spoiler_bleu\"].mean())"
   ]
  },
  {
   "cell_type": "code",
   "execution_count": null,
   "metadata": {},
   "outputs": [
    {
     "data": {
      "image/png": "[encoded data removed]",
      "text/plain": [
       "<Figure size 800x500 with 1 Axes>"
      ]
     },
     "metadata": {},
     "output_type": "display_data"
    }
   ],
   "source": [
    "plt.figure(figsize=(8, 5))\n",
    "# metrics_df.sort_values(\"spoiler_bleu\", ascending=True, inplace=True)\n",
    "human_spoiler_mean = metrics_df[\"humanSpoiler_bleu\"].mean()\n",
    "spoiler_mean = metrics_df[\"spoiler_bleu\"].mean()\n",
    "plt.scatter(\n",
    "    range(len(metrics_df[\"humanSpoiler_bleu\"])), \n",
    "    metrics_df[\"humanSpoiler_bleu\"], \n",
    "    alpha=0.7, \n",
    "    color='blue', \n",
    "    label='Human Spoilers'\n",
    ")\n",
    "\n",
    "\n",
    "plt.scatter(\n",
    "    range(len(metrics_df[\"spoiler_bleu\"])), \n",
    "    metrics_df[\"spoiler_bleu\"], \n",
    "    alpha=0.7, \n",
    "    color='orange', \n",
    "    label='Spoilers'\n",
    ")\n",
    "\n",
    "plt.axhline(y=human_spoiler_mean, color='blue', linestyle='--', label='Mean (Human Spoilers)')\n",
    "plt.axhline(y=spoiler_mean, color='orange', linestyle='--', label='Mean (Spoilers)')\n",
    "\n",
    "plt.xlabel('Index')\n",
    "plt.ylabel('BLEU Score')\n",
    "plt.title('BLEU Score Between Generated and Original Texts for Human Spoilers and Spoilers')\n",
    "plt.legend()\n",
    "plt.tight_layout()\n",
    "plt.show()"
   ]
  },
  {
   "cell_type": "markdown",
   "metadata": {},
   "source": [
    "#### BERTScore (BSc) for spoiler, humanSpoiler\n",
    "https://haticeozbolat17.medium.com/text-summarization-how-to-calculate-bertscore-771a51022964\n",
    "https://rumn.medium.com/bert-score-explained-8f384d37bb06"
   ]
  },
  {
   "cell_type": "code",
   "execution_count": null,
   "metadata": {},
   "outputs": [],
   "source": [
    "scorer = BERTScorer(model_type='bert-base-uncased', lang=\"en\")\n",
    "\n",
    "def calculate_bertscore(row, columns):\n",
    "    P, R, F1 = scorer.score([row[columns[0]]], [row[columns[1]]])\n",
    "    return P.mean().item(), R.mean().item(), F1.mean().item()"
   ]
  },
  {
   "cell_type": "code",
   "execution_count": null,
   "metadata": {},
   "outputs": [],
   "source": [
    "tokenizer = BertTokenizer.from_pretrained(\"bert-base-uncased\")\n",
    "model = BertModel.from_pretrained(\"bert-base-uncased\")\n",
    "\n",
    "def calculate_bert_similarity(row, columns):\n",
    "    embeddings = []\n",
    "    for column in columns:\n",
    "        text = row[column]\n",
    "        inputs = tokenizer(text, return_tensors=\"pt\", padding=True, truncation=True)\n",
    "        outputs = model(**inputs)\n",
    "        # The mean of the last hidden state. Squeeze to remove batch dimension.\n",
    "        embedding = outputs.last_hidden_state.mean(dim=1).squeeze().detach().numpy()\n",
    "        embeddings.append(embedding)\n",
    "    \n",
    "    similarity = np.dot(embeddings[0], embeddings[1]) / (np.linalg.norm(embeddings[0]) * np.linalg.norm(embeddings[1]))\n",
    "    return similarity\n",
    "\n",
    "metrics_df[\"bertScore\"] = metrics_df.apply(calculate_bert_similarity, columns=[\"humanSpoiler_org\", \"humanSpoiler_ext\"], axis=1)\n"
   ]
  },
  {
   "cell_type": "code",
   "execution_count": 254,
   "metadata": {},
   "outputs": [],
   "source": [
    "metrics_df[[\"hs_bert_precision\", \"hs_bert_recall\", \"hs_bert_f1\"]] = metrics_df[[\"humanSpoiler_org\", \"humanSpoiler_ext\"]].apply(calculate_bertscore, columns=[\"humanSpoiler_org\", \"humanSpoiler_ext\"], axis=1, result_type=\"expand\")\n",
    "metrics_df[[\"s_bert_precision\", \"s_bert_recall\", \"s_bert_f1\"]] = metrics_df[[\"spoiler_org\", \"spoiler_ext\"]].apply(calculate_bertscore, columns=[\"spoiler_org\", \"spoiler_ext\"], axis=1, result_type=\"expand\")"
   ]
  },
  {
   "cell_type": "code",
   "execution_count": null,
   "metadata": {},
   "outputs": [
    {
     "data": {
      "application/vnd.plotly.v1+json": {
       "config": {
        "plotlyServerURL": "https://plot.ly"
       },
       "data": [
        {
         "hovertemplate": "Line Type=hs_bert_precision<br>Index=%{x}<br>Precision=%{y}<extra></extra>",
         "legendgroup": "hs_bert_precision",
         "line": {
          "color": "#636efa",
          "dash": "solid"
         },
         "marker": {
          "symbol": "circle"
         },
         "mode": "lines",
         "name": "hs_bert_precision",
         "orientation": "v",
         "showlegend": true,
         "type": "scatter",
         "x": [
          1,
          2,
          3,
          4,
          5,
          6,
          7,
          8,
          9,
          10,
          11,
          12,
          13,
          14,
          15,
          16,
          17,
          18,
          19,
          20,
          21,
          22,
          23,
          24,
          25,
          26,
          27,
          28,
          29,
          30
         ],
         "xaxis": "x",
         "y": [
          0.5579599738121033,
          0.5201651453971863,
          0.30615586042404175,
          0.5333780646324158,
          0.35946863889694214,
          0.3055877685546875,
          0.43670013546943665,
          0.4295506179332733,
          0.4413262605667114,
          0.42369771003723145,
          0.6583941578865051,
          0.41670575737953186,
          0.30166953802108765,
          0.7692332863807678,
          0.44417017698287964,
          0.36552250385284424,
          0.5026001334190369,
          0.7698849439620972,
          0.34666013717651367,
          0.7073543071746826,
          0.3329281508922577,
          0.44428759813308716,
          0.5335174202919006,
          0.45652830600738525,
          0.5571930408477783,
          0.33685630559921265,
          0.9401638507843018,
          0.2515893578529358,
          0.4044320583343506,
          0.7514564990997314
         ],
         "yaxis": "y"
        },
        {
         "hovertemplate": "Line Type=s_bert_precision<br>Index=%{x}<br>Precision=%{y}<extra></extra>",
         "legendgroup": "s_bert_precision",
         "line": {
          "color": "#EF553B",
          "dash": "solid"
         },
         "marker": {
          "symbol": "circle"
         },
         "mode": "lines",
         "name": "s_bert_precision",
         "orientation": "v",
         "showlegend": true,
         "type": "scatter",
         "x": [
          1,
          2,
          3,
          4,
          5,
          6,
          7,
          8,
          9,
          10,
          11,
          12,
          13,
          14,
          15,
          16,
          17,
          18,
          19,
          20,
          21,
          22,
          23,
          24,
          25,
          26,
          27,
          28,
          29,
          30
         ],
         "xaxis": "x",
         "y": [
          0.6709532737731934,
          0.3148336708545685,
          0.4772723615169525,
          0.4434150457382202,
          0.9344758987426758,
          0.49760404229164124,
          0.5584959983825684,
          0.4557536542415619,
          0.7090151906013489,
          0.5479419231414795,
          0.5056456923484802,
          1.0000001192092896,
          0.4565203785896301,
          0.7721206545829773,
          0.2976576089859009,
          0.7996379733085632,
          0.4689282774925232,
          1,
          0.32838237285614014,
          1.0000001192092896,
          0.5532671809196472,
          0.7557857036590576,
          0.560670018196106,
          0.37554603815078735,
          0.48679083585739136,
          0.6113452911376953,
          0.878387987613678,
          0.5759373307228088,
          0.6733978390693665,
          0.6917093396186829
         ],
         "yaxis": "y"
        }
       ],
       "layout": {
        "legend": {
         "title": {
          "text": "Line Type"
         },
         "tracegroupgap": 0
        },
        "template": {
         "data": {
          "bar": [
           {
            "error_x": {
             "color": "#2a3f5f"
            },
            "error_y": {
             "color": "#2a3f5f"
            },
            "marker": {
             "line": {
              "color": "white",
              "width": 0.5
             },
             "pattern": {
              "fillmode": "overlay",
              "size": 10,
              "solidity": 0.2
             }
            },
            "type": "bar"
           }
          ],
          "barpolar": [
           {
            "marker": {
             "line": {
              "color": "white",
              "width": 0.5
             },
             "pattern": {
              "fillmode": "overlay",
              "size": 10,
              "solidity": 0.2
             }
            },
            "type": "barpolar"
           }
          ],
          "carpet": [
           {
            "aaxis": {
             "endlinecolor": "#2a3f5f",
             "gridcolor": "#C8D4E3",
             "linecolor": "#C8D4E3",
             "minorgridcolor": "#C8D4E3",
             "startlinecolor": "#2a3f5f"
            },
            "baxis": {
             "endlinecolor": "#2a3f5f",
             "gridcolor": "#C8D4E3",
             "linecolor": "#C8D4E3",
             "minorgridcolor": "#C8D4E3",
             "startlinecolor": "#2a3f5f"
            },
            "type": "carpet"
           }
          ],
          "choropleth": [
           {
            "colorbar": {
             "outlinewidth": 0,
             "ticks": ""
            },
            "type": "choropleth"
           }
          ],
          "contour": [
           {
            "colorbar": {
             "outlinewidth": 0,
             "ticks": ""
            },
            "colorscale": [
             [
              0,
              "#0d0887"
             ],
             [
              0.1111111111111111,
              "#46039f"
             ],
             [
              0.2222222222222222,
              "#7201a8"
             ],
             [
              0.3333333333333333,
              "#9c179e"
             ],
             [
              0.4444444444444444,
              "#bd3786"
             ],
             [
              0.5555555555555556,
              "#d8576b"
             ],
             [
              0.6666666666666666,
              "#ed7953"
             ],
             [
              0.7777777777777778,
              "#fb9f3a"
             ],
             [
              0.8888888888888888,
              "#fdca26"
             ],
             [
              1,
              "#f0f921"
             ]
            ],
            "type": "contour"
           }
          ],
          "contourcarpet": [
           {
            "colorbar": {
             "outlinewidth": 0,
             "ticks": ""
            },
            "type": "contourcarpet"
           }
          ],
          "heatmap": [
           {
            "colorbar": {
             "outlinewidth": 0,
             "ticks": ""
            },
            "colorscale": [
             [
              0,
              "#0d0887"
             ],
             [
              0.1111111111111111,
              "#46039f"
             ],
             [
              0.2222222222222222,
              "#7201a8"
             ],
             [
              0.3333333333333333,
              "#9c179e"
             ],
             [
              0.4444444444444444,
              "#bd3786"
             ],
             [
              0.5555555555555556,
              "#d8576b"
             ],
             [
              0.6666666666666666,
              "#ed7953"
             ],
             [
              0.7777777777777778,
              "#fb9f3a"
             ],
             [
              0.8888888888888888,
              "#fdca26"
             ],
             [
              1,
              "#f0f921"
             ]
            ],
            "type": "heatmap"
           }
          ],
          "heatmapgl": [
           {
            "colorbar": {
             "outlinewidth": 0,
             "ticks": ""
            },
            "colorscale": [
             [
              0,
              "#0d0887"
             ],
             [
              0.1111111111111111,
              "#46039f"
             ],
             [
              0.2222222222222222,
              "#7201a8"
             ],
             [
              0.3333333333333333,
              "#9c179e"
             ],
             [
              0.4444444444444444,
              "#bd3786"
             ],
             [
              0.5555555555555556,
              "#d8576b"
             ],
             [
              0.6666666666666666,
              "#ed7953"
             ],
             [
              0.7777777777777778,
              "#fb9f3a"
             ],
             [
              0.8888888888888888,
              "#fdca26"
             ],
             [
              1,
              "#f0f921"
             ]
            ],
            "type": "heatmapgl"
           }
          ],
          "histogram": [
           {
            "marker": {
             "pattern": {
              "fillmode": "overlay",
              "size": 10,
              "solidity": 0.2
             }
            },
            "type": "histogram"
           }
          ],
          "histogram2d": [
           {
            "colorbar": {
             "outlinewidth": 0,
             "ticks": ""
            },
            "colorscale": [
             [
              0,
              "#0d0887"
             ],
             [
              0.1111111111111111,
              "#46039f"
             ],
             [
              0.2222222222222222,
              "#7201a8"
             ],
             [
              0.3333333333333333,
              "#9c179e"
             ],
             [
              0.4444444444444444,
              "#bd3786"
             ],
             [
              0.5555555555555556,
              "#d8576b"
             ],
             [
              0.6666666666666666,
              "#ed7953"
             ],
             [
              0.7777777777777778,
              "#fb9f3a"
             ],
             [
              0.8888888888888888,
              "#fdca26"
             ],
             [
              1,
              "#f0f921"
             ]
            ],
            "type": "histogram2d"
           }
          ],
          "histogram2dcontour": [
           {
            "colorbar": {
             "outlinewidth": 0,
             "ticks": ""
            },
            "colorscale": [
             [
              0,
              "#0d0887"
             ],
             [
              0.1111111111111111,
              "#46039f"
             ],
             [
              0.2222222222222222,
              "#7201a8"
             ],
             [
              0.3333333333333333,
              "#9c179e"
             ],
             [
              0.4444444444444444,
              "#bd3786"
             ],
             [
              0.5555555555555556,
              "#d8576b"
             ],
             [
              0.6666666666666666,
              "#ed7953"
             ],
             [
              0.7777777777777778,
              "#fb9f3a"
             ],
             [
              0.8888888888888888,
              "#fdca26"
             ],
             [
              1,
              "#f0f921"
             ]
            ],
            "type": "histogram2dcontour"
           }
          ],
          "mesh3d": [
           {
            "colorbar": {
             "outlinewidth": 0,
             "ticks": ""
            },
            "type": "mesh3d"
           }
          ],
          "parcoords": [
           {
            "line": {
             "colorbar": {
              "outlinewidth": 0,
              "ticks": ""
             }
            },
            "type": "parcoords"
           }
          ],
          "pie": [
           {
            "automargin": true,
            "type": "pie"
           }
          ],
          "scatter": [
           {
            "fillpattern": {
             "fillmode": "overlay",
             "size": 10,
             "solidity": 0.2
            },
            "type": "scatter"
           }
          ],
          "scatter3d": [
           {
            "line": {
             "colorbar": {
              "outlinewidth": 0,
              "ticks": ""
             }
            },
            "marker": {
             "colorbar": {
              "outlinewidth": 0,
              "ticks": ""
             }
            },
            "type": "scatter3d"
           }
          ],
          "scattercarpet": [
           {
            "marker": {
             "colorbar": {
              "outlinewidth": 0,
              "ticks": ""
             }
            },
            "type": "scattercarpet"
           }
          ],
          "scattergeo": [
           {
            "marker": {
             "colorbar": {
              "outlinewidth": 0,
              "ticks": ""
             }
            },
            "type": "scattergeo"
           }
          ],
          "scattergl": [
           {
            "marker": {
             "colorbar": {
              "outlinewidth": 0,
              "ticks": ""
             }
            },
            "type": "scattergl"
           }
          ],
          "scattermapbox": [
           {
            "marker": {
             "colorbar": {
              "outlinewidth": 0,
              "ticks": ""
             }
            },
            "type": "scattermapbox"
           }
          ],
          "scatterpolar": [
           {
            "marker": {
             "colorbar": {
              "outlinewidth": 0,
              "ticks": ""
             }
            },
            "type": "scatterpolar"
           }
          ],
          "scatterpolargl": [
           {
            "marker": {
             "colorbar": {
              "outlinewidth": 0,
              "ticks": ""
             }
            },
            "type": "scatterpolargl"
           }
          ],
          "scatterternary": [
           {
            "marker": {
             "colorbar": {
              "outlinewidth": 0,
              "ticks": ""
             }
            },
            "type": "scatterternary"
           }
          ],
          "surface": [
           {
            "colorbar": {
             "outlinewidth": 0,
             "ticks": ""
            },
            "colorscale": [
             [
              0,
              "#0d0887"
             ],
             [
              0.1111111111111111,
              "#46039f"
             ],
             [
              0.2222222222222222,
              "#7201a8"
             ],
             [
              0.3333333333333333,
              "#9c179e"
             ],
             [
              0.4444444444444444,
              "#bd3786"
             ],
             [
              0.5555555555555556,
              "#d8576b"
             ],
             [
              0.6666666666666666,
              "#ed7953"
             ],
             [
              0.7777777777777778,
              "#fb9f3a"
             ],
             [
              0.8888888888888888,
              "#fdca26"
             ],
             [
              1,
              "#f0f921"
             ]
            ],
            "type": "surface"
           }
          ],
          "table": [
           {
            "cells": {
             "fill": {
              "color": "#EBF0F8"
             },
             "line": {
              "color": "white"
             }
            },
            "header": {
             "fill": {
              "color": "#C8D4E3"
             },
             "line": {
              "color": "white"
             }
            },
            "type": "table"
           }
          ]
         },
         "layout": {
          "annotationdefaults": {
           "arrowcolor": "#2a3f5f",
           "arrowhead": 0,
           "arrowwidth": 1
          },
          "autotypenumbers": "strict",
          "coloraxis": {
           "colorbar": {
            "outlinewidth": 0,
            "ticks": ""
           }
          },
          "colorscale": {
           "diverging": [
            [
             0,
             "#8e0152"
            ],
            [
             0.1,
             "#c51b7d"
            ],
            [
             0.2,
             "#de77ae"
            ],
            [
             0.3,
             "#f1b6da"
            ],
            [
             0.4,
             "#fde0ef"
            ],
            [
             0.5,
             "#f7f7f7"
            ],
            [
             0.6,
             "#e6f5d0"
            ],
            [
             0.7,
             "#b8e186"
            ],
            [
             0.8,
             "#7fbc41"
            ],
            [
             0.9,
             "#4d9221"
            ],
            [
             1,
             "#276419"
            ]
           ],
           "sequential": [
            [
             0,
             "#0d0887"
            ],
            [
             0.1111111111111111,
             "#46039f"
            ],
            [
             0.2222222222222222,
             "#7201a8"
            ],
            [
             0.3333333333333333,
             "#9c179e"
            ],
            [
             0.4444444444444444,
             "#bd3786"
            ],
            [
             0.5555555555555556,
             "#d8576b"
            ],
            [
             0.6666666666666666,
             "#ed7953"
            ],
            [
             0.7777777777777778,
             "#fb9f3a"
            ],
            [
             0.8888888888888888,
             "#fdca26"
            ],
            [
             1,
             "#f0f921"
            ]
           ],
           "sequentialminus": [
            [
             0,
             "#0d0887"
            ],
            [
             0.1111111111111111,
             "#46039f"
            ],
            [
             0.2222222222222222,
             "#7201a8"
            ],
            [
             0.3333333333333333,
             "#9c179e"
            ],
            [
             0.4444444444444444,
             "#bd3786"
            ],
            [
             0.5555555555555556,
             "#d8576b"
            ],
            [
             0.6666666666666666,
             "#ed7953"
            ],
            [
             0.7777777777777778,
             "#fb9f3a"
            ],
            [
             0.8888888888888888,
             "#fdca26"
            ],
            [
             1,
             "#f0f921"
            ]
           ]
          },
          "colorway": [
           "#636efa",
           "#EF553B",
           "#00cc96",
           "#ab63fa",
           "#FFA15A",
           "#19d3f3",
           "#FF6692",
           "#B6E880",
           "#FF97FF",
           "#FECB52"
          ],
          "font": {
           "color": "#2a3f5f"
          },
          "geo": {
           "bgcolor": "white",
           "lakecolor": "white",
           "landcolor": "white",
           "showlakes": true,
           "showland": true,
           "subunitcolor": "#C8D4E3"
          },
          "hoverlabel": {
           "align": "left"
          },
          "hovermode": "closest",
          "mapbox": {
           "style": "light"
          },
          "paper_bgcolor": "white",
          "plot_bgcolor": "white",
          "polar": {
           "angularaxis": {
            "gridcolor": "#EBF0F8",
            "linecolor": "#EBF0F8",
            "ticks": ""
           },
           "bgcolor": "white",
           "radialaxis": {
            "gridcolor": "#EBF0F8",
            "linecolor": "#EBF0F8",
            "ticks": ""
           }
          },
          "scene": {
           "xaxis": {
            "backgroundcolor": "white",
            "gridcolor": "#DFE8F3",
            "gridwidth": 2,
            "linecolor": "#EBF0F8",
            "showbackground": true,
            "ticks": "",
            "zerolinecolor": "#EBF0F8"
           },
           "yaxis": {
            "backgroundcolor": "white",
            "gridcolor": "#DFE8F3",
            "gridwidth": 2,
            "linecolor": "#EBF0F8",
            "showbackground": true,
            "ticks": "",
            "zerolinecolor": "#EBF0F8"
           },
           "zaxis": {
            "backgroundcolor": "white",
            "gridcolor": "#DFE8F3",
            "gridwidth": 2,
            "linecolor": "#EBF0F8",
            "showbackground": true,
            "ticks": "",
            "zerolinecolor": "#EBF0F8"
           }
          },
          "shapedefaults": {
           "line": {
            "color": "#2a3f5f"
           }
          },
          "ternary": {
           "aaxis": {
            "gridcolor": "#DFE8F3",
            "linecolor": "#A2B1C6",
            "ticks": ""
           },
           "baxis": {
            "gridcolor": "#DFE8F3",
            "linecolor": "#A2B1C6",
            "ticks": ""
           },
           "bgcolor": "white",
           "caxis": {
            "gridcolor": "#DFE8F3",
            "linecolor": "#A2B1C6",
            "ticks": ""
           }
          },
          "title": {
           "x": 0.05
          },
          "xaxis": {
           "automargin": true,
           "gridcolor": "#EBF0F8",
           "linecolor": "#EBF0F8",
           "ticks": "",
           "title": {
            "standoff": 15
           },
           "zerolinecolor": "#EBF0F8",
           "zerolinewidth": 2
          },
          "yaxis": {
           "automargin": true,
           "gridcolor": "#EBF0F8",
           "linecolor": "#EBF0F8",
           "ticks": "",
           "title": {
            "standoff": 15
           },
           "zerolinecolor": "#EBF0F8",
           "zerolinewidth": 2
          }
         }
        },
        "title": {
         "font": {
          "size": 20
         },
         "text": "BERT Precision Comparison"
        },
        "xaxis": {
         "anchor": "y",
         "domain": [
          0,
          1
         ],
         "showgrid": true,
         "title": {
          "font": {
           "size": 16
          },
          "text": "Index"
         }
        },
        "yaxis": {
         "anchor": "x",
         "domain": [
          0,
          1
         ],
         "showgrid": true,
         "title": {
          "font": {
           "size": 16
          },
          "text": "Precision"
         }
        }
       }
      }
     },
     "metadata": {},
     "output_type": "display_data"
    }
   ],
   "source": [
    "# niezbyt ladny wykres :(\n",
    "metrics_long = metrics_df.melt(id_vars=\"index\", value_vars=[\"hs_bert_precision\", \"s_bert_precision\"], \n",
    "                               var_name=\"Line Type\", value_name=\"Precision\")\n",
    "fig = px.line(\n",
    "    metrics_long, \n",
    "    x=\"index\", \n",
    "    y=\"Precision\", \n",
    "    color=\"Line Type\", \n",
    "    title=\"BERT Precision Comparison\", \n",
    "    labels={\"index\": \"Index\", \"Precision\": \"Precision\"}\n",
    ")\n",
    "\n",
    "fig.update_layout(\n",
    "    title_font_size=20,\n",
    "    xaxis_title_font_size=16,\n",
    "    yaxis_title_font_size=16,\n",
    "    xaxis=dict(showgrid=True),\n",
    "    yaxis=dict(showgrid=True),\n",
    "    template=\"plotly_white\"\n",
    ")\n",
    "\n",
    "fig.show()"
   ]
  },
  {
   "cell_type": "code",
   "execution_count": 242,
   "metadata": {},
   "outputs": [
    {
     "data": {
      "image/png": "[encoded data removed]",
      "text/plain": [
       "<Figure size 1200x500 with 2 Axes>"
      ]
     },
     "metadata": {},
     "output_type": "display_data"
    }
   ],
   "source": [
    "xlabels = ['BERT Precision','BERT Precision']\n",
    "titles = ['BERT Precision of Human Spoilers','BERT Precision of Spoilers']\n",
    "plotHistograms(metrics_df, columns=[\"hs_bert_precision\", \"s_bert_precision\"], xlabels=xlabels, titles=titles, kde=True)"
   ]
  },
  {
   "cell_type": "code",
   "execution_count": 252,
   "metadata": {},
   "outputs": [],
   "source": [
    "metrics_df[\"humanSpoiler_bertScore\"] = metrics_df.apply(calculate_bert_similarity, columns=[\"humanSpoiler_org\", \"humanSpoiler_ext\"], axis=1)\n",
    "metrics_df[\"spoiler_bertScore\"] = metrics_df.apply(calculate_bert_similarity, columns=[\"spoiler_org\", \"spoiler_ext\"], axis=1)"
   ]
  },
  {
   "cell_type": "code",
   "execution_count": 253,
   "metadata": {},
   "outputs": [
    {
     "data": {
      "image/png": "[encoded data removed]",
      "text/plain": [
       "<Figure size 800x500 with 1 Axes>"
      ]
     },
     "metadata": {},
     "output_type": "display_data"
    }
   ],
   "source": [
    "plt.figure(figsize=(8, 5))\n",
    "# metrics_df.sort_values(\"spoiler_bleu\", ascending=True, inplace=True)\n",
    "human_spoiler_mean = metrics_df[\"humanSpoiler_bertScore\"].mean()\n",
    "spoiler_mean = metrics_df[\"spoiler_bertScore\"].mean()\n",
    "plt.scatter(\n",
    "    range(len(metrics_df[\"humanSpoiler_bertScore\"])), \n",
    "    metrics_df[\"humanSpoiler_bertScore\"], \n",
    "    alpha=0.7, \n",
    "    color='blue', \n",
    "    label='Human Spoilers'\n",
    ")\n",
    "\n",
    "\n",
    "plt.scatter(\n",
    "    range(len(metrics_df[\"spoiler_bertScore\"])), \n",
    "    metrics_df[\"spoiler_bertScore\"], \n",
    "    alpha=0.7, \n",
    "    color='orange', \n",
    "    label='Spoilers'\n",
    ")\n",
    "\n",
    "plt.axhline(y=human_spoiler_mean, color='blue', linestyle='--', label='Mean (Human Spoilers)')\n",
    "plt.axhline(y=spoiler_mean, color='orange', linestyle='--', label='Mean (Spoilers)')\n",
    "\n",
    "plt.xlabel('Index')\n",
    "plt.ylabel('BERT Score')\n",
    "plt.title('BERT Score Between Generated and Original Texts for Human Spoilers and Spoilers')\n",
    "plt.legend()\n",
    "plt.tight_layout()\n",
    "plt.show()"
   ]
  }
 ],
 "metadata": {
  "kernelspec": {
   "display_name": "eda_clickbait-detection",
   "language": "python",
   "name": "python3"
  },
  "language_info": {
   "codemirror_mode": {
    "name": "ipython",
    "version": 3
   },
   "file_extension": ".py",
   "mimetype": "text/x-python",
   "name": "python",
   "nbconvert_exporter": "python",
   "pygments_lexer": "ipython3",
   "version": "3.12.7"
  }
 },
 "nbformat": 4,
 "nbformat_minor": 2
}
