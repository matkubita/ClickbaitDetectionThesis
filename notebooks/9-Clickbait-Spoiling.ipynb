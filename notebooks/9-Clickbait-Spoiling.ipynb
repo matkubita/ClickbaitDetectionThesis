{
 "cells": [
  {
   "cell_type": "markdown",
   "metadata": {},
   "source": [
    "## Clickbait spoiling notebook"
   ]
  },
  {
   "cell_type": "code",
   "execution_count": 50,
   "metadata": {},
   "outputs": [],
   "source": [
    "import pandas as pd\n",
    "import os\n",
    "from dotenv import load_dotenv\n",
    "from openai import OpenAI\n",
    "import tiktoken"
   ]
  },
  {
   "cell_type": "code",
   "execution_count": 8,
   "metadata": {},
   "outputs": [],
   "source": [
    "# VARIABLES\n",
    "load_dotenv()\n",
    "api_key = os.getenv(\"OPEN_AI_KEY\")"
   ]
  },
  {
   "cell_type": "code",
   "execution_count": null,
   "metadata": {},
   "outputs": [],
   "source": [
    "def calculate_cost(prompt: str, data: str, out: str, model: str = \"gpt-4o-mini\") -> float:\n",
    "    \"\"\"\n",
    "    Calculates the cost of a request to a OPEN AI model based on the prompt, data, and output\n",
    "\n",
    "    Args:\n",
    "        prompt (str): prompt sent to the LLM\n",
    "        data (str): additional data sent to the LLM.\n",
    "        out (str): response received from the LLM.\n",
    "        model (str): model identifier used to determine the tokenizer, defaults to \"gpt-4o-mini\"\n",
    "\n",
    "    Returns:\n",
    "        float: total cost of the tokens used in USD\n",
    "    \"\"\"\n",
    "    tokenizer = tiktoken.encoding_for_model(model)  \n",
    "    request = str(prompt) + str(data)\n",
    "    response = str(out)\n",
    "\n",
    "    request_tokens = tokenizer.encode(request)\n",
    "    response_tokens = tokenizer.encode(response)\n",
    "\n",
    "    input_tokens = len(request_tokens)\n",
    "    output_tokens = len(response_tokens)\n",
    "\n",
    "    # costs per 1 million tokens\n",
    "    cost_per_1M_input_tokens = 0.15  # $0.15 per 1M input tokens\n",
    "    cost_per_1M_output_tokens = 0.60  # $0.60 per 1M output tokens\n",
    "\n",
    "    input_cost = (input_tokens / 10**6) * cost_per_1M_input_tokens\n",
    "    output_cost = (output_tokens / 10**6) * cost_per_1M_output_tokens\n",
    "    total_cost = input_cost + output_cost\n",
    "\n",
    "    print(f\"Input tokens: {input_tokens}\")\n",
    "    print(f\"Output tokens: {output_tokens}\")\n",
    "    print(f\"Total tokens: {input_tokens + output_tokens}\")\n",
    "    print(f\"Cost: ${total_cost:.5f}\")\n",
    "    return total_cost"
   ]
  },
  {
   "cell_type": "code",
   "execution_count": 104,
   "metadata": {},
   "outputs": [
    {
     "name": "stdout",
     "output_type": "stream",
     "text": [
      "(3358, 6)\n",
      "['passage', 'phrase', 'multi']\n"
     ]
    }
   ],
   "source": [
    "spoil_df = pd.read_csv(\"../data/spoiling_data.csv\")\n",
    "print(spoil_df.shape)\n",
    "tags = spoil_df[\"tags\"].unique().tolist()\n",
    "print(tags)"
   ]
  },
  {
   "cell_type": "code",
   "execution_count": null,
   "metadata": {},
   "outputs": [
    {
     "data": {
      "text/html": [
       "<div>\n",
       "<style scoped>\n",
       "    .dataframe tbody tr th:only-of-type {\n",
       "        vertical-align: middle;\n",
       "    }\n",
       "\n",
       "    .dataframe tbody tr th {\n",
       "        vertical-align: top;\n",
       "    }\n",
       "\n",
       "    .dataframe thead th {\n",
       "        text-align: right;\n",
       "    }\n",
       "</style>\n",
       "<table border=\"1\" class=\"dataframe\">\n",
       "  <thead>\n",
       "    <tr style=\"text-align: right;\">\n",
       "      <th></th>\n",
       "      <th>targetTitle</th>\n",
       "      <th>targetParagraphs</th>\n",
       "      <th>humanSpoiler</th>\n",
       "      <th>spoiler</th>\n",
       "      <th>tags</th>\n",
       "      <th>spoilerPositions</th>\n",
       "    </tr>\n",
       "  </thead>\n",
       "  <tbody>\n",
       "    <tr>\n",
       "      <th>0</th>\n",
       "      <td>Wes Welker Wanted Dinner With Tom Brady, But P...</td>\n",
       "      <td>It’ll be just like old times this weekend for ...</td>\n",
       "      <td>They Threw A Football</td>\n",
       "      <td>how about that morning we go throw?</td>\n",
       "      <td>passage</td>\n",
       "      <td>[[[3, 151], [3, 186]]]</td>\n",
       "    </tr>\n",
       "    <tr>\n",
       "      <th>1</th>\n",
       "      <td>Hole In Ozone Layer Expected To Make Full Reco...</td>\n",
       "      <td>2070 is shaping up to be a great year for Moth...</td>\n",
       "      <td>2070</td>\n",
       "      <td>2070</td>\n",
       "      <td>phrase</td>\n",
       "      <td>[[[0, 0], [0, 4]]]</td>\n",
       "    </tr>\n",
       "    <tr>\n",
       "      <th>2</th>\n",
       "      <td>Intellectual Stimulation Trumps Money For Empl...</td>\n",
       "      <td>Despite common belief, money isnt the key to e...</td>\n",
       "      <td>Intellectual stimulation</td>\n",
       "      <td>intellectual stimulation</td>\n",
       "      <td>phrase</td>\n",
       "      <td>[[[1, 186], [1, 210]]]</td>\n",
       "    </tr>\n",
       "    <tr>\n",
       "      <th>3</th>\n",
       "      <td>Heres what happens if your Apple AirPods get l...</td>\n",
       "      <td>One of the biggest surprise announcements at A...</td>\n",
       "      <td>No</td>\n",
       "      <td>Apple says that if AirPods are lost or stolen,...</td>\n",
       "      <td>passage</td>\n",
       "      <td>[[[4, 0], [4, 110]]]</td>\n",
       "    </tr>\n",
       "    <tr>\n",
       "      <th>4</th>\n",
       "      <td>The Reason Why Gabor Kiraly Wears THOSE Tracki...</td>\n",
       "      <td>June 14th 2016 3.3K Shares, They may look like...</td>\n",
       "      <td>Its a lucky charm to him</td>\n",
       "      <td>The more good games I had in them, the more I ...</td>\n",
       "      <td>passage</td>\n",
       "      <td>[[[5, 0], [5, 64]]]</td>\n",
       "    </tr>\n",
       "  </tbody>\n",
       "</table>\n",
       "</div>"
      ],
      "text/plain": [
       "                                         targetTitle  \\\n",
       "0  Wes Welker Wanted Dinner With Tom Brady, But P...   \n",
       "1  Hole In Ozone Layer Expected To Make Full Reco...   \n",
       "2  Intellectual Stimulation Trumps Money For Empl...   \n",
       "3  Heres what happens if your Apple AirPods get l...   \n",
       "4  The Reason Why Gabor Kiraly Wears THOSE Tracki...   \n",
       "\n",
       "                                    targetParagraphs  \\\n",
       "0  It’ll be just like old times this weekend for ...   \n",
       "1  2070 is shaping up to be a great year for Moth...   \n",
       "2  Despite common belief, money isnt the key to e...   \n",
       "3  One of the biggest surprise announcements at A...   \n",
       "4  June 14th 2016 3.3K Shares, They may look like...   \n",
       "\n",
       "               humanSpoiler  \\\n",
       "0     They Threw A Football   \n",
       "1                      2070   \n",
       "2  Intellectual stimulation   \n",
       "3                        No   \n",
       "4  Its a lucky charm to him   \n",
       "\n",
       "                                             spoiler     tags  \\\n",
       "0                how about that morning we go throw?  passage   \n",
       "1                                               2070   phrase   \n",
       "2                           intellectual stimulation   phrase   \n",
       "3  Apple says that if AirPods are lost or stolen,...  passage   \n",
       "4  The more good games I had in them, the more I ...  passage   \n",
       "\n",
       "         spoilerPositions  \n",
       "0  [[[3, 151], [3, 186]]]  \n",
       "1      [[[0, 0], [0, 4]]]  \n",
       "2  [[[1, 186], [1, 210]]]  \n",
       "3    [[[4, 0], [4, 110]]]  \n",
       "4     [[[5, 0], [5, 64]]]  "
      ]
     },
     "execution_count": 10,
     "metadata": {},
     "output_type": "execute_result"
    }
   ],
   "source": [
    "spoil_df.head()"
   ]
  },
  {
   "cell_type": "code",
   "execution_count": 11,
   "metadata": {},
   "outputs": [
    {
     "name": "stdout",
     "output_type": "stream",
     "text": [
      "ChatCompletionMessage(content='In code’s endless loop,  \\nFunctions call themselves again,  \\nDepths of logic reign.', refusal=None, role='assistant', audio=None, function_call=None, tool_calls=None)\n"
     ]
    }
   ],
   "source": [
    "client = OpenAI(api_key=api_key)\n",
    "\n",
    "completion = client.chat.completions.create(\n",
    "    model=\"gpt-4o-mini\",\n",
    "    messages=[\n",
    "        {\"role\": \"system\", \"content\": \"You are a helpful assistant.\"},\n",
    "        {\n",
    "            \"role\": \"user\",\n",
    "            \"content\": \"Write a haiku about recursion in programming.\"\n",
    "        }\n",
    "    ]\n",
    ")\n",
    "\n",
    "print(completion.choices[0].message)"
   ]
  },
  {
   "cell_type": "code",
   "execution_count": 107,
   "metadata": {},
   "outputs": [
    {
     "name": "stdout",
     "output_type": "stream",
     "text": [
      "Mean length of the paragraph: 2868.0226325193566\n",
      "Median length of the paragraph: 1973.0\n"
     ]
    }
   ],
   "source": [
    "spoil_df[\"paragraphsLength\"] = spoil_df[\"targetParagraphs\"].apply(lambda x: len(x))\n",
    "mean_length = spoil_df[\"paragraphsLength\"].mean()\n",
    "median_length = spoil_df[\"paragraphsLength\"].median()\n",
    "\n",
    "print(\"Mean length of the paragraph:\", mean_length)\n",
    "print(\"Median length of the paragraph:\", median_length)"
   ]
  },
  {
   "cell_type": "code",
   "execution_count": 61,
   "metadata": {},
   "outputs": [
    {
     "data": {
      "text/html": [
       "<div>\n",
       "<style scoped>\n",
       "    .dataframe tbody tr th:only-of-type {\n",
       "        vertical-align: middle;\n",
       "    }\n",
       "\n",
       "    .dataframe tbody tr th {\n",
       "        vertical-align: top;\n",
       "    }\n",
       "\n",
       "    .dataframe thead th {\n",
       "        text-align: right;\n",
       "    }\n",
       "</style>\n",
       "<table border=\"1\" class=\"dataframe\">\n",
       "  <thead>\n",
       "    <tr style=\"text-align: right;\">\n",
       "      <th></th>\n",
       "      <th>targetTitle</th>\n",
       "      <th>targetParagraphs</th>\n",
       "      <th>humanSpoiler</th>\n",
       "      <th>spoiler</th>\n",
       "      <th>tags</th>\n",
       "      <th>spoilerPositions</th>\n",
       "      <th>paragraphsLength</th>\n",
       "    </tr>\n",
       "  </thead>\n",
       "  <tbody>\n",
       "    <tr>\n",
       "      <th>696</th>\n",
       "      <td>The Grand Tour launch date</td>\n",
       "      <td>November 18 The Grand Tour: Launch Date</td>\n",
       "      <td>November 18</td>\n",
       "      <td>November 18</td>\n",
       "      <td>phrase</td>\n",
       "      <td>[[[0, 0], [0, 11]]]</td>\n",
       "      <td>39</td>\n",
       "    </tr>\n",
       "  </tbody>\n",
       "</table>\n",
       "</div>"
      ],
      "text/plain": [
       "                    targetTitle                         targetParagraphs  \\\n",
       "696  The Grand Tour launch date  November 18 The Grand Tour: Launch Date   \n",
       "\n",
       "    humanSpoiler      spoiler    tags     spoilerPositions  paragraphsLength  \n",
       "696  November 18  November 18  phrase  [[[0, 0], [0, 11]]]                39  "
      ]
     },
     "execution_count": 61,
     "metadata": {},
     "output_type": "execute_result"
    }
   ],
   "source": [
    "spoil_df[spoil_df[\"paragraphsLength\"] == min(spoil_df[\"paragraphsLength\"])]"
   ]
  },
  {
   "cell_type": "code",
   "execution_count": 137,
   "metadata": {},
   "outputs": [
    {
     "name": "stdout",
     "output_type": "stream",
     "text": [
      "Pravastatin and Paroxetine (AKA Seroxat) iflscience.com\n"
     ]
    }
   ],
   "source": [
    "pd.set_option('display.max_colwidth', None)\n",
    "examples = {}\n",
    "tags = spoil_df[\"tags\"].unique()\n",
    "\n",
    "for tag in tags:\n",
    "    spoiler = spoil_df.loc[(spoil_df[\"tags\"] == tag) & (spoil_df[\"paragraphsLength\"] < 1000)].iloc[0]\n",
    "    examples[tag] = {\n",
    "        \"tag\": spoiler[\"tags\"],\n",
    "        \"title\": spoiler[\"targetTitle\"],\n",
    "        \"paragraph\": spoiler[\"targetParagraphs\"],\n",
    "        \"human_spoiler\": spoiler[\"humanSpoiler\"],\n",
    "        \"length\": spoiler[\"paragraphsLength\"]\n",
    "    }\n",
    "\n",
    "print(examples[\"multi\"][\"human_spoiler\"])\n",
    "pd.set_option('display.max_colwidth', 50)"
   ]
  },
  {
   "cell_type": "code",
   "execution_count": 133,
   "metadata": {},
   "outputs": [
    {
     "name": "stderr",
     "output_type": "stream",
     "text": [
      "<>:1: SyntaxWarning: invalid escape sequence '\\s'\n",
      "<>:1: SyntaxWarning: invalid escape sequence '\\s'\n",
      "C:\\Users\\wojom\\AppData\\Local\\Temp\\ipykernel_14660\\4178706477.py:1: SyntaxWarning: invalid escape sequence '\\s'\n",
      "  prompt = \"\"\"\n"
     ]
    }
   ],
   "source": [
    "prompt = \"\"\"\n",
    "You are the model which is used to generate the spoiler from the article. Spoiler should show the answer for the question stated in the title or should describe the topic mentioned in the title based on the article body. You have \"targetTitle\" which is the title of the article and the \"targetParagraph\" which is the body of the article. The spoilers are tagged by: \"phrase\", \"passage\", \"multi\".\n",
    "Example 1: \n",
    "\"tag\":\"phrase\"\n",
    "\"targetTitle\":\"Taylor Swift Reveals a Favorite Reality TV Show! You Wont Believe Which One It Is\"\n",
    "\"targetParagraphs\":\"Taylor Swift just gave us another reason to love her. The Grammy winner revealed one of her guilty pleasures last night while receiving the Taylor Swift Award (yes, the award is named after her) during the BMI Pop Awards at the Beverly Wilshire Hotel., After praising the night\\s BMI Icon Award winners, songwriters Cynthia Weil and Barry Mann, Swift said, I recently have had a lot of time off. I\\ve been watching a lot of reality TV., Barry and Cynthia\\s daughter Jenn is the couples therapist on a show called Couples Therapy that I watch a lot and I was really really excited to meet her, she said.\"\n",
    "\"humanSpoiler\":\"Couples Therapy\"\n",
    "\n",
    "Example 2:\n",
    "\"tag\":\"passage\"\n",
    "\"targetTitle\":\"You’ll Never Believe What This Family Saw in the Sky Outside Their House in Finland.\"\n",
    "\"targetParagraphs\":\"It was cold and very foggy, the temperature was around -10 degrees Celsius, said Hänninen. When the clouds began to break, there were rainbow colours in the sky and a halo spanning 360 degrees! It was worth taking a picture or two. If I ever stepped outside and saw this in my backyard, I might think the aliens were invading!\"\n",
    "\"humanSpoiler\":\"Sun Halos Which are caused by ice crystals in cirrostratus clouds.\"\n",
    "\n",
    "Example 2:\n",
    "\"tag\":\"multi\"\n",
    "\"targetTitle\":\"Mixing These Two Common Medications Could Be Life-Threatening\"\n",
    "\"targetParagraphs\":\"It’s common knowledge that mixing your medication isn’t recommended without a doctor’s permission. However, an estimated 1 million people in the United States are on two drugs that together can cause a seriously adverse reaction., This video from Business Insider recalls a study from Harvard, Stanford, and Vanderbilt University on a specific drug interaction. Their study looked at the interaction between pravastatin – a cholesterol-reducing drug – and paroxetine, a widely used antidepressant known under the brand name of Seroxat. If taken together, they can cause complications that are so severe, they could become life-threatening., Watch the video below to find out why.\"\n",
    "\"humanSpoiler\":\"Pravastatin and Paroxetine (AKA Seroxat) iflscience.com\"\n",
    "\n",
    "Article to spoil:\n",
    "\"tag\":{}\n",
    "\"targetParagraphs\":{}\n",
    "\"targetParagraphs\":{}\n",
    "\"\"\""
   ]
  },
  {
   "cell_type": "code",
   "execution_count": 134,
   "metadata": {},
   "outputs": [
    {
     "name": "stdout",
     "output_type": "stream",
     "text": [
      "Input tokens: 595\n",
      "Output tokens: 3\n",
      "Total tokens: 598\n",
      "Cost: $0.00009\n",
      "Total cost: $0.3642\n"
     ]
    }
   ],
   "source": [
    "cost_of_one = calculate_cost(prompt=prompt, data=\"\", out=\"Intellectual stimulation\")\n",
    "print(f\"Total cost: ${cost_of_one * 4000}\")"
   ]
  },
  {
   "cell_type": "code",
   "execution_count": 138,
   "metadata": {},
   "outputs": [
    {
     "data": {
      "text/html": [
       "<div>\n",
       "<style scoped>\n",
       "    .dataframe tbody tr th:only-of-type {\n",
       "        vertical-align: middle;\n",
       "    }\n",
       "\n",
       "    .dataframe tbody tr th {\n",
       "        vertical-align: top;\n",
       "    }\n",
       "\n",
       "    .dataframe thead th {\n",
       "        text-align: right;\n",
       "    }\n",
       "</style>\n",
       "<table border=\"1\" class=\"dataframe\">\n",
       "  <thead>\n",
       "    <tr style=\"text-align: right;\">\n",
       "      <th></th>\n",
       "      <th>targetTitle</th>\n",
       "      <th>targetParagraphs</th>\n",
       "      <th>humanSpoiler</th>\n",
       "      <th>spoiler</th>\n",
       "      <th>tags</th>\n",
       "      <th>spoilerPositions</th>\n",
       "      <th>paragraphsLength</th>\n",
       "    </tr>\n",
       "  </thead>\n",
       "  <tbody>\n",
       "    <tr>\n",
       "      <th>0</th>\n",
       "      <td>Wes Welker Wanted Dinner With Tom Brady, But P...</td>\n",
       "      <td>It’ll be just like old times this weekend for ...</td>\n",
       "      <td>They Threw A Football</td>\n",
       "      <td>how about that morning we go throw?</td>\n",
       "      <td>passage</td>\n",
       "      <td>[[[3, 151], [3, 186]]]</td>\n",
       "      <td>1663</td>\n",
       "    </tr>\n",
       "    <tr>\n",
       "      <th>1</th>\n",
       "      <td>Hole In Ozone Layer Expected To Make Full Reco...</td>\n",
       "      <td>2070 is shaping up to be a great year for Moth...</td>\n",
       "      <td>2070</td>\n",
       "      <td>2070</td>\n",
       "      <td>phrase</td>\n",
       "      <td>[[[0, 0], [0, 4]]]</td>\n",
       "      <td>2099</td>\n",
       "    </tr>\n",
       "    <tr>\n",
       "      <th>2</th>\n",
       "      <td>Intellectual Stimulation Trumps Money For Empl...</td>\n",
       "      <td>Despite common belief, money isnt the key to e...</td>\n",
       "      <td>Intellectual stimulation</td>\n",
       "      <td>intellectual stimulation</td>\n",
       "      <td>phrase</td>\n",
       "      <td>[[[1, 186], [1, 210]]]</td>\n",
       "      <td>1773</td>\n",
       "    </tr>\n",
       "    <tr>\n",
       "      <th>3</th>\n",
       "      <td>Heres what happens if your Apple AirPods get l...</td>\n",
       "      <td>One of the biggest surprise announcements at A...</td>\n",
       "      <td>No</td>\n",
       "      <td>Apple says that if AirPods are lost or stolen,...</td>\n",
       "      <td>passage</td>\n",
       "      <td>[[[4, 0], [4, 110]]]</td>\n",
       "      <td>1086</td>\n",
       "    </tr>\n",
       "    <tr>\n",
       "      <th>4</th>\n",
       "      <td>The Reason Why Gabor Kiraly Wears THOSE Tracki...</td>\n",
       "      <td>June 14th 2016 3.3K Shares, They may look like...</td>\n",
       "      <td>Its a lucky charm to him</td>\n",
       "      <td>The more good games I had in them, the more I ...</td>\n",
       "      <td>passage</td>\n",
       "      <td>[[[5, 0], [5, 64]]]</td>\n",
       "      <td>1087</td>\n",
       "    </tr>\n",
       "  </tbody>\n",
       "</table>\n",
       "</div>"
      ],
      "text/plain": [
       "                                         targetTitle  \\\n",
       "0  Wes Welker Wanted Dinner With Tom Brady, But P...   \n",
       "1  Hole In Ozone Layer Expected To Make Full Reco...   \n",
       "2  Intellectual Stimulation Trumps Money For Empl...   \n",
       "3  Heres what happens if your Apple AirPods get l...   \n",
       "4  The Reason Why Gabor Kiraly Wears THOSE Tracki...   \n",
       "\n",
       "                                    targetParagraphs  \\\n",
       "0  It’ll be just like old times this weekend for ...   \n",
       "1  2070 is shaping up to be a great year for Moth...   \n",
       "2  Despite common belief, money isnt the key to e...   \n",
       "3  One of the biggest surprise announcements at A...   \n",
       "4  June 14th 2016 3.3K Shares, They may look like...   \n",
       "\n",
       "               humanSpoiler  \\\n",
       "0     They Threw A Football   \n",
       "1                      2070   \n",
       "2  Intellectual stimulation   \n",
       "3                        No   \n",
       "4  Its a lucky charm to him   \n",
       "\n",
       "                                             spoiler     tags  \\\n",
       "0                how about that morning we go throw?  passage   \n",
       "1                                               2070   phrase   \n",
       "2                           intellectual stimulation   phrase   \n",
       "3  Apple says that if AirPods are lost or stolen,...  passage   \n",
       "4  The more good games I had in them, the more I ...  passage   \n",
       "\n",
       "         spoilerPositions  paragraphsLength  \n",
       "0  [[[3, 151], [3, 186]]]              1663  \n",
       "1      [[[0, 0], [0, 4]]]              2099  \n",
       "2  [[[1, 186], [1, 210]]]              1773  \n",
       "3    [[[4, 0], [4, 110]]]              1086  \n",
       "4     [[[5, 0], [5, 64]]]              1087  "
      ]
     },
     "execution_count": 138,
     "metadata": {},
     "output_type": "execute_result"
    }
   ],
   "source": [
    "spoil_df.head()"
   ]
  }
 ],
 "metadata": {
  "kernelspec": {
   "display_name": "eda_clickbait-detection",
   "language": "python",
   "name": "python3"
  },
  "language_info": {
   "codemirror_mode": {
    "name": "ipython",
    "version": 3
   },
   "file_extension": ".py",
   "mimetype": "text/x-python",
   "name": "python",
   "nbconvert_exporter": "python",
   "pygments_lexer": "ipython3",
   "version": "3.12.7"
  }
 },
 "nbformat": 4,
 "nbformat_minor": 2
}
