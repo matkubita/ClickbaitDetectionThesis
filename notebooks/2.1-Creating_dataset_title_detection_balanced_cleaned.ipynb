{
 "cells": [
  {
   "cell_type": "code",
   "execution_count": 165,
   "id": "c7f0871a-0707-44d3-9a61-8b60a210acbf",
   "metadata": {},
   "outputs": [],
   "source": [
    "import pandas as pd\n",
    "import nltk\n",
    "from nltk.corpus import stopwords\n",
    "from nltk.stem import WordNetLemmatizer\n",
    "import string\n",
    "import contractions"
   ]
  },
  {
   "cell_type": "code",
   "execution_count": 166,
   "id": "f0b2c421-b81e-491a-ad63-0b2a02a7db38",
   "metadata": {},
   "outputs": [],
   "source": [
    "stop_words = set(stopwords.words('english'))\n",
    "lemmatizer = WordNetLemmatizer()"
   ]
  },
  {
   "cell_type": "code",
   "execution_count": 167,
   "id": "9ca7f0e4-4a13-44f4-8f98-fb1148100413",
   "metadata": {},
   "outputs": [
    {
     "name": "stderr",
     "output_type": "stream",
     "text": [
      "[nltk_data] Downloading package stopwords to\n",
      "[nltk_data]     C:\\Users\\Mateusz\\AppData\\Roaming\\nltk_data...\n",
      "[nltk_data]   Package stopwords is already up-to-date!\n",
      "[nltk_data] Downloading package wordnet to\n",
      "[nltk_data]     C:\\Users\\Mateusz\\AppData\\Roaming\\nltk_data...\n",
      "[nltk_data]   Package wordnet is already up-to-date!\n",
      "[nltk_data] Downloading package omw-1.4 to\n",
      "[nltk_data]     C:\\Users\\Mateusz\\AppData\\Roaming\\nltk_data...\n",
      "[nltk_data]   Package omw-1.4 is already up-to-date!\n"
     ]
    },
    {
     "data": {
      "text/plain": [
       "True"
      ]
     },
     "execution_count": 167,
     "metadata": {},
     "output_type": "execute_result"
    }
   ],
   "source": [
    "nltk.download('stopwords')\n",
    "nltk.download('wordnet')\n",
    "nltk.download('omw-1.4')"
   ]
  },
  {
   "cell_type": "code",
   "execution_count": 168,
   "id": "e033d2b1-03b7-47a7-96f9-f4ea2037e38f",
   "metadata": {},
   "outputs": [],
   "source": [
    "def remove_non_ascii(text):\n",
    "    # Encode text to ASCII bytes, ignoring errors, then decode back to string\n",
    "    return text.encode('ascii', 'ignore').decode('ascii')"
   ]
  },
  {
   "cell_type": "code",
   "execution_count": 169,
   "id": "cd9723a8-70cc-44fe-8651-4865742c1b06",
   "metadata": {},
   "outputs": [],
   "source": [
    "def replace_special_chars(text):\n",
    "    # Replace '?' with 'ques_mark', '!' with 'excl_mark', '%' with 'percentage', and '$' with 'dollar'\n",
    "    text = text.replace('?', ' ques_mark ')\n",
    "    text = text.replace('!', ' excl_mark ')\n",
    "    text = text.replace('%', ' percentage ')\n",
    "    text = text.replace('$', ' dollar ')\n",
    "    return text"
   ]
  },
  {
   "cell_type": "code",
   "execution_count": 170,
   "id": "703a724a-9ddb-42e3-b9af-fc70f046bf72",
   "metadata": {},
   "outputs": [],
   "source": [
    "def clean_text(text):\n",
    "    # 1. Replace special chars\n",
    "    text = replace_special_chars(text)\n",
    "    # 2. removing non ascii\n",
    "    text = remove_non_ascii(text)\n",
    "    # 3. Lowercasing\n",
    "    text = text.lower()\n",
    "    # 4. Replacing US -> USA\n",
    "    text = text.replace(\"us\", \"usa\")\n",
    "    # 5. Removing English possessive forms (’s)\n",
    "    text = text.replace(\"'s\", \"\").replace(\"’s\", \"\")\n",
    "    # 6. Removing whitespaces\n",
    "    text = \" \".join(text.split())\n",
    "    # 7. Removing stop words and punctuation\n",
    "    tokens = text.split()\n",
    "    tokens = [word for word in tokens if word not in stop_words]\n",
    "    tokens = [word for word in tokens if word not in string.punctuation]\n",
    "    # 8. Lemmatization\n",
    "    text = \" \".join([lemmatizer.lemmatize(word) for word in tokens])\n",
    "    # 9. Replacing we'll -> we will\n",
    "    text = contractions.fix(text)\n",
    "    return text\n",
    "\n"
   ]
  },
  {
   "cell_type": "code",
   "execution_count": 171,
   "id": "75f7739f-ba6c-4647-af1f-d0fcd2116032",
   "metadata": {},
   "outputs": [],
   "source": [
    "df_merged = pd.read_csv(\"../data/merged_datasetes_balanced_huge.csv\")"
   ]
  },
  {
   "cell_type": "code",
   "execution_count": 173,
   "id": "45113d13-8b1a-4381-a1b3-73e61d5c3193",
   "metadata": {},
   "outputs": [],
   "source": [
    "df_merged['title_cleaned'] = df_merged[\"title\"].apply(clean_text)"
   ]
  },
  {
   "cell_type": "code",
   "execution_count": 174,
   "id": "91203bf2-568d-45ba-8170-652e11456e00",
   "metadata": {},
   "outputs": [],
   "source": [
    "pd.set_option('display.max_colwidth', None)  # Show full content of each column\n",
    "pd.set_option('display.expand_frame_repr', False)  # Disable line wrapping"
   ]
  },
  {
   "cell_type": "code",
   "execution_count": 175,
   "id": "321ef30c-bd21-419b-aeff-bec12843c54c",
   "metadata": {},
   "outputs": [
    {
     "data": {
      "text/html": [
       "<div>\n",
       "<style scoped>\n",
       "    .dataframe tbody tr th:only-of-type {\n",
       "        vertical-align: middle;\n",
       "    }\n",
       "\n",
       "    .dataframe tbody tr th {\n",
       "        vertical-align: top;\n",
       "    }\n",
       "\n",
       "    .dataframe thead th {\n",
       "        text-align: right;\n",
       "    }\n",
       "</style>\n",
       "<table border=\"1\" class=\"dataframe\">\n",
       "  <thead>\n",
       "    <tr style=\"text-align: right;\">\n",
       "      <th></th>\n",
       "      <th>title</th>\n",
       "      <th>clickbait</th>\n",
       "      <th>set</th>\n",
       "      <th>char_capital</th>\n",
       "      <th>char_small</th>\n",
       "      <th>char_special</th>\n",
       "      <th>blank</th>\n",
       "      <th>numerical</th>\n",
       "      <th>letters</th>\n",
       "      <th>outlier</th>\n",
       "      <th>title_cleaned</th>\n",
       "    </tr>\n",
       "  </thead>\n",
       "  <tbody>\n",
       "    <tr>\n",
       "      <th>39990</th>\n",
       "      <td>6 Celebrities Who Have Embraced Donald Trump as Our President [Video]</td>\n",
       "      <td>1</td>\n",
       "      <td>2</td>\n",
       "      <td>9</td>\n",
       "      <td>47</td>\n",
       "      <td>2</td>\n",
       "      <td>10</td>\n",
       "      <td>1</td>\n",
       "      <td>56</td>\n",
       "      <td>0</td>\n",
       "      <td>6 celebrity embraced donald trump president [video]</td>\n",
       "    </tr>\n",
       "    <tr>\n",
       "      <th>39991</th>\n",
       "      <td>This District Magistrate Had A Meal Cooked By A Widow To Dispel Villagers' Superstitions</td>\n",
       "      <td>1</td>\n",
       "      <td>1</td>\n",
       "      <td>14</td>\n",
       "      <td>60</td>\n",
       "      <td>1</td>\n",
       "      <td>13</td>\n",
       "      <td>0</td>\n",
       "      <td>74</td>\n",
       "      <td>0</td>\n",
       "      <td>district magistrate meal cooked widow dispel villagers' superstition</td>\n",
       "    </tr>\n",
       "    <tr>\n",
       "      <th>39992</th>\n",
       "      <td>Amy Poehler Hiding From Donald Trump Is All Of Us</td>\n",
       "      <td>1</td>\n",
       "      <td>1</td>\n",
       "      <td>10</td>\n",
       "      <td>30</td>\n",
       "      <td>0</td>\n",
       "      <td>9</td>\n",
       "      <td>0</td>\n",
       "      <td>40</td>\n",
       "      <td>0</td>\n",
       "      <td>amy poehler hiding donald trump usa</td>\n",
       "    </tr>\n",
       "    <tr>\n",
       "      <th>39993</th>\n",
       "      <td>The Cast Of \"Grease: Live!\" Competes In A Bubblegum Blowing Competition</td>\n",
       "      <td>1</td>\n",
       "      <td>1</td>\n",
       "      <td>11</td>\n",
       "      <td>46</td>\n",
       "      <td>4</td>\n",
       "      <td>10</td>\n",
       "      <td>0</td>\n",
       "      <td>57</td>\n",
       "      <td>0</td>\n",
       "      <td>cast \"grease: live excl_mark competes bubblegum blowing competition</td>\n",
       "    </tr>\n",
       "    <tr>\n",
       "      <th>39994</th>\n",
       "      <td>Pigskin A Blanket: NFL Week 11 Picks</td>\n",
       "      <td>1</td>\n",
       "      <td>1</td>\n",
       "      <td>8</td>\n",
       "      <td>19</td>\n",
       "      <td>1</td>\n",
       "      <td>6</td>\n",
       "      <td>2</td>\n",
       "      <td>27</td>\n",
       "      <td>0</td>\n",
       "      <td>pigskin blanket: nfl week 11 pick</td>\n",
       "    </tr>\n",
       "    <tr>\n",
       "      <th>39995</th>\n",
       "      <td>This Pregnant Mom Took Her Love Of Starbucks To The Next Level</td>\n",
       "      <td>1</td>\n",
       "      <td>2</td>\n",
       "      <td>12</td>\n",
       "      <td>39</td>\n",
       "      <td>0</td>\n",
       "      <td>11</td>\n",
       "      <td>0</td>\n",
       "      <td>51</td>\n",
       "      <td>0</td>\n",
       "      <td>pregnant mom took love starbucks nextlevel</td>\n",
       "    </tr>\n",
       "    <tr>\n",
       "      <th>39996</th>\n",
       "      <td>These Official Harry Potter Anime Characters Will Make You Squeal With Joy</td>\n",
       "      <td>1</td>\n",
       "      <td>1</td>\n",
       "      <td>12</td>\n",
       "      <td>51</td>\n",
       "      <td>0</td>\n",
       "      <td>11</td>\n",
       "      <td>0</td>\n",
       "      <td>63</td>\n",
       "      <td>0</td>\n",
       "      <td>official harry potter anime character make squeal joy</td>\n",
       "    </tr>\n",
       "    <tr>\n",
       "      <th>39997</th>\n",
       "      <td>Mapping $27 Billion In Federal Funding Of America's Sanctuary Cities</td>\n",
       "      <td>1</td>\n",
       "      <td>2</td>\n",
       "      <td>9</td>\n",
       "      <td>46</td>\n",
       "      <td>2</td>\n",
       "      <td>9</td>\n",
       "      <td>2</td>\n",
       "      <td>55</td>\n",
       "      <td>0</td>\n",
       "      <td>mapping dollar 27 billion federal funding america sanctuary city</td>\n",
       "    </tr>\n",
       "    <tr>\n",
       "      <th>39998</th>\n",
       "      <td>24 Forgotten Items All Late '90s Teen Girls Were Slightly Obsessed With</td>\n",
       "      <td>1</td>\n",
       "      <td>1</td>\n",
       "      <td>10</td>\n",
       "      <td>45</td>\n",
       "      <td>1</td>\n",
       "      <td>11</td>\n",
       "      <td>4</td>\n",
       "      <td>55</td>\n",
       "      <td>0</td>\n",
       "      <td>24 forgotten item late '90s teen girl slightly obsessed</td>\n",
       "    </tr>\n",
       "    <tr>\n",
       "      <th>39999</th>\n",
       "      <td>Celebrate World Gin Day with these easy cocktails</td>\n",
       "      <td>1</td>\n",
       "      <td>2</td>\n",
       "      <td>4</td>\n",
       "      <td>38</td>\n",
       "      <td>0</td>\n",
       "      <td>7</td>\n",
       "      <td>0</td>\n",
       "      <td>42</td>\n",
       "      <td>0</td>\n",
       "      <td>celebrate world gin day easy cocktail</td>\n",
       "    </tr>\n",
       "  </tbody>\n",
       "</table>\n",
       "</div>"
      ],
      "text/plain": [
       "                                                                                          title  clickbait  set  char_capital  char_small  char_special  blank  numerical  letters  outlier                                                         title_cleaned\n",
       "39990                     6 Celebrities Who Have Embraced Donald Trump as Our President [Video]          1    2             9          47             2     10          1       56        0                   6 celebrity embraced donald trump president [video]\n",
       "39991  This District Magistrate Had A Meal Cooked By A Widow To Dispel Villagers' Superstitions          1    1            14          60             1     13          0       74        0  district magistrate meal cooked widow dispel villagers' superstition\n",
       "39992                                         Amy Poehler Hiding From Donald Trump Is All Of Us          1    1            10          30             0      9          0       40        0                                   amy poehler hiding donald trump usa\n",
       "39993                   The Cast Of \"Grease: Live!\" Competes In A Bubblegum Blowing Competition          1    1            11          46             4     10          0       57        0   cast \"grease: live excl_mark competes bubblegum blowing competition\n",
       "39994                                                      Pigskin A Blanket: NFL Week 11 Picks          1    1             8          19             1      6          2       27        0                                     pigskin blanket: nfl week 11 pick\n",
       "39995                            This Pregnant Mom Took Her Love Of Starbucks To The Next Level          1    2            12          39             0     11          0       51        0                            pregnant mom took love starbucks nextlevel\n",
       "39996                These Official Harry Potter Anime Characters Will Make You Squeal With Joy          1    1            12          51             0     11          0       63        0                 official harry potter anime character make squeal joy\n",
       "39997                      Mapping $27 Billion In Federal Funding Of America's Sanctuary Cities          1    2             9          46             2      9          2       55        0      mapping dollar 27 billion federal funding america sanctuary city\n",
       "39998                   24 Forgotten Items All Late '90s Teen Girls Were Slightly Obsessed With          1    1            10          45             1     11          4       55        0               24 forgotten item late '90s teen girl slightly obsessed\n",
       "39999                                         Celebrate World Gin Day with these easy cocktails          1    2             4          38             0      7          0       42        0                                 celebrate world gin day easy cocktail"
      ]
     },
     "execution_count": 175,
     "metadata": {},
     "output_type": "execute_result"
    }
   ],
   "source": [
    "df_merged.tail(10)"
   ]
  },
  {
   "cell_type": "code",
   "execution_count": 177,
   "id": "8e643a18-e454-424b-852e-5d356c22f5e0",
   "metadata": {},
   "outputs": [],
   "source": [
    "df_merged.drop(\"title\",axis=1,inplace=True)\n",
    "df_merged.rename(columns={\"title_cleaned\": \"title\"}, inplace=True)"
   ]
  },
  {
   "cell_type": "code",
   "execution_count": 178,
   "id": "9d93fdeb-b386-45b8-8aba-a60ad8ec04a7",
   "metadata": {},
   "outputs": [],
   "source": [
    "df_merged = df_merged[df_merged['title'].notna() & (df_merged['title'] != '')]"
   ]
  },
  {
   "cell_type": "code",
   "execution_count": 179,
   "id": "1d9e2388-6adc-4549-b1bf-cabce12096b3",
   "metadata": {},
   "outputs": [
    {
     "data": {
      "text/plain": [
       "(40000, 10)"
      ]
     },
     "execution_count": 179,
     "metadata": {},
     "output_type": "execute_result"
    }
   ],
   "source": [
    "df_merged.shape"
   ]
  },
  {
   "cell_type": "code",
   "execution_count": 180,
   "id": "063557b6-17ee-4fb6-aa2c-0f332f69f9d7",
   "metadata": {},
   "outputs": [],
   "source": [
    "df_merged.to_csv(\"../data/merged_datasetes_balanced_huge_cleaned.csv\", index=False)"
   ]
  },
  {
   "cell_type": "code",
   "execution_count": null,
   "id": "45a68212-94b8-44d2-81d1-369e879b5a37",
   "metadata": {},
   "outputs": [],
   "source": []
  }
 ],
 "metadata": {
  "kernelspec": {
   "display_name": "Python 3 (ipykernel)",
   "language": "python",
   "name": "python3"
  },
  "language_info": {
   "codemirror_mode": {
    "name": "ipython",
    "version": 3
   },
   "file_extension": ".py",
   "mimetype": "text/x-python",
   "name": "python",
   "nbconvert_exporter": "python",
   "pygments_lexer": "ipython3",
   "version": "3.11.9"
  }
 },
 "nbformat": 4,
 "nbformat_minor": 5
}
