{
 "cells": [
  {
   "cell_type": "markdown",
   "id": "31aa756f-f2b5-4e35-8fb3-539898666060",
   "metadata": {},
   "source": [
    "# The purpose of this notebook is to get more knowledge about these datasets"
   ]
  },
  {
   "cell_type": "code",
   "execution_count": 46,
   "id": "591ad6fd-aa00-442f-a5bb-993b8dd593df",
   "metadata": {},
   "outputs": [],
   "source": [
    "##TODO - EDA -> try to build features by heuristics and then build model ?? -> super easy and cool\n",
    "##TODO -> Get to know data better. Actually data analysis is where we should start"
   ]
  },
  {
   "cell_type": "code",
   "execution_count": 47,
   "id": "f41ce610-2038-4410-81f1-81bc5223942b",
   "metadata": {},
   "outputs": [],
   "source": [
    "import pandas as pd\n",
    "import matplotlib.pyplot as plt\n",
    "import numpy as np\n",
    "import seaborn as sns\n",
    "from sklearn.model_selection import train_test_split\n",
    "import string\n",
    "import re\n",
    "from collections import Counter"
   ]
  },
  {
   "cell_type": "markdown",
   "id": "0ca7d87e-75bb-4919-bc06-8eb36dc8c10e",
   "metadata": {},
   "source": [
    "## Most occuring words in clickbaits and no-clikbaits"
   ]
  },
  {
   "cell_type": "code",
   "execution_count": 48,
   "id": "a566865e-90d9-4c1d-895c-616347394730",
   "metadata": {},
   "outputs": [],
   "source": [
    "df_merged = pd.read_csv(\"../data/merged_datasetes_balanced.csv\")"
   ]
  },
  {
   "cell_type": "code",
   "execution_count": 49,
   "id": "197522a7",
   "metadata": {},
   "outputs": [
    {
     "data": {
      "text/html": [
       "<div>\n",
       "<style scoped>\n",
       "    .dataframe tbody tr th:only-of-type {\n",
       "        vertical-align: middle;\n",
       "    }\n",
       "\n",
       "    .dataframe tbody tr th {\n",
       "        vertical-align: top;\n",
       "    }\n",
       "\n",
       "    .dataframe thead th {\n",
       "        text-align: right;\n",
       "    }\n",
       "</style>\n",
       "<table border=\"1\" class=\"dataframe\">\n",
       "  <thead>\n",
       "    <tr style=\"text-align: right;\">\n",
       "      <th></th>\n",
       "      <th>title</th>\n",
       "      <th>clickbait</th>\n",
       "    </tr>\n",
       "  </thead>\n",
       "  <tbody>\n",
       "    <tr>\n",
       "      <th>0</th>\n",
       "      <td>Reality Star And Ex-Rapper Team Up To Coach Mi...</td>\n",
       "      <td>0</td>\n",
       "    </tr>\n",
       "    <tr>\n",
       "      <th>1</th>\n",
       "      <td>Cuba calls Trump speech on island 'grotesque s...</td>\n",
       "      <td>0</td>\n",
       "    </tr>\n",
       "    <tr>\n",
       "      <th>2</th>\n",
       "      <td>MILO On Twitter: I Hate To Say I Told You So.....</td>\n",
       "      <td>0</td>\n",
       "    </tr>\n",
       "    <tr>\n",
       "      <th>3</th>\n",
       "      <td>Trump says was being 'sarcastic' in Russia hac...</td>\n",
       "      <td>0</td>\n",
       "    </tr>\n",
       "    <tr>\n",
       "      <th>4</th>\n",
       "      <td>Jeter, Face of U.S. Team, Looks His Age at Wor...</td>\n",
       "      <td>0</td>\n",
       "    </tr>\n",
       "  </tbody>\n",
       "</table>\n",
       "</div>"
      ],
      "text/plain": [
       "                                               title  clickbait\n",
       "0  Reality Star And Ex-Rapper Team Up To Coach Mi...          0\n",
       "1  Cuba calls Trump speech on island 'grotesque s...          0\n",
       "2  MILO On Twitter: I Hate To Say I Told You So.....          0\n",
       "3  Trump says was being 'sarcastic' in Russia hac...          0\n",
       "4  Jeter, Face of U.S. Team, Looks His Age at Wor...          0"
      ]
     },
     "execution_count": 49,
     "metadata": {},
     "output_type": "execute_result"
    }
   ],
   "source": [
    "df_merged.head()"
   ]
  },
  {
   "cell_type": "code",
   "execution_count": 50,
   "id": "3ba2ce71-a491-4c8e-ab81-2c424bd30c0a",
   "metadata": {},
   "outputs": [],
   "source": [
    "x_train, x_test, y_train, y_test = train_test_split(\n",
    "    df_merged[\"title\"], \n",
    "    df_merged[\"clickbait\"],\n",
    "    test_size=0.2, \n",
    "    random_state=42\n",
    ")"
   ]
  },
  {
   "cell_type": "code",
   "execution_count": 51,
   "id": "de22f9ba-e127-469d-b802-f6d171be454e",
   "metadata": {},
   "outputs": [],
   "source": [
    "x_train_clickbait = x_train[y_train==1]\n",
    "x_train_no_clickbait = x_train[y_train==0]"
   ]
  },
  {
   "cell_type": "code",
   "execution_count": 52,
   "id": "51415811-46eb-4bff-8695-22dd7231a8d4",
   "metadata": {},
   "outputs": [
    {
     "name": "stderr",
     "output_type": "stream",
     "text": [
      "[nltk_data] Downloading package stopwords to\n",
      "[nltk_data]     C:\\Users\\wojom\\AppData\\Roaming\\nltk_data...\n",
      "[nltk_data]   Package stopwords is already up-to-date!\n"
     ]
    }
   ],
   "source": [
    "from nltk.corpus import stopwords\n",
    "import nltk\n",
    "nltk.download('stopwords')\n",
    "stop_words = set(stopwords.words('english'))"
   ]
  },
  {
   "cell_type": "code",
   "execution_count": 53,
   "id": "2cdf0675-7546-4c50-8891-73f8be7ba4c9",
   "metadata": {},
   "outputs": [],
   "source": [
    "def get_most_common_words(x_train):\n",
    "    # Docstring ...\n",
    "    words = x_train.str.split().explode().tolist()\n",
    "    words_no_stop_words = [word.lower() for word in words if word.lower() not in stop_words]\n",
    "    counter = Counter(words_no_stop_words)\n",
    "    most_common_words = counter.most_common(15)\n",
    "    return most_common_words\n",
    "    "
   ]
  },
  {
   "cell_type": "code",
   "execution_count": 54,
   "id": "cb62eebf-31ed-4f9f-9799-dfaf11fc8336",
   "metadata": {},
   "outputs": [],
   "source": [
    "df_clibkaits = pd.DataFrame(get_most_common_words(x_train_clickbait), columns=['Word', 'Frequency'])\n",
    "df_NO_clibkaits = pd.DataFrame(get_most_common_words(x_train_no_clickbait), columns=['Word', 'Frequency'])"
   ]
  },
  {
   "cell_type": "code",
   "execution_count": 55,
   "id": "f91cbb44-19ae-4480-a1f6-fe0fbd14d9ae",
   "metadata": {},
   "outputs": [
    {
     "data": {
      "image/png": "[encoded data removed]",
      "text/plain": [
       "<Figure size 1400x600 with 2 Axes>"
      ]
     },
     "metadata": {},
     "output_type": "display_data"
    }
   ],
   "source": [
    "fig, axes = plt.subplots(1, 2, figsize=(14, 6))\n",
    "\n",
    "\n",
    "axes[0].bar(df_clibkaits['Word'], df_clibkaits['Frequency'], color='skyblue')\n",
    "axes[0].set_xlabel('Words')\n",
    "axes[0].set_ylabel('Frequency')\n",
    "axes[0].set_title('Top 15 Most Common Words in clibkaits')\n",
    "axes[0].tick_params(axis='x', rotation=45)\n",
    "\n",
    "\n",
    "axes[1].bar(df_NO_clibkaits['Word'], df_NO_clibkaits['Frequency'], color='skyblue')\n",
    "axes[1].set_xlabel('Words')\n",
    "axes[1].set_ylabel('Frequency')\n",
    "axes[1].set_title('Top 15 Most Common Words in NO clickbaits')\n",
    "axes[1].tick_params(axis='x', rotation=45)\n",
    "\n",
    "\n",
    "plt.tight_layout()\n",
    "plt.show()"
   ]
  },
  {
   "cell_type": "markdown",
   "id": "d3bbd17a",
   "metadata": {},
   "source": [
    "Pomysly:\n",
    "- Ilość wielkich liter w tytulach z clickbaitami do wilekich liter z prawdziwymi artykulami\n",
    "- "
   ]
  }
 ],
 "metadata": {
  "kernelspec": {
   "display_name": "clickbait-detection",
   "language": "python",
   "name": "python3"
  },
  "language_info": {
   "codemirror_mode": {
    "name": "ipython",
    "version": 3
   },
   "file_extension": ".py",
   "mimetype": "text/x-python",
   "name": "python",
   "nbconvert_exporter": "python",
   "pygments_lexer": "ipython3",
   "version": "3.13.0"
  }
 },
 "nbformat": 4,
 "nbformat_minor": 5
}
