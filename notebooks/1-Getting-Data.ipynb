{
 "cells": [
  {
   "cell_type": "markdown",
   "id": "74fd5899-fbe1-4aaa-992f-5290c66fa486",
   "metadata": {},
   "source": [
    "# The purpose of this notebook is to get data from multiple data sources and transform them to common structure."
   ]
  },
  {
   "cell_type": "code",
   "execution_count": 1,
   "id": "ab05e3cd-5c48-40a6-9878-909e5af6305e",
   "metadata": {},
   "outputs": [],
   "source": [
    "import pandas as pd"
   ]
  },
  {
   "cell_type": "markdown",
   "id": "904145f0-a958-4893-b7b9-69055028b57a",
   "metadata": {},
   "source": [
    " ## #1 Data source: kaggle\n",
    " https://www.kaggle.com/datasets/amananandrai/clickbait-dataset"
   ]
  },
  {
   "cell_type": "code",
   "execution_count": 7,
   "id": "b6e0b239-b3a0-4452-a45e-691df2df703a",
   "metadata": {},
   "outputs": [],
   "source": [
    "df_1 = pd.read_csv(\"../data/clickbait_data.csv\")\n",
    "df_1.rename(columns={'headline': 'title'}, inplace=True)"
   ]
  },
  {
   "cell_type": "code",
   "execution_count": 8,
   "id": "cfda8cfa",
   "metadata": {},
   "outputs": [
    {
     "data": {
      "text/html": [
       "<div>\n",
       "<style scoped>\n",
       "    .dataframe tbody tr th:only-of-type {\n",
       "        vertical-align: middle;\n",
       "    }\n",
       "\n",
       "    .dataframe tbody tr th {\n",
       "        vertical-align: top;\n",
       "    }\n",
       "\n",
       "    .dataframe thead th {\n",
       "        text-align: right;\n",
       "    }\n",
       "</style>\n",
       "<table border=\"1\" class=\"dataframe\">\n",
       "  <thead>\n",
       "    <tr style=\"text-align: right;\">\n",
       "      <th></th>\n",
       "      <th>title</th>\n",
       "      <th>clickbait</th>\n",
       "    </tr>\n",
       "  </thead>\n",
       "  <tbody>\n",
       "    <tr>\n",
       "      <th>0</th>\n",
       "      <td>Should I Get Bings</td>\n",
       "      <td>1</td>\n",
       "    </tr>\n",
       "    <tr>\n",
       "      <th>1</th>\n",
       "      <td>Which TV Female Friend Group Do You Belong In</td>\n",
       "      <td>1</td>\n",
       "    </tr>\n",
       "    <tr>\n",
       "      <th>2</th>\n",
       "      <td>The New \"Star Wars: The Force Awakens\" Trailer...</td>\n",
       "      <td>1</td>\n",
       "    </tr>\n",
       "    <tr>\n",
       "      <th>3</th>\n",
       "      <td>This Vine Of New York On \"Celebrity Big Brothe...</td>\n",
       "      <td>1</td>\n",
       "    </tr>\n",
       "    <tr>\n",
       "      <th>4</th>\n",
       "      <td>A Couple Did A Stunning Photo Shoot With Their...</td>\n",
       "      <td>1</td>\n",
       "    </tr>\n",
       "    <tr>\n",
       "      <th>...</th>\n",
       "      <td>...</td>\n",
       "      <td>...</td>\n",
       "    </tr>\n",
       "    <tr>\n",
       "      <th>31995</th>\n",
       "      <td>To Make Female Hearts Flutter in Iraq, Throw a...</td>\n",
       "      <td>0</td>\n",
       "    </tr>\n",
       "    <tr>\n",
       "      <th>31996</th>\n",
       "      <td>British Liberal Democrat Patsy Calton, 56, die...</td>\n",
       "      <td>0</td>\n",
       "    </tr>\n",
       "    <tr>\n",
       "      <th>31997</th>\n",
       "      <td>Drone smartphone app to help heart attack vict...</td>\n",
       "      <td>0</td>\n",
       "    </tr>\n",
       "    <tr>\n",
       "      <th>31998</th>\n",
       "      <td>Netanyahu Urges Pope Benedict, in Israel, to D...</td>\n",
       "      <td>0</td>\n",
       "    </tr>\n",
       "    <tr>\n",
       "      <th>31999</th>\n",
       "      <td>Computer Makers Prepare to Stake Bigger Claim ...</td>\n",
       "      <td>0</td>\n",
       "    </tr>\n",
       "  </tbody>\n",
       "</table>\n",
       "<p>32000 rows × 2 columns</p>\n",
       "</div>"
      ],
      "text/plain": [
       "                                                   title  clickbait\n",
       "0                                     Should I Get Bings          1\n",
       "1          Which TV Female Friend Group Do You Belong In          1\n",
       "2      The New \"Star Wars: The Force Awakens\" Trailer...          1\n",
       "3      This Vine Of New York On \"Celebrity Big Brothe...          1\n",
       "4      A Couple Did A Stunning Photo Shoot With Their...          1\n",
       "...                                                  ...        ...\n",
       "31995  To Make Female Hearts Flutter in Iraq, Throw a...          0\n",
       "31996  British Liberal Democrat Patsy Calton, 56, die...          0\n",
       "31997  Drone smartphone app to help heart attack vict...          0\n",
       "31998  Netanyahu Urges Pope Benedict, in Israel, to D...          0\n",
       "31999  Computer Makers Prepare to Stake Bigger Claim ...          0\n",
       "\n",
       "[32000 rows x 2 columns]"
      ]
     },
     "execution_count": 8,
     "metadata": {},
     "output_type": "execute_result"
    }
   ],
   "source": [
    "df_1"
   ]
  },
  {
   "cell_type": "markdown",
   "id": "6ce13b26-7132-4731-8c4b-2fbda7a86db6",
   "metadata": {},
   "source": [
    " ## #2 Data source: hugging-face\n",
    "https://huggingface.co/datasets/ErfanMoosaviMonazzah/fake-news-detection-dataset-English"
   ]
  },
  {
   "cell_type": "code",
   "execution_count": 14,
   "id": "a9102057-3cfb-4462-a9ad-2d14af378309",
   "metadata": {},
   "outputs": [],
   "source": [
    "df_train_2 = pd.read_csv(\"hf://datasets/ErfanMoosaviMonazzah/fake-news-detection-dataset-English/\" + 'train.tsv', sep=\"\\t\")\n",
    "df_test_2 = pd.read_csv(\"hf://datasets/ErfanMoosaviMonazzah/fake-news-detection-dataset-English/\" + 'test.tsv', sep=\"\\t\")\n",
    "df_validation_2 = pd.read_csv(\"hf://datasets/ErfanMoosaviMonazzah/fake-news-detection-dataset-English/\" + 'validation.tsv', sep=\"\\t\")"
   ]
  },
  {
   "cell_type": "code",
   "execution_count": 17,
   "id": "fbf4c282-4e53-4d36-b0e1-c0628b689d6d",
   "metadata": {},
   "outputs": [],
   "source": [
    "df_2 = pd.concat([df_test_2, df_train_2, df_validation_2])\n",
    "df_2 = df_2[[\"title\",\"label\"]]\n",
    "df_2.rename(columns={'label': 'clickbait'}, inplace=True)\n",
    "df_2['clickbait'] = 1 - df_2['clickbait']"
   ]
  },
  {
   "cell_type": "code",
   "execution_count": 18,
   "id": "e473bae9-24c3-433d-afb4-30941d865462",
   "metadata": {},
   "outputs": [
    {
     "data": {
      "text/html": [
       "<div>\n",
       "<style scoped>\n",
       "    .dataframe tbody tr th:only-of-type {\n",
       "        vertical-align: middle;\n",
       "    }\n",
       "\n",
       "    .dataframe tbody tr th {\n",
       "        vertical-align: top;\n",
       "    }\n",
       "\n",
       "    .dataframe thead th {\n",
       "        text-align: right;\n",
       "    }\n",
       "</style>\n",
       "<table border=\"1\" class=\"dataframe\">\n",
       "  <thead>\n",
       "    <tr style=\"text-align: right;\">\n",
       "      <th></th>\n",
       "      <th>title</th>\n",
       "      <th>clickbait</th>\n",
       "    </tr>\n",
       "  </thead>\n",
       "  <tbody>\n",
       "    <tr>\n",
       "      <th>0</th>\n",
       "      <td>Conservatives Will HATE What Donald Trump Just...</td>\n",
       "      <td>1</td>\n",
       "    </tr>\n",
       "    <tr>\n",
       "      <th>1</th>\n",
       "      <td>Trump victory may create new tension between U...</td>\n",
       "      <td>0</td>\n",
       "    </tr>\n",
       "    <tr>\n",
       "      <th>2</th>\n",
       "      <td>WATCH: Hundreds of ILLEGAL ALIENS Storm Senate...</td>\n",
       "      <td>1</td>\n",
       "    </tr>\n",
       "    <tr>\n",
       "      <th>3</th>\n",
       "      <td>Democratic Senator Franken to resign: CNN, cit...</td>\n",
       "      <td>0</td>\n",
       "    </tr>\n",
       "    <tr>\n",
       "      <th>4</th>\n",
       "      <td>GANG OF DOMESTIC TERRORISTS Violently Attack L...</td>\n",
       "      <td>1</td>\n",
       "    </tr>\n",
       "    <tr>\n",
       "      <th>...</th>\n",
       "      <td>...</td>\n",
       "      <td>...</td>\n",
       "    </tr>\n",
       "    <tr>\n",
       "      <th>5995</th>\n",
       "      <td>Trump's Jerusalem plan revives tensions in EU ...</td>\n",
       "      <td>0</td>\n",
       "    </tr>\n",
       "    <tr>\n",
       "      <th>5996</th>\n",
       "      <td>Donald Trump Rings In The New Year With A Vici...</td>\n",
       "      <td>1</td>\n",
       "    </tr>\n",
       "    <tr>\n",
       "      <th>5997</th>\n",
       "      <td>Russian parliament speaker says hopes for bett...</td>\n",
       "      <td>0</td>\n",
       "    </tr>\n",
       "    <tr>\n",
       "      <th>5998</th>\n",
       "      <td>Trump tax plan will sharply slash corporate ta...</td>\n",
       "      <td>0</td>\n",
       "    </tr>\n",
       "    <tr>\n",
       "      <th>5999</th>\n",
       "      <td>Trump Supporter Full Of Regret Because Her Und...</td>\n",
       "      <td>1</td>\n",
       "    </tr>\n",
       "  </tbody>\n",
       "</table>\n",
       "<p>44267 rows × 2 columns</p>\n",
       "</div>"
      ],
      "text/plain": [
       "                                                  title  clickbait\n",
       "0     Conservatives Will HATE What Donald Trump Just...          1\n",
       "1     Trump victory may create new tension between U...          0\n",
       "2     WATCH: Hundreds of ILLEGAL ALIENS Storm Senate...          1\n",
       "3     Democratic Senator Franken to resign: CNN, cit...          0\n",
       "4     GANG OF DOMESTIC TERRORISTS Violently Attack L...          1\n",
       "...                                                 ...        ...\n",
       "5995  Trump's Jerusalem plan revives tensions in EU ...          0\n",
       "5996  Donald Trump Rings In The New Year With A Vici...          1\n",
       "5997  Russian parliament speaker says hopes for bett...          0\n",
       "5998  Trump tax plan will sharply slash corporate ta...          0\n",
       "5999  Trump Supporter Full Of Regret Because Her Und...          1\n",
       "\n",
       "[44267 rows x 2 columns]"
      ]
     },
     "execution_count": 18,
     "metadata": {},
     "output_type": "execute_result"
    }
   ],
   "source": [
    "df_2"
   ]
  },
  {
   "cell_type": "markdown",
   "id": "6ee86e09-b9dd-4ab0-b0da-686f063efbb8",
   "metadata": {},
   "source": [
    " ## #3 Data source: kaggle \n",
    "https://www.kaggle.com/datasets/vikassingh1996/news-clickbait-dataset?select=train2.csv"
   ]
  },
  {
   "cell_type": "code",
   "execution_count": 19,
   "id": "f158f1b2-da27-47f7-8095-4662655dfaa4",
   "metadata": {},
   "outputs": [],
   "source": [
    "df_news_3 = pd.read_csv(\"../data/train2.csv\")\n",
    "df_news_3['label'] = df_news_3['label'].apply(lambda x: 1 if x == 'clickbait' else 0)\n",
    "\n",
    "df_news_3.rename(columns={'label': 'clickbait'}, inplace=True)\n",
    "df_3 = df_news_3[['title', 'clickbait']]"
   ]
  },
  {
   "cell_type": "markdown",
   "id": "6a142b58-a846-4b6d-8277-411542bd4fc9",
   "metadata": {},
   "source": [
    " ## #4, #5 Data source: clickbait challenge \n",
    "https://webis.de/events/clickbait-challenge/shared-task.html"
   ]
  },
  {
   "cell_type": "code",
   "execution_count": 20,
   "id": "d0281e1d-3fb6-4dd9-8374-129f923a24c7",
   "metadata": {},
   "outputs": [],
   "source": [
    "file_path = '../data/clickbait17-train-170331/instances.jsonl'\n",
    "\n",
    "# Read the JSON data from the file\n",
    "with open(file_path, 'rb') as file:\n",
    "    data_df = pd.read_json(file,lines=True)\n",
    "\n",
    "file_path = '../data/clickbait17-train-170331/truth.jsonl'\n",
    "\n",
    "# Read the JSON data from the file\n",
    "with open(file_path, 'rb') as file:\n",
    "    labels = pd.read_json(file,lines=True)\n",
    "    \n",
    "labels = labels[[\"id\", \"truthClass\"]]\n",
    "data_df = data_df[[\"id\", \"targetTitle\"]]\n",
    "\n",
    "df_4 = pd.merge(data_df, labels, left_on='id', right_on='id', how='left')\n",
    "df_4['truthClass'] = df_4['truthClass'].apply(lambda x: 1 if x == 'clickbait' else 0)\n",
    "df_4.rename(columns={'targetTitle': 'title', 'truthClass': 'clickbait'}, inplace=True)\n",
    "df_4 = df_4[[\"title\", \"clickbait\"]]\n",
    "\n",
    "# b)\n",
    "\n",
    "file_path = '../data/clickbait17-validation-170630/instances.jsonl'\n",
    "\n",
    "# Read the JSON data from the file\n",
    "with open(file_path, 'rb') as file:\n",
    "    data_df = pd.read_json(file,lines=True)\n",
    "\n",
    "file_path = '../data/clickbait17-validation-170630/truth.jsonl'\n",
    "\n",
    "# Read the JSON data from the file\n",
    "with open(file_path, 'rb') as file:\n",
    "    labels = pd.read_json(file,lines=True)\n",
    "    \n",
    "labels = labels[[\"id\", \"truthClass\"]]\n",
    "data_df = data_df[[\"id\", \"targetTitle\"]]\n",
    "\n",
    "df_5 = pd.merge(data_df, labels, left_on='id', right_on='id', how='left')\n",
    "df_5['truthClass'] = df_5['truthClass'].apply(lambda x: 1 if x == 'clickbait' else 0)\n",
    "df_5.rename(columns={'targetTitle': 'title', 'truthClass': 'clickbait'}, inplace=True)\n",
    "df_5 = df_5[[\"title\", \"clickbait\"]]"
   ]
  },
  {
   "cell_type": "markdown",
   "id": "fa20e4c8",
   "metadata": {},
   "source": [
    "## Concatenate datasets"
   ]
  },
  {
   "cell_type": "code",
   "execution_count": 21,
   "id": "cad8e135-a0e8-456f-bdc5-a126288ea5f4",
   "metadata": {},
   "outputs": [],
   "source": [
    "dfs = [\n",
    "    df_1,\n",
    "    df_2,\n",
    "    df_3,\n",
    "    df_4,\n",
    "    df_5\n",
    "]"
   ]
  },
  {
   "cell_type": "code",
   "execution_count": 22,
   "id": "8294b26d-43c9-411c-b470-aa3e58ceafa8",
   "metadata": {},
   "outputs": [
    {
     "name": "stdout",
     "output_type": "stream",
     "text": [
      "(32000, 2)\n",
      "(44267, 2)\n",
      "(21029, 2)\n",
      "(2459, 2)\n",
      "(19538, 2)\n"
     ]
    }
   ],
   "source": [
    "for df_ in dfs:\n",
    "    print(df_.shape)"
   ]
  },
  {
   "cell_type": "code",
   "execution_count": 23,
   "id": "169ac38d-ddd6-4c83-bdfc-69d8ff19d4cf",
   "metadata": {},
   "outputs": [
    {
     "name": "stdout",
     "output_type": "stream",
     "text": [
      "=========  1- dataset =============\n",
      "clickbait\n",
      "0    16001\n",
      "1    15999\n",
      "Name: count, dtype: int64\n",
      "=========  2- dataset =============\n",
      "clickbait\n",
      "1    22851\n",
      "0    21416\n",
      "Name: count, dtype: int64\n",
      "=========  3- dataset =============\n",
      "clickbait\n",
      "0    16738\n",
      "1     4291\n",
      "Name: count, dtype: int64\n",
      "=========  4- dataset =============\n",
      "clickbait\n",
      "0    1697\n",
      "1     762\n",
      "Name: count, dtype: int64\n",
      "=========  5- dataset =============\n",
      "clickbait\n",
      "0    14777\n",
      "1     4761\n",
      "Name: count, dtype: int64\n"
     ]
    }
   ],
   "source": [
    "for i,df_ in enumerate(dfs):\n",
    "    print(\"=========  \" + str(i+1) +\"- dataset =============\")\n",
    "    print(df_[\"clickbait\"].value_counts())"
   ]
  },
  {
   "cell_type": "code",
   "execution_count": 24,
   "id": "539f081f-a33f-4d92-b13f-0e121255c54b",
   "metadata": {},
   "outputs": [],
   "source": [
    "df_merged = pd.concat([df_1,df_2,df_3,df_4,df_5])"
   ]
  },
  {
   "cell_type": "code",
   "execution_count": 13,
   "id": "83df22e3-8cf8-4aae-a421-18fa639cfc34",
   "metadata": {},
   "outputs": [],
   "source": [
    "df_merged.to_csv(\"../data/merged_all_datasets.csv\", index=False)"
   ]
  },
  {
   "cell_type": "code",
   "execution_count": 8,
   "id": "eafe3736-0163-4765-be02-99f91e7a795f",
   "metadata": {},
   "outputs": [
    {
     "data": {
      "text/plain": [
       "clickbait\n",
       "0    70629\n",
       "1    48664\n",
       "Name: count, dtype: int64"
      ]
     },
     "execution_count": 8,
     "metadata": {},
     "output_type": "execute_result"
    }
   ],
   "source": [
    "df_merged[\"clickbait\"].value_counts()"
   ]
  },
  {
   "cell_type": "code",
   "execution_count": 11,
   "id": "fbe826b7-077a-4a81-b7f8-8e71cf12a36c",
   "metadata": {},
   "outputs": [],
   "source": [
    "df_0_huge = df_merged[df_merged['clickbait'] == 0].sample(n=40000, random_state=42)\n",
    "df_1_huge = df_merged[df_merged['clickbait'] == 1].sample(n=40000, random_state=42)\n",
    "df_balanced_huge = pd.concat([df_0_huge, df_1_huge])\n",
    "\n",
    "df_balanced_huge.to_csv(\"../data/merged_datasetes_balanced_huge.csv\", index=False)"
   ]
  },
  {
   "cell_type": "code",
   "execution_count": 14,
   "id": "911c1eed-0437-4a6c-b3db-02b04efad254",
   "metadata": {},
   "outputs": [],
   "source": [
    "df_0 = df_merged[df_merged['clickbait'] == 0].sample(n=10000, random_state=42)\n",
    "df_1 = df_merged[df_merged['clickbait'] == 1].sample(n=10000, random_state=42)\n",
    "\n",
    "df_balanced = pd.concat([df_0, df_1])"
   ]
  },
  {
   "cell_type": "code",
   "execution_count": 15,
   "id": "ceee5304-bba1-4fdb-8133-5c9c32ea3379",
   "metadata": {},
   "outputs": [],
   "source": [
    "df_balanced.to_csv(\"../data/merged_datasetes_balanced.csv\", index=False)"
   ]
  },
  {
   "cell_type": "markdown",
   "id": "5bced046-a339-4889-96e2-2a7f9bf1dfb3",
   "metadata": {},
   "source": [
    "## + Dataset with body: clickbait challange\n",
    "https://webis.de/events/clickbait-challenge/shared-task.html"
   ]
  },
  {
   "cell_type": "code",
   "execution_count": 56,
   "id": "4e908503",
   "metadata": {},
   "outputs": [],
   "source": [
    "def load_data_cc(name, columns=[]):\n",
    "    \"\"\"\n",
    "    loads data from clickbait challenge webis corpus\n",
    "    \n",
    "    name (str): name of the folder\n",
    "    columns (list): list of columns names to extract apart from 'id' and 'targetTitle'\n",
    "    \"\"\"\n",
    "    data_file_path = f'../data/{name}/instances.jsonl'\n",
    "    with open(data_file_path, 'rb') as file:\n",
    "        data_df = pd.read_json(file,lines=True)\n",
    "\n",
    "    target_file_path = f'../data/{name}/truth.jsonl'\n",
    "    with open(target_file_path, 'rb') as file:\n",
    "        labels = pd.read_json(file,lines=True)\n",
    "    \n",
    "    data_df = data_df[[\"id\", \"targetTitle\"] + columns]\n",
    "    labels = labels[[\"id\", \"truthClass\"]]\n",
    "\n",
    "    df = pd.merge(data_df, labels, on='id', how='left')\n",
    "    df.drop(['id'], axis=1, inplace=True)\n",
    "    df['truthClass'] = df['truthClass'].apply(lambda x: 1 if x == 'clickbait' else 0)\n",
    "    df.rename(columns={'targetTitle': 'title', 'truthClass': 'clickbait'}, inplace=True)\n",
    "    return df"
   ]
  },
  {
   "cell_type": "code",
   "execution_count": 60,
   "id": "9d271566",
   "metadata": {},
   "outputs": [],
   "source": [
    "files = [\"clickbait17-train-170331\", \"clickbait17-test-170720\", \"clickbait17-validation-170630\"]\n",
    "body_dfs = []\n",
    "for filename in files:\n",
    "    part_df = load_data_cc(filename, columns=[\"targetParagraphs\"])\n",
    "    part_df['body'] = part_df['targetParagraphs'].apply(lambda x: \" \".join(x))\n",
    "    part_df = part_df[['title', 'body', 'clickbait']]\n",
    "    body_dfs.append(part_df)\n",
    "df_body = pd.concat(body_dfs).reset_index(drop=True)"
   ]
  },
  {
   "cell_type": "code",
   "execution_count": 99,
   "id": "69cb102b",
   "metadata": {},
   "outputs": [
    {
     "data": {
      "text/plain": [
       "clickbait\n",
       "0    30938\n",
       "1    10038\n",
       "Name: count, dtype: int64"
      ]
     },
     "execution_count": 99,
     "metadata": {},
     "output_type": "execute_result"
    }
   ],
   "source": [
    "df_body['clickbait'].value_counts()"
   ]
  },
  {
   "cell_type": "code",
   "execution_count": 88,
   "id": "d7ab10dc",
   "metadata": {},
   "outputs": [],
   "source": [
    "df_body.to_csv(\"../data/cc_dataset.csv\", index=False)"
   ]
  },
  {
   "cell_type": "code",
   "execution_count": 89,
   "id": "3a660dad",
   "metadata": {},
   "outputs": [],
   "source": [
    "df_00 = df_body[df_body['clickbait'] == 0].sample(n=10000, random_state=37)\n",
    "df_01 = df_body[df_body['clickbait'] == 1].sample(n=10000, random_state=37)\n",
    "\n",
    "df_body_balanced = pd.concat([df_00, df_01])"
   ]
  },
  {
   "cell_type": "code",
   "execution_count": 101,
   "id": "6f71b151",
   "metadata": {},
   "outputs": [],
   "source": [
    "df_body_balanced.to_csv(\"../data/cc_dataset_balanced.csv\", index=False)"
   ]
  },
  {
   "cell_type": "markdown",
   "id": "a51deee9",
   "metadata": {},
   "source": [
    "## Clickbait spoiling dataset\n",
    "\n",
    "https://pan.webis.de/semeval23/pan23-web/clickbait-challenge.html"
   ]
  },
  {
   "cell_type": "code",
   "execution_count": null,
   "id": "7cfb7e1d",
   "metadata": {},
   "outputs": [],
   "source": [
    "\"\"\"\n",
    "Vocab:\n",
    "task 1: spoiler type classification\n",
    "task 2: spoiler generation / extraction\n",
    "\n",
    "Columns:\n",
    "targetTitle: The title of the linked web page.\n",
    "targetParagraphs: The main content of the linked web page. Consists of the paragraphs of manually extracted main content.\n",
    "humanSpoiler: The human generated spoiler (abstractive) for the clickbait post from the linked web page. Beware, there is a lot of missing values.\n",
    "spoiler: The human extracted spoiler for the clickbait post from the linked web page.\n",
    "spoilerPositions: The position of the human extracted spoiler for the clickbait post from the linked web page.\n",
    "tags: The spoiler type (might be \"phrase\", \"passage\", or \"multi\") that is to be classified in task 1 (spoiler type classification).\n",
    "\n",
    "How to use spoilerPositions:\n",
    "if `data['spoilerPositions'][0]` is `[[[3, 151], [3, 186]]]`,\n",
    "then `data['targetParagraphs'][0][3][151:186]` equals `data['spoiler']`\n",
    "\"\"\""
   ]
  },
  {
   "cell_type": "code",
   "execution_count": 4,
   "id": "9f2ef493",
   "metadata": {},
   "outputs": [],
   "source": [
    "names = ['train', 'validation']\n",
    "spoil_dfs = []\n",
    "for name in names:\n",
    "    data_file_path = f'../../data/spoiling-clickbait-22/{name}.jsonl'\n",
    "    with open(data_file_path, 'rb') as file:\n",
    "        part_df = pd.read_json(file,lines=True)\n",
    "\n",
    "    part_df['humanSpoiler'] = part_df['provenance'].apply(lambda x: x['humanSpoiler'])\n",
    "    part_df = part_df[[\"targetTitle\", \"targetParagraphs\", \"humanSpoiler\", \"spoiler\", \"spoilerPositions\", \"tags\"]]\n",
    "    spoil_dfs.append(part_df)\n",
    "spoil_df = pd.concat(spoil_dfs).reset_index(drop=True)"
   ]
  },
  {
   "cell_type": "code",
   "execution_count": 37,
   "id": "a26c14da",
   "metadata": {},
   "outputs": [],
   "source": [
    "spoil_df.to_csv(\"../data/spoiling_data.csv\", index=False)"
   ]
  }
 ],
 "metadata": {
  "kernelspec": {
   "display_name": "Python 3 (ipykernel)",
   "language": "python",
   "name": "python3"
  },
  "language_info": {
   "codemirror_mode": {
    "name": "ipython",
    "version": 3
   },
   "file_extension": ".py",
   "mimetype": "text/x-python",
   "name": "python",
   "nbconvert_exporter": "python",
   "pygments_lexer": "ipython3",
   "version": "3.11.9"
  }
 },
 "nbformat": 4,
 "nbformat_minor": 5
}
