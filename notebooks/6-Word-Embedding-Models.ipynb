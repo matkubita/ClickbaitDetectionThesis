{
 "cells": [
  {
   "cell_type": "markdown",
   "id": "e41069b4-8673-4dc1-9c60-760de2734f2f",
   "metadata": {},
   "source": [
    "# Word2vec and Glove\n",
    "\n",
    " In this notebook I use already pre-trained word-embedding models like Word2vec and Glove. These models were trained on huge datasets to get semantic meaning of each word. Word2vec relies on backpropagation, while Glove on matrix factorization. Both models can capture meaning of words pretty well compared to bag of words or tf-idf.\n",
    "\n",
    " I try these methods:\n",
    " 1. Building article embeddings based on averaging word2vec embeddings\n",
    "     1. based on already pretrained word2vec + training it on our dataset\n",
    "     2. based on already pretrained word2vec\n",
    "\n",
    " 2. Building article embeddings based on the combination of word2vec and tfidf \n",
    " 3. Building article embeddings based on averaging glove embeddings\n"
   ]
  },
  {
   "cell_type": "code",
   "execution_count": 1,
   "id": "f250618f-13a6-4860-89a1-970ea25d0da2",
   "metadata": {},
   "outputs": [],
   "source": [
    "# data preprocessing, visualization\n",
    "import pandas as pd\n",
    "import matplotlib.pyplot as plt\n",
    "import numpy as np\n",
    "import seaborn as sns\n",
    "import nltk\n",
    "\n",
    "from sklearn.model_selection import train_test_split\n",
    "from sklearn.metrics import confusion_matrix, ConfusionMatrixDisplay\n",
    "from sklearn.metrics import accuracy_score\n",
    "from sklearn.metrics import classification_report\n",
    "\n",
    "# models\n",
    "from sklearn.feature_extraction.text import TfidfVectorizer\n",
    "import gensim\n",
    "from sklearn.ensemble import RandomForestClassifier\n",
    "from gensim.models import Word2Vec\n",
    "import xgboost as xgb\n",
    "from sklearn.ensemble import RandomForestClassifier"
   ]
  },
  {
   "cell_type": "code",
   "execution_count": 2,
   "id": "85e3e948-8042-40c4-aa6f-061f95578681",
   "metadata": {},
   "outputs": [],
   "source": [
    "%run 0-Function-Helper.ipynb"
   ]
  },
  {
   "cell_type": "code",
   "execution_count": 3,
   "id": "203c5cd0-c383-4894-aed7-400f354d0bc2",
   "metadata": {},
   "outputs": [],
   "source": [
    "# df_merged = pd.read_csv(\"../data/merged_all_datasets.csv\")\n",
    "# df_merged = pd.read_csv(\"../data/merged_datasetes_balanced.csv\")\n",
    "df_merged = pd.read_csv(\"../data/merged_datasetes_balanced_huge.csv\")"
   ]
  },
  {
   "cell_type": "code",
   "execution_count": 4,
   "id": "ebec1292-8622-4dac-921a-bccad05bc191",
   "metadata": {},
   "outputs": [],
   "source": [
    "x_train, x_test, y_train, y_test = train_test_split(\n",
    "    df_merged[\"title\"], \n",
    "    df_merged[\"clickbait\"],\n",
    "    test_size=0.2, \n",
    "    random_state=42\n",
    ")\n",
    "\n",
    "x_test, x_val, y_test, y_val = train_test_split(\n",
    "    x_test, \n",
    "    y_test,\n",
    "    test_size=0.5,  # 50% of the original x_test size for validation\n",
    "    random_state=42,\n",
    "    stratify=y_test\n",
    ")"
   ]
  },
  {
   "cell_type": "markdown",
   "id": "06e87e6b-4d0f-4d63-9d39-8964b1e38c20",
   "metadata": {},
   "source": [
    "# Word2Vec, some history and exploring the model"
   ]
  },
  {
   "cell_type": "code",
   "execution_count": 5,
   "id": "a85680cb-6be6-4828-aff4-7bf0d7c0e1fb",
   "metadata": {},
   "outputs": [],
   "source": [
    "# Thomas Mikolov tried to find the meaning of words and how to represent them numerically\n",
    "# He came up with an idea to train neural network so that words that appear in similar contexts have close vectors\n",
    "# Word vectors provide semantic meaning of words as vectors based on training corpus\n",
    "# This algorithm was a great invention that allows to capture analogies \n",
    "# (e.g.  king - man + woman = queen or woman + europe + physics + scientist = Marie Curie\n",
    "\n",
    "# source: Natural Language Processing in Action (book)"
   ]
  },
  {
   "cell_type": "code",
   "execution_count": 6,
   "id": "c994530f-1dee-4f36-b10c-1124598ce87b",
   "metadata": {},
   "outputs": [],
   "source": [
    "# I train Word2Vec on my own data, but the thing is that the articles are general and our corpus is not so huge\n",
    "# We could use all merged datasets instead of balanced, but still the domain of my data is general\n",
    "# Hence it would be better idea to just get pre-trained models and get embeddings from it."
   ]
  },
  {
   "cell_type": "markdown",
   "id": "358ab1b9-3d17-4636-864c-046d4c323248",
   "metadata": {},
   "source": [
    "# 1. Building article embeddings based on averaging word2vec embeddings \n",
    "## - A. based on already pretrained word2vec + training it on our dataset"
   ]
  },
  {
   "cell_type": "code",
   "execution_count": 35,
   "id": "7dd46174-11d1-4baf-b652-623069a216ef",
   "metadata": {},
   "outputs": [],
   "source": [
    "def create_text_vectors_from_word_embedding_word2vec_model(\n",
    "    model: gensim.models.keyedvectors.KeyedVectors,\n",
    "    sentence: str,\n",
    "    dimension_embeddings: int,\n",
    "):\n",
    "    '''\n",
    "    Function that generates text embedding vector by taking an average of all word embedding vectors. \n",
    "    If no words appear in word2vec then algorithm outputs vector of zeros.\n",
    "    '''\n",
    "    \n",
    "    # Split words into on array of words\n",
    "    words_splitted = sentence.split()\n",
    "    # For each word in text get its vector representation\n",
    "    words_vecs = [model[word] for word in words_splitted if word in model]\n",
    "    # If none of this words appear in our word2vec model then its length will be zero and we just create array of zeros\n",
    "    if len(words_vecs) == 0:\n",
    "        return np.zeros(dimension_embeddings)\n",
    "        \n",
    "    # otherwise, we just calculate the mean of all these vector representations \n",
    "    words_vectors_word2vec = np.array(words_vecs)\n",
    "    return words_vectors_word2vec.mean(axis=0)\n",
    "\n"
   ]
  },
  {
   "cell_type": "code",
   "execution_count": 36,
   "id": "e6aebd0d-187e-4db3-996a-d8c721da2d69",
   "metadata": {},
   "outputs": [],
   "source": [
    "# Each article is splitted into tokens (words)\n",
    "sentences = [sentence.split() for sentence in x_train]\n",
    "w2v_model = Word2Vec(sentences, window=5, min_count=5, workers=4)"
   ]
  },
  {
   "cell_type": "code",
   "execution_count": 37,
   "id": "f23d7f64-f418-4d92-8442-b85a15d17838",
   "metadata": {},
   "outputs": [],
   "source": [
    "# For each article we get mean vector embedding\n",
    "x_train_vect = np.array([create_text_vectors_from_word_embedding_word2vec_model(w2v_model.wv, sentence, 100) for sentence in x_train])\n",
    "x_val_vect = np.array([create_text_vectors_from_word_embedding_word2vec_model(w2v_model.wv, sentence, 100) for sentence in x_val])"
   ]
  },
  {
   "cell_type": "markdown",
   "id": "ebca9db9-74f0-43a2-8735-24d4c5fe9d81",
   "metadata": {},
   "source": [
    "## Training models"
   ]
  },
  {
   "cell_type": "code",
   "execution_count": 38,
   "id": "577d8675-2f1c-4be4-b798-b9352e7e4a27",
   "metadata": {},
   "outputs": [
    {
     "data": {
      "text/html": [
       "<style>#sk-container-id-3 {\n",
       "  /* Definition of color scheme common for light and dark mode */\n",
       "  --sklearn-color-text: black;\n",
       "  --sklearn-color-line: gray;\n",
       "  /* Definition of color scheme for unfitted estimators */\n",
       "  --sklearn-color-unfitted-level-0: #fff5e6;\n",
       "  --sklearn-color-unfitted-level-1: #f6e4d2;\n",
       "  --sklearn-color-unfitted-level-2: #ffe0b3;\n",
       "  --sklearn-color-unfitted-level-3: chocolate;\n",
       "  /* Definition of color scheme for fitted estimators */\n",
       "  --sklearn-color-fitted-level-0: #f0f8ff;\n",
       "  --sklearn-color-fitted-level-1: #d4ebff;\n",
       "  --sklearn-color-fitted-level-2: #b3dbfd;\n",
       "  --sklearn-color-fitted-level-3: cornflowerblue;\n",
       "\n",
       "  /* Specific color for light theme */\n",
       "  --sklearn-color-text-on-default-background: var(--sg-text-color, var(--theme-code-foreground, var(--jp-content-font-color1, black)));\n",
       "  --sklearn-color-background: var(--sg-background-color, var(--theme-background, var(--jp-layout-color0, white)));\n",
       "  --sklearn-color-border-box: var(--sg-text-color, var(--theme-code-foreground, var(--jp-content-font-color1, black)));\n",
       "  --sklearn-color-icon: #696969;\n",
       "\n",
       "  @media (prefers-color-scheme: dark) {\n",
       "    /* Redefinition of color scheme for dark theme */\n",
       "    --sklearn-color-text-on-default-background: var(--sg-text-color, var(--theme-code-foreground, var(--jp-content-font-color1, white)));\n",
       "    --sklearn-color-background: var(--sg-background-color, var(--theme-background, var(--jp-layout-color0, #111)));\n",
       "    --sklearn-color-border-box: var(--sg-text-color, var(--theme-code-foreground, var(--jp-content-font-color1, white)));\n",
       "    --sklearn-color-icon: #878787;\n",
       "  }\n",
       "}\n",
       "\n",
       "#sk-container-id-3 {\n",
       "  color: var(--sklearn-color-text);\n",
       "}\n",
       "\n",
       "#sk-container-id-3 pre {\n",
       "  padding: 0;\n",
       "}\n",
       "\n",
       "#sk-container-id-3 input.sk-hidden--visually {\n",
       "  border: 0;\n",
       "  clip: rect(1px 1px 1px 1px);\n",
       "  clip: rect(1px, 1px, 1px, 1px);\n",
       "  height: 1px;\n",
       "  margin: -1px;\n",
       "  overflow: hidden;\n",
       "  padding: 0;\n",
       "  position: absolute;\n",
       "  width: 1px;\n",
       "}\n",
       "\n",
       "#sk-container-id-3 div.sk-dashed-wrapped {\n",
       "  border: 1px dashed var(--sklearn-color-line);\n",
       "  margin: 0 0.4em 0.5em 0.4em;\n",
       "  box-sizing: border-box;\n",
       "  padding-bottom: 0.4em;\n",
       "  background-color: var(--sklearn-color-background);\n",
       "}\n",
       "\n",
       "#sk-container-id-3 div.sk-container {\n",
       "  /* jupyter's `normalize.less` sets `[hidden] { display: none; }`\n",
       "     but bootstrap.min.css set `[hidden] { display: none !important; }`\n",
       "     so we also need the `!important` here to be able to override the\n",
       "     default hidden behavior on the sphinx rendered scikit-learn.org.\n",
       "     See: https://github.com/scikit-learn/scikit-learn/issues/21755 */\n",
       "  display: inline-block !important;\n",
       "  position: relative;\n",
       "}\n",
       "\n",
       "#sk-container-id-3 div.sk-text-repr-fallback {\n",
       "  display: none;\n",
       "}\n",
       "\n",
       "div.sk-parallel-item,\n",
       "div.sk-serial,\n",
       "div.sk-item {\n",
       "  /* draw centered vertical line to link estimators */\n",
       "  background-image: linear-gradient(var(--sklearn-color-text-on-default-background), var(--sklearn-color-text-on-default-background));\n",
       "  background-size: 2px 100%;\n",
       "  background-repeat: no-repeat;\n",
       "  background-position: center center;\n",
       "}\n",
       "\n",
       "/* Parallel-specific style estimator block */\n",
       "\n",
       "#sk-container-id-3 div.sk-parallel-item::after {\n",
       "  content: \"\";\n",
       "  width: 100%;\n",
       "  border-bottom: 2px solid var(--sklearn-color-text-on-default-background);\n",
       "  flex-grow: 1;\n",
       "}\n",
       "\n",
       "#sk-container-id-3 div.sk-parallel {\n",
       "  display: flex;\n",
       "  align-items: stretch;\n",
       "  justify-content: center;\n",
       "  background-color: var(--sklearn-color-background);\n",
       "  position: relative;\n",
       "}\n",
       "\n",
       "#sk-container-id-3 div.sk-parallel-item {\n",
       "  display: flex;\n",
       "  flex-direction: column;\n",
       "}\n",
       "\n",
       "#sk-container-id-3 div.sk-parallel-item:first-child::after {\n",
       "  align-self: flex-end;\n",
       "  width: 50%;\n",
       "}\n",
       "\n",
       "#sk-container-id-3 div.sk-parallel-item:last-child::after {\n",
       "  align-self: flex-start;\n",
       "  width: 50%;\n",
       "}\n",
       "\n",
       "#sk-container-id-3 div.sk-parallel-item:only-child::after {\n",
       "  width: 0;\n",
       "}\n",
       "\n",
       "/* Serial-specific style estimator block */\n",
       "\n",
       "#sk-container-id-3 div.sk-serial {\n",
       "  display: flex;\n",
       "  flex-direction: column;\n",
       "  align-items: center;\n",
       "  background-color: var(--sklearn-color-background);\n",
       "  padding-right: 1em;\n",
       "  padding-left: 1em;\n",
       "}\n",
       "\n",
       "\n",
       "/* Toggleable style: style used for estimator/Pipeline/ColumnTransformer box that is\n",
       "clickable and can be expanded/collapsed.\n",
       "- Pipeline and ColumnTransformer use this feature and define the default style\n",
       "- Estimators will overwrite some part of the style using the `sk-estimator` class\n",
       "*/\n",
       "\n",
       "/* Pipeline and ColumnTransformer style (default) */\n",
       "\n",
       "#sk-container-id-3 div.sk-toggleable {\n",
       "  /* Default theme specific background. It is overwritten whether we have a\n",
       "  specific estimator or a Pipeline/ColumnTransformer */\n",
       "  background-color: var(--sklearn-color-background);\n",
       "}\n",
       "\n",
       "/* Toggleable label */\n",
       "#sk-container-id-3 label.sk-toggleable__label {\n",
       "  cursor: pointer;\n",
       "  display: block;\n",
       "  width: 100%;\n",
       "  margin-bottom: 0;\n",
       "  padding: 0.5em;\n",
       "  box-sizing: border-box;\n",
       "  text-align: center;\n",
       "}\n",
       "\n",
       "#sk-container-id-3 label.sk-toggleable__label-arrow:before {\n",
       "  /* Arrow on the left of the label */\n",
       "  content: \"▸\";\n",
       "  float: left;\n",
       "  margin-right: 0.25em;\n",
       "  color: var(--sklearn-color-icon);\n",
       "}\n",
       "\n",
       "#sk-container-id-3 label.sk-toggleable__label-arrow:hover:before {\n",
       "  color: var(--sklearn-color-text);\n",
       "}\n",
       "\n",
       "/* Toggleable content - dropdown */\n",
       "\n",
       "#sk-container-id-3 div.sk-toggleable__content {\n",
       "  max-height: 0;\n",
       "  max-width: 0;\n",
       "  overflow: hidden;\n",
       "  text-align: left;\n",
       "  /* unfitted */\n",
       "  background-color: var(--sklearn-color-unfitted-level-0);\n",
       "}\n",
       "\n",
       "#sk-container-id-3 div.sk-toggleable__content.fitted {\n",
       "  /* fitted */\n",
       "  background-color: var(--sklearn-color-fitted-level-0);\n",
       "}\n",
       "\n",
       "#sk-container-id-3 div.sk-toggleable__content pre {\n",
       "  margin: 0.2em;\n",
       "  border-radius: 0.25em;\n",
       "  color: var(--sklearn-color-text);\n",
       "  /* unfitted */\n",
       "  background-color: var(--sklearn-color-unfitted-level-0);\n",
       "}\n",
       "\n",
       "#sk-container-id-3 div.sk-toggleable__content.fitted pre {\n",
       "  /* unfitted */\n",
       "  background-color: var(--sklearn-color-fitted-level-0);\n",
       "}\n",
       "\n",
       "#sk-container-id-3 input.sk-toggleable__control:checked~div.sk-toggleable__content {\n",
       "  /* Expand drop-down */\n",
       "  max-height: 200px;\n",
       "  max-width: 100%;\n",
       "  overflow: auto;\n",
       "}\n",
       "\n",
       "#sk-container-id-3 input.sk-toggleable__control:checked~label.sk-toggleable__label-arrow:before {\n",
       "  content: \"▾\";\n",
       "}\n",
       "\n",
       "/* Pipeline/ColumnTransformer-specific style */\n",
       "\n",
       "#sk-container-id-3 div.sk-label input.sk-toggleable__control:checked~label.sk-toggleable__label {\n",
       "  color: var(--sklearn-color-text);\n",
       "  background-color: var(--sklearn-color-unfitted-level-2);\n",
       "}\n",
       "\n",
       "#sk-container-id-3 div.sk-label.fitted input.sk-toggleable__control:checked~label.sk-toggleable__label {\n",
       "  background-color: var(--sklearn-color-fitted-level-2);\n",
       "}\n",
       "\n",
       "/* Estimator-specific style */\n",
       "\n",
       "/* Colorize estimator box */\n",
       "#sk-container-id-3 div.sk-estimator input.sk-toggleable__control:checked~label.sk-toggleable__label {\n",
       "  /* unfitted */\n",
       "  background-color: var(--sklearn-color-unfitted-level-2);\n",
       "}\n",
       "\n",
       "#sk-container-id-3 div.sk-estimator.fitted input.sk-toggleable__control:checked~label.sk-toggleable__label {\n",
       "  /* fitted */\n",
       "  background-color: var(--sklearn-color-fitted-level-2);\n",
       "}\n",
       "\n",
       "#sk-container-id-3 div.sk-label label.sk-toggleable__label,\n",
       "#sk-container-id-3 div.sk-label label {\n",
       "  /* The background is the default theme color */\n",
       "  color: var(--sklearn-color-text-on-default-background);\n",
       "}\n",
       "\n",
       "/* On hover, darken the color of the background */\n",
       "#sk-container-id-3 div.sk-label:hover label.sk-toggleable__label {\n",
       "  color: var(--sklearn-color-text);\n",
       "  background-color: var(--sklearn-color-unfitted-level-2);\n",
       "}\n",
       "\n",
       "/* Label box, darken color on hover, fitted */\n",
       "#sk-container-id-3 div.sk-label.fitted:hover label.sk-toggleable__label.fitted {\n",
       "  color: var(--sklearn-color-text);\n",
       "  background-color: var(--sklearn-color-fitted-level-2);\n",
       "}\n",
       "\n",
       "/* Estimator label */\n",
       "\n",
       "#sk-container-id-3 div.sk-label label {\n",
       "  font-family: monospace;\n",
       "  font-weight: bold;\n",
       "  display: inline-block;\n",
       "  line-height: 1.2em;\n",
       "}\n",
       "\n",
       "#sk-container-id-3 div.sk-label-container {\n",
       "  text-align: center;\n",
       "}\n",
       "\n",
       "/* Estimator-specific */\n",
       "#sk-container-id-3 div.sk-estimator {\n",
       "  font-family: monospace;\n",
       "  border: 1px dotted var(--sklearn-color-border-box);\n",
       "  border-radius: 0.25em;\n",
       "  box-sizing: border-box;\n",
       "  margin-bottom: 0.5em;\n",
       "  /* unfitted */\n",
       "  background-color: var(--sklearn-color-unfitted-level-0);\n",
       "}\n",
       "\n",
       "#sk-container-id-3 div.sk-estimator.fitted {\n",
       "  /* fitted */\n",
       "  background-color: var(--sklearn-color-fitted-level-0);\n",
       "}\n",
       "\n",
       "/* on hover */\n",
       "#sk-container-id-3 div.sk-estimator:hover {\n",
       "  /* unfitted */\n",
       "  background-color: var(--sklearn-color-unfitted-level-2);\n",
       "}\n",
       "\n",
       "#sk-container-id-3 div.sk-estimator.fitted:hover {\n",
       "  /* fitted */\n",
       "  background-color: var(--sklearn-color-fitted-level-2);\n",
       "}\n",
       "\n",
       "/* Specification for estimator info (e.g. \"i\" and \"?\") */\n",
       "\n",
       "/* Common style for \"i\" and \"?\" */\n",
       "\n",
       ".sk-estimator-doc-link,\n",
       "a:link.sk-estimator-doc-link,\n",
       "a:visited.sk-estimator-doc-link {\n",
       "  float: right;\n",
       "  font-size: smaller;\n",
       "  line-height: 1em;\n",
       "  font-family: monospace;\n",
       "  background-color: var(--sklearn-color-background);\n",
       "  border-radius: 1em;\n",
       "  height: 1em;\n",
       "  width: 1em;\n",
       "  text-decoration: none !important;\n",
       "  margin-left: 1ex;\n",
       "  /* unfitted */\n",
       "  border: var(--sklearn-color-unfitted-level-1) 1pt solid;\n",
       "  color: var(--sklearn-color-unfitted-level-1);\n",
       "}\n",
       "\n",
       ".sk-estimator-doc-link.fitted,\n",
       "a:link.sk-estimator-doc-link.fitted,\n",
       "a:visited.sk-estimator-doc-link.fitted {\n",
       "  /* fitted */\n",
       "  border: var(--sklearn-color-fitted-level-1) 1pt solid;\n",
       "  color: var(--sklearn-color-fitted-level-1);\n",
       "}\n",
       "\n",
       "/* On hover */\n",
       "div.sk-estimator:hover .sk-estimator-doc-link:hover,\n",
       ".sk-estimator-doc-link:hover,\n",
       "div.sk-label-container:hover .sk-estimator-doc-link:hover,\n",
       ".sk-estimator-doc-link:hover {\n",
       "  /* unfitted */\n",
       "  background-color: var(--sklearn-color-unfitted-level-3);\n",
       "  color: var(--sklearn-color-background);\n",
       "  text-decoration: none;\n",
       "}\n",
       "\n",
       "div.sk-estimator.fitted:hover .sk-estimator-doc-link.fitted:hover,\n",
       ".sk-estimator-doc-link.fitted:hover,\n",
       "div.sk-label-container:hover .sk-estimator-doc-link.fitted:hover,\n",
       ".sk-estimator-doc-link.fitted:hover {\n",
       "  /* fitted */\n",
       "  background-color: var(--sklearn-color-fitted-level-3);\n",
       "  color: var(--sklearn-color-background);\n",
       "  text-decoration: none;\n",
       "}\n",
       "\n",
       "/* Span, style for the box shown on hovering the info icon */\n",
       ".sk-estimator-doc-link span {\n",
       "  display: none;\n",
       "  z-index: 9999;\n",
       "  position: relative;\n",
       "  font-weight: normal;\n",
       "  right: .2ex;\n",
       "  padding: .5ex;\n",
       "  margin: .5ex;\n",
       "  width: min-content;\n",
       "  min-width: 20ex;\n",
       "  max-width: 50ex;\n",
       "  color: var(--sklearn-color-text);\n",
       "  box-shadow: 2pt 2pt 4pt #999;\n",
       "  /* unfitted */\n",
       "  background: var(--sklearn-color-unfitted-level-0);\n",
       "  border: .5pt solid var(--sklearn-color-unfitted-level-3);\n",
       "}\n",
       "\n",
       ".sk-estimator-doc-link.fitted span {\n",
       "  /* fitted */\n",
       "  background: var(--sklearn-color-fitted-level-0);\n",
       "  border: var(--sklearn-color-fitted-level-3);\n",
       "}\n",
       "\n",
       ".sk-estimator-doc-link:hover span {\n",
       "  display: block;\n",
       "}\n",
       "\n",
       "/* \"?\"-specific style due to the `<a>` HTML tag */\n",
       "\n",
       "#sk-container-id-3 a.estimator_doc_link {\n",
       "  float: right;\n",
       "  font-size: 1rem;\n",
       "  line-height: 1em;\n",
       "  font-family: monospace;\n",
       "  background-color: var(--sklearn-color-background);\n",
       "  border-radius: 1rem;\n",
       "  height: 1rem;\n",
       "  width: 1rem;\n",
       "  text-decoration: none;\n",
       "  /* unfitted */\n",
       "  color: var(--sklearn-color-unfitted-level-1);\n",
       "  border: var(--sklearn-color-unfitted-level-1) 1pt solid;\n",
       "}\n",
       "\n",
       "#sk-container-id-3 a.estimator_doc_link.fitted {\n",
       "  /* fitted */\n",
       "  border: var(--sklearn-color-fitted-level-1) 1pt solid;\n",
       "  color: var(--sklearn-color-fitted-level-1);\n",
       "}\n",
       "\n",
       "/* On hover */\n",
       "#sk-container-id-3 a.estimator_doc_link:hover {\n",
       "  /* unfitted */\n",
       "  background-color: var(--sklearn-color-unfitted-level-3);\n",
       "  color: var(--sklearn-color-background);\n",
       "  text-decoration: none;\n",
       "}\n",
       "\n",
       "#sk-container-id-3 a.estimator_doc_link.fitted:hover {\n",
       "  /* fitted */\n",
       "  background-color: var(--sklearn-color-fitted-level-3);\n",
       "}\n",
       "</style><div id=\"sk-container-id-3\" class=\"sk-top-container\"><div class=\"sk-text-repr-fallback\"><pre>RandomForestClassifier(random_state=0)</pre><b>In a Jupyter environment, please rerun this cell to show the HTML representation or trust the notebook. <br />On GitHub, the HTML representation is unable to render, please try loading this page with nbviewer.org.</b></div><div class=\"sk-container\" hidden><div class=\"sk-item\"><div class=\"sk-estimator fitted sk-toggleable\"><input class=\"sk-toggleable__control sk-hidden--visually\" id=\"sk-estimator-id-3\" type=\"checkbox\" checked><label for=\"sk-estimator-id-3\" class=\"sk-toggleable__label fitted sk-toggleable__label-arrow fitted\">&nbsp;&nbsp;RandomForestClassifier<a class=\"sk-estimator-doc-link fitted\" rel=\"noreferrer\" target=\"_blank\" href=\"https://scikit-learn.org/1.5/modules/generated/sklearn.ensemble.RandomForestClassifier.html\">?<span>Documentation for RandomForestClassifier</span></a><span class=\"sk-estimator-doc-link fitted\">i<span>Fitted</span></span></label><div class=\"sk-toggleable__content fitted\"><pre>RandomForestClassifier(random_state=0)</pre></div> </div></div></div></div>"
      ],
      "text/plain": [
       "RandomForestClassifier(random_state=0)"
      ]
     },
     "execution_count": 38,
     "metadata": {},
     "output_type": "execute_result"
    }
   ],
   "source": [
    "RF = RandomForestClassifier(random_state = 0)\n",
    "RF.fit(x_train_vect, y_train)"
   ]
  },
  {
   "cell_type": "code",
   "execution_count": 39,
   "id": "2de0a322-630f-4e0c-80e7-fefc0b577707",
   "metadata": {},
   "outputs": [],
   "source": [
    "pred_rf = RF.predict(x_val_vect)\n",
    "pred_rf_prob = RF.predict_proba(x_val_vect)"
   ]
  },
  {
   "cell_type": "code",
   "execution_count": 40,
   "id": "85ea8459-92ca-475e-8e11-102c1997c9f2",
   "metadata": {},
   "outputs": [
    {
     "name": "stdout",
     "output_type": "stream",
     "text": [
      "0.832 & 0.866 & 0.785 & 0.823 & 0.901 \\\n",
      "{'Accuracy': 0.83225, 'Precision': 0.8660022148394242, 'Recall': 0.784746613146011, 'F1 Score': 0.8233745722558569, 'ROC-AUC': 0.9009206612781006}\n",
      "\n",
      "              precision    recall  f1-score   support\n",
      "\n",
      "           0       0.80      0.88      0.84      2007\n",
      "           1       0.87      0.78      0.82      1993\n",
      "\n",
      "    accuracy                           0.83      4000\n",
      "   macro avg       0.84      0.83      0.83      4000\n",
      "weighted avg       0.84      0.83      0.83      4000\n",
      "\n"
     ]
    },
    {
     "data": {
      "image/png": "[encoded data removed]",
      "text/plain": [
       "<Figure size 640x480 with 2 Axes>"
      ]
     },
     "metadata": {},
     "output_type": "display_data"
    }
   ],
   "source": [
    "create_summary_for_model_metrics(y_val, pred_rf, pred_rf_prob[:,1])"
   ]
  },
  {
   "cell_type": "code",
   "execution_count": 41,
   "id": "51de0a8b-fb71-440f-8299-92cbc3a0164e",
   "metadata": {},
   "outputs": [
    {
     "name": "stdout",
     "output_type": "stream",
     "text": [
      "0.829 & 0.862 & 0.782 & 0.82 & 0.896 \\\n",
      "{'Accuracy': 0.82925, 'Precision': 0.8622787610619469, 'Recall': 0.782237832413447, 'F1 Score': 0.8203104446198368, 'ROC-AUC': 0.8959249750809448}\n",
      "\n",
      "              precision    recall  f1-score   support\n",
      "\n",
      "           0       0.80      0.88      0.84      2007\n",
      "           1       0.86      0.78      0.82      1993\n",
      "\n",
      "    accuracy                           0.83      4000\n",
      "   macro avg       0.83      0.83      0.83      4000\n",
      "weighted avg       0.83      0.83      0.83      4000\n",
      "\n"
     ]
    },
    {
     "data": {
      "image/png": "[encoded data removed]",
      "text/plain": [
       "<Figure size 640x480 with 2 Axes>"
      ]
     },
     "metadata": {},
     "output_type": "display_data"
    }
   ],
   "source": [
    "xgb_model = xgb.XGBClassifier(random_state = 0)\n",
    "xgb_model.fit(x_train_vect, y_train)\n",
    "pred_xgb = xgb_model.predict(x_val_vect)\n",
    "pred_xgb_prob = xgb_model.predict_proba(x_val_vect)\n",
    "create_summary_for_model_metrics(y_val, pred_xgb, pred_xgb_prob[:,1])"
   ]
  },
  {
   "cell_type": "code",
   "execution_count": 42,
   "id": "2d4f4fb7-9193-41b2-8edf-ef5e54424ee5",
   "metadata": {},
   "outputs": [],
   "source": [
    "## Exploring the model"
   ]
  },
  {
   "cell_type": "markdown",
   "id": "f9c8b5b1-4c36-47d9-8856-395e34c45d97",
   "metadata": {},
   "source": [
    "# 1. Building article embeddings based on averaging word2vec embeddings \n",
    "## - B. based on already pretrained word2vec"
   ]
  },
  {
   "cell_type": "code",
   "execution_count": 43,
   "id": "62c8954d-c981-483b-b8f8-4d0eeb944917",
   "metadata": {},
   "outputs": [],
   "source": [
    "import gensim.downloader as api\n",
    "# Loading already pre-trained model on google news\n",
    "wv = api.load('word2vec-google-news-300')"
   ]
  },
  {
   "cell_type": "code",
   "execution_count": 44,
   "id": "782b0335-0b9d-4bcc-a12e-461ff00c8610",
   "metadata": {},
   "outputs": [],
   "source": [
    "# import os\n",
    "# model_path = api.info()['models']['word2vec-google-news-300']\n",
    "\n",
    "# # Sprawdź rozmiar pliku\n",
    "# model_size = os.path.getsize(model_path) / (1024 ** 2)  # rozmiar w MB\n",
    "# print(f\"Rozmiar modelu: {model_size:.2f} MB\")"
   ]
  },
  {
   "cell_type": "code",
   "execution_count": 45,
   "id": "bb25ef1b-73d6-484b-869d-bc1c41739922",
   "metadata": {},
   "outputs": [],
   "source": [
    "x_train_vect_pretrained = np.array([create_text_vectors_from_word_embedding_word2vec_model(wv, sentence, 300) for sentence in x_train])\n",
    "x_val_vect_pretrained= np.array([create_text_vectors_from_word_embedding_word2vec_model(wv, sentence, 300) for sentence in x_val])"
   ]
  },
  {
   "cell_type": "code",
   "execution_count": 46,
   "id": "991229b9-c578-4ebe-bb41-78f6357c2816",
   "metadata": {},
   "outputs": [
    {
     "name": "stdout",
     "output_type": "stream",
     "text": [
      "0.832 & 0.868 & 0.783 & 0.823 & 0.903 \\\n",
      "{'Accuracy': 0.83225, 'Precision': 0.8676307007786429, 'Recall': 0.7827395885599598, 'F1 Score': 0.8230018464785017, 'ROC-AUC': 0.902714808256401}\n",
      "\n",
      "              precision    recall  f1-score   support\n",
      "\n",
      "           0       0.80      0.88      0.84      2007\n",
      "           1       0.87      0.78      0.82      1993\n",
      "\n",
      "    accuracy                           0.83      4000\n",
      "   macro avg       0.84      0.83      0.83      4000\n",
      "weighted avg       0.84      0.83      0.83      4000\n",
      "\n"
     ]
    },
    {
     "data": {
      "image/png": "[encoded data removed]",
      "text/plain": [
       "<Figure size 640x480 with 2 Axes>"
      ]
     },
     "metadata": {},
     "output_type": "display_data"
    }
   ],
   "source": [
    "RF = RandomForestClassifier(random_state = 0)\n",
    "RF.fit(x_train_vect_pretrained, y_train)\n",
    "pred_rf = RF.predict(x_val_vect_pretrained)\n",
    "pred_rf_prob = RF.predict_proba(x_val_vect_pretrained)\n",
    "create_summary_for_model_metrics(y_val, pred_rf, pred_rf_prob[:,1])"
   ]
  },
  {
   "cell_type": "code",
   "execution_count": 48,
   "id": "9f77132a-3666-4301-a3ab-4e2adbce5a2a",
   "metadata": {},
   "outputs": [
    {
     "name": "stdout",
     "output_type": "stream",
     "text": [
      "0.832 & 0.84 & 0.818 & 0.829 & 0.908 \\\n",
      "{'Accuracy': 0.832, 'Precision': 0.8402885110767645, 'Recall': 0.8183642749623683, 'F1 Score': 0.8291814946619216, 'ROC-AUC': 0.9081584999416243}\n",
      "\n",
      "              precision    recall  f1-score   support\n",
      "\n",
      "           0       0.82      0.85      0.83      2007\n",
      "           1       0.84      0.82      0.83      1993\n",
      "\n",
      "    accuracy                           0.83      4000\n",
      "   macro avg       0.83      0.83      0.83      4000\n",
      "weighted avg       0.83      0.83      0.83      4000\n",
      "\n"
     ]
    },
    {
     "data": {
      "image/png": "[encoded data removed]",
      "text/plain": [
       "<Figure size 640x480 with 2 Axes>"
      ]
     },
     "metadata": {},
     "output_type": "display_data"
    }
   ],
   "source": [
    "xgb_model = xgb.XGBClassifier(random_state = 0)\n",
    "xgb_model.fit(x_train_vect_pretrained, y_train)\n",
    "pred_xgb = xgb_model.predict(x_val_vect_pretrained)\n",
    "pred_xgb_prob = xgb_model.predict_proba(x_val_vect_pretrained)\n",
    "create_summary_for_model_metrics(y_val, pred_xgb, pred_xgb_prob[:,1])"
   ]
  },
  {
   "cell_type": "code",
   "execution_count": 23,
   "id": "f3286b69-4141-4d26-b584-d969aad2ced7",
   "metadata": {},
   "outputs": [],
   "source": [
    "# The question that appears in my head is that Word2vec is already pretrained, so why we should train it once again?\n",
    "# The answer is that you can use pre-trained model without fitting it to your data if it is general domain\n",
    "# Link:\n",
    "# https://datascience.stackexchange.com/questions/110006/why-we-need-to-train-word2vec-when-word2vec-itself-is-said-to-be-pretrained\n",
    "# https://datascience.stackexchange.com/questions/92856/the-reason-behind-using-a-pre-trained-model\n",
    "# https://www.google.com/search?q=usng+pretrained+word2vec+or+not&oq=usng+pretrained+word2vec+or+not&gs_lcrp=EgZjaHJvbWUyBggAEEUYOTIJCAEQIRgKGKABMgkIAhAhGAoYoAHSAQgzOTY5ajBqNKgCALACAQ&sourceid=chrome&ie=UTF-8"
   ]
  },
  {
   "cell_type": "code",
   "execution_count": 24,
   "id": "e7742c21-ea8d-44a4-869b-418accc9c7d1",
   "metadata": {},
   "outputs": [],
   "source": [
    "#Find out what articles were wrongly classified"
   ]
  },
  {
   "cell_type": "code",
   "execution_count": null,
   "id": "20ff1114-6f74-43ba-97a0-8553471cccfe",
   "metadata": {},
   "outputs": [],
   "source": [
    "### Exploring the model"
   ]
  },
  {
   "cell_type": "code",
   "execution_count": 25,
   "id": "c7b0cc16-7c1d-42eb-a981-5d1b7926474e",
   "metadata": {},
   "outputs": [],
   "source": [
    "# ans_vect =  wv['woman'] + wv['Europe'] + wv['physics'] + wv['scientist'] - wv['male'] - 2 * wv['man']\n",
    "# wv.similar_by_vector(ans_vect, topn= 15)\n",
    "# wv.most_similar(positive= [\"Cristiano_Ronaldo\", \"science\"],negative=[\"sport\"], topn=5)\n",
    "# wv.most_similar(positive = [\"woman\", \"sword\"], negative = [\"man\"])\n",
    "# wv.most_similar(positive= [\"king\", \"woman\"],negative=[\"man\"], topn=2)\n",
    "# wv.similar_by_vector(wv[\"king\"] + wv[\"woman\"] - wv[\"man\"], topn=2)"
   ]
  },
  {
   "cell_type": "markdown",
   "id": "29cc08bf-0a21-4d88-ad25-98d5f1038afa",
   "metadata": {},
   "source": [
    "# 2. Building article embeddings based on the combination of word2vec and tfidf "
   ]
  },
  {
   "cell_type": "code",
   "execution_count": 26,
   "id": "9ad4686a-e4b3-4500-8d7a-a1b41f2ac7a0",
   "metadata": {},
   "outputs": [],
   "source": [
    "# Source:\n",
    "# https://freedium.cfd/https://medium.com/@chandu.bathula16/machine-learning-concept-9-71b6bd2ea77d\n",
    "# https://medium.com/analytics-vidhya/featurization-of-text-data-bow-tf-idf-avgw2v-tfidf-weighted-w2v-7a6c62e8b097"
   ]
  },
  {
   "cell_type": "code",
   "execution_count": 27,
   "id": "1db26f69-f1de-44a7-b85c-d736f8fd54a2",
   "metadata": {},
   "outputs": [],
   "source": [
    "def compute_weighted_word2vec_tf_idf(\n",
    "    documents: pd.core.series.Series, \n",
    "    word2vec_model: gensim.models.keyedvectors.KeyedVectors, \n",
    "    tfidf_vectorizer: TfidfVectorizer\n",
    "):\n",
    "    '''\n",
    "    Function that combines tf-idf and word2vec. \n",
    "    Instead of just taking an average of word-embeddings from glove or word2vec for each word we multiply its tf-idf value with word2vec embedding \n",
    "    and then normalize its value\n",
    "    '''\n",
    "    # Let us calculate tf-idf scores\n",
    "    tfidf_matrix = tfidf_vectorizer.transform(documents)\n",
    "    tfidf_feature_names = tfidf_vectorizer.get_feature_names_out()\n",
    "    tfidf_scores = tfidf_matrix.toarray()\n",
    "    \n",
    "    document_vectors = []\n",
    "\n",
    "    for i, document in enumerate(documents):\n",
    "        words = document.split() # Split into sentences\n",
    "        tfidf_vector = tfidf_scores[i]\n",
    "        \n",
    "        doc_vector = np.zeros(word2vec_model.vector_size)  # Zero vector\n",
    "        \n",
    "        weight_sum = 0  # sum of tf-idf weights for normalization\n",
    "        \n",
    "        for word in words:\n",
    "            if word in word2vec_model and word in tfidf_feature_names:\n",
    "                word_vector = word2vec_model[word]\n",
    "                word_index = np.where(tfidf_feature_names == word)[0][0]\n",
    "                tfidf_weight = tfidf_vector[word_index]\n",
    "                \n",
    "                # Add the weighted word vector to the document vector\n",
    "                doc_vector += word_vector * tfidf_weight\n",
    "                weight_sum += tfidf_weight\n",
    "        \n",
    "        if weight_sum != 0:\n",
    "            doc_vector /= weight_sum  # Then we apply normalization by sum of weight of tf-idf vectors\n",
    "        \n",
    "        document_vectors.append(doc_vector)\n",
    "    \n",
    "    return np.array(document_vectors)\n",
    "\n",
    "# Compute TF-IDF on the training data\n",
    "tfidf_vectorizer = TfidfVectorizer()\n",
    "tfidf_vectorizer.fit(x_train)\n",
    "\n",
    "# Transform the training and val data using the weighted Word2Vec algorithm\n",
    "x_train_vectors = compute_weighted_word2vec_tf_idf(x_train, wv, tfidf_vectorizer)\n",
    "x_val_vectors = compute_weighted_word2vec_tf_idf(x_val, wv, tfidf_vectorizer)"
   ]
  },
  {
   "cell_type": "code",
   "execution_count": 28,
   "id": "9e030f85-6467-4209-b8b3-2f0b88cb21dd",
   "metadata": {},
   "outputs": [],
   "source": [
    "RF = RandomForestClassifier(random_state = 0)\n",
    "RF.fit(x_train_vectors, y_train)\n",
    "\n",
    "pred_rf = RF.predict(x_val_vectors)\n",
    "pred_rf_prob = RF.predict_proba(x_val_vectors)"
   ]
  },
  {
   "cell_type": "code",
   "execution_count": 29,
   "id": "49e14076-5f48-4d33-8dbf-2bfcdbbbdbe8",
   "metadata": {},
   "outputs": [
    {
     "name": "stdout",
     "output_type": "stream",
     "text": [
      "0.772 & 0.75 & 0.815 & 0.781 & 0.803 \\\n",
      "{'Accuracy': 0.77225, 'Precision': 0.7497691597414589, 'Recall': 0.8148519819367788, 'F1 Score': 0.7809569608078865, 'ROC-AUC': 0.802794209229063}\n",
      "\n",
      "              precision    recall  f1-score   support\n",
      "\n",
      "           0       0.80      0.73      0.76      2007\n",
      "           1       0.75      0.81      0.78      1993\n",
      "\n",
      "    accuracy                           0.77      4000\n",
      "   macro avg       0.77      0.77      0.77      4000\n",
      "weighted avg       0.77      0.77      0.77      4000\n",
      "\n"
     ]
    },
    {
     "data": {
      "image/png": "[encoded data removed]",
      "text/plain": [
       "<Figure size 640x480 with 2 Axes>"
      ]
     },
     "metadata": {},
     "output_type": "display_data"
    }
   ],
   "source": [
    "create_summary_for_model_metrics(y_val, pred_rf, pred_rf_prob[:,1])"
   ]
  },
  {
   "cell_type": "markdown",
   "id": "16d5d9f0-6d94-400e-86a8-fc4752e6bbcb",
   "metadata": {},
   "source": [
    "# 3. Building article embeddings based on averaging glove embeddings"
   ]
  },
  {
   "cell_type": "code",
   "execution_count": 49,
   "id": "5d5e6c56-37a6-48e2-8515-6c23133208bb",
   "metadata": {},
   "outputs": [],
   "source": [
    "embeddings_glove = {}\n",
    "# This is reference to local path\n",
    "# Glove models are huge, so we decided not to store it in github, but on google drive\n",
    "path_local = r\"C:\\Users\\Mateusz\\Desktop\\PRACA INZYNIERSKA\\glove.6B.100d.txt\"\n",
    "with open(path_local, encoding='utf-8') as f:\n",
    "    for line in f:\n",
    "        values = line.split()\n",
    "        word = values[0]\n",
    "        coefs = np.asarray(values[1:], dtype='float32')\n",
    "        embeddings_glove[word] = coefs"
   ]
  },
  {
   "cell_type": "code",
   "execution_count": 50,
   "id": "dd823fd9-eeec-446d-b7f2-a20a940c6a10",
   "metadata": {},
   "outputs": [],
   "source": [
    "def get_glove_text_embedding(\n",
    "    sentence: str, \n",
    "    glove_model: dict,\n",
    "):\n",
    "    '''\n",
    "    Function generating text_embedding from word-embedding glove model. \n",
    "    Function similar to the one above for word2vec\n",
    "    '''\n",
    "    words = sentence.split()  \n",
    "    word_vectors_glove = []\n",
    "\n",
    "    for word in words:\n",
    "        if word in glove_model: \n",
    "            word_vectors_glove.append(glove_model[word])\n",
    "\n",
    "    if not word_vectors_glove:\n",
    "        return np.zeros(len(next(iter(glove_model.values()))))\n",
    "        \n",
    "    return np.mean(word_vectors_glove, axis=0)"
   ]
  },
  {
   "cell_type": "code",
   "execution_count": 51,
   "id": "b47d3793-3253-4043-8a79-edaaf1088938",
   "metadata": {},
   "outputs": [],
   "source": [
    "x_train_vect_glove = np.array([get_glove_text_embedding(sentence, embeddings_glove) for sentence in x_train])\n",
    "x_val_vect_glove = np.array([get_glove_text_embedding(sentence, embeddings_glove) for sentence in x_val])"
   ]
  },
  {
   "cell_type": "code",
   "execution_count": 52,
   "id": "196ef767-6481-4ed1-86f2-21d54f21feb7",
   "metadata": {},
   "outputs": [
    {
     "name": "stdout",
     "output_type": "stream",
     "text": [
      "0.804 & 0.817 & 0.782 & 0.799 & 0.865 \\\n",
      "{'Accuracy': 0.80425, 'Precision': 0.8170859538784067, 'Recall': 0.782237832413447, 'F1 Score': 0.7992822353242758, 'ROC-AUC': 0.8650673470750017}\n",
      "\n",
      "              precision    recall  f1-score   support\n",
      "\n",
      "           0       0.79      0.83      0.81      2007\n",
      "           1       0.82      0.78      0.80      1993\n",
      "\n",
      "    accuracy                           0.80      4000\n",
      "   macro avg       0.80      0.80      0.80      4000\n",
      "weighted avg       0.80      0.80      0.80      4000\n",
      "\n"
     ]
    },
    {
     "data": {
      "image/png": "[encoded data removed]",
      "text/plain": [
       "<Figure size 640x480 with 2 Axes>"
      ]
     },
     "metadata": {},
     "output_type": "display_data"
    }
   ],
   "source": [
    "RF = RandomForestClassifier(random_state = 0)\n",
    "RF.fit(x_train_vect_glove, y_train)\n",
    "pred_rf = RF.predict(x_val_vect_glove)\n",
    "pred_rf_prob = RF.predict_proba(x_val_vect_glove)\n",
    "create_summary_for_model_metrics(y_val, pred_rf, pred_rf_prob[:,1])"
   ]
  },
  {
   "cell_type": "code",
   "execution_count": 53,
   "id": "e240270a-831c-4346-b51b-a2f9106dac9f",
   "metadata": {},
   "outputs": [
    {
     "name": "stdout",
     "output_type": "stream",
     "text": [
      "0.832 & 0.84 & 0.818 & 0.829 & 0.908 \\\n",
      "{'Accuracy': 0.832, 'Precision': 0.8402885110767645, 'Recall': 0.8183642749623683, 'F1 Score': 0.8291814946619216, 'ROC-AUC': 0.9081584999416243}\n",
      "\n",
      "              precision    recall  f1-score   support\n",
      "\n",
      "           0       0.82      0.85      0.83      2007\n",
      "           1       0.84      0.82      0.83      1993\n",
      "\n",
      "    accuracy                           0.83      4000\n",
      "   macro avg       0.83      0.83      0.83      4000\n",
      "weighted avg       0.83      0.83      0.83      4000\n",
      "\n"
     ]
    },
    {
     "data": {
      "image/png": "[encoded data removed]",
      "text/plain": [
       "<Figure size 640x480 with 2 Axes>"
      ]
     },
     "metadata": {},
     "output_type": "display_data"
    }
   ],
   "source": [
    "xgb_model = xgb.XGBClassifier(random_state = 0)\n",
    "xgb_model.fit(x_train_vect_pretrained, y_train)\n",
    "pred_xgb = xgb_model.predict(x_val_vect_pretrained)\n",
    "pred_xgb_prob = xgb_model.predict_proba(x_val_vect_pretrained)\n",
    "create_summary_for_model_metrics(y_val, pred_xgb, pred_xgb_prob[:,1])"
   ]
  },
  {
   "cell_type": "code",
   "execution_count": null,
   "id": "fdf215fc-8d9c-4af1-932b-8708b95e8cac",
   "metadata": {},
   "outputs": [],
   "source": []
  }
 ],
 "metadata": {
  "kernelspec": {
   "display_name": "Python 3 (ipykernel)",
   "language": "python",
   "name": "python3"
  },
  "language_info": {
   "codemirror_mode": {
    "name": "ipython",
    "version": 3
   },
   "file_extension": ".py",
   "mimetype": "text/x-python",
   "name": "python",
   "nbconvert_exporter": "python",
   "pygments_lexer": "ipython3",
   "version": "3.11.9"
  }
 },
 "nbformat": 4,
 "nbformat_minor": 5
}
