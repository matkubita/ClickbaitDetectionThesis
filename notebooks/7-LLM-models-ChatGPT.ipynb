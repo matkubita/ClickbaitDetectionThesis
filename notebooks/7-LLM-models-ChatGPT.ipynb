{
 "cells": [
  {
   "cell_type": "markdown",
   "id": "f6d5b141-a9dc-4af1-b2af-9d1f1e08a803",
   "metadata": {},
   "source": [
    "## LLM - models - Chatgpt\n",
    "\n",
    "In this notebook I use OpenAI API (batch mode) to get:\n",
    "1. Direct answer about LLM's prediction if this is clickbait or not\n",
    "2. Embeddings from llm to build model based on this.\n",
    "\n",
    "Things that may be improved:\n",
    " 1. Embeddings\n",
    "    * try different embeddings dimensions (1000?, ...)\n",
    "    * fine tuning of RF or xGboost\n",
    " 2. Direct call\n",
    "     * play with prompt\n",
    "     * play with temperature, and other parameters of models "
   ]
  },
  {
   "cell_type": "code",
   "execution_count": 21,
   "id": "7fef4b3a-1e69-496b-9b71-62c10b09f508",
   "metadata": {},
   "outputs": [],
   "source": [
    "# TODO: -> LLM Models (chat gpt api, bert?)"
   ]
  },
  {
   "cell_type": "code",
   "execution_count": 22,
   "id": "3294832a-c5c8-4616-98f2-34b2f3ec4de9",
   "metadata": {},
   "outputs": [],
   "source": [
    "# DATA PROCESSING, VISUALIZATION\n",
    "import pandas as pd\n",
    "import matplotlib.pyplot as plt\n",
    "import numpy as np\n",
    "import seaborn as sns\n",
    "import string\n",
    "import re\n",
    "\n",
    "# MODELS, MODEL EVALUATION\n",
    "from openai import OpenAI\n",
    "import xgboost as xgb\n",
    "from sklearn.ensemble import RandomForestClassifier\n",
    "from sklearn.metrics import confusion_matrix, ConfusionMatrixDisplay\n",
    "from sklearn.model_selection import train_test_split\n",
    "from sklearn.metrics import accuracy_score\n",
    "from sklearn.metrics import classification_report\n",
    "from sklearn.model_selection import GridSearchCV\n",
    "\n",
    "import os\n",
    "import json\n",
    "from typing import List\n",
    "import requests\n",
    "import time\n",
    "from tqdm import tqdm"
   ]
  },
  {
   "cell_type": "code",
   "execution_count": 23,
   "id": "958af36f-9746-431d-a44f-50a003960699",
   "metadata": {},
   "outputs": [],
   "source": [
    "df_merged = pd.read_csv(\"../data/merged_datasetes_balanced_huge.csv\")"
   ]
  },
  {
   "cell_type": "code",
   "execution_count": 24,
   "id": "0544c477-c26e-4937-8702-29326fbd50a3",
   "metadata": {},
   "outputs": [],
   "source": [
    "%run 0-Function-Helper.ipynb"
   ]
  },
  {
   "cell_type": "code",
   "execution_count": 25,
   "id": "d84b8ec8-5204-4219-91bf-95f33f3fe0e8",
   "metadata": {},
   "outputs": [],
   "source": [
    "x_train, x_test, y_train, y_test = train_test_split(\n",
    "    df_merged[\"title\"], \n",
    "    df_merged[\"clickbait\"],\n",
    "    test_size=0.2, \n",
    "    random_state=42\n",
    ")"
   ]
  },
  {
   "cell_type": "code",
   "execution_count": 26,
   "id": "7cd09a5b-e99e-43c1-b175-02cbf3adeace",
   "metadata": {},
   "outputs": [],
   "source": [
    "x_test, x_val, y_test, y_val = train_test_split(\n",
    "    x_test, \n",
    "    y_test,\n",
    "    test_size=0.5,  # 50% of the original x_test size for validation\n",
    "    random_state=42,\n",
    "    stratify=y_test\n",
    ")"
   ]
  },
  {
   "cell_type": "markdown",
   "id": "1b38261d-dc8f-434a-b337-68fbd04f00ad",
   "metadata": {},
   "source": [
    "### Setting OpenAI "
   ]
  },
  {
   "cell_type": "code",
   "execution_count": 27,
   "id": "f7396fff-5d46-4890-8e30-77cde2c73472",
   "metadata": {},
   "outputs": [],
   "source": [
    "with open(\"../file_path.txt\", 'r') as file:\n",
    "    file_path = file.read()\n",
    "\n",
    "with open(file_path, 'r') as file:\n",
    "    api_key = file.read()"
   ]
  },
  {
   "cell_type": "code",
   "execution_count": 28,
   "id": "80e2de60-9cf7-4e27-8569-6d731ae0ee37",
   "metadata": {},
   "outputs": [],
   "source": [
    "client = OpenAI(\n",
    "    api_key=api_key,\n",
    ")"
   ]
  },
  {
   "cell_type": "code",
   "execution_count": 29,
   "id": "4c1c2753-0ad2-4724-8e03-3aa5572f581e",
   "metadata": {},
   "outputs": [
    {
     "name": "stdout",
     "output_type": "stream",
     "text": [
      "{'description': 'request_embeddings_val_1'}\n",
      "file-Jp0FRzL4HbA1eO6SsWCHCMSc\n",
      "\n",
      "{'description': 'request_embeddings_train_1'}\n",
      "file-qawg0mgoWUiVYSzl0zXrPd4z\n",
      "\n",
      "{'description': 'request_embeddings_train_1'}\n",
      "file-ROLHmBliBCnJwhEddNseh6UQ\n",
      "\n",
      "{'description': 'request_direct_val_1'}\n",
      "file-Udjo8SDegiWRbrqZMtkpwudL\n",
      "\n",
      "{'description': 'request_direct_test_1'}\n",
      "file-8FidiNqHNoDEaRN7V9IM8ElL\n",
      "\n",
      "{'description': 'request_direct_test_1'}\n",
      "file-1y4NvnE0ekgGs8mn9eo8iDpD\n",
      "\n",
      "{'description': 'request_embeddings_train_1'}\n",
      "file-YgKZUOZgNBk2eZRhssT30d7g\n",
      "\n",
      "{'description': 'full data embeddings train full_2'}\n",
      "file-6HO8OKRsbcmfIyBEGVU9NdxL\n",
      "\n",
      "{'description': 'full data'}\n",
      "file-xmssGvqJCzDPlG0Ay4k7m4TV\n",
      "\n",
      "{'description': 'full data'}\n",
      "None\n",
      "\n",
      "{'description': 'full data embeddings test_full_2'}\n",
      "file-n1oSbiOpnd2UWTY5AAUhSadu\n",
      "\n",
      "{'description': 'full data embeddings train full_2'}\n",
      "file-U2AxJkwpe21CiGX2TNiw33xs\n",
      "\n",
      "{'description': 'full data embeddings train full'}\n",
      "file-3J8wSNhSYpwAWSHRnvzEWFDg\n",
      "\n",
      "{'description': 'full data embeddings train_1'}\n",
      "file-BXkzxUp5nl9aYWN9x6o0sIhV\n",
      "\n",
      "{'description': 'full data embeddings test'}\n",
      "file-VdeFVPfsSPCTVe5jfIpGITKP\n",
      "\n",
      "{'description': 'full data'}\n",
      "file-XPuAcYx9IdGDslC2LnnEE66J\n",
      "\n",
      "{'description': 'nightly eval job_real'}\n",
      "file-c9F5Br1u1qK8VshAraUouPSC\n",
      "\n",
      "{'description': 'nightly eval job_real'}\n",
      "None\n",
      "\n",
      "{'description': 'nightly eval job'}\n",
      "file-W7eAtSZU5eabSw3O0a6I62Gh\n",
      "\n"
     ]
    }
   ],
   "source": [
    "for req in client.batches.list(limit=5):\n",
    "    print(req.metadata)\n",
    "    print(req.output_file_id)\n",
    "    print()"
   ]
  },
  {
   "cell_type": "code",
   "execution_count": 28,
   "id": "647bf0cb-37c2-4a22-957e-97b3515747c5",
   "metadata": {},
   "outputs": [],
   "source": [
    "# Show full way of thinking and improving the prompt and considerations in paper. :)\n",
    "#  You can play with temperature, and other params, prompt, ..."
   ]
  },
  {
   "cell_type": "markdown",
   "id": "cf435c58-063e-45c7-857b-e1b2f675ebb3",
   "metadata": {},
   "source": [
    "# Direct prompt "
   ]
  },
  {
   "cell_type": "code",
   "execution_count": 29,
   "id": "275a16d4-9e53-4d2e-8adc-7dd8f8952e41",
   "metadata": {},
   "outputs": [],
   "source": [
    "prompt = \"\"\"You are an assistant tasked with classifying article titles as either clickbait or legitimate. \n",
    "Your response should be precise and straightforward: respond with only \"1\" if the news title appears to be clickbait, and only \"0\" if it seems legitimate. \n",
    "Do not include any additional text, explanations, or reasoning in your response.\n",
    "\n",
    "Here are some examples:\n",
    "\n",
    "Title: \"You Won't Believe What Happened When This Dog Went to the Park!\"\n",
    "Response: 1\n",
    "\n",
    "Title: \"Scientists Discover New Species in the Amazon Rainforest\"\n",
    "Response: 0\n",
    "\n",
    "Title: \"10 Life Hacks That Will Change the Way You Live Forever\"\n",
    "Response: 1\n",
    "\n",
    "Title: \"Government Announces New Infrastructure Plan for 2024\"\n",
    "Response: 0\n",
    "\n",
    "Title: \"The Shocking Truth Behind Your Morning Coffee!\"\n",
    "Response: 1\n",
    "\n",
    "Title: \"Local School Wins National Award for Academic Excellence\"\n",
    "Response: 0\n",
    "Here is the title that you need to classify: \n",
    "\"\"\"\n"
   ]
  },
  {
   "cell_type": "markdown",
   "id": "bc356043-cadc-4b22-aef9-ae668ada85b5",
   "metadata": {},
   "source": [
    "### CREATE REQUEST FILE FOR DIRECT PROMPT"
   ]
  },
  {
   "cell_type": "code",
   "execution_count": 30,
   "id": "36be2e94-9f64-44cc-8595-5bca6fd759b5",
   "metadata": {},
   "outputs": [],
   "source": [
    "prompts_val = [str(prompt + title) for title in x_val.tolist()]"
   ]
  },
  {
   "cell_type": "code",
   "execution_count": 31,
   "id": "738088c9-4570-4aac-9f89-6b5ea29e36cc",
   "metadata": {},
   "outputs": [
    {
     "data": {
      "text/plain": [
       "'You are an assistant tasked with classifying article titles as either clickbait or legitimate. Your response should be precise and straightforward: respond with only \"1\" if the news title appears to be clickbait, and only \"0\" if it seems legitimate. Do not include any additional text, explanations, or reasoning in your response.\\n\\nHere are some examples:\\n\\nTitle: \"You Won\\'t Believe What Happened When This Dog Went to the Park!\"\\nResponse: 1\\n\\nTitle: \"Scientists Discover New Species in the Amazon Rainforest\"\\nResponse: 0\\n\\nTitle: \"10 Life Hacks That Will Change the Way You Live Forever\"\\nResponse: 1\\n\\nTitle: \"Government Announces New Infrastructure Plan for 2024\"\\nResponse: 0\\n\\nTitle: \"The Shocking Truth Behind Your Morning Coffee!\"\\nResponse: 1\\n\\nTitle: \"Local School Wins National Award for Academic Excellence\"\\nResponse: 0\\nHere is the title that you need to classify: \\nArtists Record Joan Manuel Serrat\\'s \\'Mediterraneo\\' for Refugees: Watch'"
      ]
     },
     "execution_count": 31,
     "metadata": {},
     "output_type": "execute_result"
    }
   ],
   "source": [
    "prompts_val[0]"
   ]
  },
  {
   "cell_type": "code",
   "execution_count": 32,
   "id": "97f06df6-66f7-4f73-8a83-26d55403558a",
   "metadata": {},
   "outputs": [],
   "source": [
    "def create_batch_request_to_open_ai_direct_prompt(\n",
    "    list_of_prompts: List[str],\n",
    "    name_of_request_file: str,\n",
    "    description_of_request: str,   \n",
    "):\n",
    "\n",
    "    dictionary = [{\n",
    "        \"custom_id\": f\"request{i}\", \n",
    "        \"method\": \"POST\", \n",
    "        \"url\": \"/v1/chat/completions\", \n",
    "        \"body\": {\"model\": \"gpt-4o-mini\", \n",
    "                 \"messages\": [\n",
    "                     {\"role\": \"system\", \"content\": \"assistant.\"},\n",
    "                     {\"role\": \"user\", \"content\": prompt}],\n",
    "                 \"max_tokens\": 1000}\n",
    "    } for i, prompt in enumerate(prompts_val)]\n",
    "    \n",
    "    with open(f\"../request_files_openai/{name_of_request_file}.jsonl\", \"w\") as outfile:\n",
    "        for request__ in dictionary:\n",
    "            json.dump(request__, outfile)\n",
    "            outfile.write('\\n')\n",
    "    \n",
    "    \n",
    "    batch_input_file = client.files.create(\n",
    "      file=open(fr\"../request_files_openai/{name_of_request_file}.jsonl\", \"rb\"),\n",
    "      purpose=\"batch\"\n",
    "    )\n",
    "    \n",
    "    return client.batches.create(\n",
    "        input_file_id=batch_input_file.id,\n",
    "        endpoint=\"/v1/chat/completions\",\n",
    "        completion_window=\"24h\",\n",
    "        metadata={\n",
    "          \"description\": description_of_request\n",
    "        }\n",
    "    )"
   ]
  },
  {
   "cell_type": "code",
   "execution_count": 33,
   "id": "d02d28b5-707e-4ce7-89ac-927320822e62",
   "metadata": {},
   "outputs": [
    {
     "name": "stdout",
     "output_type": "stream",
     "text": [
      "Batch(id='batch_672f9bdede048190ab676f78ef859c54', completion_window='24h', created_at=1731173342, endpoint='/v1/chat/completions', input_file_id='file-bXKzd5CAynHcY4jiB6RjGpDg', object='batch', status='validating', cancelled_at=None, cancelling_at=None, completed_at=None, error_file_id=None, errors=None, expired_at=None, expires_at=1731259742, failed_at=None, finalizing_at=None, in_progress_at=None, metadata={'description': 'request_direct_val_1'}, output_file_id=None, request_counts=BatchRequestCounts(completed=0, failed=0, total=0))\n"
     ]
    }
   ],
   "source": [
    "request_direct = create_batch_request_to_open_ai_direct_prompt(\n",
    "    list_of_prompts=prompts_val,\n",
    "    name_of_request_file=\"request_direct_val_1\",\n",
    "    description_of_request=\"request_direct_val_1\"\n",
    ")\n",
    "print(client.batches.retrieve(request_direct.id))"
   ]
  },
  {
   "cell_type": "code",
   "execution_count": 30,
   "id": "4af07b33-ef1a-4fb0-93aa-dac834b7a640",
   "metadata": {},
   "outputs": [
    {
     "ename": "NameError",
     "evalue": "name 'request_direct' is not defined",
     "output_type": "error",
     "traceback": [
      "\u001b[1;31m---------------------------------------------------------------------------\u001b[0m",
      "\u001b[1;31mNameError\u001b[0m                                 Traceback (most recent call last)",
      "Cell \u001b[1;32mIn[30], line 1\u001b[0m\n\u001b[1;32m----> 1\u001b[0m \u001b[38;5;28mprint\u001b[39m(client\u001b[38;5;241m.\u001b[39mbatches\u001b[38;5;241m.\u001b[39mretrieve(\u001b[43mrequest_direct\u001b[49m\u001b[38;5;241m.\u001b[39mid))\n",
      "\u001b[1;31mNameError\u001b[0m: name 'request_direct' is not defined"
     ]
    }
   ],
   "source": [
    "print(client.batches.retrieve(request_direct.id))"
   ]
  },
  {
   "cell_type": "code",
   "execution_count": 34,
   "id": "bf632bea-73f5-47ac-85df-cf15e94cf82e",
   "metadata": {},
   "outputs": [
    {
     "name": "stdout",
     "output_type": "stream",
     "text": [
      "None\n"
     ]
    }
   ],
   "source": [
    "print(client.batches.retrieve(request_direct.id).output_file_id)"
   ]
  },
  {
   "cell_type": "code",
   "execution_count": 71,
   "id": "7790ddea-6c07-45e9-8b37-be5beff6f60a",
   "metadata": {},
   "outputs": [
    {
     "data": {
      "text/plain": [
       "4000"
      ]
     },
     "execution_count": 71,
     "metadata": {},
     "output_type": "execute_result"
    }
   ],
   "source": [
    "# file_response = client.files.content(client.batches.retrieve(request_direct.id).output_file_id)\n",
    "file_response = client.files.content(\"file-Udjo8SDegiWRbrqZMtkpwudL\")\n",
    "\n",
    "pred = []\n",
    "for line in file_response.text.splitlines():\n",
    "    prediction_str = json.loads(line)['response']['body']['choices'][0]['message']['content']\n",
    "    pred.append(int(prediction_str))\n",
    "len(pred)"
   ]
  },
  {
   "cell_type": "code",
   "execution_count": 73,
   "id": "ee84b1e9-a257-43ea-809d-189581763a72",
   "metadata": {},
   "outputs": [
    {
     "name": "stdout",
     "output_type": "stream",
     "text": [
      "{'Accuracy': 0.77975, 'Precision': 0.7889812889812889, 'Recall': 0.7616658304064224, 'F1 Score': 0.7750829716619861, 'ROC-AUC': None}\n",
      "\n",
      "              precision    recall  f1-score   support\n",
      "\n",
      "           0       0.77      0.80      0.78      2007\n",
      "           1       0.79      0.76      0.78      1993\n",
      "\n",
      "    accuracy                           0.78      4000\n",
      "   macro avg       0.78      0.78      0.78      4000\n",
      "weighted avg       0.78      0.78      0.78      4000\n",
      "\n"
     ]
    },
    {
     "data": {
      "image/png": "[encoded data removed]",
      "text/plain": [
       "<Figure size 640x480 with 2 Axes>"
      ]
     },
     "metadata": {},
     "output_type": "display_data"
    }
   ],
   "source": [
    "create_summary_for_model_metrics(y_val, pred, None)"
   ]
  },
  {
   "cell_type": "markdown",
   "id": "4f5b5911-5c74-4e1a-9fa4-014473e3d234",
   "metadata": {},
   "source": [
    "# Embeddings"
   ]
  },
  {
   "cell_type": "code",
   "execution_count": 50,
   "id": "1459cc8e-dd52-4392-80ac-fa916eba84f0",
   "metadata": {},
   "outputs": [],
   "source": [
    "def create_batch_request_to_open_ai_embeddings(\n",
    "    list_of_texts: List[str],\n",
    "    name_of_request_file: str,\n",
    "    description_of_request: str,   \n",
    "):\n",
    "    \"\"\"Function that creates .jsonl file with appropriate format and then sends call to create embeddings using batches\"\"\"\n",
    "    \n",
    "    dictionary_req = [{\n",
    "        \"custom_id\": f\"request{i}\", \n",
    "        \"method\": \"POST\", \n",
    "        \"url\": \"/v1/embeddings\", \n",
    "        \"body\": {\"model\": \"text-embedding-3-large\",\n",
    "                 \"input\": f\"{prompt}\"\n",
    "                }\n",
    "    } for i, prompt in enumerate(list_of_texts)]\n",
    "    \n",
    "    with open(f\"../request_files_openai/{name_of_request_file}.jsonl\", \"w\") as outfile:\n",
    "        for request__ in dictionary_req:\n",
    "            json.dump(request__, outfile)\n",
    "            outfile.write('\\n')\n",
    "    \n",
    "    batch_input_file = client.files.create(\n",
    "      file=open(fr\"../request_files_openai/{name_of_request_file}.jsonl\", \"rb\"),\n",
    "      purpose=\"batch\"\n",
    "    )\n",
    "    \n",
    "    return client.batches.create(\n",
    "        input_file_id=batch_input_file.id,\n",
    "        endpoint=\"/v1/embeddings\",\n",
    "        completion_window=\"24h\",\n",
    "        metadata={\n",
    "          \"description\": description_of_request\n",
    "        }\n",
    "    )\n",
    "    "
   ]
  },
  {
   "cell_type": "markdown",
   "id": "e25b0e52-08dc-4407-952d-17d2e69e99f4",
   "metadata": {},
   "source": [
    "## Getting embeddings for train"
   ]
  },
  {
   "cell_type": "code",
   "execution_count": 51,
   "id": "753a0229-ace8-4190-a545-7becc8ed08c6",
   "metadata": {},
   "outputs": [
    {
     "name": "stdout",
     "output_type": "stream",
     "text": [
      "Batch(id='batch_673084929d8481908234c51ca8a6d5c0', completion_window='24h', created_at=1731232914, endpoint='/v1/embeddings', input_file_id='file-dCIUNKzm2wEXHymP89cGc0ts', object='batch', status='validating', cancelled_at=None, cancelling_at=None, completed_at=None, error_file_id=None, errors=None, expired_at=None, expires_at=1731319314, failed_at=None, finalizing_at=None, in_progress_at=None, metadata={'description': 'request_embeddings_train_2_10_11_2024'}, output_file_id=None, request_counts=BatchRequestCounts(completed=0, failed=0, total=0))\n"
     ]
    }
   ],
   "source": [
    "batch_request_train = create_batch_request_to_open_ai_embeddings(\n",
    "    list_of_texts = x_train.tolist(),\n",
    "    name_of_request_file = \"request_embeddings_train_2_10_11_2024\",\n",
    "    description_of_request = \"request_embeddings_train_2_10_11_2024\"\n",
    ")\n",
    "print(batch_request_train)"
   ]
  },
  {
   "cell_type": "code",
   "execution_count": 89,
   "id": "923e6bbe-e226-4e77-8397-40edf3c592e3",
   "metadata": {},
   "outputs": [
    {
     "name": "stdout",
     "output_type": "stream",
     "text": [
      "Batch(id='batch_673084929d8481908234c51ca8a6d5c0', completion_window='24h', created_at=1731232914, endpoint='/v1/embeddings', input_file_id='file-dCIUNKzm2wEXHymP89cGc0ts', object='batch', status='completed', cancelled_at=None, cancelling_at=None, completed_at=1731238136, error_file_id=None, errors=None, expired_at=None, expires_at=1731319314, failed_at=None, finalizing_at=1731236163, in_progress_at=1731232921, metadata={'description': 'request_embeddings_train_2_10_11_2024'}, output_file_id='file-So6hTX0v7wtZsDLLAwxeXZ4R', request_counts=BatchRequestCounts(completed=32000, failed=0, total=32000))\n"
     ]
    }
   ],
   "source": [
    "print(client.batches.retrieve(\"batch_673084929d8481908234c51ca8a6d5c0\"))"
   ]
  },
  {
   "cell_type": "code",
   "execution_count": 90,
   "id": "688c2d30-f888-4c20-ad23-bb812173d188",
   "metadata": {},
   "outputs": [],
   "source": [
    "result_file_id = \"file-So6hTX0v7wtZsDLLAwxeXZ4R\"\n",
    "result = client.files.content(result_file_id).content"
   ]
  },
  {
   "cell_type": "code",
   "execution_count": 91,
   "id": "c1997e88-6ae4-4a40-9d76-84313d767809",
   "metadata": {},
   "outputs": [],
   "source": [
    "result_file_name = \"../request_files_openai/batch_result_train_10_11_2024.jsonl\"\n",
    "\n",
    "with open(result_file_name, 'wb') as file:\n",
    "    file.write(result)"
   ]
  },
  {
   "cell_type": "code",
   "execution_count": 92,
   "id": "2c639951-7003-4e79-b014-e9b2fd140553",
   "metadata": {},
   "outputs": [],
   "source": [
    "embeddings_x_train_df = []\n",
    "with open(result_file_name, 'r') as file:\n",
    "    for line in file:\n",
    "        # Parsing the JSON string into a dict and appending to the list of results\n",
    "        json_object = json.loads(line.strip())['response']['body']['data'][0]['embedding']\n",
    "        embeddings_x_train_df.append(json_object)"
   ]
  },
  {
   "cell_type": "markdown",
   "id": "2c5a506e-075b-4ed2-9598-ca3a5b1d73a1",
   "metadata": {},
   "source": [
    "## Getting embeddings for val"
   ]
  },
  {
   "cell_type": "code",
   "execution_count": 64,
   "id": "ceefc613-8661-4833-957f-40549fe91a5a",
   "metadata": {},
   "outputs": [
    {
     "name": "stdout",
     "output_type": "stream",
     "text": [
      "Batch(id='batch_672fa08e2e5c81909d6ac8306ab1c7ae', completion_window='24h', created_at=1731174542, endpoint='/v1/embeddings', input_file_id='file-P1ARKk3l9ElzZTdx8tRfa57U', object='batch', status='validating', cancelled_at=None, cancelling_at=None, completed_at=None, error_file_id=None, errors=None, expired_at=None, expires_at=1731260942, failed_at=None, finalizing_at=None, in_progress_at=None, metadata={'description': 'request_embeddings_val_1'}, output_file_id=None, request_counts=BatchRequestCounts(completed=0, failed=0, total=0))\n"
     ]
    }
   ],
   "source": [
    "batch_request_val = create_batch_request_to_open_ai_embeddings(\n",
    "    list_of_texts = x_val.tolist(),\n",
    "    name_of_request_file = \"request_embeddings_val_1\",\n",
    "    description_of_request = \"request_embeddings_val_1\"\n",
    ")\n",
    "print(batch_request_val)"
   ]
  },
  {
   "cell_type": "code",
   "execution_count": 46,
   "id": "27f4e640-51e6-4405-a907-af1b7237f1a4",
   "metadata": {},
   "outputs": [
    {
     "name": "stdout",
     "output_type": "stream",
     "text": [
      "Batch(id='batch_672fa08e2e5c81909d6ac8306ab1c7ae', completion_window='24h', created_at=1731174542, endpoint='/v1/embeddings', input_file_id='file-P1ARKk3l9ElzZTdx8tRfa57U', object='batch', status='completed', cancelled_at=None, cancelling_at=None, completed_at=1731175943, error_file_id=None, errors=None, expired_at=None, expires_at=1731260942, failed_at=None, finalizing_at=1731175703, in_progress_at=1731174543, metadata={'description': 'request_embeddings_val_1'}, output_file_id='file-Jp0FRzL4HbA1eO6SsWCHCMSc', request_counts=BatchRequestCounts(completed=4000, failed=0, total=4000))\n"
     ]
    }
   ],
   "source": [
    "print(client.batches.retrieve(\"batch_672fa08e2e5c81909d6ac8306ab1c7ae\"))"
   ]
  },
  {
   "cell_type": "code",
   "execution_count": 80,
   "id": "5028f26c-750e-4627-be29-dfee6058432d",
   "metadata": {},
   "outputs": [],
   "source": [
    "result_file_id = \"file-Jp0FRzL4HbA1eO6SsWCHCMSc\"\n",
    "result = client.files.content(result_file_id).content"
   ]
  },
  {
   "cell_type": "code",
   "execution_count": 81,
   "id": "18330c85-9aa7-40da-bb2d-fba1863f6ddf",
   "metadata": {},
   "outputs": [],
   "source": [
    "result_file_name = \"../request_files_openai/batch_result_val_10_11_2024.jsonl\"\n",
    "\n",
    "with open(result_file_name, 'wb') as file:\n",
    "    file.write(result)"
   ]
  },
  {
   "cell_type": "code",
   "execution_count": 82,
   "id": "7cd5d1ca-a8ae-409e-a913-f9f7745c7973",
   "metadata": {},
   "outputs": [],
   "source": [
    "embeddings_x_val_df = []\n",
    "with open(result_file_name, 'r') as file:\n",
    "    for line in file:\n",
    "        # Parsing the JSON string into a dict and appending to the list of results\n",
    "        json_object = json.loads(line.strip())['response']['body']['data'][0]['embedding']\n",
    "        embeddings_x_val_df.append(json_object)"
   ]
  },
  {
   "cell_type": "markdown",
   "id": "c1962e31-6cc3-43f1-81f5-020f960985ac",
   "metadata": {
    "jp-MarkdownHeadingCollapsed": true
   },
   "source": [
    "## Functions for synchronous API calls"
   ]
  },
  {
   "cell_type": "code",
   "execution_count": 71,
   "id": "6180139d-60be-4f9a-9e88-c435a207833d",
   "metadata": {},
   "outputs": [],
   "source": [
    "def return_embeddings_chat(prompt):\n",
    "    res = requests.post(f\"https://api.openai.com/v1/embeddings\",\n",
    "        headers = {\n",
    "          \"Content-Type\": \"application/json\",\n",
    "          \"Authorization\": f\"Bearer {api_key}\"\n",
    "        },\n",
    "        json={\n",
    "          \"model\": \"text-embedding-3-large\",\n",
    "          \"encoding_format\": \"float\",\n",
    "          \"input\": f\"{prompt}\"\n",
    "        }).json()\n",
    "    return res[\"data\"][0][\"embedding\"]"
   ]
  },
  {
   "cell_type": "code",
   "execution_count": 72,
   "id": "671b4d78-827b-4795-afae-14fb9a0693cf",
   "metadata": {},
   "outputs": [],
   "source": [
    "def batch_embeddings(prompts, batch_size=250):\n",
    "    url = \"https://api.openai.com/v1/embeddings\"\n",
    "    headers = {\n",
    "        \"Content-Type\": \"application/json\",\n",
    "        \"Authorization\": f\"Bearer {api_key}\"\n",
    "    }\n",
    "    embeddings = []\n",
    "    for i in tqdm(range(0, len(prompts), batch_size), desc=\"Processing Batches\"):\n",
    "        batch = prompts[i:i + batch_size]\n",
    "        response = requests.post(url, headers=headers, json={\n",
    "            \"model\": \"text-embedding-3-large\",\n",
    "            \"encoding_format\": \"float\",\n",
    "            \"input\": batch\n",
    "        }).json()\n",
    "        embeddings.extend([item[\"embedding\"] for item in response[\"data\"]])\n",
    "    return embeddings"
   ]
  },
  {
   "cell_type": "markdown",
   "id": "ea7c7813-675f-4743-a7b0-2164a4908d18",
   "metadata": {},
   "source": [
    "# Model fitting with embeddings"
   ]
  },
  {
   "cell_type": "markdown",
   "id": "bbbe939f-a0c2-41c6-84b0-5abb473bb225",
   "metadata": {},
   "source": [
    "## RandomForest"
   ]
  },
  {
   "cell_type": "code",
   "execution_count": 93,
   "id": "1249f186-e0f4-4c0e-93a5-4ee64aec6cf0",
   "metadata": {},
   "outputs": [],
   "source": [
    "RF = RandomForestClassifier(random_state = 0)\n",
    "RF.fit(embeddings_x_train_df, y_train)\n",
    "pred_rf = RF.predict(embeddings_x_val_df)\n",
    "pred_rf_prob = RF.predict_proba(embeddings_x_val_df)"
   ]
  },
  {
   "cell_type": "code",
   "execution_count": 94,
   "id": "33ff05ab-5a2e-46c9-867a-86922aa2787f",
   "metadata": {},
   "outputs": [
    {
     "name": "stdout",
     "output_type": "stream",
     "text": [
      "{'Accuracy': 0.85975, 'Precision': 0.8808510638297873, 'Recall': 0.8309081786251882, 'F1 Score': 0.855151045701007, 'ROC-AUC': 0.9323707965422577}\n",
      "\n",
      "              precision    recall  f1-score   support\n",
      "\n",
      "           0       0.84      0.89      0.86      2007\n",
      "           1       0.88      0.83      0.86      1993\n",
      "\n",
      "    accuracy                           0.86      4000\n",
      "   macro avg       0.86      0.86      0.86      4000\n",
      "weighted avg       0.86      0.86      0.86      4000\n",
      "\n"
     ]
    },
    {
     "data": {
      "image/png": "[encoded data removed]",
      "text/plain": [
       "<Figure size 640x480 with 2 Axes>"
      ]
     },
     "metadata": {},
     "output_type": "display_data"
    }
   ],
   "source": [
    "create_summary_for_model_metrics(y_val, pred_rf, pred_rf_prob[:,1])"
   ]
  },
  {
   "cell_type": "markdown",
   "id": "5fe8370c-9120-43eb-90a9-6fdc7421477f",
   "metadata": {},
   "source": [
    "### Xgboost"
   ]
  },
  {
   "cell_type": "code",
   "execution_count": 95,
   "id": "7a13e615-e524-4c07-adc7-cc6c12b32c5a",
   "metadata": {},
   "outputs": [],
   "source": [
    "xgb_model = xgb.XGBClassifier(random_state = 0)\n",
    "xgb_model.fit(embeddings_x_train_df, y_train)\n",
    "pred_xgb = xgb_model.predict(embeddings_x_val_df)\n",
    "pred_xgb_prob = xgb_model.predict_proba(embeddings_x_val_df)"
   ]
  },
  {
   "cell_type": "code",
   "execution_count": 96,
   "id": "73f3538a-728b-47ba-98bf-3201bc3d0a89",
   "metadata": {},
   "outputs": [
    {
     "name": "stdout",
     "output_type": "stream",
     "text": [
      "{'Accuracy': 0.8665, 'Precision': 0.8770025839793282, 'Recall': 0.8514801806322128, 'F1 Score': 0.8640529531568228, 'ROC-AUC': 0.9375123595264041}\n",
      "\n",
      "              precision    recall  f1-score   support\n",
      "\n",
      "           0       0.86      0.88      0.87      2007\n",
      "           1       0.88      0.85      0.86      1993\n",
      "\n",
      "    accuracy                           0.87      4000\n",
      "   macro avg       0.87      0.87      0.87      4000\n",
      "weighted avg       0.87      0.87      0.87      4000\n",
      "\n"
     ]
    },
    {
     "data": {
      "image/png": "[encoded data removed]",
      "text/plain": [
       "<Figure size 640x480 with 2 Axes>"
      ]
     },
     "metadata": {},
     "output_type": "display_data"
    }
   ],
   "source": [
    "create_summary_for_model_metrics(y_val, pred_xgb, pred_xgb_prob[:,1])"
   ]
  },
  {
   "cell_type": "code",
   "execution_count": null,
   "id": "5af1b724-2d77-41b5-bd24-80d9f571ccde",
   "metadata": {},
   "outputs": [],
   "source": []
  }
 ],
 "metadata": {
  "kernelspec": {
   "display_name": "Python 3 (ipykernel)",
   "language": "python",
   "name": "python3"
  },
  "language_info": {
   "codemirror_mode": {
    "name": "ipython",
    "version": 3
   },
   "file_extension": ".py",
   "mimetype": "text/x-python",
   "name": "python",
   "nbconvert_exporter": "python",
   "pygments_lexer": "ipython3",
   "version": "3.11.9"
  }
 },
 "nbformat": 4,
 "nbformat_minor": 5
}
