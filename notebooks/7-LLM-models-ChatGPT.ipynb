{
 "cells": [
  {
   "cell_type": "code",
   "execution_count": 26,
   "id": "d7b53d33-69ba-4363-a10b-a44364f24770",
   "metadata": {},
   "outputs": [],
   "source": [
    "##TODO -> try LLM models (chat gpt or bert), \n",
    "# would be good to use both title and body"
   ]
  },
  {
   "cell_type": "code",
   "execution_count": 27,
   "id": "3294832a-c5c8-4616-98f2-34b2f3ec4de9",
   "metadata": {},
   "outputs": [],
   "source": [
    "import pandas as pd\n",
    "import matplotlib.pyplot as plt\n",
    "import numpy as np\n",
    "from sklearn.metrics import confusion_matrix, ConfusionMatrixDisplay\n",
    "from sklearn.ensemble import RandomForestClassifier\n",
    "import seaborn as sns\n",
    "import string\n",
    "import re\n",
    "from sklearn.model_selection import train_test_split\n",
    "from sklearn.metrics import accuracy_score\n",
    "from sklearn.metrics import classification_report\n",
    "import requests\n",
    "from tqdm import tqdm\n",
    "import xgboost as xgb\n",
    "tqdm.pandas()\n",
    "import os\n",
    "from openai import OpenAI\n",
    "import os"
   ]
  },
  {
   "cell_type": "code",
   "execution_count": 111,
   "id": "958af36f-9746-431d-a44f-50a003960699",
   "metadata": {},
   "outputs": [],
   "source": [
    "df_merged = pd.read_csv(\"../data/merged_datasetes_balanced.csv\")"
   ]
  },
  {
   "cell_type": "code",
   "execution_count": 112,
   "id": "d84b8ec8-5204-4219-91bf-95f33f3fe0e8",
   "metadata": {},
   "outputs": [],
   "source": [
    "# Actually there is no need to split it here, only to stay consistent with other notebooks\n",
    "x_train, x_test, y_train, y_test = train_test_split(\n",
    "    df_merged[\"title\"], \n",
    "    df_merged[\"clickbait\"],\n",
    "    test_size=0.2, \n",
    "    random_state=42\n",
    ")"
   ]
  },
  {
   "cell_type": "code",
   "execution_count": 113,
   "id": "96ba5bc4-6f2f-4aaa-9fbf-8a7360d1655b",
   "metadata": {},
   "outputs": [],
   "source": [
    "file_path = r\"C:\\Users\\Mateusz\\Desktop\\api_key_chat_gpt_kubita.txt\" \n",
    "\n",
    "with open(file_path, 'r') as file:\n",
    "    api_key = file.read()"
   ]
  },
  {
   "cell_type": "markdown",
   "id": "cf435c58-063e-45c7-857b-e1b2f675ebb3",
   "metadata": {},
   "source": [
    "# Direct prompt "
   ]
  },
  {
   "cell_type": "code",
   "execution_count": 114,
   "id": "275a16d4-9e53-4d2e-8adc-7dd8f8952e41",
   "metadata": {},
   "outputs": [],
   "source": [
    "prompt = \"\"\"You are an assistant tasked with classifying article titles as either clickbait or legitimate. Your response should be precise and straightforward: respond with only \"1\" if the news title appears to be clickbait, and only \"0\" if it seems legitimate. Do not include any additional text, explanations, or reasoning in your response.\n",
    "\n",
    "Here are some examples:\n",
    "\n",
    "Title: \"You Won't Believe What Happened When This Dog Went to the Park!\"\n",
    "Response: 1\n",
    "\n",
    "Title: \"Scientists Discover New Species in the Amazon Rainforest\"\n",
    "Response: 0\n",
    "\n",
    "Title: \"10 Life Hacks That Will Change the Way You Live Forever\"\n",
    "Response: 1\n",
    "\n",
    "Title: \"Government Announces New Infrastructure Plan for 2024\"\n",
    "Response: 0\n",
    "\n",
    "Title: \"The Shocking Truth Behind Your Morning Coffee!\"\n",
    "Response: 1\n",
    "\n",
    "Title: \"Local School Wins National Award for Academic Excellence\"\n",
    "Response: 0\n",
    "Here is the title that you need to classify: \n",
    "\"\"\"\n"
   ]
  },
  {
   "cell_type": "code",
   "execution_count": 115,
   "id": "0fdf5272-609d-48ad-9c13-9422bba67fd0",
   "metadata": {},
   "outputs": [],
   "source": [
    "prompts_test = [str(prompt + title) for title in x_test.tolist()]"
   ]
  },
  {
   "cell_type": "code",
   "execution_count": 117,
   "id": "d02d28b5-707e-4ce7-89ac-927320822e62",
   "metadata": {},
   "outputs": [],
   "source": [
    "dictionary = [{\n",
    "    \"custom_id\": f\"request{i}\", \n",
    "    \"method\": \"POST\", \n",
    "    \"url\": \"/v1/chat/completions\", \n",
    "    \"body\": {\"model\": \"gpt-4o-mini\", \n",
    "             \"messages\": [\n",
    "                 {\"role\": \"system\", \"content\": \"assistant.\"},\n",
    "                 {\"role\": \"user\", \"content\": prompt}],\n",
    "             \"max_tokens\": 1000}\n",
    "} for i, prompt in enumerate(prompts_test)]"
   ]
  },
  {
   "cell_type": "code",
   "execution_count": 118,
   "id": "0bb2c7b5-a8a0-4b9a-ade1-131ef935351c",
   "metadata": {},
   "outputs": [],
   "source": [
    "with open(\"sample.jsonl\", \"w\") as outfile:\n",
    "    for request__ in dictionary:\n",
    "        json.dump(request__, outfile)\n",
    "        outfile.write('\\n')"
   ]
  },
  {
   "cell_type": "code",
   "execution_count": 119,
   "id": "48683e17-2163-4eb7-a1b3-f85d0e9c4565",
   "metadata": {},
   "outputs": [
    {
     "name": "stdout",
     "output_type": "stream",
     "text": [
      "{\"custom_id\": \"request0\", \"method\": \"POST\", \"url\": \"/v1/chat/completions\", \"body\": {\"model\": \"gpt-4o-mini\", \"messages\": [{\"role\": \"system\", \"content\": \"assistant.\"}, {\"role\": \"user\", \"content\": \"You are an assistant tasked with classifying article titles as either clickbait or legitimate. Your response should be precise and straightforward: respond with only \\\"1\\\" if the news title appears to be clickbait, and only \\\"0\\\" if it seems legitimate. Do not include any additional text, explanations, or reasoning in your response.\\n\\nHere are some examples:\\n\\nTitle: \\\"You Won't Believe What Happened When This Dog Went to the Park!\\\"\\nResponse: 1\\n\\nTitle: \\\"Scientists Discover New Species in the Amazon Rainforest\\\"\\nResponse: 0\\n\\nTitle: \\\"10 Life Hacks That Will Change the Way You Live Forever\\\"\\nResponse: 1\\n\\nTitle: \\\"Government Announces New Infrastructure Plan for 2024\\\"\\nResponse: 0\\n\\nTitle: \\\"The Shocking Truth Behind Your Morning Coffee!\\\"\\nResponse: 1\\n\\nTitle: \\\"Local School Wins National Award for Academic Excellence\\\"\\nResponse: 0\\nHere is the title that you need to classify: \\nThe Dude Who Followed His Girlfriend Around The World Just Photographed Their Wedding Perfectly\"}], \"max_tokens\": 1000}}\n",
      "\n"
     ]
    }
   ],
   "source": [
    "with open(\"sample.jsonl\", 'r') as json_file:\n",
    "    first_line = json_file.readline()\n",
    "\n",
    "print(first_line)"
   ]
  },
  {
   "cell_type": "code",
   "execution_count": 121,
   "id": "3265f22d-5391-44e4-9e2a-d44fc2a424a6",
   "metadata": {},
   "outputs": [],
   "source": [
    "client = OpenAI(\n",
    "    api_key=api_key,\n",
    ")\n",
    "\n",
    "batch_input_file = client.files.create(\n",
    "  file=open(r\"sample.jsonl\", \"rb\"),\n",
    "  purpose=\"batch\"\n",
    ")"
   ]
  },
  {
   "cell_type": "code",
   "execution_count": 122,
   "id": "da0d8dcf-b4d8-40f6-a06c-c5b45b71a16a",
   "metadata": {},
   "outputs": [
    {
     "data": {
      "text/plain": [
       "Batch(id='batch_6726899043b88190baeed1e4a1b0b381', completion_window='24h', created_at=1730578832, endpoint='/v1/chat/completions', input_file_id='file-yXPXujcuML6NETEO3R5fkMmP', object='batch', status='validating', cancelled_at=None, cancelling_at=None, completed_at=None, error_file_id=None, errors=None, expired_at=None, expires_at=1730665232, failed_at=None, finalizing_at=None, in_progress_at=None, metadata={'description': 'full data'}, output_file_id=None, request_counts=BatchRequestCounts(completed=0, failed=0, total=0))"
      ]
     },
     "execution_count": 122,
     "metadata": {},
     "output_type": "execute_result"
    }
   ],
   "source": [
    "batch_input_file_id = batch_input_file.id\n",
    "\n",
    "client.batches.create(\n",
    "    input_file_id=batch_input_file_id,\n",
    "    endpoint=\"/v1/chat/completions\",\n",
    "    completion_window=\"24h\",\n",
    "    metadata={\n",
    "      \"description\": \"full data\"\n",
    "    }\n",
    ")"
   ]
  },
  {
   "cell_type": "code",
   "execution_count": 148,
   "id": "bf632bea-73f5-47ac-85df-cf15e94cf82e",
   "metadata": {},
   "outputs": [
    {
     "data": {
      "text/plain": [
       "Batch(id='batch_6726899043b88190baeed1e4a1b0b381', completion_window='24h', created_at=1730578832, endpoint='/v1/chat/completions', input_file_id='file-yXPXujcuML6NETEO3R5fkMmP', object='batch', status='completed', cancelled_at=None, cancelling_at=None, completed_at=1730580429, error_file_id=None, errors=None, expired_at=None, expires_at=1730665232, failed_at=None, finalizing_at=1730580011, in_progress_at=1730578833, metadata={'description': 'full data'}, output_file_id='file-XPuAcYx9IdGDslC2LnnEE66J', request_counts=BatchRequestCounts(completed=4000, failed=0, total=4000))"
      ]
     },
     "execution_count": 148,
     "metadata": {},
     "output_type": "execute_result"
    }
   ],
   "source": [
    "client.batches.retrieve(\"batch_6726899043b88190baeed1e4a1b0b381\")"
   ]
  },
  {
   "cell_type": "code",
   "execution_count": 149,
   "id": "7790ddea-6c07-45e9-8b37-be5beff6f60a",
   "metadata": {},
   "outputs": [
    {
     "name": "stderr",
     "output_type": "stream",
     "text": [
      "IOPub data rate exceeded.\n",
      "The Jupyter server will temporarily stop sending output\n",
      "to the client in order to avoid crashing it.\n",
      "To change this limit, set the config variable\n",
      "`--ServerApp.iopub_data_rate_limit`.\n",
      "\n",
      "Current values:\n",
      "ServerApp.iopub_data_rate_limit=1000000.0 (bytes/sec)\n",
      "ServerApp.rate_limit_window=3.0 (secs)\n",
      "\n"
     ]
    }
   ],
   "source": [
    "file_response = client.files.content(\"file-XPuAcYx9IdGDslC2LnnEE66J\")\n",
    "print(file_response.text)\n",
    "\n",
    "res = []\n",
    "for line in file_response.text.splitlines():\n",
    "    res.append(json.loads(line))"
   ]
  },
  {
   "cell_type": "code",
   "execution_count": 150,
   "id": "ef4af35d-8c5c-4ce9-8a19-96b302ee696b",
   "metadata": {},
   "outputs": [],
   "source": [
    "pred = []\n",
    "for i in range(len(res)):\n",
    "    if(res[i]['response']['body']['choices'][0]['message']['content'] not in  [\"0\", \"1\"]):\n",
    "        print('lul')\n",
    "    else:\n",
    "        pred.append(int(res[i]['response']['body']['choices'][0]['message']['content']))"
   ]
  },
  {
   "cell_type": "code",
   "execution_count": 152,
   "id": "726b93e0-6074-49cf-b774-cc57c6a48bea",
   "metadata": {},
   "outputs": [
    {
     "data": {
      "text/plain": [
       "4000"
      ]
     },
     "execution_count": 152,
     "metadata": {},
     "output_type": "execute_result"
    }
   ],
   "source": [
    "len(res)"
   ]
  },
  {
   "cell_type": "code",
   "execution_count": 153,
   "id": "e638908d-a5cb-4fb1-bbbe-6ee8b4d4d3ca",
   "metadata": {},
   "outputs": [
    {
     "data": {
      "text/plain": [
       "4000"
      ]
     },
     "execution_count": 153,
     "metadata": {},
     "output_type": "execute_result"
    }
   ],
   "source": [
    "len(pred)"
   ]
  },
  {
   "cell_type": "code",
   "execution_count": 151,
   "id": "4e65564e-e459-48de-9b31-e543da18a571",
   "metadata": {},
   "outputs": [
    {
     "data": {
      "text/plain": [
       "'1'"
      ]
     },
     "execution_count": 151,
     "metadata": {},
     "output_type": "execute_result"
    }
   ],
   "source": [
    "res[0]['response']['body']['choices'][0]['message']['content']"
   ]
  },
  {
   "cell_type": "code",
   "execution_count": 157,
   "id": "0cd3b77b-d6da-4d05-a25d-900dfb11788f",
   "metadata": {},
   "outputs": [
    {
     "name": "stdout",
     "output_type": "stream",
     "text": [
      "              precision    recall  f1-score   support\n",
      "\n",
      "           0       0.81      0.81      0.81      2019\n",
      "           1       0.81      0.81      0.81      1981\n",
      "\n",
      "    accuracy                           0.81      4000\n",
      "   macro avg       0.81      0.81      0.81      4000\n",
      "weighted avg       0.81      0.81      0.81      4000\n",
      "\n"
     ]
    },
    {
     "data": {
      "image/png": "[encoded data removed]",
      "text/plain": [
       "<Figure size 640x480 with 2 Axes>"
      ]
     },
     "metadata": {},
     "output_type": "display_data"
    }
   ],
   "source": [
    "print(classification_report(y_test, pred))\n",
    "\n",
    "cm = confusion_matrix(y_test, pred)\n",
    "disp = ConfusionMatrixDisplay(confusion_matrix=cm)\n",
    "disp.plot(cmap=plt.cm.Blues)\n",
    "plt.show()"
   ]
  },
  {
   "cell_type": "markdown",
   "id": "4f5b5911-5c74-4e1a-9fa4-014473e3d234",
   "metadata": {},
   "source": [
    "# Embeddings"
   ]
  },
  {
   "cell_type": "code",
   "execution_count": null,
   "id": "62a3d5d0-810e-4534-b653-d86a1c47f6f8",
   "metadata": {},
   "outputs": [],
   "source": [
    "#  You can do the same with embeddings -> get using batch file"
   ]
  },
  {
   "cell_type": "code",
   "execution_count": 137,
   "id": "f70642b1-f7a1-4aef-a3bc-7c80f87cf8cf",
   "metadata": {},
   "outputs": [
    {
     "data": {
      "text/plain": [
       "10650    The Dude Who Followed His Girlfriend Around Th...\n",
       "2041       UN condemns Israel's West Bank settlement plans\n",
       "8668                    France to Pay Nuclear Test Victims\n",
       "1114     Hong Kong Mall Escalator Snaps Into Reverse, P...\n",
       "13902    23 Historic Pictures From The Macy's Thanksgiv...\n",
       "                               ...                        \n",
       "4073                      Mugabe Rival Is Back in Zimbabwe\n",
       "7442           Texas Instruments Narrows Range of Forecast\n",
       "9999     CBI cuts UK growth forecasts while warning of ...\n",
       "1870     Johnny Depp's money worries blamed on $2m-a-mo...\n",
       "15196    18 Posts That Prove Coconut Oil Is The Answer ...\n",
       "Name: title, Length: 4000, dtype: object"
      ]
     },
     "execution_count": 137,
     "metadata": {},
     "output_type": "execute_result"
    }
   ],
   "source": [
    "x_test"
   ]
  },
  {
   "cell_type": "code",
   "execution_count": 139,
   "id": "ceefc613-8661-4833-957f-40549fe91a5a",
   "metadata": {},
   "outputs": [],
   "source": [
    "dictionary_req = [{\n",
    "    \"custom_id\": f\"request{i}\", \n",
    "    \"method\": \"POST\", \n",
    "    \"url\": \"/v1/embeddings\", \n",
    "    \"body\": {\"model\": \"text-embedding-3-large\",\n",
    "             \"input\": f\"{prompt}\"\n",
    "            }\n",
    "} for i, prompt in enumerate(x_test.tolist())]"
   ]
  },
  {
   "cell_type": "code",
   "execution_count": 140,
   "id": "a81812c3-5e7a-4f96-ac8d-ac5827b42e42",
   "metadata": {},
   "outputs": [],
   "source": [
    "with open(\"embeddings_request.jsonl\", \"w\") as outfile:\n",
    "    for request__ in dictionary_req:\n",
    "        json.dump(request__, outfile)\n",
    "        outfile.write('\\n')"
   ]
  },
  {
   "cell_type": "code",
   "execution_count": 141,
   "id": "acfe00bf-c27b-4b23-bb70-c5c5a4597193",
   "metadata": {},
   "outputs": [
    {
     "name": "stdout",
     "output_type": "stream",
     "text": [
      "{\"custom_id\": \"request0\", \"method\": \"POST\", \"url\": \"/v1/embeddings\", \"body\": {\"model\": \"text-embedding-3-large\", \"input\": \"The Dude Who Followed His Girlfriend Around The World Just Photographed Their Wedding Perfectly\"}}\n",
      "\n"
     ]
    }
   ],
   "source": [
    "with open(\"embeddings_request.jsonl\", 'r') as json_file:\n",
    "    first_line = json_file.readline()\n",
    "\n",
    "print(first_line)"
   ]
  },
  {
   "cell_type": "code",
   "execution_count": 142,
   "id": "1527004f-5e0a-43b0-be6d-015e8dd393ff",
   "metadata": {},
   "outputs": [],
   "source": [
    "batch_input_file = client.files.create(\n",
    "  file=open(r\"embeddings_request.jsonl\", \"rb\"),\n",
    "  purpose=\"batch\"\n",
    ")"
   ]
  },
  {
   "cell_type": "code",
   "execution_count": 143,
   "id": "e9225375-2517-4cce-afcb-b0547d15186d",
   "metadata": {},
   "outputs": [
    {
     "data": {
      "text/plain": [
       "Batch(id='batch_67268f6593348190a5c48e3dc7855970', completion_window='24h', created_at=1730580325, endpoint='/v1/embeddings', input_file_id='file-bNkL7jprlNscyc9gdtry8eZv', object='batch', status='validating', cancelled_at=None, cancelling_at=None, completed_at=None, error_file_id=None, errors=None, expired_at=None, expires_at=1730666725, failed_at=None, finalizing_at=None, in_progress_at=None, metadata={'description': 'full data embeddings test'}, output_file_id=None, request_counts=BatchRequestCounts(completed=0, failed=0, total=0))"
      ]
     },
     "execution_count": 143,
     "metadata": {},
     "output_type": "execute_result"
    }
   ],
   "source": [
    "batch_input_file_id = batch_input_file.id\n",
    "\n",
    "client.batches.create(\n",
    "    input_file_id=batch_input_file_id,\n",
    "    endpoint=\"/v1/embeddings\",\n",
    "    completion_window=\"24h\",\n",
    "    metadata={\n",
    "      \"description\": \"full data embeddings test\"\n",
    "    }\n",
    ")"
   ]
  },
  {
   "cell_type": "code",
   "execution_count": 146,
   "id": "1d02ae46-a682-404a-8853-98c473cf6d5a",
   "metadata": {},
   "outputs": [
    {
     "data": {
      "text/plain": [
       "Batch(id='batch_67268f6593348190a5c48e3dc7855970', completion_window='24h', created_at=1730580325, endpoint='/v1/embeddings', input_file_id='file-bNkL7jprlNscyc9gdtry8eZv', object='batch', status='in_progress', cancelled_at=None, cancelling_at=None, completed_at=None, error_file_id=None, errors=None, expired_at=None, expires_at=1730666725, failed_at=None, finalizing_at=None, in_progress_at=1730580326, metadata={'description': 'full data embeddings test'}, output_file_id=None, request_counts=BatchRequestCounts(completed=116, failed=0, total=4000))"
      ]
     },
     "execution_count": 146,
     "metadata": {},
     "output_type": "execute_result"
    }
   ],
   "source": [
    "client.batches.retrieve(\"batch_67268f6593348190a5c48e3dc7855970\")"
   ]
  },
  {
   "cell_type": "code",
   "execution_count": null,
   "id": "7551453d-d624-42aa-ab33-5df4248644c5",
   "metadata": {},
   "outputs": [],
   "source": []
  },
  {
   "cell_type": "code",
   "execution_count": null,
   "id": "9dcd2bfd-d0bc-4817-9f45-e671e05498c6",
   "metadata": {},
   "outputs": [],
   "source": []
  },
  {
   "cell_type": "code",
   "execution_count": null,
   "id": "e20359f9-98bd-47a2-83ba-dbc4c1ca2d8f",
   "metadata": {},
   "outputs": [],
   "source": []
  },
  {
   "cell_type": "code",
   "execution_count": null,
   "id": "6180139d-60be-4f9a-9e88-c435a207833d",
   "metadata": {},
   "outputs": [],
   "source": [
    "def return_embeddings_chat(prompt):\n",
    "    res = requests.post(f\"https://api.openai.com/v1/embeddings\",\n",
    "        headers = {\n",
    "          \"Content-Type\": \"application/json\",\n",
    "          \"Authorization\": f\"Bearer {api_key}\"\n",
    "        },\n",
    "        json={\n",
    "          \"model\": \"text-embedding-3-large\",\n",
    "          \"encoding_format\": \"float\",\n",
    "          \"input\": f\"{prompt}\"\n",
    "        }).json()\n",
    "    return res[\"data\"][0][\"embedding\"]"
   ]
  },
  {
   "cell_type": "code",
   "execution_count": 25,
   "id": "671b4d78-827b-4795-afae-14fb9a0693cf",
   "metadata": {},
   "outputs": [
    {
     "name": "stderr",
     "output_type": "stream",
     "text": [
      "Processing Batches: 100%|██████████████████████████████████████████████████████████████| 64/64 [04:35<00:00,  4.30s/it]\n",
      "Processing Batches: 100%|██████████████████████████████████████████████████████████████| 16/16 [01:20<00:00,  5.02s/it]\n"
     ]
    }
   ],
   "source": [
    "def batch_embeddings(prompts, batch_size=250):\n",
    "    url = \"https://api.openai.com/v1/embeddings\"\n",
    "    headers = {\n",
    "        \"Content-Type\": \"application/json\",\n",
    "        \"Authorization\": f\"Bearer {api_key}\"\n",
    "    }\n",
    "    embeddings = []\n",
    "    for i in tqdm(range(0, len(prompts), batch_size), desc=\"Processing Batches\"):\n",
    "        batch = prompts[i:i + batch_size]\n",
    "        response = requests.post(url, headers=headers, json={\n",
    "            \"model\": \"text-embedding-3-large\",\n",
    "            \"encoding_format\": \"float\",\n",
    "            \"input\": batch\n",
    "        }).json()\n",
    "        embeddings.extend([item[\"embedding\"] for item in response[\"data\"]])\n",
    "    return embeddings\n",
    "\n",
    "embeddings_train = batch_embeddings(x_train.tolist())\n",
    "embeddings_x_train_df = pd.DataFrame(embeddings_train)\n",
    "\n",
    "embeddings_test = batch_embeddings(x_test.tolist())\n",
    "embeddings_x_test_df = pd.DataFrame(embeddings_test)"
   ]
  },
  {
   "cell_type": "code",
   "execution_count": 31,
   "id": "17b8f68a-21be-456f-9a9a-d9dbc1037fcb",
   "metadata": {},
   "outputs": [
    {
     "data": {
      "text/html": [
       "<div>\n",
       "<style scoped>\n",
       "    .dataframe tbody tr th:only-of-type {\n",
       "        vertical-align: middle;\n",
       "    }\n",
       "\n",
       "    .dataframe tbody tr th {\n",
       "        vertical-align: top;\n",
       "    }\n",
       "\n",
       "    .dataframe thead th {\n",
       "        text-align: right;\n",
       "    }\n",
       "</style>\n",
       "<table border=\"1\" class=\"dataframe\">\n",
       "  <thead>\n",
       "    <tr style=\"text-align: right;\">\n",
       "      <th></th>\n",
       "      <th>0</th>\n",
       "      <th>1</th>\n",
       "      <th>2</th>\n",
       "      <th>3</th>\n",
       "      <th>4</th>\n",
       "      <th>5</th>\n",
       "      <th>6</th>\n",
       "      <th>7</th>\n",
       "      <th>8</th>\n",
       "      <th>9</th>\n",
       "      <th>...</th>\n",
       "      <th>3062</th>\n",
       "      <th>3063</th>\n",
       "      <th>3064</th>\n",
       "      <th>3065</th>\n",
       "      <th>3066</th>\n",
       "      <th>3067</th>\n",
       "      <th>3068</th>\n",
       "      <th>3069</th>\n",
       "      <th>3070</th>\n",
       "      <th>3071</th>\n",
       "    </tr>\n",
       "  </thead>\n",
       "  <tbody>\n",
       "    <tr>\n",
       "      <th>0</th>\n",
       "      <td>0.007708</td>\n",
       "      <td>0.002197</td>\n",
       "      <td>-0.014086</td>\n",
       "      <td>0.014623</td>\n",
       "      <td>-0.008665</td>\n",
       "      <td>-0.006117</td>\n",
       "      <td>-0.017423</td>\n",
       "      <td>0.028887</td>\n",
       "      <td>-0.000700</td>\n",
       "      <td>-0.000989</td>\n",
       "      <td>...</td>\n",
       "      <td>-0.018060</td>\n",
       "      <td>0.030225</td>\n",
       "      <td>-0.023598</td>\n",
       "      <td>0.024703</td>\n",
       "      <td>-0.006082</td>\n",
       "      <td>-0.007187</td>\n",
       "      <td>-0.008532</td>\n",
       "      <td>0.000581</td>\n",
       "      <td>-0.013207</td>\n",
       "      <td>0.010376</td>\n",
       "    </tr>\n",
       "    <tr>\n",
       "      <th>1</th>\n",
       "      <td>0.003838</td>\n",
       "      <td>0.015038</td>\n",
       "      <td>-0.017042</td>\n",
       "      <td>-0.000516</td>\n",
       "      <td>0.022288</td>\n",
       "      <td>-0.011407</td>\n",
       "      <td>0.011695</td>\n",
       "      <td>0.003888</td>\n",
       "      <td>-0.007381</td>\n",
       "      <td>0.019684</td>\n",
       "      <td>...</td>\n",
       "      <td>-0.009091</td>\n",
       "      <td>-0.005672</td>\n",
       "      <td>-0.007169</td>\n",
       "      <td>0.000538</td>\n",
       "      <td>0.011958</td>\n",
       "      <td>-0.000009</td>\n",
       "      <td>0.004267</td>\n",
       "      <td>0.003584</td>\n",
       "      <td>-0.012947</td>\n",
       "      <td>-0.004527</td>\n",
       "    </tr>\n",
       "    <tr>\n",
       "      <th>2</th>\n",
       "      <td>0.008249</td>\n",
       "      <td>-0.034727</td>\n",
       "      <td>-0.002449</td>\n",
       "      <td>-0.062764</td>\n",
       "      <td>-0.028221</td>\n",
       "      <td>0.033678</td>\n",
       "      <td>0.013288</td>\n",
       "      <td>0.001389</td>\n",
       "      <td>0.012948</td>\n",
       "      <td>-0.011091</td>\n",
       "      <td>...</td>\n",
       "      <td>0.014713</td>\n",
       "      <td>-0.006832</td>\n",
       "      <td>0.006414</td>\n",
       "      <td>0.001363</td>\n",
       "      <td>-0.014670</td>\n",
       "      <td>0.001666</td>\n",
       "      <td>0.013253</td>\n",
       "      <td>-0.007307</td>\n",
       "      <td>-0.020680</td>\n",
       "      <td>0.011970</td>\n",
       "    </tr>\n",
       "    <tr>\n",
       "      <th>3</th>\n",
       "      <td>0.016529</td>\n",
       "      <td>-0.026904</td>\n",
       "      <td>-0.019269</td>\n",
       "      <td>-0.006891</td>\n",
       "      <td>0.016948</td>\n",
       "      <td>-0.033656</td>\n",
       "      <td>0.030542</td>\n",
       "      <td>0.021529</td>\n",
       "      <td>-0.005573</td>\n",
       "      <td>0.034555</td>\n",
       "      <td>...</td>\n",
       "      <td>-0.016274</td>\n",
       "      <td>0.008182</td>\n",
       "      <td>-0.003741</td>\n",
       "      <td>-0.008175</td>\n",
       "      <td>0.026590</td>\n",
       "      <td>-0.010345</td>\n",
       "      <td>0.014987</td>\n",
       "      <td>0.012060</td>\n",
       "      <td>0.010600</td>\n",
       "      <td>-0.019673</td>\n",
       "    </tr>\n",
       "    <tr>\n",
       "      <th>4</th>\n",
       "      <td>0.008426</td>\n",
       "      <td>-0.036027</td>\n",
       "      <td>-0.021843</td>\n",
       "      <td>-0.001583</td>\n",
       "      <td>-0.021856</td>\n",
       "      <td>-0.024984</td>\n",
       "      <td>-0.000015</td>\n",
       "      <td>0.022546</td>\n",
       "      <td>-0.040112</td>\n",
       "      <td>0.033806</td>\n",
       "      <td>...</td>\n",
       "      <td>-0.018971</td>\n",
       "      <td>0.012045</td>\n",
       "      <td>0.025852</td>\n",
       "      <td>-0.006297</td>\n",
       "      <td>-0.017452</td>\n",
       "      <td>0.000578</td>\n",
       "      <td>0.012518</td>\n",
       "      <td>-0.000217</td>\n",
       "      <td>-0.018116</td>\n",
       "      <td>0.007788</td>\n",
       "    </tr>\n",
       "  </tbody>\n",
       "</table>\n",
       "<p>5 rows × 3072 columns</p>\n",
       "</div>"
      ],
      "text/plain": [
       "       0         1         2         3         4         5         6     \\\n",
       "0  0.007708  0.002197 -0.014086  0.014623 -0.008665 -0.006117 -0.017423   \n",
       "1  0.003838  0.015038 -0.017042 -0.000516  0.022288 -0.011407  0.011695   \n",
       "2  0.008249 -0.034727 -0.002449 -0.062764 -0.028221  0.033678  0.013288   \n",
       "3  0.016529 -0.026904 -0.019269 -0.006891  0.016948 -0.033656  0.030542   \n",
       "4  0.008426 -0.036027 -0.021843 -0.001583 -0.021856 -0.024984 -0.000015   \n",
       "\n",
       "       7         8         9     ...      3062      3063      3064      3065  \\\n",
       "0  0.028887 -0.000700 -0.000989  ... -0.018060  0.030225 -0.023598  0.024703   \n",
       "1  0.003888 -0.007381  0.019684  ... -0.009091 -0.005672 -0.007169  0.000538   \n",
       "2  0.001389  0.012948 -0.011091  ...  0.014713 -0.006832  0.006414  0.001363   \n",
       "3  0.021529 -0.005573  0.034555  ... -0.016274  0.008182 -0.003741 -0.008175   \n",
       "4  0.022546 -0.040112  0.033806  ... -0.018971  0.012045  0.025852 -0.006297   \n",
       "\n",
       "       3066      3067      3068      3069      3070      3071  \n",
       "0 -0.006082 -0.007187 -0.008532  0.000581 -0.013207  0.010376  \n",
       "1  0.011958 -0.000009  0.004267  0.003584 -0.012947 -0.004527  \n",
       "2 -0.014670  0.001666  0.013253 -0.007307 -0.020680  0.011970  \n",
       "3  0.026590 -0.010345  0.014987  0.012060  0.010600 -0.019673  \n",
       "4 -0.017452  0.000578  0.012518 -0.000217 -0.018116  0.007788  \n",
       "\n",
       "[5 rows x 3072 columns]"
      ]
     },
     "execution_count": 31,
     "metadata": {},
     "output_type": "execute_result"
    }
   ],
   "source": [
    "embeddings_x_train_df.head()"
   ]
  },
  {
   "cell_type": "markdown",
   "id": "ea7c7813-675f-4743-a7b0-2164a4908d18",
   "metadata": {},
   "source": [
    "# Model fitting with embeddings"
   ]
  },
  {
   "cell_type": "code",
   "execution_count": 29,
   "id": "1249f186-e0f4-4c0e-93a5-4ee64aec6cf0",
   "metadata": {},
   "outputs": [
    {
     "name": "stdout",
     "output_type": "stream",
     "text": [
      "0.844\n",
      "              precision    recall  f1-score   support\n",
      "\n",
      "           0       0.82      0.89      0.85      2019\n",
      "           1       0.88      0.80      0.84      1981\n",
      "\n",
      "    accuracy                           0.84      4000\n",
      "   macro avg       0.85      0.84      0.84      4000\n",
      "weighted avg       0.85      0.84      0.84      4000\n",
      "\n"
     ]
    },
    {
     "data": {
      "image/png": "[encoded data removed]",
      "text/plain": [
       "<Figure size 640x480 with 2 Axes>"
      ]
     },
     "metadata": {},
     "output_type": "display_data"
    }
   ],
   "source": [
    "RF = RandomForestClassifier(random_state = 0)\n",
    "RF.fit(embeddings_x_train_df, y_train)\n",
    "\n",
    "pred_rf = RF.predict(embeddings_x_test_df)\n",
    "print(RF.score(embeddings_x_test_df, y_test))\n",
    "print(classification_report(y_test, pred_rf))\n",
    "\n",
    "cm = confusion_matrix(y_test, pred_rf)\n",
    "disp = ConfusionMatrixDisplay(confusion_matrix=cm)\n",
    "disp.plot(cmap=plt.cm.Blues)\n",
    "plt.show()"
   ]
  },
  {
   "cell_type": "code",
   "execution_count": null,
   "id": "69239352-3d11-4723-b24f-7998e986fa80",
   "metadata": {},
   "outputs": [],
   "source": []
  },
  {
   "cell_type": "code",
   "execution_count": 30,
   "id": "7a13e615-e524-4c07-adc7-cc6c12b32c5a",
   "metadata": {},
   "outputs": [
    {
     "name": "stdout",
     "output_type": "stream",
     "text": [
      "              precision    recall  f1-score   support\n",
      "\n",
      "           0       0.83      0.87      0.85      2019\n",
      "           1       0.87      0.82      0.84      1981\n",
      "\n",
      "    accuracy                           0.85      4000\n",
      "   macro avg       0.85      0.85      0.85      4000\n",
      "weighted avg       0.85      0.85      0.85      4000\n",
      "\n"
     ]
    },
    {
     "data": {
      "image/png": "[encoded data removed]",
      "text/plain": [
       "<Figure size 640x480 with 2 Axes>"
      ]
     },
     "metadata": {},
     "output_type": "display_data"
    }
   ],
   "source": [
    "xgb_model = xgb.XGBClassifier(random_state = 0)\n",
    "xgb_model.fit(embeddings_x_train_df, y_train)\n",
    "\n",
    "pred_xgb = xgb_model.predict(embeddings_x_test_df)\n",
    "\n",
    "cm = confusion_matrix(y_test, pred_xgb)\n",
    "print(classification_report(y_test, pred_xgb))\n",
    "\n",
    "# Display the confusion matrix\n",
    "disp = ConfusionMatrixDisplay(confusion_matrix=cm)\n",
    "disp.plot(cmap=plt.cm.Blues)\n",
    "plt.show()"
   ]
  },
  {
   "cell_type": "code",
   "execution_count": null,
   "id": "9f77308e-b1f5-4a16-9787-6e9e2fbc9848",
   "metadata": {},
   "outputs": [],
   "source": []
  }
 ],
 "metadata": {
  "kernelspec": {
   "display_name": "Python 3 (ipykernel)",
   "language": "python",
   "name": "python3"
  },
  "language_info": {
   "codemirror_mode": {
    "name": "ipython",
    "version": 3
   },
   "file_extension": ".py",
   "mimetype": "text/x-python",
   "name": "python",
   "nbconvert_exporter": "python",
   "pygments_lexer": "ipython3",
   "version": "3.11.9"
  }
 },
 "nbformat": 4,
 "nbformat_minor": 5
}
