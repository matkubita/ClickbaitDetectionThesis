{
 "cells": [
  {
   "cell_type": "markdown",
   "id": "f6d5b141-a9dc-4af1-b2af-9d1f1e08a803",
   "metadata": {},
   "source": [
    "## LLM - models - Chatgpt\n",
    "\n",
    "In this notebook I use OpenAI API (batch mode) to get:\n",
    "1. Direct answer about LLM's prediction if this is clickbait or not\n",
    "2. Embeddings from llm to build model based on this.\n",
    "\n",
    "Things that may be improved:\n",
    " 1. Embeddings\n",
    "    * try different embeddings dimensions (1000?, ...)\n",
    "    * fine tuning of RF or xGboost\n",
    " 2. Direct call\n",
    "     * play with prompt\n",
    "     * play with temperature, and other parameters of models "
   ]
  },
  {
   "cell_type": "code",
   "execution_count": 1,
   "id": "7fef4b3a-1e69-496b-9b71-62c10b09f508",
   "metadata": {},
   "outputs": [],
   "source": [
    "# TODO: -> LLM Models (chat gpt api, bert?)"
   ]
  },
  {
   "cell_type": "code",
   "execution_count": 21,
   "id": "3294832a-c5c8-4616-98f2-34b2f3ec4de9",
   "metadata": {},
   "outputs": [],
   "source": [
    "# DATA PROCESSING, VISUALIZATION\n",
    "import pandas as pd\n",
    "import matplotlib.pyplot as plt\n",
    "import numpy as np\n",
    "import seaborn as sns\n",
    "import string\n",
    "import re\n",
    "\n",
    "# MODELS, MODEL EVALUATION\n",
    "from openai import OpenAI\n",
    "import xgboost as xgb\n",
    "from sklearn.ensemble import RandomForestClassifier\n",
    "from sklearn.metrics import confusion_matrix, ConfusionMatrixDisplay\n",
    "from sklearn.model_selection import train_test_split\n",
    "from sklearn.metrics import accuracy_score\n",
    "from sklearn.metrics import classification_report\n",
    "from sklearn.model_selection import GridSearchCV\n",
    "\n",
    "import os\n",
    "import json\n",
    "from typing import List\n",
    "import requests\n",
    "import time\n",
    "from tqdm import tqdm"
   ]
  },
  {
   "cell_type": "code",
   "execution_count": 3,
   "id": "958af36f-9746-431d-a44f-50a003960699",
   "metadata": {},
   "outputs": [],
   "source": [
    "df_merged = pd.read_csv(\"../data/merged_datasetes_balanced_huge.csv\")"
   ]
  },
  {
   "cell_type": "code",
   "execution_count": 27,
   "id": "d84b8ec8-5204-4219-91bf-95f33f3fe0e8",
   "metadata": {},
   "outputs": [],
   "source": [
    "x_train, x_test, y_train, y_test = train_test_split(\n",
    "    df_merged[\"title\"], \n",
    "    df_merged[\"clickbait\"],\n",
    "    test_size=0.2, \n",
    "    random_state=42\n",
    ")"
   ]
  },
  {
   "cell_type": "code",
   "execution_count": 29,
   "id": "ef42309c-ffb1-4963-8a36-1c9dbe29152b",
   "metadata": {},
   "outputs": [
    {
     "data": {
      "text/plain": [
       "pandas.core.series.Series"
      ]
     },
     "execution_count": 29,
     "metadata": {},
     "output_type": "execute_result"
    }
   ],
   "source": [
    "type(x_train)"
   ]
  },
  {
   "cell_type": "markdown",
   "id": "1b38261d-dc8f-434a-b337-68fbd04f00ad",
   "metadata": {},
   "source": [
    "### Setting OpenAI "
   ]
  },
  {
   "cell_type": "code",
   "execution_count": 5,
   "id": "96ba5bc4-6f2f-4aaa-9fbf-8a7360d1655b",
   "metadata": {},
   "outputs": [],
   "source": [
    "file_path = r\"C:\\Users\\Mateusz\\Desktop\\api_key_chat_gpt_kubita.txt\" \n",
    "\n",
    "with open(file_path, 'r') as file:\n",
    "    api_key = file.read()"
   ]
  },
  {
   "cell_type": "code",
   "execution_count": 6,
   "id": "80e2de60-9cf7-4e27-8569-6d731ae0ee37",
   "metadata": {},
   "outputs": [],
   "source": [
    "client = OpenAI(\n",
    "    api_key=api_key,\n",
    ")"
   ]
  },
  {
   "cell_type": "code",
   "execution_count": 7,
   "id": "4c1c2753-0ad2-4724-8e03-3aa5572f581e",
   "metadata": {},
   "outputs": [
    {
     "name": "stdout",
     "output_type": "stream",
     "text": [
      "{'description': 'request_direct_test_1'}\n",
      "file-8FidiNqHNoDEaRN7V9IM8ElL\n",
      "\n",
      "{'description': 'request_direct_test_1'}\n",
      "file-1y4NvnE0ekgGs8mn9eo8iDpD\n",
      "\n",
      "{'description': 'request_embeddings_train_1'}\n",
      "file-YgKZUOZgNBk2eZRhssT30d7g\n",
      "\n",
      "{'description': 'full data embeddings train full_2'}\n",
      "file-6HO8OKRsbcmfIyBEGVU9NdxL\n",
      "\n",
      "{'description': 'full data'}\n",
      "file-xmssGvqJCzDPlG0Ay4k7m4TV\n",
      "\n",
      "{'description': 'full data'}\n",
      "None\n",
      "\n",
      "{'description': 'full data embeddings test_full_2'}\n",
      "file-n1oSbiOpnd2UWTY5AAUhSadu\n",
      "\n",
      "{'description': 'full data embeddings train full_2'}\n",
      "file-U2AxJkwpe21CiGX2TNiw33xs\n",
      "\n",
      "{'description': 'full data embeddings train full'}\n",
      "file-3J8wSNhSYpwAWSHRnvzEWFDg\n",
      "\n",
      "{'description': 'full data embeddings train_1'}\n",
      "file-BXkzxUp5nl9aYWN9x6o0sIhV\n",
      "\n",
      "{'description': 'full data embeddings test'}\n",
      "file-VdeFVPfsSPCTVe5jfIpGITKP\n",
      "\n",
      "{'description': 'full data'}\n",
      "file-XPuAcYx9IdGDslC2LnnEE66J\n",
      "\n",
      "{'description': 'nightly eval job_real'}\n",
      "file-c9F5Br1u1qK8VshAraUouPSC\n",
      "\n",
      "{'description': 'nightly eval job_real'}\n",
      "None\n",
      "\n",
      "{'description': 'nightly eval job'}\n",
      "file-W7eAtSZU5eabSw3O0a6I62Gh\n",
      "\n"
     ]
    }
   ],
   "source": [
    "for req in client.batches.list(limit=20):\n",
    "    print(req.metadata)\n",
    "    print(req.output_file_id)\n",
    "    print()"
   ]
  },
  {
   "cell_type": "code",
   "execution_count": 8,
   "id": "647bf0cb-37c2-4a22-957e-97b3515747c5",
   "metadata": {},
   "outputs": [],
   "source": [
    "# Show full way of thinking and improving the prompt and considerations in paper. :)\n",
    "#  You can play with temperature, and other params, prompt, ..."
   ]
  },
  {
   "cell_type": "markdown",
   "id": "cf435c58-063e-45c7-857b-e1b2f675ebb3",
   "metadata": {},
   "source": [
    "# Direct prompt "
   ]
  },
  {
   "cell_type": "code",
   "execution_count": 9,
   "id": "275a16d4-9e53-4d2e-8adc-7dd8f8952e41",
   "metadata": {},
   "outputs": [],
   "source": [
    "prompt = \"\"\"You are an assistant tasked with classifying article titles as either clickbait or legitimate. Your response should be precise and straightforward: respond with only \"1\" if the news title appears to be clickbait, and only \"0\" if it seems legitimate. Do not include any additional text, explanations, or reasoning in your response.\n",
    "\n",
    "Here are some examples:\n",
    "\n",
    "Title: \"You Won't Believe What Happened When This Dog Went to the Park!\"\n",
    "Response: 1\n",
    "\n",
    "Title: \"Scientists Discover New Species in the Amazon Rainforest\"\n",
    "Response: 0\n",
    "\n",
    "Title: \"10 Life Hacks That Will Change the Way You Live Forever\"\n",
    "Response: 1\n",
    "\n",
    "Title: \"Government Announces New Infrastructure Plan for 2024\"\n",
    "Response: 0\n",
    "\n",
    "Title: \"The Shocking Truth Behind Your Morning Coffee!\"\n",
    "Response: 1\n",
    "\n",
    "Title: \"Local School Wins National Award for Academic Excellence\"\n",
    "Response: 0\n",
    "Here is the title that you need to classify: \n",
    "\"\"\"\n"
   ]
  },
  {
   "cell_type": "markdown",
   "id": "bc356043-cadc-4b22-aef9-ae668ada85b5",
   "metadata": {},
   "source": [
    "### CREATE REQUEST FILE FOR DIRECT PROMPT"
   ]
  },
  {
   "cell_type": "code",
   "execution_count": 55,
   "id": "36be2e94-9f64-44cc-8595-5bca6fd759b5",
   "metadata": {},
   "outputs": [],
   "source": [
    "prompts_test = [str(prompt + title) for title in x_test.tolist()]"
   ]
  },
  {
   "cell_type": "code",
   "execution_count": 56,
   "id": "738088c9-4570-4aac-9f89-6b5ea29e36cc",
   "metadata": {},
   "outputs": [
    {
     "data": {
      "text/plain": [
       "'You are an assistant tasked with classifying article titles as either clickbait or legitimate. Your response should be precise and straightforward: respond with only \"1\" if the news title appears to be clickbait, and only \"0\" if it seems legitimate. Do not include any additional text, explanations, or reasoning in your response.\\n\\nHere are some examples:\\n\\nTitle: \"You Won\\'t Believe What Happened When This Dog Went to the Park!\"\\nResponse: 1\\n\\nTitle: \"Scientists Discover New Species in the Amazon Rainforest\"\\nResponse: 0\\n\\nTitle: \"10 Life Hacks That Will Change the Way You Live Forever\"\\nResponse: 1\\n\\nTitle: \"Government Announces New Infrastructure Plan for 2024\"\\nResponse: 0\\n\\nTitle: \"The Shocking Truth Behind Your Morning Coffee!\"\\nResponse: 1\\n\\nTitle: \"Local School Wins National Award for Academic Excellence\"\\nResponse: 0\\nHere is the title that you need to classify: \\nJeffrey Dean Morgan Responds To \\'Racist\\' T-Shirt Controversy'"
      ]
     },
     "execution_count": 56,
     "metadata": {},
     "output_type": "execute_result"
    }
   ],
   "source": [
    "prompts_test[0]"
   ]
  },
  {
   "cell_type": "code",
   "execution_count": 57,
   "id": "97f06df6-66f7-4f73-8a83-26d55403558a",
   "metadata": {},
   "outputs": [],
   "source": [
    "def create_batch_request_to_open_ai_direct_prompt(\n",
    "    list_of_prompts: List[str],\n",
    "    name_of_request_file: str,\n",
    "    description_of_request: str,   \n",
    "):\n",
    "\n",
    "    dictionary = [{\n",
    "        \"custom_id\": f\"request{i}\", \n",
    "        \"method\": \"POST\", \n",
    "        \"url\": \"/v1/chat/completions\", \n",
    "        \"body\": {\"model\": \"gpt-4o-mini\", \n",
    "                 \"messages\": [\n",
    "                     {\"role\": \"system\", \"content\": \"assistant.\"},\n",
    "                     {\"role\": \"user\", \"content\": prompt}],\n",
    "                 \"max_tokens\": 1000}\n",
    "    } for i, prompt in enumerate(prompts_test)]\n",
    "    \n",
    "    with open(f\"../request_files_openai/{name_of_request_file}.jsonl\", \"w\") as outfile:\n",
    "        for request__ in dictionary:\n",
    "            json.dump(request__, outfile)\n",
    "            outfile.write('\\n')\n",
    "    \n",
    "    \n",
    "    batch_input_file = client.files.create(\n",
    "      file=open(fr\"../request_files_openai/{name_of_request_file}.jsonl\", \"rb\"),\n",
    "      purpose=\"batch\"\n",
    "    )\n",
    "    \n",
    "    return client.batches.create(\n",
    "        input_file_id=batch_input_file.id,\n",
    "        endpoint=\"/v1/chat/completions\",\n",
    "        completion_window=\"24h\",\n",
    "        metadata={\n",
    "          \"description\": description_of_request\n",
    "        }\n",
    "    )"
   ]
  },
  {
   "cell_type": "code",
   "execution_count": 59,
   "id": "d02d28b5-707e-4ce7-89ac-927320822e62",
   "metadata": {},
   "outputs": [
    {
     "data": {
      "text/plain": [
       "Batch(id='batch_6727627a339481909473156ca2e88679', completion_window='24h', created_at=1730634362, endpoint='/v1/chat/completions', input_file_id='file-PSENjQ1soO2Cu8cxFwvQSnP5', object='batch', status='validating', cancelled_at=None, cancelling_at=None, completed_at=None, error_file_id=None, errors=None, expired_at=None, expires_at=1730720762, failed_at=None, finalizing_at=None, in_progress_at=None, metadata={'description': 'request_direct_test_1'}, output_file_id=None, request_counts=BatchRequestCounts(completed=0, failed=0, total=0))"
      ]
     },
     "execution_count": 59,
     "metadata": {},
     "output_type": "execute_result"
    }
   ],
   "source": [
    "request_direct = create_batch_request_to_open_ai_direct_prompt(\n",
    "    list_of_prompts=prompts_test,\n",
    "    name_of_request_file=\"request_direct_test_1\",\n",
    "    description_of_request=\"request_direct_test_1\"\n",
    ")\n",
    "print(client.batches.retrieve(request_direct.id))"
   ]
  },
  {
   "cell_type": "code",
   "execution_count": 61,
   "id": "bf632bea-73f5-47ac-85df-cf15e94cf82e",
   "metadata": {},
   "outputs": [
    {
     "name": "stdout",
     "output_type": "stream",
     "text": [
      "file-8FidiNqHNoDEaRN7V9IM8ElL\n"
     ]
    }
   ],
   "source": [
    "print(client.batches.retrieve(request_direct.id).output_file_id)"
   ]
  },
  {
   "cell_type": "code",
   "execution_count": 10,
   "id": "7790ddea-6c07-45e9-8b37-be5beff6f60a",
   "metadata": {},
   "outputs": [
    {
     "data": {
      "text/plain": [
       "8000"
      ]
     },
     "execution_count": 10,
     "metadata": {},
     "output_type": "execute_result"
    }
   ],
   "source": [
    "# file_response = client.files.content(client.batches.retrieve(request_direct.id).output_file_id)\n",
    "file_response = client.files.content(\"file-xmssGvqJCzDPlG0Ay4k7m4TV\")\n",
    "\n",
    "pred = []\n",
    "for line in file_response.text.splitlines():\n",
    "    prediction_str = json.loads(line)['response']['body']['choices'][0]['message']['content']\n",
    "    pred.append(int(prediction_str))\n",
    "len(pred)"
   ]
  },
  {
   "cell_type": "code",
   "execution_count": 11,
   "id": "0cd3b77b-d6da-4d05-a25d-900dfb11788f",
   "metadata": {},
   "outputs": [
    {
     "name": "stdout",
     "output_type": "stream",
     "text": [
      "              precision    recall  f1-score   support\n",
      "\n",
      "           0       0.81      0.81      0.81      4014\n",
      "           1       0.81      0.81      0.81      3986\n",
      "\n",
      "    accuracy                           0.81      8000\n",
      "   macro avg       0.81      0.81      0.81      8000\n",
      "weighted avg       0.81      0.81      0.81      8000\n",
      "\n"
     ]
    },
    {
     "data": {
      "image/png": "[encoded data removed]",
      "text/plain": [
       "<Figure size 640x480 with 2 Axes>"
      ]
     },
     "metadata": {},
     "output_type": "display_data"
    }
   ],
   "source": [
    "print(classification_report(y_test, pred))\n",
    "\n",
    "cm = confusion_matrix(y_test, pred)\n",
    "disp = ConfusionMatrixDisplay(confusion_matrix=cm)\n",
    "disp.plot(cmap=plt.cm.Blues)\n",
    "plt.show()"
   ]
  },
  {
   "cell_type": "markdown",
   "id": "4f5b5911-5c74-4e1a-9fa4-014473e3d234",
   "metadata": {},
   "source": [
    "# Embeddings"
   ]
  },
  {
   "cell_type": "code",
   "execution_count": 39,
   "id": "1459cc8e-dd52-4392-80ac-fa916eba84f0",
   "metadata": {},
   "outputs": [],
   "source": [
    "def create_batch_request_to_open_ai_embeddings(\n",
    "    list_of_texts: List[str],\n",
    "    name_of_request_file: str,\n",
    "    description_of_request: str,   \n",
    "):\n",
    "    \"\"\"Function that creates .jsonl file with appropriate format and then sends call to create embeddings using batches\"\"\"\n",
    "    \n",
    "    dictionary_req = [{\n",
    "        \"custom_id\": f\"request{i}\", \n",
    "        \"method\": \"POST\", \n",
    "        \"url\": \"/v1/embeddings\", \n",
    "        \"body\": {\"model\": \"text-embedding-3-large\",\n",
    "                 \"input\": f\"{prompt}\"\n",
    "                }\n",
    "    } for i, prompt in enumerate(list_of_texts)]\n",
    "    \n",
    "    with open(f\"../request_files_openai/{name_of_request_file}.jsonl\", \"w\") as outfile:\n",
    "        for request__ in dictionary_req:\n",
    "            json.dump(request__, outfile)\n",
    "            outfile.write('\\n')\n",
    "    \n",
    "    batch_input_file = client.files.create(\n",
    "      file=open(fr\"../request_files_openai/{name_of_request_file}.jsonl\", \"rb\"),\n",
    "      purpose=\"batch\"\n",
    "    )\n",
    "    \n",
    "    return client.batches.create(\n",
    "        input_file_id=batch_input_file.id,\n",
    "        endpoint=\"/v1/embeddings\",\n",
    "        completion_window=\"24h\",\n",
    "        metadata={\n",
    "          \"description\": description_of_request\n",
    "        }\n",
    "    )\n",
    "    "
   ]
  },
  {
   "cell_type": "markdown",
   "id": "e25b0e52-08dc-4407-952d-17d2e69e99f4",
   "metadata": {},
   "source": [
    "## Getting embeddings for train"
   ]
  },
  {
   "cell_type": "code",
   "execution_count": 40,
   "id": "753a0229-ace8-4190-a545-7becc8ed08c6",
   "metadata": {},
   "outputs": [
    {
     "name": "stdout",
     "output_type": "stream",
     "text": [
      "Batch(id='batch_67276000f0ec81909bb2037770f8f379', completion_window='24h', created_at=1730633728, endpoint='/v1/embeddings', input_file_id='file-9KLRqfbIDGRUFjDTtzEin2Fs', object='batch', status='validating', cancelled_at=None, cancelling_at=None, completed_at=None, error_file_id=None, errors=None, expired_at=None, expires_at=1730720128, failed_at=None, finalizing_at=None, in_progress_at=None, metadata={'description': 'request_embeddings_train_1'}, output_file_id=None, request_counts=BatchRequestCounts(completed=0, failed=0, total=0))\n"
     ]
    }
   ],
   "source": [
    "batch_request_train = create_batch_request_to_open_ai_embeddings(\n",
    "    list_of_texts = x_train.tolist(),\n",
    "    name_of_request_file = \"request_embeddings_train_1\",\n",
    "    description_of_request = \"request_embeddings_train_1\"\n",
    ")\n",
    "print(batch_request_train)\n",
    "client.batches.retrieve(batch_request_train.id)"
   ]
  },
  {
   "cell_type": "code",
   "execution_count": 33,
   "id": "6b6184ae-6876-48f7-9e13-56d0e7f3584b",
   "metadata": {},
   "outputs": [],
   "source": [
    "# file_response = client.files.content(client.batches.retrieve(request_direct.id).output_file_id)\n",
    "file_response = client.files.content(\"file-6HO8OKRsbcmfIyBEGVU9NdxL\")"
   ]
  },
  {
   "cell_type": "code",
   "execution_count": 34,
   "id": "b4d29a2b-4e86-40d6-ba2b-f8558766e8ca",
   "metadata": {},
   "outputs": [
    {
     "name": "stderr",
     "output_type": "stream",
     "text": [
      "Processing lines: 100%|████████████████████████████████████████████████████████| 32000/32000 [00:29<00:00, 1072.93it/s]\n"
     ]
    },
    {
     "name": "stdout",
     "output_type": "stream",
     "text": [
      "32000\n"
     ]
    }
   ],
   "source": [
    "embeddings_x_train_df = []\n",
    "\n",
    "for line in tqdm(file_response.text.splitlines(), desc=\"Processing lines\"):\n",
    "    embeddings_x_train_df.append(json.loads(line)['response']['body']['data'][0]['embedding'])\n",
    "\n",
    "print(len(embeddings_x_train_df))"
   ]
  },
  {
   "cell_type": "markdown",
   "id": "2c5a506e-075b-4ed2-9598-ca3a5b1d73a1",
   "metadata": {},
   "source": [
    "## Getting embeddings for test"
   ]
  },
  {
   "cell_type": "code",
   "execution_count": 54,
   "id": "ceefc613-8661-4833-957f-40549fe91a5a",
   "metadata": {},
   "outputs": [
    {
     "data": {
      "text/plain": [
       "Batch(id='batch_672724edf6448190adb41d9e3c6b0489', completion_window='24h', created_at=1730618605, endpoint='/v1/embeddings', input_file_id='file-NYgDfOG2XeJTu1dkdH8oUzbQ', object='batch', status='validating', cancelled_at=None, cancelling_at=None, completed_at=None, error_file_id=None, errors=None, expired_at=None, expires_at=1730705005, failed_at=None, finalizing_at=None, in_progress_at=None, metadata={'description': 'full data embeddings test_full_2'}, output_file_id=None, request_counts=BatchRequestCounts(completed=0, failed=0, total=0))"
      ]
     },
     "execution_count": 54,
     "metadata": {},
     "output_type": "execute_result"
    }
   ],
   "source": [
    "batch_request_test = create_batch_request_to_open_ai_embeddings(\n",
    "    list_of_texts = x_test.tolist(),\n",
    "    name_of_request_file = \"request_embeddings_test_1\",\n",
    "    description_of_request = \"request_embeddings_test_1\"\n",
    ")\n",
    "print(batch_request_test)\n",
    "client.batches.retrieve(batch_request_test.id)"
   ]
  },
  {
   "cell_type": "code",
   "execution_count": 14,
   "id": "550bb695-d7c2-4713-b572-e97924f41a66",
   "metadata": {},
   "outputs": [],
   "source": [
    "# file_response = client.files.contentclient.batches.retrieve(batch_request_test.id).output_file_id)\n",
    "file_response = client.files.content(\"file-n1oSbiOpnd2UWTY5AAUhSadu\")"
   ]
  },
  {
   "cell_type": "code",
   "execution_count": 16,
   "id": "7551453d-d624-42aa-ab33-5df4248644c5",
   "metadata": {},
   "outputs": [
    {
     "name": "stderr",
     "output_type": "stream",
     "text": [
      "Processing lines: 100%|██████████████████████████████████████████████████████████| 8000/8000 [00:07<00:00, 1115.26it/s]"
     ]
    },
    {
     "name": "stdout",
     "output_type": "stream",
     "text": [
      "8000\n"
     ]
    },
    {
     "name": "stderr",
     "output_type": "stream",
     "text": [
      "\n"
     ]
    }
   ],
   "source": [
    "embeddings_x_test_df = []\n",
    "for line in tqdm(file_response.text.splitlines(), desc=\"Processing lines\"):\n",
    "    embeddings_x_test_df.append(json.loads(line)['response']['body']['data'][0]['embedding'])\n",
    "print(len(embeddings_x_test_df))"
   ]
  },
  {
   "cell_type": "markdown",
   "id": "c1962e31-6cc3-43f1-81f5-020f960985ac",
   "metadata": {},
   "source": [
    "## Functions for synchronous API calls"
   ]
  },
  {
   "cell_type": "code",
   "execution_count": 71,
   "id": "6180139d-60be-4f9a-9e88-c435a207833d",
   "metadata": {},
   "outputs": [],
   "source": [
    "def return_embeddings_chat(prompt):\n",
    "    res = requests.post(f\"https://api.openai.com/v1/embeddings\",\n",
    "        headers = {\n",
    "          \"Content-Type\": \"application/json\",\n",
    "          \"Authorization\": f\"Bearer {api_key}\"\n",
    "        },\n",
    "        json={\n",
    "          \"model\": \"text-embedding-3-large\",\n",
    "          \"encoding_format\": \"float\",\n",
    "          \"input\": f\"{prompt}\"\n",
    "        }).json()\n",
    "    return res[\"data\"][0][\"embedding\"]"
   ]
  },
  {
   "cell_type": "code",
   "execution_count": 72,
   "id": "671b4d78-827b-4795-afae-14fb9a0693cf",
   "metadata": {},
   "outputs": [],
   "source": [
    "def batch_embeddings(prompts, batch_size=250):\n",
    "    url = \"https://api.openai.com/v1/embeddings\"\n",
    "    headers = {\n",
    "        \"Content-Type\": \"application/json\",\n",
    "        \"Authorization\": f\"Bearer {api_key}\"\n",
    "    }\n",
    "    embeddings = []\n",
    "    for i in tqdm(range(0, len(prompts), batch_size), desc=\"Processing Batches\"):\n",
    "        batch = prompts[i:i + batch_size]\n",
    "        response = requests.post(url, headers=headers, json={\n",
    "            \"model\": \"text-embedding-3-large\",\n",
    "            \"encoding_format\": \"float\",\n",
    "            \"input\": batch\n",
    "        }).json()\n",
    "        embeddings.extend([item[\"embedding\"] for item in response[\"data\"]])\n",
    "    return embeddings"
   ]
  },
  {
   "cell_type": "markdown",
   "id": "ea7c7813-675f-4743-a7b0-2164a4908d18",
   "metadata": {},
   "source": [
    "# Model fitting with embeddings"
   ]
  },
  {
   "cell_type": "markdown",
   "id": "bbbe939f-a0c2-41c6-84b0-5abb473bb225",
   "metadata": {},
   "source": [
    "## RandomForest"
   ]
  },
  {
   "cell_type": "code",
   "execution_count": null,
   "id": "1249f186-e0f4-4c0e-93a5-4ee64aec6cf0",
   "metadata": {},
   "outputs": [],
   "source": [
    "start_time = time.time()\n",
    "\n",
    "RF = RandomForestClassifier(random_state = 0)\n",
    "RF.fit(embeddings_x_train_df, y_train)\n",
    "pred_rf = RF.predict(embeddings_x_test_df)\n",
    "\n",
    "\n",
    "print(classification_report(y_test, pred_rf))\n",
    "\n",
    "cm = confusion_matrix(y_test, pred_rf)\n",
    "disp = ConfusionMatrixDisplay(confusion_matrix=cm)\n",
    "disp.plot(cmap=plt.cm.Blues)\n",
    "plt.show()\n",
    "\n",
    "execution_time = time.time() - start_time\n",
    "print(f\"Execution time: {execution_time} seconds\")"
   ]
  },
  {
   "cell_type": "markdown",
   "id": "5fe8370c-9120-43eb-90a9-6fdc7421477f",
   "metadata": {},
   "source": [
    "### Xgboost"
   ]
  },
  {
   "cell_type": "code",
   "execution_count": 44,
   "id": "7a13e615-e524-4c07-adc7-cc6c12b32c5a",
   "metadata": {},
   "outputs": [
    {
     "name": "stdout",
     "output_type": "stream",
     "text": [
      "              precision    recall  f1-score   support\n",
      "\n",
      "           0       0.83      0.87      0.85      4014\n",
      "           1       0.87      0.82      0.84      3986\n",
      "\n",
      "    accuracy                           0.85      8000\n",
      "   macro avg       0.85      0.85      0.85      8000\n",
      "weighted avg       0.85      0.85      0.85      8000\n",
      "\n"
     ]
    },
    {
     "data": {
      "image/png": "[encoded data removed]",
      "text/plain": [
       "<Figure size 640x480 with 2 Axes>"
      ]
     },
     "metadata": {},
     "output_type": "display_data"
    },
    {
     "name": "stdout",
     "output_type": "stream",
     "text": [
      "Execution time: 121.72101974487305 seconds\n"
     ]
    }
   ],
   "source": [
    "start_time = time.time()\n",
    "\n",
    "xgb_model = xgb.XGBClassifier(random_state = 0)\n",
    "xgb_model.fit(embeddings_x_train_df, y_train)\n",
    "\n",
    "pred_xgb = xgb_model.predict(embeddings_x_test_df)\n",
    "\n",
    "cm = confusion_matrix(y_test, pred_xgb)\n",
    "print(classification_report(y_test, pred_xgb))\n",
    "\n",
    "# Display the confusion matrix\n",
    "disp = ConfusionMatrixDisplay(confusion_matrix=cm)\n",
    "disp.plot(cmap=plt.cm.Blues)\n",
    "plt.show()\n",
    "\n",
    "execution_time = time.time() - start_time\n",
    "print(f\"Execution time: {execution_time} seconds\")"
   ]
  },
  {
   "cell_type": "markdown",
   "id": "3639cc88-6d5d-4722-97e0-a90bdb75add7",
   "metadata": {},
   "source": [
    "## Grid search"
   ]
  },
  {
   "cell_type": "code",
   "execution_count": null,
   "id": "09d41c22-938e-422f-9ca3-df0466679305",
   "metadata": {},
   "outputs": [
    {
     "name": "stdout",
     "output_type": "stream",
     "text": [
      "Fitting 5 folds for each of 4 candidates, totalling 20 fits\n"
     ]
    }
   ],
   "source": [
    "# xgb_model = xgb.XGBClassifier(use_label_encoder=False, eval_metric='mlogloss')\n",
    "\n",
    "# param_grid = {\n",
    "#     'learning_rate': [0.2],\n",
    "#     'max_depth': [7],\n",
    "#     'n_estimators': [200],\n",
    "#     'subsample': [0.8, 1.0],\n",
    "#     'colsample_bytree': [0.8, 1.0]\n",
    "# }\n",
    "\n",
    "# # Set up the GridSearchCV\n",
    "# grid_search = GridSearchCV(\n",
    "#     estimator=xgb_model,\n",
    "#     param_grid=param_grid,\n",
    "#     scoring='accuracy',\n",
    "#     cv=5,\n",
    "#     n_jobs=-1,\n",
    "#     verbose=1\n",
    "# )\n",
    "\n",
    "# grid_search.fit(embeddings_x_train_df, y_train)\n",
    "\n",
    "# print(\"Best parameters found: \", grid_search.best_params_)\n",
    "# print(\"Best cross-validation accuracy: \", grid_search.best_score_)\n",
    "\n",
    "# best_model = grid_search.best_estimator_\n",
    "# y_pred = best_model.predict(embeddings_x_test_df)\n",
    "# print(\"Test accuracy: \", accuracy_score(y_test, y_pred))"
   ]
  }
 ],
 "metadata": {
  "kernelspec": {
   "display_name": "Python 3 (ipykernel)",
   "language": "python",
   "name": "python3"
  },
  "language_info": {
   "codemirror_mode": {
    "name": "ipython",
    "version": 3
   },
   "file_extension": ".py",
   "mimetype": "text/x-python",
   "name": "python",
   "nbconvert_exporter": "python",
   "pygments_lexer": "ipython3",
   "version": "3.11.9"
  }
 },
 "nbformat": 4,
 "nbformat_minor": 5
}
