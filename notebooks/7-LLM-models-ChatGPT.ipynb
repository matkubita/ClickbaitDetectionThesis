{
 "cells": [
  {
   "cell_type": "code",
   "execution_count": 6,
   "id": "d7b53d33-69ba-4363-a10b-a44364f24770",
   "metadata": {},
   "outputs": [],
   "source": [
    "##TODO -> try LLM models (chat gpt or bert), \n",
    "# would be good to use both title and body"
   ]
  },
  {
   "cell_type": "code",
   "execution_count": 28,
   "id": "3294832a-c5c8-4616-98f2-34b2f3ec4de9",
   "metadata": {},
   "outputs": [],
   "source": [
    "import pandas as pd\n",
    "import matplotlib.pyplot as plt\n",
    "import numpy as np\n",
    "from sklearn.metrics import confusion_matrix, ConfusionMatrixDisplay\n",
    "from sklearn.ensemble import RandomForestClassifier\n",
    "import seaborn as sns\n",
    "import string\n",
    "import re\n",
    "from sklearn.model_selection import train_test_split\n",
    "from sklearn.metrics import accuracy_score\n",
    "from sklearn.metrics import classification_report\n",
    "import requests\n",
    "from tqdm import tqdm\n",
    "import xgboost as xgb\n",
    "tqdm.pandas()"
   ]
  },
  {
   "cell_type": "code",
   "execution_count": 34,
   "id": "958af36f-9746-431d-a44f-50a003960699",
   "metadata": {},
   "outputs": [],
   "source": [
    "df_merged = pd.read_csv(\"../data/merged_datasetes_balanced.csv\").sample(2000)"
   ]
  },
  {
   "cell_type": "code",
   "execution_count": 35,
   "id": "d84b8ec8-5204-4219-91bf-95f33f3fe0e8",
   "metadata": {},
   "outputs": [],
   "source": [
    "# Actually there is no need to split it here, only to stay consistent with other notebooks\n",
    "x_train, x_test, y_train, y_test = train_test_split(\n",
    "    df_merged[\"title\"], \n",
    "    df_merged[\"clickbait\"],\n",
    "    test_size=0.2, \n",
    "    random_state=42\n",
    ")"
   ]
  },
  {
   "cell_type": "code",
   "execution_count": 36,
   "id": "96ba5bc4-6f2f-4aaa-9fbf-8a7360d1655b",
   "metadata": {},
   "outputs": [],
   "source": [
    "file_path = r\"C:\\Users\\Mateusz\\Desktop\\api_key_chat_gpt_kubita.txt\" \n",
    "\n",
    "with open(file_path, 'r') as file:\n",
    "    api_key = file.read()"
   ]
  },
  {
   "cell_type": "markdown",
   "id": "cf435c58-063e-45c7-857b-e1b2f675ebb3",
   "metadata": {},
   "source": [
    "# Direct prompt "
   ]
  },
  {
   "cell_type": "code",
   "execution_count": 42,
   "id": "fe8a1073-39ad-4512-b176-fa989cd66fb2",
   "metadata": {},
   "outputs": [],
   "source": [
    "def batch_get_chat_gpt_answers(titles, batch_size=50):\n",
    "    url = \"https://api.openai.com/v1/chat/completions\"\n",
    "    headers = {\n",
    "        \"Content-Type\": \"application/json\",\n",
    "        \"Authorization\": f\"Bearer {api_key}\"\n",
    "    }\n",
    "    results = []\n",
    "    \n",
    "    for i in tqdm(range(0, len(titles), batch_size), desc=\"Processing Batches\"):\n",
    "        batch = titles[i:i + batch_size]\n",
    "        \n",
    "        batch_results = []\n",
    "        for title in batch:\n",
    "            response = requests.post(url, headers=headers, json={\n",
    "                \"model\": \"gpt-4\",\n",
    "                \"messages\": [\n",
    "                    {\n",
    "                        \"role\": \"user\",\n",
    "                        \"content\":f\"You are an assistant that classifies article title as clickbait or not. Return only '1' if the news title appears to be clickbait, and only '0' if it seems legitimate. Do not provide any additional text or explanations. Here is the title: {title}\"\n",
    "\n",
    "                    },\n",
    "                ],\n",
    "            }).json()\n",
    "            \n",
    "            answer = response[\"choices\"][0][\"message\"][\"content\"]\n",
    "            \n",
    "            try:\n",
    "                answer_int = int(answer.strip())\n",
    "            except ValueError:\n",
    "                print('There was value error')\n",
    "                answer_int = 0  # Default to 0 if the model returns unexpected text\n",
    "            \n",
    "            batch_results.append(answer_int)\n",
    "        \n",
    "        results.extend(batch_results)\n",
    "    \n",
    "    return results"
   ]
  },
  {
   "cell_type": "code",
   "execution_count": null,
   "id": "b6772662-7660-40ea-bd6e-8611043045d1",
   "metadata": {},
   "outputs": [],
   "source": [
    "pred = batch_get_chat_gpt_answers(x_test.tolist())"
   ]
  },
  {
   "cell_type": "code",
   "execution_count": 47,
   "id": "0cd3b77b-d6da-4d05-a25d-900dfb11788f",
   "metadata": {},
   "outputs": [
    {
     "name": "stdout",
     "output_type": "stream",
     "text": [
      "              precision    recall  f1-score   support\n",
      "\n",
      "           0       0.75      0.91      0.82       208\n",
      "           1       0.87      0.67      0.76       192\n",
      "\n",
      "    accuracy                           0.79       400\n",
      "   macro avg       0.81      0.79      0.79       400\n",
      "weighted avg       0.81      0.79      0.79       400\n",
      "\n"
     ]
    },
    {
     "data": {
      "image/png": "[encoded data removed]",
      "text/plain": [
       "<Figure size 640x480 with 2 Axes>"
      ]
     },
     "metadata": {},
     "output_type": "display_data"
    }
   ],
   "source": [
    "print(classification_report(y_test, pred))\n",
    "\n",
    "cm = confusion_matrix(y_test, pred)\n",
    "disp = ConfusionMatrixDisplay(confusion_matrix=cm)\n",
    "disp.plot(cmap=plt.cm.Blues)\n",
    "plt.show()"
   ]
  },
  {
   "cell_type": "markdown",
   "id": "4f5b5911-5c74-4e1a-9fa4-014473e3d234",
   "metadata": {},
   "source": [
    "# Embeddings"
   ]
  },
  {
   "cell_type": "code",
   "execution_count": null,
   "id": "6180139d-60be-4f9a-9e88-c435a207833d",
   "metadata": {},
   "outputs": [],
   "source": [
    "def return_embeddings_chat(prompt):\n",
    "    res = requests.post(f\"https://api.openai.com/v1/embeddings\",\n",
    "        headers = {\n",
    "          \"Content-Type\": \"application/json\",\n",
    "          \"Authorization\": f\"Bearer {api_key}\"\n",
    "        },\n",
    "        json={\n",
    "          \"model\": \"text-embedding-3-large\",\n",
    "          \"encoding_format\": \"float\",\n",
    "          \"input\": f\"{prompt}\"\n",
    "        }).json()\n",
    "    return res[\"data\"][0][\"embedding\"]"
   ]
  },
  {
   "cell_type": "code",
   "execution_count": 25,
   "id": "671b4d78-827b-4795-afae-14fb9a0693cf",
   "metadata": {},
   "outputs": [
    {
     "name": "stderr",
     "output_type": "stream",
     "text": [
      "Processing Batches: 100%|██████████████████████████████████████████████████████████████| 64/64 [04:35<00:00,  4.30s/it]\n",
      "Processing Batches: 100%|██████████████████████████████████████████████████████████████| 16/16 [01:20<00:00,  5.02s/it]\n"
     ]
    }
   ],
   "source": [
    "def batch_embeddings(prompts, batch_size=250):\n",
    "    url = \"https://api.openai.com/v1/embeddings\"\n",
    "    headers = {\n",
    "        \"Content-Type\": \"application/json\",\n",
    "        \"Authorization\": f\"Bearer {api_key}\"\n",
    "    }\n",
    "    embeddings = []\n",
    "    for i in tqdm(range(0, len(prompts), batch_size), desc=\"Processing Batches\"):\n",
    "        batch = prompts[i:i + batch_size]\n",
    "        response = requests.post(url, headers=headers, json={\n",
    "            \"model\": \"text-embedding-3-large\",\n",
    "            \"encoding_format\": \"float\",\n",
    "            \"input\": batch\n",
    "        }).json()\n",
    "        embeddings.extend([item[\"embedding\"] for item in response[\"data\"]])\n",
    "    return embeddings\n",
    "\n",
    "embeddings_train = batch_embeddings(x_train.tolist())\n",
    "embeddings_x_train_df = pd.DataFrame(embeddings_train)\n",
    "\n",
    "embeddings_test = batch_embeddings(x_test.tolist())\n",
    "embeddings_x_test_df = pd.DataFrame(embeddings_test)"
   ]
  },
  {
   "cell_type": "code",
   "execution_count": 31,
   "id": "17b8f68a-21be-456f-9a9a-d9dbc1037fcb",
   "metadata": {},
   "outputs": [
    {
     "data": {
      "text/html": [
       "<div>\n",
       "<style scoped>\n",
       "    .dataframe tbody tr th:only-of-type {\n",
       "        vertical-align: middle;\n",
       "    }\n",
       "\n",
       "    .dataframe tbody tr th {\n",
       "        vertical-align: top;\n",
       "    }\n",
       "\n",
       "    .dataframe thead th {\n",
       "        text-align: right;\n",
       "    }\n",
       "</style>\n",
       "<table border=\"1\" class=\"dataframe\">\n",
       "  <thead>\n",
       "    <tr style=\"text-align: right;\">\n",
       "      <th></th>\n",
       "      <th>0</th>\n",
       "      <th>1</th>\n",
       "      <th>2</th>\n",
       "      <th>3</th>\n",
       "      <th>4</th>\n",
       "      <th>5</th>\n",
       "      <th>6</th>\n",
       "      <th>7</th>\n",
       "      <th>8</th>\n",
       "      <th>9</th>\n",
       "      <th>...</th>\n",
       "      <th>3062</th>\n",
       "      <th>3063</th>\n",
       "      <th>3064</th>\n",
       "      <th>3065</th>\n",
       "      <th>3066</th>\n",
       "      <th>3067</th>\n",
       "      <th>3068</th>\n",
       "      <th>3069</th>\n",
       "      <th>3070</th>\n",
       "      <th>3071</th>\n",
       "    </tr>\n",
       "  </thead>\n",
       "  <tbody>\n",
       "    <tr>\n",
       "      <th>0</th>\n",
       "      <td>0.007708</td>\n",
       "      <td>0.002197</td>\n",
       "      <td>-0.014086</td>\n",
       "      <td>0.014623</td>\n",
       "      <td>-0.008665</td>\n",
       "      <td>-0.006117</td>\n",
       "      <td>-0.017423</td>\n",
       "      <td>0.028887</td>\n",
       "      <td>-0.000700</td>\n",
       "      <td>-0.000989</td>\n",
       "      <td>...</td>\n",
       "      <td>-0.018060</td>\n",
       "      <td>0.030225</td>\n",
       "      <td>-0.023598</td>\n",
       "      <td>0.024703</td>\n",
       "      <td>-0.006082</td>\n",
       "      <td>-0.007187</td>\n",
       "      <td>-0.008532</td>\n",
       "      <td>0.000581</td>\n",
       "      <td>-0.013207</td>\n",
       "      <td>0.010376</td>\n",
       "    </tr>\n",
       "    <tr>\n",
       "      <th>1</th>\n",
       "      <td>0.003838</td>\n",
       "      <td>0.015038</td>\n",
       "      <td>-0.017042</td>\n",
       "      <td>-0.000516</td>\n",
       "      <td>0.022288</td>\n",
       "      <td>-0.011407</td>\n",
       "      <td>0.011695</td>\n",
       "      <td>0.003888</td>\n",
       "      <td>-0.007381</td>\n",
       "      <td>0.019684</td>\n",
       "      <td>...</td>\n",
       "      <td>-0.009091</td>\n",
       "      <td>-0.005672</td>\n",
       "      <td>-0.007169</td>\n",
       "      <td>0.000538</td>\n",
       "      <td>0.011958</td>\n",
       "      <td>-0.000009</td>\n",
       "      <td>0.004267</td>\n",
       "      <td>0.003584</td>\n",
       "      <td>-0.012947</td>\n",
       "      <td>-0.004527</td>\n",
       "    </tr>\n",
       "    <tr>\n",
       "      <th>2</th>\n",
       "      <td>0.008249</td>\n",
       "      <td>-0.034727</td>\n",
       "      <td>-0.002449</td>\n",
       "      <td>-0.062764</td>\n",
       "      <td>-0.028221</td>\n",
       "      <td>0.033678</td>\n",
       "      <td>0.013288</td>\n",
       "      <td>0.001389</td>\n",
       "      <td>0.012948</td>\n",
       "      <td>-0.011091</td>\n",
       "      <td>...</td>\n",
       "      <td>0.014713</td>\n",
       "      <td>-0.006832</td>\n",
       "      <td>0.006414</td>\n",
       "      <td>0.001363</td>\n",
       "      <td>-0.014670</td>\n",
       "      <td>0.001666</td>\n",
       "      <td>0.013253</td>\n",
       "      <td>-0.007307</td>\n",
       "      <td>-0.020680</td>\n",
       "      <td>0.011970</td>\n",
       "    </tr>\n",
       "    <tr>\n",
       "      <th>3</th>\n",
       "      <td>0.016529</td>\n",
       "      <td>-0.026904</td>\n",
       "      <td>-0.019269</td>\n",
       "      <td>-0.006891</td>\n",
       "      <td>0.016948</td>\n",
       "      <td>-0.033656</td>\n",
       "      <td>0.030542</td>\n",
       "      <td>0.021529</td>\n",
       "      <td>-0.005573</td>\n",
       "      <td>0.034555</td>\n",
       "      <td>...</td>\n",
       "      <td>-0.016274</td>\n",
       "      <td>0.008182</td>\n",
       "      <td>-0.003741</td>\n",
       "      <td>-0.008175</td>\n",
       "      <td>0.026590</td>\n",
       "      <td>-0.010345</td>\n",
       "      <td>0.014987</td>\n",
       "      <td>0.012060</td>\n",
       "      <td>0.010600</td>\n",
       "      <td>-0.019673</td>\n",
       "    </tr>\n",
       "    <tr>\n",
       "      <th>4</th>\n",
       "      <td>0.008426</td>\n",
       "      <td>-0.036027</td>\n",
       "      <td>-0.021843</td>\n",
       "      <td>-0.001583</td>\n",
       "      <td>-0.021856</td>\n",
       "      <td>-0.024984</td>\n",
       "      <td>-0.000015</td>\n",
       "      <td>0.022546</td>\n",
       "      <td>-0.040112</td>\n",
       "      <td>0.033806</td>\n",
       "      <td>...</td>\n",
       "      <td>-0.018971</td>\n",
       "      <td>0.012045</td>\n",
       "      <td>0.025852</td>\n",
       "      <td>-0.006297</td>\n",
       "      <td>-0.017452</td>\n",
       "      <td>0.000578</td>\n",
       "      <td>0.012518</td>\n",
       "      <td>-0.000217</td>\n",
       "      <td>-0.018116</td>\n",
       "      <td>0.007788</td>\n",
       "    </tr>\n",
       "  </tbody>\n",
       "</table>\n",
       "<p>5 rows × 3072 columns</p>\n",
       "</div>"
      ],
      "text/plain": [
       "       0         1         2         3         4         5         6     \\\n",
       "0  0.007708  0.002197 -0.014086  0.014623 -0.008665 -0.006117 -0.017423   \n",
       "1  0.003838  0.015038 -0.017042 -0.000516  0.022288 -0.011407  0.011695   \n",
       "2  0.008249 -0.034727 -0.002449 -0.062764 -0.028221  0.033678  0.013288   \n",
       "3  0.016529 -0.026904 -0.019269 -0.006891  0.016948 -0.033656  0.030542   \n",
       "4  0.008426 -0.036027 -0.021843 -0.001583 -0.021856 -0.024984 -0.000015   \n",
       "\n",
       "       7         8         9     ...      3062      3063      3064      3065  \\\n",
       "0  0.028887 -0.000700 -0.000989  ... -0.018060  0.030225 -0.023598  0.024703   \n",
       "1  0.003888 -0.007381  0.019684  ... -0.009091 -0.005672 -0.007169  0.000538   \n",
       "2  0.001389  0.012948 -0.011091  ...  0.014713 -0.006832  0.006414  0.001363   \n",
       "3  0.021529 -0.005573  0.034555  ... -0.016274  0.008182 -0.003741 -0.008175   \n",
       "4  0.022546 -0.040112  0.033806  ... -0.018971  0.012045  0.025852 -0.006297   \n",
       "\n",
       "       3066      3067      3068      3069      3070      3071  \n",
       "0 -0.006082 -0.007187 -0.008532  0.000581 -0.013207  0.010376  \n",
       "1  0.011958 -0.000009  0.004267  0.003584 -0.012947 -0.004527  \n",
       "2 -0.014670  0.001666  0.013253 -0.007307 -0.020680  0.011970  \n",
       "3  0.026590 -0.010345  0.014987  0.012060  0.010600 -0.019673  \n",
       "4 -0.017452  0.000578  0.012518 -0.000217 -0.018116  0.007788  \n",
       "\n",
       "[5 rows x 3072 columns]"
      ]
     },
     "execution_count": 31,
     "metadata": {},
     "output_type": "execute_result"
    }
   ],
   "source": [
    "embeddings_x_train_df.head()"
   ]
  },
  {
   "cell_type": "markdown",
   "id": "ea7c7813-675f-4743-a7b0-2164a4908d18",
   "metadata": {},
   "source": [
    "# Model fitting with embeddings"
   ]
  },
  {
   "cell_type": "code",
   "execution_count": 29,
   "id": "1249f186-e0f4-4c0e-93a5-4ee64aec6cf0",
   "metadata": {},
   "outputs": [
    {
     "name": "stdout",
     "output_type": "stream",
     "text": [
      "0.844\n",
      "              precision    recall  f1-score   support\n",
      "\n",
      "           0       0.82      0.89      0.85      2019\n",
      "           1       0.88      0.80      0.84      1981\n",
      "\n",
      "    accuracy                           0.84      4000\n",
      "   macro avg       0.85      0.84      0.84      4000\n",
      "weighted avg       0.85      0.84      0.84      4000\n",
      "\n"
     ]
    },
    {
     "data": {
      "image/png": "[encoded data removed]",
      "text/plain": [
       "<Figure size 640x480 with 2 Axes>"
      ]
     },
     "metadata": {},
     "output_type": "display_data"
    }
   ],
   "source": [
    "RF = RandomForestClassifier(random_state = 0)\n",
    "RF.fit(embeddings_x_train_df, y_train)\n",
    "\n",
    "pred_rf = RF.predict(embeddings_x_test_df)\n",
    "print(RF.score(embeddings_x_test_df, y_test))\n",
    "print(classification_report(y_test, pred_rf))\n",
    "\n",
    "cm = confusion_matrix(y_test, pred_rf)\n",
    "disp = ConfusionMatrixDisplay(confusion_matrix=cm)\n",
    "disp.plot(cmap=plt.cm.Blues)\n",
    "plt.show()"
   ]
  },
  {
   "cell_type": "code",
   "execution_count": null,
   "id": "69239352-3d11-4723-b24f-7998e986fa80",
   "metadata": {},
   "outputs": [],
   "source": []
  },
  {
   "cell_type": "code",
   "execution_count": 30,
   "id": "7a13e615-e524-4c07-adc7-cc6c12b32c5a",
   "metadata": {},
   "outputs": [
    {
     "name": "stdout",
     "output_type": "stream",
     "text": [
      "              precision    recall  f1-score   support\n",
      "\n",
      "           0       0.83      0.87      0.85      2019\n",
      "           1       0.87      0.82      0.84      1981\n",
      "\n",
      "    accuracy                           0.85      4000\n",
      "   macro avg       0.85      0.85      0.85      4000\n",
      "weighted avg       0.85      0.85      0.85      4000\n",
      "\n"
     ]
    },
    {
     "data": {
      "image/png": "[encoded data removed]",
      "text/plain": [
       "<Figure size 640x480 with 2 Axes>"
      ]
     },
     "metadata": {},
     "output_type": "display_data"
    }
   ],
   "source": [
    "xgb_model = xgb.XGBClassifier(random_state = 0)\n",
    "xgb_model.fit(embeddings_x_train_df, y_train)\n",
    "\n",
    "pred_xgb = xgb_model.predict(embeddings_x_test_df)\n",
    "\n",
    "cm = confusion_matrix(y_test, pred_xgb)\n",
    "print(classification_report(y_test, pred_xgb))\n",
    "\n",
    "# Display the confusion matrix\n",
    "disp = ConfusionMatrixDisplay(confusion_matrix=cm)\n",
    "disp.plot(cmap=plt.cm.Blues)\n",
    "plt.show()"
   ]
  },
  {
   "cell_type": "code",
   "execution_count": null,
   "id": "9f77308e-b1f5-4a16-9787-6e9e2fbc9848",
   "metadata": {},
   "outputs": [],
   "source": []
  }
 ],
 "metadata": {
  "kernelspec": {
   "display_name": "Python 3 (ipykernel)",
   "language": "python",
   "name": "python3"
  },
  "language_info": {
   "codemirror_mode": {
    "name": "ipython",
    "version": 3
   },
   "file_extension": ".py",
   "mimetype": "text/x-python",
   "name": "python",
   "nbconvert_exporter": "python",
   "pygments_lexer": "ipython3",
   "version": "3.11.9"
  }
 },
 "nbformat": 4,
 "nbformat_minor": 5
}
