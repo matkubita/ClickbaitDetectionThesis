{
 "cells": [
  {
   "cell_type": "markdown",
   "id": "31aa756f-f2b5-4e35-8fb3-539898666060",
   "metadata": {},
   "source": [
    "# The purpose of this notebook is to get more knowledge about these datasets"
   ]
  },
  {
   "cell_type": "code",
   "execution_count": null,
   "id": "591ad6fd-aa00-442f-a5bb-993b8dd593df",
   "metadata": {},
   "outputs": [],
   "source": []
  }
 ],
 "metadata": {
  "kernelspec": {
   "display_name": "Python 3 (ipykernel)",
   "language": "python",
   "name": "python3"
  },
  "language_info": {
   "codemirror_mode": {
    "name": "ipython",
    "version": 3
   },
   "file_extension": ".py",
   "mimetype": "text/x-python",
   "name": "python",
   "nbconvert_exporter": "python",
   "pygments_lexer": "ipython3",
   "version": "3.12.6"
  }
 },
 "nbformat": 4,
 "nbformat_minor": 5
}
