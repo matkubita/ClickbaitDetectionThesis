{
 "cells": [
  {
   "cell_type": "code",
   "execution_count": 1,
   "id": "ee8b3d54-5e7b-4065-bc7b-72031adc3d5d",
   "metadata": {},
   "outputs": [],
   "source": [
    "##TODO: Word2Vec, Glove"
   ]
  },
  {
   "cell_type": "markdown",
   "id": "53328e33-bc27-469c-a5c7-564f20526e98",
   "metadata": {},
   "source": [
    "## Glove"
   ]
  },
  {
   "cell_type": "code",
   "execution_count": null,
   "id": "c0b981de-dc41-4408-b096-e1c18cd74a0a",
   "metadata": {},
   "outputs": [],
   "source": [
    "# create embedding index\n",
    "embedding_index = {}\n",
    "with open('glove.6B.100d.txt', encoding='utf-8') as f:\n",
    "    for line in f:\n",
    "        values = line.split()\n",
    "        word = values[0]\n",
    "        coefs = np.asarray(values[1:], dtype='float32')\n",
    "        embedding_index[word] = coefs"
   ]
  },
  {
   "cell_type": "code",
   "execution_count": null,
   "id": "c8471410-b22a-44a3-b6f4-104b5f111836",
   "metadata": {},
   "outputs": [],
   "source": [
    "len(embedding_index)"
   ]
  },
  {
   "cell_type": "code",
   "execution_count": null,
   "id": "347ce87b-fcca-4a8d-b961-e165867f0c59",
   "metadata": {},
   "outputs": [],
   "source": [
    "from nltk.tokenize import word_tokenize\n",
    "from tqdm import tqdm"
   ]
  },
  {
   "cell_type": "code",
   "execution_count": null,
   "id": "1f7d71f8-d3c6-4112-ad61-aac273bcefe3",
   "metadata": {},
   "outputs": [],
   "source": [
    "def create_corpus_new(df):\n",
    "    corpus=[]\n",
    "    for tweet in tqdm(df['text']):\n",
    "        words=[word.lower() for word in word_tokenize(tweet)]\n",
    "        corpus.append(words)\n",
    "    return corpus   "
   ]
  },
  {
   "cell_type": "code",
   "execution_count": null,
   "id": "f9603962-3e43-4266-8c5b-d70185136281",
   "metadata": {},
   "outputs": [],
   "source": [
    "corpus=create_corpus_new(x_train)"
   ]
  },
  {
   "cell_type": "code",
   "execution_count": null,
   "id": "13e0a735-11f2-4c95-b0cc-2fbca92c0536",
   "metadata": {},
   "outputs": [],
   "source": [
    "import tensorflow"
   ]
  },
  {
   "cell_type": "code",
   "execution_count": null,
   "id": "85b6e91e-0278-463c-90ae-32d0b2c12972",
   "metadata": {},
   "outputs": [],
   "source": [
    "from keras.preprocessing.text import Tokenizer\n",
    "from keras.preprocessing.sequence import pad_sequences"
   ]
  },
  {
   "cell_type": "code",
   "execution_count": null,
   "id": "98831051-d759-4b6c-a986-a8331c2242fd",
   "metadata": {},
   "outputs": [],
   "source": [
    "MAX_LEN=50\n",
    "tokenizer_obj=Tokenizer()\n",
    "tokenizer_obj.fit_on_texts(corpus)\n",
    "sequences=tokenizer_obj.texts_to_sequences(corpus)\n",
    "\n",
    "tweet_pad=pad_sequences(sequences,maxlen=MAX_LEN,truncating='post',padding='post')"
   ]
  },
  {
   "cell_type": "code",
   "execution_count": null,
   "id": "1293c40a-654f-406a-986c-f7ba5428e915",
   "metadata": {},
   "outputs": [],
   "source": [
    "import numpy as np\n",
    "\n",
    "def vectorize(sentence):\n",
    "    words = sentence.split()\n",
    "    words_vecs = [w2v_model.wv[word] for word in words if word in w2v_model.wv]\n",
    "    if len(words_vecs) == 0:\n",
    "        return np.zeros(100)\n",
    "    words_vecs = np.array(words_vecs)\n",
    "    return words_vecs.mean(axis=0)\n",
    "\n",
    "x_train = np.array([vectorize(sentence) for sentence in x_train])\n",
    "x_test = np.array([vectorize(sentence) for sentence in x_test])"
   ]
  },
  {
   "cell_type": "code",
   "execution_count": null,
   "id": "6f916fd8-e302-4647-a53d-e7a2bd938ada",
   "metadata": {},
   "outputs": [],
   "source": []
  },
  {
   "cell_type": "code",
   "execution_count": null,
   "id": "690b26c2-3f4b-4e9c-ba3b-fb5d4ae49823",
   "metadata": {},
   "outputs": [],
   "source": [
    "from sklearn.ensemble import RandomForestClassifier\n",
    "\n",
    "RF = RandomForestClassifier(random_state = 0)\n",
    "RF.fit(x_train, y_train)"
   ]
  }
 ],
 "metadata": {
  "kernelspec": {
   "display_name": "Python 3 (ipykernel)",
   "language": "python",
   "name": "python3"
  },
  "language_info": {
   "codemirror_mode": {
    "name": "ipython",
    "version": 3
   },
   "file_extension": ".py",
   "mimetype": "text/x-python",
   "name": "python",
   "nbconvert_exporter": "python",
   "pygments_lexer": "ipython3",
   "version": "3.12.7"
  }
 },
 "nbformat": 4,
 "nbformat_minor": 5
}
