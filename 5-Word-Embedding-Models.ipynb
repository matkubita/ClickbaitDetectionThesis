{
 "cells": [
  {
   "cell_type": "code",
   "execution_count": 1,
   "id": "ee8b3d54-5e7b-4065-bc7b-72031adc3d5d",
   "metadata": {},
   "outputs": [],
   "source": [
    "##TODO: Word2Vec, Glove"
   ]
  },
  {
   "cell_type": "code",
   "execution_count": null,
   "id": "35eb4e1e-5c4b-4a31-a8b5-471a62cf4efb",
   "metadata": {},
   "outputs": [],
   "source": []
  }
 ],
 "metadata": {
  "kernelspec": {
   "display_name": "Python 3 (ipykernel)",
   "language": "python",
   "name": "python3"
  },
  "language_info": {
   "codemirror_mode": {
    "name": "ipython",
    "version": 3
   },
   "file_extension": ".py",
   "mimetype": "text/x-python",
   "name": "python",
   "nbconvert_exporter": "python",
   "pygments_lexer": "ipython3",
   "version": "3.12.7"
  }
 },
 "nbformat": 4,
 "nbformat_minor": 5
}
