{
 "cells": [
  {
   "cell_type": "code",
   "execution_count": 1,
   "id": "d7b53d33-69ba-4363-a10b-a44364f24770",
   "metadata": {},
   "outputs": [],
   "source": [
    "##TODO -> try LLM models (chat gpt or bert), would be good to use both title and body"
   ]
  },
  {
   "cell_type": "code",
   "execution_count": null,
   "id": "2b83908f-9e2a-49ef-ac21-8e993b3955e6",
   "metadata": {},
   "outputs": [],
   "source": []
  }
 ],
 "metadata": {
  "kernelspec": {
   "display_name": "Python 3 (ipykernel)",
   "language": "python",
   "name": "python3"
  },
  "language_info": {
   "codemirror_mode": {
    "name": "ipython",
    "version": 3
   },
   "file_extension": ".py",
   "mimetype": "text/x-python",
   "name": "python",
   "nbconvert_exporter": "python",
   "pygments_lexer": "ipython3",
   "version": "3.12.7"
  }
 },
 "nbformat": 4,
 "nbformat_minor": 5
}
