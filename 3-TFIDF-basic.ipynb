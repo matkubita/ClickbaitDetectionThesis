{
 "cells": [
  {
   "cell_type": "code",
   "execution_count": 1,
   "id": "fa2e2c20-2d84-4b47-923a-01d2e1a41a8d",
   "metadata": {},
   "outputs": [],
   "source": [
    "import pandas as pd\n",
    "import matplotlib.pyplot as plt\n",
    "import numpy as np\n",
    "import seaborn as sns\n",
    "import string\n",
    "import re\n",
    "from sklearn.model_selection import train_test_split\n",
    "from sklearn.metrics import accuracy_score\n",
    "from sklearn.metrics import classification_report"
   ]
  },
  {
   "cell_type": "code",
   "execution_count": 7,
   "id": "f8614cfc-6587-49a8-9e2b-561fc4f5c1d1",
   "metadata": {},
   "outputs": [],
   "source": [
    "df_merged = pd.read_csv(\"data/merged_datasetes_balanced.csv\")"
   ]
  },
  {
   "cell_type": "code",
   "execution_count": 8,
   "id": "a2e11f6a-05bf-45e6-9c7f-79b8646a1aa0",
   "metadata": {},
   "outputs": [
    {
     "data": {
      "text/html": [
       "<div>\n",
       "<style scoped>\n",
       "    .dataframe tbody tr th:only-of-type {\n",
       "        vertical-align: middle;\n",
       "    }\n",
       "\n",
       "    .dataframe tbody tr th {\n",
       "        vertical-align: top;\n",
       "    }\n",
       "\n",
       "    .dataframe thead th {\n",
       "        text-align: right;\n",
       "    }\n",
       "</style>\n",
       "<table border=\"1\" class=\"dataframe\">\n",
       "  <thead>\n",
       "    <tr style=\"text-align: right;\">\n",
       "      <th></th>\n",
       "      <th>title</th>\n",
       "      <th>clickbait</th>\n",
       "    </tr>\n",
       "  </thead>\n",
       "  <tbody>\n",
       "    <tr>\n",
       "      <th>0</th>\n",
       "      <td>Reality Star And Ex-Rapper Team Up To Coach Mi...</td>\n",
       "      <td>0</td>\n",
       "    </tr>\n",
       "    <tr>\n",
       "      <th>1</th>\n",
       "      <td>Cuba calls Trump speech on island 'grotesque s...</td>\n",
       "      <td>0</td>\n",
       "    </tr>\n",
       "    <tr>\n",
       "      <th>2</th>\n",
       "      <td>MILO On Twitter: I Hate To Say I Told You So.....</td>\n",
       "      <td>0</td>\n",
       "    </tr>\n",
       "    <tr>\n",
       "      <th>3</th>\n",
       "      <td>Trump says was being 'sarcastic' in Russia hac...</td>\n",
       "      <td>0</td>\n",
       "    </tr>\n",
       "    <tr>\n",
       "      <th>4</th>\n",
       "      <td>Jeter, Face of U.S. Team, Looks His Age at Wor...</td>\n",
       "      <td>0</td>\n",
       "    </tr>\n",
       "    <tr>\n",
       "      <th>...</th>\n",
       "      <td>...</td>\n",
       "      <td>...</td>\n",
       "    </tr>\n",
       "    <tr>\n",
       "      <th>59995</th>\n",
       "      <td>BREAKING: The Electoral College Votes Are In, ...</td>\n",
       "      <td>1</td>\n",
       "    </tr>\n",
       "    <tr>\n",
       "      <th>59996</th>\n",
       "      <td>They May Have Just Found The Perfect Roland Fo...</td>\n",
       "      <td>1</td>\n",
       "    </tr>\n",
       "    <tr>\n",
       "      <th>59997</th>\n",
       "      <td>Saudis Temper Call for Cuts and Russia Digs In</td>\n",
       "      <td>1</td>\n",
       "    </tr>\n",
       "    <tr>\n",
       "      <th>59998</th>\n",
       "      <td>Poll: Do You Actually Work For The First Order</td>\n",
       "      <td>1</td>\n",
       "    </tr>\n",
       "    <tr>\n",
       "      <th>59999</th>\n",
       "      <td>25 Hilarious Tweets That Perfectly Capture You...</td>\n",
       "      <td>1</td>\n",
       "    </tr>\n",
       "  </tbody>\n",
       "</table>\n",
       "<p>60000 rows × 2 columns</p>\n",
       "</div>"
      ],
      "text/plain": [
       "                                                   title  clickbait\n",
       "0      Reality Star And Ex-Rapper Team Up To Coach Mi...          0\n",
       "1      Cuba calls Trump speech on island 'grotesque s...          0\n",
       "2      MILO On Twitter: I Hate To Say I Told You So.....          0\n",
       "3      Trump says was being 'sarcastic' in Russia hac...          0\n",
       "4      Jeter, Face of U.S. Team, Looks His Age at Wor...          0\n",
       "...                                                  ...        ...\n",
       "59995  BREAKING: The Electoral College Votes Are In, ...          1\n",
       "59996  They May Have Just Found The Perfect Roland Fo...          1\n",
       "59997     Saudis Temper Call for Cuts and Russia Digs In          1\n",
       "59998     Poll: Do You Actually Work For The First Order          1\n",
       "59999  25 Hilarious Tweets That Perfectly Capture You...          1\n",
       "\n",
       "[60000 rows x 2 columns]"
      ]
     },
     "execution_count": 8,
     "metadata": {},
     "output_type": "execute_result"
    }
   ],
   "source": [
    "df_merged"
   ]
  },
  {
   "cell_type": "code",
   "execution_count": 9,
   "id": "6c164734-105d-4bd0-b276-a35a848ab8de",
   "metadata": {},
   "outputs": [
    {
     "data": {
      "text/plain": [
       "title                                                                                          clickbait\n",
       "NBC NewsVerifizierter Account                                                                  0            26\n",
       "CBSN - Live Streaming Video News Channel                                                       0            15\n",
       "BBC Trending                                                                                   1            10\n",
       "10 things you need to know before the opening bell                                             1             9\n",
       "Streaming Online  - WatchESPN                                                                  0             7\n",
       "                                                                                                            ..\n",
       "\"Star Wars\" Icon Carrie Fisher Dies                                                            0             1\n",
       "\"Sorry...\" Nail salon sign says overweight customers need to pay extra                         0             1\n",
       "\"Santa Clarita Diet\" trailer reveals details about Drew Barrymore's zombie comedy              0             1\n",
       "\"Office Christmas Party\" star T.J. Miller arrested days before hosting Critics' Choice Awards  0             1\n",
       "\"Nobody stood with the Kurds\" says bitter Barzani                                              0             1\n",
       "Name: count, Length: 53467, dtype: int64"
      ]
     },
     "execution_count": 9,
     "metadata": {},
     "output_type": "execute_result"
    }
   ],
   "source": [
    "df_merged.value_counts()"
   ]
  },
  {
   "cell_type": "code",
   "execution_count": 10,
   "id": "9990cfc1-b5f3-4020-85fc-e4ecb787c55f",
   "metadata": {},
   "outputs": [
    {
     "data": {
      "text/plain": [
       "clickbait\n",
       "0    30000\n",
       "1    30000\n",
       "Name: count, dtype: int64"
      ]
     },
     "execution_count": 10,
     "metadata": {},
     "output_type": "execute_result"
    }
   ],
   "source": [
    "df_merged['clickbait'].value_counts() #imbalance"
   ]
  },
  {
   "cell_type": "code",
   "execution_count": 11,
   "id": "940bc87e-48aa-4b31-b273-f92405399ab9",
   "metadata": {},
   "outputs": [
    {
     "data": {
      "text/plain": [
       "(60000, 2)"
      ]
     },
     "execution_count": 11,
     "metadata": {},
     "output_type": "execute_result"
    }
   ],
   "source": [
    "df_merged.shape"
   ]
  },
  {
   "cell_type": "markdown",
   "id": "4f3b3177-8cad-451b-bc71-d1830cf8f7fd",
   "metadata": {},
   "source": [
    "## Text cleaning "
   ]
  },
  {
   "cell_type": "code",
   "execution_count": 12,
   "id": "f30da48a-070f-4621-8950-f825d20712b2",
   "metadata": {},
   "outputs": [
    {
     "name": "stderr",
     "output_type": "stream",
     "text": [
      "<>:3: SyntaxWarning: invalid escape sequence '\\['\n",
      "<>:5: SyntaxWarning: invalid escape sequence '\\S'\n",
      "<>:8: SyntaxWarning: invalid escape sequence '\\w'\n",
      "<>:3: SyntaxWarning: invalid escape sequence '\\['\n",
      "<>:5: SyntaxWarning: invalid escape sequence '\\S'\n",
      "<>:8: SyntaxWarning: invalid escape sequence '\\w'\n",
      "C:\\Users\\Mateusz\\AppData\\Local\\Temp\\ipykernel_13784\\42366436.py:3: SyntaxWarning: invalid escape sequence '\\['\n",
      "  text = re.sub('\\[.*?\\]','',text)\n",
      "C:\\Users\\Mateusz\\AppData\\Local\\Temp\\ipykernel_13784\\42366436.py:5: SyntaxWarning: invalid escape sequence '\\S'\n",
      "  text = re.sub('https?://\\S+|www\\.\\S+','',text)\n",
      "C:\\Users\\Mateusz\\AppData\\Local\\Temp\\ipykernel_13784\\42366436.py:8: SyntaxWarning: invalid escape sequence '\\w'\n",
      "  text = re.sub('\\w*\\d\\w*','',text)\n"
     ]
    }
   ],
   "source": [
    "def clean_text(text):\n",
    "    text = text.lower()\n",
    "    text = re.sub('\\[.*?\\]','',text)\n",
    "    text = re.sub(\"\\\\W\",\" \",text)\n",
    "    text = re.sub('https?://\\S+|www\\.\\S+','',text)\n",
    "    text = re.sub('<.*?>+',b'',text)\n",
    "    text = re.sub('[%s]' % re.escape(string.punctuation),'',text)\n",
    "    text = re.sub('\\w*\\d\\w*','',text)\n",
    "    return text"
   ]
  },
  {
   "cell_type": "code",
   "execution_count": 84,
   "id": "64484ed2-e7a4-4841-a5f0-b29ad5893129",
   "metadata": {},
   "outputs": [],
   "source": [
    "df_merged['title'] = df_merged['title'].apply(clean_text)"
   ]
  },
  {
   "cell_type": "code",
   "execution_count": 85,
   "id": "c0b1b967-41d3-49af-be1f-4cc0ce82ceb4",
   "metadata": {},
   "outputs": [],
   "source": [
    "x_train, x_test, y_train, y_test = train_test_split(\n",
    "    df_merged[\"title\"], \n",
    "    df_merged[\"clickbait\"],\n",
    "    test_size=0.2, \n",
    "    random_state=42\n",
    ")"
   ]
  },
  {
   "cell_type": "markdown",
   "id": "5747f2c0-8c62-4bda-80ad-d2209dcfecff",
   "metadata": {},
   "source": [
    "## Fitting TFIDF"
   ]
  },
  {
   "cell_type": "code",
   "execution_count": 86,
   "id": "7e95aac3-8629-4b1b-843c-708e5444f7a1",
   "metadata": {},
   "outputs": [],
   "source": [
    "from sklearn.feature_extraction.text import TfidfVectorizer\n",
    "\n",
    "vectorization = TfidfVectorizer()\n",
    "xv_train = vectorization.fit_transform(x_train)\n",
    "xv_test = vectorization.transform(x_test)"
   ]
  },
  {
   "cell_type": "markdown",
   "id": "7231795b-155d-4ad3-b145-f8cb6d1110f9",
   "metadata": {},
   "source": [
    "## Trivial model without any library"
   ]
  },
  {
   "cell_type": "code",
   "execution_count": 28,
   "id": "88cad73d-a3c8-4137-8dd8-2cb6873448dc",
   "metadata": {},
   "outputs": [],
   "source": [
    "mask = y_train.astype(bool).values"
   ]
  },
  {
   "cell_type": "code",
   "execution_count": 29,
   "id": "39bb50e8-62f9-4713-9925-ad804e04ca39",
   "metadata": {},
   "outputs": [
    {
     "data": {
      "text/plain": [
       "array([ True,  True, False,  True,  True,  True, False, False,  True,\n",
       "        True,  True, False, False, False,  True,  True, False, False,\n",
       "        True,  True,  True,  True, False, False,  True,  True,  True,\n",
       "        True,  True, False, False, False,  True,  True, False, False,\n",
       "        True,  True, False, False, False,  True,  True, False,  True,\n",
       "        True, False, False, False,  True, False, False, False,  True,\n",
       "        True, False, False,  True,  True,  True, False, False,  True,\n",
       "       False, False, False, False, False,  True,  True, False, False,\n",
       "        True, False, False,  True,  True, False, False,  True,  True,\n",
       "       False, False,  True, False,  True,  True, False,  True,  True,\n",
       "        True, False, False,  True,  True, False, False,  True,  True,\n",
       "       False])"
      ]
     },
     "execution_count": 29,
     "metadata": {},
     "output_type": "execute_result"
    }
   ],
   "source": [
    "mask[:100]"
   ]
  },
  {
   "cell_type": "code",
   "execution_count": 76,
   "id": "cbfdff63-e71b-4367-87ec-be8df35f7f93",
   "metadata": {},
   "outputs": [],
   "source": [
    "fake_news_centroid = np.array(xv_train[mask].mean(axis=0)).ravel()\n",
    "no_fake_news_centroid = np.array(xv_train[~mask].mean(axis=0)).ravel()"
   ]
  },
  {
   "cell_type": "code",
   "execution_count": 78,
   "id": "7b1e1a0f-4b6c-433d-9067-a751ad8ecd30",
   "metadata": {},
   "outputs": [
    {
     "data": {
      "text/plain": [
       "(48000, 28113)"
      ]
     },
     "execution_count": 78,
     "metadata": {},
     "output_type": "execute_result"
    }
   ],
   "source": [
    "xv_train.shape"
   ]
  },
  {
   "cell_type": "code",
   "execution_count": 79,
   "id": "12335e78-bfbc-4d53-9752-f56dc76e7ac9",
   "metadata": {},
   "outputs": [
    {
     "data": {
      "text/plain": [
       "(28113,)"
      ]
     },
     "execution_count": 79,
     "metadata": {},
     "output_type": "execute_result"
    }
   ],
   "source": [
    "fake_news_centroid.shape"
   ]
  },
  {
   "cell_type": "code",
   "execution_count": 80,
   "id": "3da5d75f-43be-4892-9577-e6e36460cb40",
   "metadata": {},
   "outputs": [
    {
     "data": {
      "text/plain": [
       "(28113,)"
      ]
     },
     "execution_count": 80,
     "metadata": {},
     "output_type": "execute_result"
    }
   ],
   "source": [
    "no_fake_news_centroid.shape"
   ]
  },
  {
   "cell_type": "code",
   "execution_count": 117,
   "id": "6aa5aa9d-13e5-4b15-b2ee-fb5b02e385c8",
   "metadata": {},
   "outputs": [
    {
     "data": {
      "text/plain": [
       "array([0.  , 0.01, 0.  , ..., 0.  , 0.01, 0.01])"
      ]
     },
     "execution_count": 117,
     "metadata": {},
     "output_type": "execute_result"
    }
   ],
   "source": [
    "fake_news_score = xv_test.dot(fake_news_centroid-no_fake_news_centroid)\n",
    "fake_news_score.round(2)"
   ]
  },
  {
   "cell_type": "code",
   "execution_count": 131,
   "id": "9455c508-9cb4-45e9-9746-5a50aef9f8b6",
   "metadata": {},
   "outputs": [
    {
     "name": "stdout",
     "output_type": "stream",
     "text": [
      "(12000, 1)\n"
     ]
    }
   ],
   "source": [
    "from sklearn.preprocessing import MinMaxScaler\n",
    "\n",
    "x_test_df = pd.DataFrame(x_test)\n",
    "print(x_test_df.shape)\n",
    "x_test_df['clickbait'] = y_test\n",
    "x_test_df['clickbait_score_model'] = MinMaxScaler().fit_transform(fake_news_score.reshape(-1,1))\n",
    "x_test_df['clickbait_prediction'] = (x_test_df.clickbait_score_model > 0.3).astype(int)"
   ]
  },
  {
   "cell_type": "code",
   "execution_count": 132,
   "id": "69fc64dd-142e-46b3-a583-60d41fc30d5b",
   "metadata": {},
   "outputs": [
    {
     "data": {
      "text/html": [
       "<div>\n",
       "<style scoped>\n",
       "    .dataframe tbody tr th:only-of-type {\n",
       "        vertical-align: middle;\n",
       "    }\n",
       "\n",
       "    .dataframe tbody tr th {\n",
       "        vertical-align: top;\n",
       "    }\n",
       "\n",
       "    .dataframe thead th {\n",
       "        text-align: right;\n",
       "    }\n",
       "</style>\n",
       "<table border=\"1\" class=\"dataframe\">\n",
       "  <thead>\n",
       "    <tr style=\"text-align: right;\">\n",
       "      <th></th>\n",
       "      <th>title</th>\n",
       "      <th>clickbait</th>\n",
       "      <th>clickbait_score_model</th>\n",
       "      <th>clickbait_prediction</th>\n",
       "    </tr>\n",
       "  </thead>\n",
       "  <tbody>\n",
       "    <tr>\n",
       "      <th>12628</th>\n",
       "      <td>federal judge partially lifts trump s latest r...</td>\n",
       "      <td>0</td>\n",
       "      <td>0.247676</td>\n",
       "      <td>0</td>\n",
       "    </tr>\n",
       "    <tr>\n",
       "      <th>37730</th>\n",
       "      <td>president obama just called trump out for aski...</td>\n",
       "      <td>1</td>\n",
       "      <td>0.484226</td>\n",
       "      <td>1</td>\n",
       "    </tr>\n",
       "    <tr>\n",
       "      <th>39991</th>\n",
       "      <td>mugs that perfectly sum up</td>\n",
       "      <td>1</td>\n",
       "      <td>0.370615</td>\n",
       "      <td>1</td>\n",
       "    </tr>\n",
       "    <tr>\n",
       "      <th>8525</th>\n",
       "      <td>twitter s dick costolo steps down as chief exe...</td>\n",
       "      <td>0</td>\n",
       "      <td>0.219016</td>\n",
       "      <td>0</td>\n",
       "    </tr>\n",
       "    <tr>\n",
       "      <th>8279</th>\n",
       "      <td>titus young reportedly sentenced to  years in ...</td>\n",
       "      <td>0</td>\n",
       "      <td>0.146458</td>\n",
       "      <td>0</td>\n",
       "    </tr>\n",
       "    <tr>\n",
       "      <th>...</th>\n",
       "      <td>...</td>\n",
       "      <td>...</td>\n",
       "      <td>...</td>\n",
       "      <td>...</td>\n",
       "    </tr>\n",
       "    <tr>\n",
       "      <th>49914</th>\n",
       "      <td>lol  democrat congressman humiliated after com...</td>\n",
       "      <td>1</td>\n",
       "      <td>0.339366</td>\n",
       "      <td>1</td>\n",
       "    </tr>\n",
       "    <tr>\n",
       "      <th>34428</th>\n",
       "      <td>watch  irrelevant dem political analyst james ...</td>\n",
       "      <td>1</td>\n",
       "      <td>0.279698</td>\n",
       "      <td>0</td>\n",
       "    </tr>\n",
       "    <tr>\n",
       "      <th>45810</th>\n",
       "      <td>florida governor goes off on obama   the secon...</td>\n",
       "      <td>1</td>\n",
       "      <td>0.360676</td>\n",
       "      <td>1</td>\n",
       "    </tr>\n",
       "    <tr>\n",
       "      <th>30357</th>\n",
       "      <td>raise your kitchen game with the buzzfeed food...</td>\n",
       "      <td>1</td>\n",
       "      <td>0.448892</td>\n",
       "      <td>1</td>\n",
       "    </tr>\n",
       "    <tr>\n",
       "      <th>36568</th>\n",
       "      <td>drinks you should order if you re not drinking</td>\n",
       "      <td>1</td>\n",
       "      <td>0.642516</td>\n",
       "      <td>1</td>\n",
       "    </tr>\n",
       "  </tbody>\n",
       "</table>\n",
       "<p>12000 rows × 4 columns</p>\n",
       "</div>"
      ],
      "text/plain": [
       "                                                   title  clickbait  \\\n",
       "12628  federal judge partially lifts trump s latest r...          0   \n",
       "37730  president obama just called trump out for aski...          1   \n",
       "39991                        mugs that perfectly sum up           1   \n",
       "8525   twitter s dick costolo steps down as chief exe...          0   \n",
       "8279   titus young reportedly sentenced to  years in ...          0   \n",
       "...                                                  ...        ...   \n",
       "49914  lol  democrat congressman humiliated after com...          1   \n",
       "34428  watch  irrelevant dem political analyst james ...          1   \n",
       "45810  florida governor goes off on obama   the secon...          1   \n",
       "30357  raise your kitchen game with the buzzfeed food...          1   \n",
       "36568     drinks you should order if you re not drinking          1   \n",
       "\n",
       "       clickbait_score_model  clickbait_prediction  \n",
       "12628               0.247676                     0  \n",
       "37730               0.484226                     1  \n",
       "39991               0.370615                     1  \n",
       "8525                0.219016                     0  \n",
       "8279                0.146458                     0  \n",
       "...                      ...                   ...  \n",
       "49914               0.339366                     1  \n",
       "34428               0.279698                     0  \n",
       "45810               0.360676                     1  \n",
       "30357               0.448892                     1  \n",
       "36568               0.642516                     1  \n",
       "\n",
       "[12000 rows x 4 columns]"
      ]
     },
     "execution_count": 132,
     "metadata": {},
     "output_type": "execute_result"
    }
   ],
   "source": [
    "x_test_df"
   ]
  },
  {
   "cell_type": "code",
   "execution_count": 133,
   "id": "446f15e1-375d-4a4c-b13f-2e4d730636b5",
   "metadata": {},
   "outputs": [],
   "source": [
    "predictions = x_test_df.clickbait_prediction"
   ]
  },
  {
   "cell_type": "code",
   "execution_count": 134,
   "id": "99e9a8d1-ed79-4d5f-bdeb-584c4d9ada1f",
   "metadata": {},
   "outputs": [
    {
     "data": {
      "image/png": "[encoded data removed]",
      "text/plain": [
       "<Figure size 640x480 with 2 Axes>"
      ]
     },
     "metadata": {},
     "output_type": "display_data"
    }
   ],
   "source": [
    "from sklearn.metrics import confusion_matrix, ConfusionMatrixDisplay\n",
    "\n",
    "cm = confusion_matrix(y_test, predictions)\n",
    "\n",
    "# Display the confusion matrix\n",
    "disp = ConfusionMatrixDisplay(confusion_matrix=cm)\n",
    "disp.plot(cmap=plt.cm.Blues)\n",
    "plt.show()"
   ]
  },
  {
   "cell_type": "code",
   "execution_count": 135,
   "id": "3a4c2975-9aef-4161-aad8-07b7697a7246",
   "metadata": {},
   "outputs": [
    {
     "name": "stdout",
     "output_type": "stream",
     "text": [
      "              precision    recall  f1-score   support\n",
      "\n",
      "           0       0.76      0.80      0.78      5909\n",
      "           1       0.80      0.75      0.77      6091\n",
      "\n",
      "    accuracy                           0.78     12000\n",
      "   macro avg       0.78      0.78      0.78     12000\n",
      "weighted avg       0.78      0.78      0.78     12000\n",
      "\n"
     ]
    }
   ],
   "source": [
    "print(classification_report(y_test, predictions))"
   ]
  },
  {
   "cell_type": "code",
   "execution_count": null,
   "id": "7251f2ce-22ae-4eff-84e1-fe9e0c83791c",
   "metadata": {},
   "outputs": [],
   "source": []
  }
 ],
 "metadata": {
  "kernelspec": {
   "display_name": "Python 3 (ipykernel)",
   "language": "python",
   "name": "python3"
  },
  "language_info": {
   "codemirror_mode": {
    "name": "ipython",
    "version": 3
   },
   "file_extension": ".py",
   "mimetype": "text/x-python",
   "name": "python",
   "nbconvert_exporter": "python",
   "pygments_lexer": "ipython3",
   "version": "3.12.6"
  }
 },
 "nbformat": 4,
 "nbformat_minor": 5
}
