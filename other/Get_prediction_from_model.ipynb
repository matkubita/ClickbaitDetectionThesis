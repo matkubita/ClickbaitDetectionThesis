{
 "cells": [
  {
   "cell_type": "code",
   "execution_count": 28,
   "id": "826d233d-2436-4c3e-a1c1-f7c2a3b73527",
   "metadata": {},
   "outputs": [],
   "source": [
    "from openai import OpenAI\n",
    "import pickle\n",
    "import requests\n",
    "import measure\n",
    "from measure import baitness_measure"
   ]
  },
  {
   "cell_type": "code",
   "execution_count": 14,
   "id": "22a3e978-545a-46f3-b76d-1b5ddbc2c757",
   "metadata": {},
   "outputs": [],
   "source": [
    "with open(\"../file_path.txt\", 'r') as file:\n",
    "    file_path = file.read()\n",
    "\n",
    "with open(file_path, 'r') as file:\n",
    "    api_key = file.read()\n",
    "\n",
    "client = OpenAI(\n",
    "    api_key=api_key,\n",
    ")"
   ]
  },
  {
   "cell_type": "code",
   "execution_count": 15,
   "id": "d956a601-649f-4812-bddd-b62d1fb87f26",
   "metadata": {},
   "outputs": [],
   "source": [
    "metrics_functions = {\n",
    "    \"n_words\": measure.words_count,\n",
    "    \"cw_percentage\": measure.common_words_ratio,\n",
    "    \"capitals_ratio\": measure.capital_letters_ratio,\n",
    "    \"capitals_count\":measure.capital_words_count,\n",
    "    \"bait_punct\": measure.clickbait_punctuation_count,\n",
    "    \"nonbait_punct\": measure.nonclickbait_punctuation_count,\n",
    "    \"numbers\": measure.numbers_count,\n",
    "    \"2nd_pronouns\": measure.pronouns_2nd_person_count,\n",
    "    \"superlatives\": measure.superlatives_ratio,\n",
    "    \"speculatives\": measure.speculatives_count,\n",
    "    \"bait_words\": measure.baiting_words_count,\n",
    "    \"polarity\": measure.polarity_score,\n",
    "    \"subjectivity\": measure.subjectivity_score,\n",
    "    \"fres\": measure.flesch_reading_ease_score,\n",
    "    \"batness_measures\": baitness_measure,\n",
    "}\n"
   ]
  },
  {
   "cell_type": "code",
   "execution_count": 16,
   "id": "2a44a125-80a6-403f-951d-4cb5fbb1f453",
   "metadata": {},
   "outputs": [],
   "source": [
    "def return_embeddings_chat(prompt):\n",
    "    res = requests.post(f\"https://api.openai.com/v1/embeddings\",\n",
    "        headers = {\n",
    "          \"Content-Type\": \"application/json\",\n",
    "          \"Authorization\": f\"Bearer {api_key}\"\n",
    "        },\n",
    "        json={\n",
    "          \"model\": \"text-embedding-3-large\",\n",
    "          \"dimensions\": 1000,\n",
    "          \"input\": f\"{prompt}\"\n",
    "        }).json()\n",
    "    return res[\"data\"][0][\"embedding\"]\n",
    "        "
   ]
  },
  {
   "cell_type": "code",
   "execution_count": 18,
   "id": "9cb5c3a0-5930-4ad6-a3c2-c14184e8093d",
   "metadata": {},
   "outputs": [],
   "source": [
    "model_path = '../final_models/RF_1000_dimensions_and_informativeness_measures.pkl'\n",
    "\n",
    "# Load the model\n",
    "with open(model_path, 'rb') as rf_file:\n",
    "    loaded_rf_model = pickle.load(rf_file)"
   ]
  },
  {
   "cell_type": "code",
   "execution_count": 19,
   "id": "18fd173b-5fa7-4282-a447-bb589faf1a9d",
   "metadata": {},
   "outputs": [],
   "source": [
    "title = \"Trump is dead. You wont believe!!\""
   ]
  },
  {
   "cell_type": "code",
   "execution_count": 21,
   "id": "c2a997ef-76d8-4083-930a-06b24470dac2",
   "metadata": {},
   "outputs": [],
   "source": [
    "input_to_model = return_embeddings_chat(title)"
   ]
  },
  {
   "cell_type": "code",
   "execution_count": 25,
   "id": "524c1c4b-92ee-449c-99ea-0120cac0a77c",
   "metadata": {},
   "outputs": [],
   "source": [
    "for function_name, function in metrics_functions.items():\n",
    "    input_to_model.append(function(title))"
   ]
  },
  {
   "cell_type": "code",
   "execution_count": 37,
   "id": "9a656bcc-8f99-4a3b-a1f8-63b15836f1f7",
   "metadata": {},
   "outputs": [
    {
     "data": {
      "text/plain": [
       "0.56"
      ]
     },
     "execution_count": 37,
     "metadata": {},
     "output_type": "execute_result"
    }
   ],
   "source": [
    "loaded_rf_model.predict_proba([input_to_model])[0][1]"
   ]
  },
  {
   "cell_type": "code",
   "execution_count": 38,
   "id": "eb9fc50a-13ac-41d4-b045-d7f76f5ee520",
   "metadata": {},
   "outputs": [],
   "source": [
    "def get_probability_of_clickbait_title(model_path, title):\n",
    "\n",
    "    with open(model_path, 'rb') as rf_file:\n",
    "        loaded_model = pickle.load(rf_file)\n",
    "        \n",
    "    input_to_model = return_embeddings_chat(title)\n",
    "\n",
    "    for function_name, function in metrics_functions.items():\n",
    "        input_to_model.append(function(title))\n",
    "\n",
    "    return loaded_model.predict_proba([input_to_model])[0][1]"
   ]
  },
  {
   "cell_type": "code",
   "execution_count": 39,
   "id": "db817a25-5480-4879-9574-3544c25591ea",
   "metadata": {},
   "outputs": [
    {
     "data": {
      "text/plain": [
       "0.57"
      ]
     },
     "execution_count": 39,
     "metadata": {},
     "output_type": "execute_result"
    }
   ],
   "source": [
    "get_probability_of_clickbait_title('../final_models/RF_1000_dimensions_and_informativeness_measures.pkl', \"Trump is dead. You wont believe!!\")"
   ]
  },
  {
   "cell_type": "code",
   "execution_count": null,
   "id": "5d43c9dd-b3b4-4fe4-b589-814b31e037bf",
   "metadata": {},
   "outputs": [],
   "source": [
    "get_probability_of_clickbait_title('../final_models/RF_1000_dimensions_and_informativeness_measures.pkl', \"Trump is dead. You wont believe!!\")"
   ]
  },
  {
   "cell_type": "code",
   "execution_count": null,
   "id": "9ca79651-55d9-4b53-9dec-759ea354906d",
   "metadata": {},
   "outputs": [],
   "source": [
    "# 19 Dogs Who Are Total Fuzz Buckets, y_train: 1\n",
    "# x_train: 17 Ways To Have An Amazing Valentine's Day All By Yourself, y_train: 1\n",
    "# x_train: Ross Kemp: Libya’s Migrant Hell review – a deeply powerful plea, y_train: 0\n",
    "# x_train: I spent Christmas alone — and got exactly what I wanted, y_train: 1\n",
    "# x_train: Administration Seeks to Regulate Derivatives, y_train: 0"
   ]
  },
  {
   "cell_type": "code",
   "execution_count": 44,
   "id": "fed08b59-86bd-4039-aaf0-d1bfc5e24cea",
   "metadata": {},
   "outputs": [],
   "source": [
    "titles_to_pred = [\n",
    "    \"19 Dogs Who Are Total Fuzz Buckets\",\n",
    "    \"17 Ways To Have An Amazing Valentine's Day All By Yourself\",\n",
    "    \"Ross Kemp: Libya’s Migrant Hell review – a deeply powerful plea\",\n",
    "    \"I spent Christmas alone — and got exactly what I wanted\",\n",
    "    \"Administration Seeks to Regulate Derivative\",\n",
    "]"
   ]
  },
  {
   "cell_type": "code",
   "execution_count": 45,
   "id": "6160f739-5309-4a89-a3ec-3c550bcaaead",
   "metadata": {},
   "outputs": [
    {
     "name": "stdout",
     "output_type": "stream",
     "text": [
      "0.93\n",
      "0.99\n",
      "0.29\n",
      "0.6\n",
      "0.12\n"
     ]
    }
   ],
   "source": [
    "for tit in titles_to_pred:\n",
    "    res = get_probability_of_clickbait_title('../final_models/RF_1000_dimensions_and_informativeness_measures.pkl', tit)\n",
    "    print(res)"
   ]
  },
  {
   "cell_type": "code",
   "execution_count": 6,
   "id": "413e5392-7267-49ce-a6bc-258c553f0a95",
   "metadata": {},
   "outputs": [],
   "source": [
    "from final_models import get_probability_of_clickbait_title"
   ]
  },
  {
   "cell_type": "code",
   "execution_count": 7,
   "id": "84962f2f-f7fd-40e8-a596-33b592b998a0",
   "metadata": {},
   "outputs": [
    {
     "data": {
      "text/plain": [
       "0.93"
      ]
     },
     "execution_count": 7,
     "metadata": {},
     "output_type": "execute_result"
    }
   ],
   "source": [
    "get_probability_of_clickbait_title('../final_models/RF_1000_dimensions_and_informativeness_measures.pkl', \"19 Dogs Who Are Total Fuzz Buckets\")"
   ]
  },
  {
   "cell_type": "code",
   "execution_count": 8,
   "id": "14c03f03-6681-4b09-a512-1db1e84114fc",
   "metadata": {},
   "outputs": [
    {
     "data": {
      "text/plain": [
       "0.9998246"
      ]
     },
     "execution_count": 8,
     "metadata": {},
     "output_type": "execute_result"
    }
   ],
   "source": [
    "get_probability_of_clickbait_title('../final_models/XGB_1000_dimensions_and_informativeness_measures.pkl', \"19 Dogs Who Are Total Fuzz Buckets\")"
   ]
  },
  {
   "cell_type": "code",
   "execution_count": null,
   "id": "13b69b85-7ce8-4b19-9e39-964c75d08769",
   "metadata": {},
   "outputs": [],
   "source": []
  }
 ],
 "metadata": {
  "kernelspec": {
   "display_name": "Python 3 (ipykernel)",
   "language": "python",
   "name": "python3"
  },
  "language_info": {
   "codemirror_mode": {
    "name": "ipython",
    "version": 3
   },
   "file_extension": ".py",
   "mimetype": "text/x-python",
   "name": "python",
   "nbconvert_exporter": "python",
   "pygments_lexer": "ipython3",
   "version": "3.11.9"
  }
 },
 "nbformat": 4,
 "nbformat_minor": 5
}
